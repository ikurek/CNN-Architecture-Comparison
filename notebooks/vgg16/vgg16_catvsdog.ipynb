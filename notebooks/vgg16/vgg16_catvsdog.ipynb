{
 "cells": [
  {
   "cell_type": "code",
   "execution_count": 1,
   "metadata": {
    "jupyter": {
     "outputs_hidden": false
    },
    "pycharm": {
     "name": "#%%\n"
    }
   },
   "outputs": [],
   "source": [
    "import sys\n",
    "sys.path.extend(['/Users/igor/Python/CNN-Architecture-Comparison/'])\n",
    "%load_ext autoreload\n",
    "%autoreload 2"
   ]
  },
  {
   "cell_type": "markdown",
   "metadata": {},
   "source": [
    "# VGG16 - Cat-vs-Dog"
   ]
  },
  {
   "cell_type": "code",
   "execution_count": 2,
   "metadata": {
    "pycharm": {
     "name": "#%%\n"
    }
   },
   "outputs": [
    {
     "name": "stderr",
     "output_type": "stream",
     "text": [
      "Using TensorFlow backend.\n"
     ]
    }
   ],
   "source": [
    "from src.datasets.dataset_generators import DatasetGenerators\n",
    "from src.keras_model.vgg16_network import VGG16Network"
   ]
  },
  {
   "cell_type": "code",
   "execution_count": 3,
   "metadata": {
    "pycharm": {
     "name": "#%%\n"
    }
   },
   "outputs": [],
   "source": [
    "dataset_dir = '/Users/igor/Python/CNN-Architecture-Comparison/data'\n",
    "fit_epochs = 50"
   ]
  },
  {
   "cell_type": "code",
   "execution_count": 4,
   "metadata": {
    "pycharm": {
     "name": "#%%\n"
    }
   },
   "outputs": [],
   "source": [
    "network = VGG16Network()"
   ]
  },
  {
   "cell_type": "code",
   "execution_count": 5,
   "metadata": {
    "pycharm": {
     "name": "#%%\n"
    }
   },
   "outputs": [
    {
     "name": "stdout",
     "output_type": "stream",
     "text": [
      "Loading train set for cat-vs-dog_10...\n",
      "Found 1750 images belonging to 2 classes.\n",
      "Loading test set for cat-vs-dog_10...\n",
      "Found 500 images belonging to 2 classes.\n",
      "Loading validation set for cat-vs-dog_10...\n",
      "Found 250 images belonging to 2 classes.\n"
     ]
    }
   ],
   "source": [
    "dataset_generators = DatasetGenerators(\n",
    "    name='cat-vs-dog_10',\n",
    "    dataset_dir=dataset_dir,\n",
    "    image_size=network.image_size,\n",
    "    batch_size=network.batch_size,\n",
    "    grayscale=network.grayscale\n",
    ")"
   ]
  },
  {
   "cell_type": "code",
   "execution_count": 6,
   "metadata": {
    "pycharm": {
     "name": "#%%\n"
    }
   },
   "outputs": [],
   "source": [
    "model = network.get_compiled_model(\n",
    "    classes=dataset_generators.test.num_classes\n",
    ")"
   ]
  },
  {
   "cell_type": "code",
   "execution_count": 7,
   "metadata": {
    "pycharm": {
     "is_executing": true,
     "name": "#%%\n"
    }
   },
   "outputs": [
    {
     "name": "stdout",
     "output_type": "stream",
     "text": [
      "Epoch 1/50\n",
      "55/55 [==============================] - 646s 12s/step - loss: 60.8120 - accuracy: 0.4971 - precision_1: 0.4971 - recall_1: 0.4971 - val_loss: 0.7000 - val_accuracy: 0.5000 - val_precision_1: 0.5000 - val_recall_1: 0.5000\n",
      "Epoch 2/50\n",
      "55/55 [==============================] - 653s 12s/step - loss: 0.7057 - accuracy: 0.4971 - precision_1: 0.4971 - recall_1: 0.4971 - val_loss: 0.6914 - val_accuracy: 0.5000 - val_precision_1: 0.5000 - val_recall_1: 0.5000\n",
      "Epoch 3/50\n",
      "55/55 [==============================] - 654s 12s/step - loss: 0.6935 - accuracy: 0.4731 - precision_1: 0.4731 - recall_1: 0.4731 - val_loss: 0.6929 - val_accuracy: 0.5000 - val_precision_1: 0.5000 - val_recall_1: 0.5000\n",
      "Epoch 4/50\n",
      "55/55 [==============================] - 661s 12s/step - loss: 0.6933 - accuracy: 0.4829 - precision_1: 0.4829 - recall_1: 0.4829 - val_loss: 0.6924 - val_accuracy: 0.5000 - val_precision_1: 0.5000 - val_recall_1: 0.5000\n",
      "Epoch 5/50\n",
      "55/55 [==============================] - 607s 11s/step - loss: 0.6935 - accuracy: 0.4926 - precision_1: 0.4926 - recall_1: 0.4926 - val_loss: 0.6933 - val_accuracy: 0.5000 - val_precision_1: 0.5000 - val_recall_1: 0.5000\n",
      "Epoch 6/50\n",
      "55/55 [==============================] - 602s 11s/step - loss: 0.6936 - accuracy: 0.4760 - precision_1: 0.4760 - recall_1: 0.4760 - val_loss: 0.6928 - val_accuracy: 0.5000 - val_precision_1: 0.5000 - val_recall_1: 0.5000\n",
      "Epoch 7/50\n",
      "55/55 [==============================] - 590s 11s/step - loss: 0.6933 - accuracy: 0.4966 - precision_1: 0.4966 - recall_1: 0.4966 - val_loss: 0.6935 - val_accuracy: 0.5000 - val_precision_1: 0.5000 - val_recall_1: 0.5000\n",
      "Epoch 8/50\n",
      "55/55 [==============================] - 585s 11s/step - loss: 0.6943 - accuracy: 0.4857 - precision_1: 0.4857 - recall_1: 0.4857 - val_loss: 1.6639 - val_accuracy: 0.5000 - val_precision_1: 0.5000 - val_recall_1: 0.5000\n",
      "Epoch 9/50\n",
      "55/55 [==============================] - 587s 11s/step - loss: 2.0677 - accuracy: 0.5006 - precision_1: 0.5006 - recall_1: 0.5006 - val_loss: 0.6958 - val_accuracy: 0.5020 - val_precision_1: 0.5020 - val_recall_1: 0.5020\n",
      "Epoch 10/50\n",
      "55/55 [==============================] - 588s 11s/step - loss: 0.9072 - accuracy: 0.5063 - precision_1: 0.5063 - recall_1: 0.5063 - val_loss: 0.7157 - val_accuracy: 0.5000 - val_precision_1: 0.5000 - val_recall_1: 0.5000\n",
      "Epoch 11/50\n",
      "55/55 [==============================] - 589s 11s/step - loss: 0.7202 - accuracy: 0.5000 - precision_1: 0.5000 - recall_1: 0.5000 - val_loss: 0.6764 - val_accuracy: 0.5000 - val_precision_1: 0.5000 - val_recall_1: 0.5000\n",
      "Epoch 12/50\n",
      "55/55 [==============================] - 587s 11s/step - loss: 0.7008 - accuracy: 0.4886 - precision_1: 0.4886 - recall_1: 0.4886 - val_loss: 0.6900 - val_accuracy: 0.5000 - val_precision_1: 0.5000 - val_recall_1: 0.5000\n",
      "Epoch 13/50\n",
      "55/55 [==============================] - 591s 11s/step - loss: 0.6956 - accuracy: 0.5086 - precision_1: 0.5086 - recall_1: 0.5086 - val_loss: 0.6952 - val_accuracy: 0.5000 - val_precision_1: 0.5000 - val_recall_1: 0.5000\n",
      "Epoch 14/50\n",
      "55/55 [==============================] - 587s 11s/step - loss: 0.6944 - accuracy: 0.4874 - precision_1: 0.4874 - recall_1: 0.4874 - val_loss: 0.6929 - val_accuracy: 0.5000 - val_precision_1: 0.5000 - val_recall_1: 0.5000\n",
      "Epoch 15/50\n",
      "55/55 [==============================] - 587s 11s/step - loss: 0.6934 - accuracy: 0.5034 - precision_1: 0.5034 - recall_1: 0.5034 - val_loss: 0.6947 - val_accuracy: 0.5000 - val_precision_1: 0.5000 - val_recall_1: 0.5000\n",
      "Epoch 16/50\n",
      "55/55 [==============================] - 582s 11s/step - loss: 0.6944 - accuracy: 0.5000 - precision_1: 0.5000 - recall_1: 0.5000 - val_loss: 0.6921 - val_accuracy: 0.5000 - val_precision_1: 0.5000 - val_recall_1: 0.5000\n",
      "Epoch 17/50\n",
      "55/55 [==============================] - 581s 11s/step - loss: 0.6934 - accuracy: 0.5114 - precision_1: 0.5114 - recall_1: 0.5114 - val_loss: 0.6890 - val_accuracy: 0.5000 - val_precision_1: 0.5000 - val_recall_1: 0.5000\n",
      "Epoch 18/50\n",
      "55/55 [==============================] - 582s 11s/step - loss: 0.6938 - accuracy: 0.4977 - precision_1: 0.4977 - recall_1: 0.4977 - val_loss: 0.6911 - val_accuracy: 0.5000 - val_precision_1: 0.5000 - val_recall_1: 0.5000\n",
      "Epoch 19/50\n",
      "55/55 [==============================] - 582s 11s/step - loss: 0.6933 - accuracy: 0.5006 - precision_1: 0.5006 - recall_1: 0.5006 - val_loss: 0.6956 - val_accuracy: 0.5040 - val_precision_1: 0.5040 - val_recall_1: 0.5040\n",
      "Epoch 20/50\n",
      "55/55 [==============================] - 580s 11s/step - loss: 0.6939 - accuracy: 0.4897 - precision_1: 0.4897 - recall_1: 0.4897 - val_loss: 0.6910 - val_accuracy: 0.5000 - val_precision_1: 0.5000 - val_recall_1: 0.5000\n",
      "Epoch 21/50\n",
      "55/55 [==============================] - 580s 11s/step - loss: 0.6935 - accuracy: 0.4863 - precision_1: 0.4863 - recall_1: 0.4863 - val_loss: 0.6942 - val_accuracy: 0.5000 - val_precision_1: 0.5000 - val_recall_1: 0.5000\n",
      "Epoch 22/50\n",
      "55/55 [==============================] - 581s 11s/step - loss: 0.6933 - accuracy: 0.4909 - precision_1: 0.4909 - recall_1: 0.4909 - val_loss: 0.6920 - val_accuracy: 0.5000 - val_precision_1: 0.5000 - val_recall_1: 0.5000\n",
      "Epoch 23/50\n",
      "55/55 [==============================] - 581s 11s/step - loss: 0.6941 - accuracy: 0.5160 - precision_1: 0.5160 - recall_1: 0.5160 - val_loss: 0.6935 - val_accuracy: 0.5000 - val_precision_1: 0.5000 - val_recall_1: 0.5000\n",
      "Epoch 24/50\n",
      "55/55 [==============================] - 580s 11s/step - loss: 0.6938 - accuracy: 0.4749 - precision_1: 0.4749 - recall_1: 0.4749 - val_loss: 0.6921 - val_accuracy: 0.5000 - val_precision_1: 0.5000 - val_recall_1: 0.5000\n",
      "Epoch 25/50\n",
      "55/55 [==============================] - 579s 11s/step - loss: 0.6934 - accuracy: 0.4903 - precision_1: 0.4903 - recall_1: 0.4903 - val_loss: 0.6949 - val_accuracy: 0.5000 - val_precision_1: 0.5000 - val_recall_1: 0.5000\n",
      "Epoch 26/50\n",
      "55/55 [==============================] - 581s 11s/step - loss: 0.6940 - accuracy: 0.4989 - precision_1: 0.4989 - recall_1: 0.4989 - val_loss: 0.7002 - val_accuracy: 0.4980 - val_precision_1: 0.4980 - val_recall_1: 0.4980\n",
      "Epoch 27/50\n",
      "55/55 [==============================] - 583s 11s/step - loss: 0.7007 - accuracy: 0.5017 - precision_1: 0.5017 - recall_1: 0.5017 - val_loss: 0.6941 - val_accuracy: 0.5000 - val_precision_1: 0.5000 - val_recall_1: 0.5000\n",
      "Epoch 28/50\n",
      "55/55 [==============================] - 582s 11s/step - loss: 0.6937 - accuracy: 0.4891 - precision_1: 0.4891 - recall_1: 0.4891 - val_loss: 0.6931 - val_accuracy: 0.5000 - val_precision_1: 0.5000 - val_recall_1: 0.5000\n",
      "Epoch 29/50\n",
      "55/55 [==============================] - 581s 11s/step - loss: 0.6933 - accuracy: 0.4977 - precision_1: 0.4977 - recall_1: 0.4977 - val_loss: 0.6951 - val_accuracy: 0.5000 - val_precision_1: 0.5000 - val_recall_1: 0.5000\n",
      "Epoch 30/50\n",
      "55/55 [==============================] - 578s 11s/step - loss: 0.6937 - accuracy: 0.4966 - precision_1: 0.4966 - recall_1: 0.4966 - val_loss: 0.6928 - val_accuracy: 0.5000 - val_precision_1: 0.5000 - val_recall_1: 0.5000\n",
      "Epoch 31/50\n",
      "55/55 [==============================] - 577s 10s/step - loss: 0.6934 - accuracy: 0.4943 - precision_1: 0.4943 - recall_1: 0.4943 - val_loss: 0.6923 - val_accuracy: 0.5000 - val_precision_1: 0.5000 - val_recall_1: 0.5000\n",
      "Epoch 32/50\n",
      "55/55 [==============================] - 578s 11s/step - loss: 0.6937 - accuracy: 0.4977 - precision_1: 0.4977 - recall_1: 0.4977 - val_loss: 0.6941 - val_accuracy: 0.5000 - val_precision_1: 0.5000 - val_recall_1: 0.5000\n",
      "Epoch 33/50\n",
      "55/55 [==============================] - 577s 10s/step - loss: 0.6936 - accuracy: 0.4851 - precision_1: 0.4851 - recall_1: 0.4851 - val_loss: 0.6867 - val_accuracy: 0.5000 - val_precision_1: 0.5000 - val_recall_1: 0.5000\n",
      "Epoch 34/50\n",
      "55/55 [==============================] - 576s 10s/step - loss: 0.6938 - accuracy: 0.5011 - precision_1: 0.5011 - recall_1: 0.5011 - val_loss: 0.6921 - val_accuracy: 0.4980 - val_precision_1: 0.4980 - val_recall_1: 0.4980\n",
      "Epoch 35/50\n",
      "55/55 [==============================] - 577s 10s/step - loss: 0.6935 - accuracy: 0.4966 - precision_1: 0.4966 - recall_1: 0.4966 - val_loss: 0.6919 - val_accuracy: 0.5000 - val_precision_1: 0.5000 - val_recall_1: 0.5000\n",
      "Epoch 36/50\n"
     ]
    },
    {
     "name": "stdout",
     "output_type": "stream",
     "text": [
      "55/55 [==============================] - 578s 11s/step - loss: 0.6933 - accuracy: 0.5029 - precision_1: 0.5029 - recall_1: 0.5029 - val_loss: 0.6932 - val_accuracy: 0.5000 - val_precision_1: 0.5000 - val_recall_1: 0.5000\n",
      "Epoch 37/50\n",
      "55/55 [==============================] - 576s 10s/step - loss: 0.6934 - accuracy: 0.4920 - precision_1: 0.4920 - recall_1: 0.4920 - val_loss: 0.6935 - val_accuracy: 0.5000 - val_precision_1: 0.5000 - val_recall_1: 0.5000\n",
      "Epoch 38/50\n",
      "55/55 [==============================] - 578s 11s/step - loss: 0.6940 - accuracy: 0.4966 - precision_1: 0.4966 - recall_1: 0.4966 - val_loss: 0.6933 - val_accuracy: 0.5020 - val_precision_1: 0.5020 - val_recall_1: 0.5020\n",
      "Epoch 39/50\n",
      "55/55 [==============================] - 581s 11s/step - loss: 1.1168 - accuracy: 0.5034 - precision_1: 0.5034 - recall_1: 0.5034 - val_loss: 0.7046 - val_accuracy: 0.5000 - val_precision_1: 0.5000 - val_recall_1: 0.5000\n",
      "Epoch 40/50\n",
      "55/55 [==============================] - 582s 11s/step - loss: 0.7144 - accuracy: 0.5189 - precision_1: 0.5189 - recall_1: 0.5189 - val_loss: 0.7074 - val_accuracy: 0.5000 - val_precision_1: 0.5000 - val_recall_1: 0.5000\n",
      "Epoch 41/50\n",
      "55/55 [==============================] - 581s 11s/step - loss: 0.6947 - accuracy: 0.4994 - precision_1: 0.4994 - recall_1: 0.4994 - val_loss: 0.6912 - val_accuracy: 0.5000 - val_precision_1: 0.5000 - val_recall_1: 0.5000\n",
      "Epoch 42/50\n",
      "55/55 [==============================] - 580s 11s/step - loss: 0.6932 - accuracy: 0.5000 - precision_1: 0.5000 - recall_1: 0.5000 - val_loss: 0.6929 - val_accuracy: 0.5000 - val_precision_1: 0.5000 - val_recall_1: 0.5000\n",
      "Epoch 43/50\n",
      "55/55 [==============================] - 581s 11s/step - loss: 0.6933 - accuracy: 0.4977 - precision_1: 0.4977 - recall_1: 0.4977 - val_loss: 0.6920 - val_accuracy: 0.5000 - val_precision_1: 0.5000 - val_recall_1: 0.5000\n",
      "Epoch 44/50\n",
      "55/55 [==============================] - 581s 11s/step - loss: 0.6933 - accuracy: 0.4806 - precision_1: 0.4806 - recall_1: 0.4806 - val_loss: 0.6929 - val_accuracy: 0.5000 - val_precision_1: 0.5000 - val_recall_1: 0.5000\n",
      "Epoch 45/50\n",
      "55/55 [==============================] - 582s 11s/step - loss: 0.6938 - accuracy: 0.5000 - precision_1: 0.5000 - recall_1: 0.5000 - val_loss: 0.6924 - val_accuracy: 0.5000 - val_precision_1: 0.5000 - val_recall_1: 0.5000\n",
      "Epoch 46/50\n",
      "55/55 [==============================] - 583s 11s/step - loss: 0.6934 - accuracy: 0.4840 - precision_1: 0.4840 - recall_1: 0.4840 - val_loss: 0.6940 - val_accuracy: 0.5000 - val_precision_1: 0.5000 - val_recall_1: 0.5000\n",
      "Epoch 47/50\n",
      "55/55 [==============================] - 587s 11s/step - loss: 0.6933 - accuracy: 0.4749 - precision_1: 0.4749 - recall_1: 0.4749 - val_loss: 0.6932 - val_accuracy: 0.5000 - val_precision_1: 0.5000 - val_recall_1: 0.5000\n",
      "Epoch 48/50\n",
      "55/55 [==============================] - 588s 11s/step - loss: 0.6933 - accuracy: 0.4954 - precision_1: 0.4954 - recall_1: 0.4954 - val_loss: 0.6910 - val_accuracy: 0.5000 - val_precision_1: 0.5000 - val_recall_1: 0.5000\n",
      "Epoch 49/50\n",
      "55/55 [==============================] - 590s 11s/step - loss: 0.6932 - accuracy: 0.5000 - precision_1: 0.5000 - recall_1: 0.5000 - val_loss: 0.6931 - val_accuracy: 0.5000 - val_precision_1: 0.5000 - val_recall_1: 0.5000\n",
      "Epoch 50/50\n",
      "55/55 [==============================] - 593s 11s/step - loss: 0.6932 - accuracy: 0.4869 - precision_1: 0.4869 - recall_1: 0.4869 - val_loss: 0.6938 - val_accuracy: 0.5000 - val_precision_1: 0.5000 - val_recall_1: 0.5000\n"
     ]
    }
   ],
   "source": [
    "history = model.fit_generator(\n",
    "    generator=dataset_generators.train,\n",
    "    epochs=fit_epochs,\n",
    "    validation_data=dataset_generators.test\n",
    ")"
   ]
  },
  {
   "cell_type": "code",
   "execution_count": 8,
   "metadata": {
    "pycharm": {
     "is_executing": true,
     "name": "#%%\n"
    }
   },
   "outputs": [],
   "source": [
    "result = model.evaluate_generator(\n",
    "    generator=dataset_generators.validate\n",
    ")"
   ]
  },
  {
   "cell_type": "markdown",
   "metadata": {
    "pycharm": {
     "name": "#%% md\n"
    }
   },
   "source": [
    "## Cat-vs-Dog Results"
   ]
  },
  {
   "cell_type": "code",
   "execution_count": 9,
   "metadata": {
    "pycharm": {
     "is_executing": true,
     "name": "#%%\n"
    }
   },
   "outputs": [
    {
     "name": "stdout",
     "output_type": "stream",
     "text": [
      "Loss: 0.6928239464759827\n",
      "Accuracy: 0.5\n",
      "Precision: 0.5\n",
      "Recall: 0.5\n"
     ]
    }
   ],
   "source": [
    "print(\"Loss: {}\".format(result[0]))\n",
    "print(\"Accuracy: {}\".format(result[1]))\n",
    "print(\"Precision: {}\".format(result[2]))\n",
    "print(\"Recall: {}\".format(result[3]))"
   ]
  }
 ],
 "metadata": {
  "kernelspec": {
   "display_name": "Python 3",
   "language": "python",
   "name": "python3"
  },
  "language_info": {
   "codemirror_mode": {
    "name": "ipython",
    "version": 3
   },
   "file_extension": ".py",
   "mimetype": "text/x-python",
   "name": "python",
   "nbconvert_exporter": "python",
   "pygments_lexer": "ipython3",
   "version": "3.7.7"
  }
 },
 "nbformat": 4,
 "nbformat_minor": 4
}
