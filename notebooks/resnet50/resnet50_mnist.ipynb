{
 "cells": [
  {
   "cell_type": "code",
   "execution_count": 1,
   "metadata": {
    "pycharm": {
     "name": "#%%\n"
    }
   },
   "outputs": [],
   "source": [
    "import sys\n",
    "sys.path.extend(['..', '../', '../..', '../../' ])\n",
    "%load_ext autoreload\n",
    "%autoreload 2"
   ]
  },
  {
   "cell_type": "markdown",
   "metadata": {
    "jupyter": {
     "outputs_hidden": false
    },
    "pycharm": {
     "name": "#%% md\n"
    }
   },
   "source": [
    "# ResNet50 - MNIST"
   ]
  },
  {
   "cell_type": "code",
   "execution_count": 2,
   "metadata": {
    "pycharm": {
     "name": "#%%\n"
    }
   },
   "outputs": [
    {
     "name": "stderr",
     "output_type": "stream",
     "text": [
      "Using TensorFlow backend.\n"
     ]
    }
   ],
   "source": [
    "import paths\n",
    "import keras\n",
    "from src.parameters import metrics\n",
    "from src.datasets.dataset_generators import DatasetGenerators\n",
    "from src.keras_callback.time_history import TimeHistory\n",
    "from src.export.csv_export import export_learning_history_to_csv, export_learning_validation_result_to_csv\n",
    "from src.export.model_export import clear_exported_models\n",
    "from src.keras_model.resnet50_network import ResNet50Network"
   ]
  },
  {
   "cell_type": "code",
   "execution_count": 3,
   "metadata": {
    "pycharm": {
     "name": "#%%\n"
    }
   },
   "outputs": [],
   "source": [
    "network_name = 'resnet50'\n",
    "fit_epochs = 50\n",
    "dataset = 'mnist'\n",
    "dataset_percentage = '5'"
   ]
  },
  {
   "cell_type": "code",
   "execution_count": 4,
   "metadata": {
    "pycharm": {
     "name": "#%%\n"
    }
   },
   "outputs": [],
   "source": [
    "network = ResNet50Network()"
   ]
  },
  {
   "cell_type": "code",
   "execution_count": 5,
   "metadata": {
    "pycharm": {
     "name": "#%%\n"
    }
   },
   "outputs": [
    {
     "name": "stdout",
     "output_type": "stream",
     "text": [
      "Loading train set for mnist_5...\n",
      "Found 2419 images belonging to 10 classes.\n",
      "Loading test set for mnist_5...\n",
      "Found 695 images belonging to 10 classes.\n",
      "Loading validation set for mnist_5...\n",
      "Found 349 images belonging to 10 classes.\n"
     ]
    }
   ],
   "source": [
    "dataset_generators = DatasetGenerators(\n",
    "    name=f'{dataset}_{dataset_percentage}',\n",
    "    dataset_dir=paths.data_location,\n",
    "    image_size=network.image_size,\n",
    "    batch_size=network.batch_size,\n",
    "    grayscale=network.grayscale\n",
    ")"
   ]
  },
  {
   "cell_type": "code",
   "execution_count": 6,
   "metadata": {
    "pycharm": {
     "is_executing": true,
     "name": "#%%\n"
    },
    "tags": [
     "outputPrepend"
    ]
   },
   "outputs": [],
   "source": [
    "model = network.get_compiled_model(\n",
    "    classes=dataset_generators.test.num_classes\n",
    ")"
   ]
  },
  {
   "cell_type": "code",
   "execution_count": 7,
   "metadata": {
    "pycharm": {
     "is_executing": true,
     "name": "#%%\n"
    }
   },
   "outputs": [],
   "source": [
    "checkpoint_path = f'{paths.models_location}{network_name}/{dataset}/'\n",
    "best_model_path = f'{checkpoint_path}best.h5'\n",
    "clear_exported_models(checkpoint_path)\n",
    "\n",
    "checkpoint_callback = keras.callbacks.ModelCheckpoint(\n",
    "    filepath=f'{checkpoint_path}{{epoch:02d}}-{{val_accuracy}}.h5',\n",
    "    save_best_only=False,\n",
    "    save_weights_only=False\n",
    ")\n",
    "\n",
    "best_callback = keras.callbacks.ModelCheckpoint(\n",
    "    filepath=best_model_path,\n",
    "    save_best_only=True,\n",
    "    verbose=1,\n",
    "    save_weights_only=False\n",
    ")\n",
    "\n",
    "time_callback = TimeHistory()\n",
    "\n",
    "model_callbacks = [checkpoint_callback, best_callback, time_callback]"
   ]
  },
  {
   "cell_type": "code",
   "execution_count": null,
   "metadata": {
    "pycharm": {
     "is_executing": true,
     "name": "#%%\n"
    }
   },
   "outputs": [
    {
     "name": "stdout",
     "output_type": "stream",
     "text": [
      "Epoch 1/50\n",
      "75/76 [============================>.] - ETA: 7s - loss: 0.7985 - accuracy: 0.7491 - precision: 0.8608 - recall: 0.8727 "
     ]
    }
   ],
   "source": [
    "fit_result = model.fit_generator(\n",
    "    generator=dataset_generators.train,\n",
    "    epochs=fit_epochs,\n",
    "    validation_data=dataset_generators.test,\n",
    "    callbacks = model_callbacks\n",
    ")"
   ]
  },
  {
   "cell_type": "code",
   "execution_count": null,
   "metadata": {
    "pycharm": {
     "name": "#%%\n"
    }
   },
   "outputs": [],
   "source": [
    "best_model = keras.models.load_model(best_model_path,\n",
    "    custom_objects= {\n",
    "        'precision': metrics.precision,\n",
    "        'recall': metrics.recall\n",
    "    }\n",
    ")\n",
    "validation_result = best_model.evaluate_generator(\n",
    "    generator=dataset_generators.validate\n",
    ")"
   ]
  },
  {
   "cell_type": "markdown",
   "metadata": {
    "pycharm": {
     "name": "#%% md\n"
    }
   },
   "source": [
    "## MNIST Results"
   ]
  },
  {
   "cell_type": "markdown",
   "metadata": {},
   "source": [
    "### Epoch CSV"
   ]
  },
  {
   "cell_type": "code",
   "execution_count": null,
   "metadata": {
    "pycharm": {
     "name": "#%%\n"
    }
   },
   "outputs": [],
   "source": [
    "csv_file_path = f'{paths.results_location}{network_name}/{dataset}-history.csv'\n",
    "export_learning_history_to_csv(csv_file_path, fit_result, time_callback.times)"
   ]
  },
  {
   "cell_type": "markdown",
   "metadata": {},
   "source": [
    "### Validation result"
   ]
  },
  {
   "cell_type": "code",
   "execution_count": null,
   "metadata": {
    "pycharm": {
     "name": "#%%\n"
    }
   },
   "outputs": [],
   "source": [
    "csv_file_path = f'{paths.results_location}{network_name}/{dataset}-result.csv'\n",
    "export_learning_validation_result_to_csv(csv_file_path, validation_result, time_callback.times)"
   ]
  }
 ],
 "metadata": {
  "kernelspec": {
   "display_name": "Python 3",
   "language": "python",
   "name": "python3"
  },
  "language_info": {
   "codemirror_mode": {
    "name": "ipython",
    "version": 3
   },
   "file_extension": ".py",
   "mimetype": "text/x-python",
   "name": "python",
   "nbconvert_exporter": "python",
   "pygments_lexer": "ipython3",
   "version": "3.7.7"
  }
 },
 "nbformat": 4,
 "nbformat_minor": 4
}