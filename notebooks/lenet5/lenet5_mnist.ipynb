{
 "cells": [
  {
   "cell_type": "code",
   "metadata": {
    "pycharm": {
     "name": "#%%\n"
    }
   },
   "source": [
    "import sys\n",
    "sys.path.extend(['/Users/igor/Python/CNN-Architecture-Comparison/'])\n",
    "%load_ext autoreload\n",
    "%autoreload 2\n",
    "\n",
    "# LeNet5 - MNIST"
   ],
   "execution_count": null,
   "outputs": []
  },
  {
   "cell_type": "code",
   "execution_count": 1,
   "metadata": {
    "pycharm": {
     "name": "#%%\n"
    }
   },
   "outputs": [
    {
     "name": "stderr",
     "output_type": "stream",
     "text": [
      "Using TensorFlow backend.\n"
     ]
    }
   ],
   "source": [
    "from src.datasets.dataset_generators import DatasetGenerators\n",
    "from src.keras_model.lenet5_network import LeNet5Network"
   ]
  },
  {
   "cell_type": "code",
   "execution_count": 2,
   "metadata": {
    "pycharm": {
     "name": "#%%\n"
    }
   },
   "outputs": [],
   "source": [
    "dataset_dir = '/Users/igor/Python/CNN-Architecture-Comparison/data'\n",
    "fit_epochs = 50"
   ]
  },
  {
   "cell_type": "code",
   "execution_count": 3,
   "metadata": {
    "pycharm": {
     "name": "#%%\n"
    }
   },
   "outputs": [],
   "source": [
    "network = LeNet5Network()"
   ]
  },
  {
   "cell_type": "code",
   "execution_count": 4,
   "metadata": {
    "pycharm": {
     "name": "#%%\n"
    }
   },
   "outputs": [
    {
     "name": "stdout",
     "output_type": "stream",
     "text": [
      "Loading train set for mnist...\n",
      "Found 48291 images belonging to 10 classes.\n",
      "Loading test set for mnist...\n",
      "Found 13799 images belonging to 10 classes.\n",
      "Loading validation set for mnist...\n",
      "Found 6902 images belonging to 10 classes.\n"
     ]
    }
   ],
   "source": [
    "dataset_generators = DatasetGenerators(\n",
    "    name='mnist_5',\n",
    "    dataset_dir=dataset_dir,\n",
    "    image_size=network.image_size,\n",
    "    batch_size=network.batch_size,\n",
    "    grayscale=network.grayscale\n",
    ")"
   ]
  },
  {
   "cell_type": "code",
   "execution_count": 5,
   "metadata": {
    "pycharm": {
     "name": "#%%\n"
    }
   },
   "outputs": [],
   "source": [
    "model = network.get_compiled_model(\n",
    "    classes=dataset_generators.test.num_classes\n",
    ")"
   ]
  },
  {
   "cell_type": "code",
   "execution_count": 6,
   "metadata": {
    "pycharm": {
     "name": "#%%\n"
    }
   },
   "outputs": [
    {
     "name": "stdout",
     "output_type": "stream",
     "text": [
      "Epoch 1/10\n",
      "755/755 [==============================] - 34s 45ms/step - loss: 0.4610 - accuracy: 0.9192 - precision_1: 0.9298 - recall_1: 0.9111 - val_loss: 0.0317 - val_accuracy: 0.9693 - val_precision_1: 0.9733 - val_recall_1: 0.9656\n",
      "Epoch 2/10\n",
      "755/755 [==============================] - 14s 19ms/step - loss: 0.0789 - accuracy: 0.9757 - precision_1: 0.9790 - recall_1: 0.9732 - val_loss: 0.0155 - val_accuracy: 0.9743 - val_precision_1: 0.9772 - val_recall_1: 0.9718\n",
      "Epoch 3/10\n",
      "755/755 [==============================] - 15s 20ms/step - loss: 0.0541 - accuracy: 0.9830 - precision_1: 0.9848 - recall_1: 0.9815 - val_loss: 0.0185 - val_accuracy: 0.9801 - val_precision_1: 0.9825 - val_recall_1: 0.9785\n",
      "Epoch 4/10\n",
      "755/755 [==============================] - 16s 21ms/step - loss: 0.0409 - accuracy: 0.9871 - precision_1: 0.9884 - recall_1: 0.9860 - val_loss: 0.0351 - val_accuracy: 0.9793 - val_precision_1: 0.9812 - val_recall_1: 0.9781\n",
      "Epoch 5/10\n",
      "755/755 [==============================] - 17s 22ms/step - loss: 0.0365 - accuracy: 0.9882 - precision_1: 0.9893 - recall_1: 0.9876 - val_loss: 0.0138 - val_accuracy: 0.9824 - val_precision_1: 0.9839 - val_recall_1: 0.9813\n",
      "Epoch 6/10\n",
      "755/755 [==============================] - 16s 22ms/step - loss: 0.0312 - accuracy: 0.9895 - precision_1: 0.9904 - recall_1: 0.9889 - val_loss: 0.1298 - val_accuracy: 0.9868 - val_precision_1: 0.9882 - val_recall_1: 0.9856\n",
      "Epoch 7/10\n",
      "755/755 [==============================] - 17s 22ms/step - loss: 0.0266 - accuracy: 0.9913 - precision_1: 0.9920 - recall_1: 0.9907 - val_loss: 0.0504 - val_accuracy: 0.9787 - val_precision_1: 0.9804 - val_recall_1: 0.9776\n",
      "Epoch 8/10\n",
      "755/755 [==============================] - 17s 23ms/step - loss: 0.0231 - accuracy: 0.9924 - precision_1: 0.9929 - recall_1: 0.9919 - val_loss: 0.0839 - val_accuracy: 0.9853 - val_precision_1: 0.9863 - val_recall_1: 0.9849\n",
      "Epoch 9/10\n",
      "755/755 [==============================] - 17s 23ms/step - loss: 0.0210 - accuracy: 0.9933 - precision_1: 0.9936 - recall_1: 0.9928 - val_loss: 0.0060 - val_accuracy: 0.9859 - val_precision_1: 0.9867 - val_recall_1: 0.9854\n",
      "Epoch 10/10\n",
      "755/755 [==============================] - 16s 22ms/step - loss: 0.0178 - accuracy: 0.9942 - precision_1: 0.9948 - recall_1: 0.9940 - val_loss: 0.0059 - val_accuracy: 0.9844 - val_precision_1: 0.9852 - val_recall_1: 0.9841\n"
     ]
    }
   ],
   "source": [
    "history = model.fit_generator(\n",
    "    generator=dataset_generators.train,\n",
    "    epochs=fit_epochs,\n",
    "    validation_data=dataset_generators.test\n",
    ")"
   ]
  },
  {
   "cell_type": "code",
   "execution_count": 7,
   "metadata": {
    "pycharm": {
     "name": "#%%\n"
    }
   },
   "outputs": [],
   "source": [
    "result = model.evaluate_generator(\n",
    "    generator=dataset_generators.validate\n",
    ")"
   ]
  },
  {
   "cell_type": "markdown",
   "metadata": {},
   "source": [
    "## Results"
   ]
  },
  {
   "cell_type": "code",
   "execution_count": 8,
   "metadata": {
    "pycharm": {
     "name": "#%%\n"
    }
   },
   "outputs": [
    {
     "name": "stdout",
     "output_type": "stream",
     "text": [
      "Loss: 0.006709876470267773\n",
      "Accuracy: 0.9840626120567322\n",
      "Precision: 0.9843342304229736\n",
      "Recall: 0.9831932783126831\n"
     ]
    }
   ],
   "source": [
    "print(\"Loss: {}\".format(result[0]))\n",
    "print(\"Accuracy: {}\".format(result[1]))\n",
    "print(\"Precision: {}\".format(result[2]))\n",
    "print(\"Recall: {}\".format(result[3]))"
   ]
  }
 ],
 "metadata": {
  "kernelspec": {
   "display_name": "Python 3",
   "language": "python",
   "name": "python3"
  },
  "language_info": {
   "codemirror_mode": {
    "name": "ipython",
    "version": 3
   },
   "file_extension": ".py",
   "mimetype": "text/x-python",
   "name": "python",
   "nbconvert_exporter": "python",
   "pygments_lexer": "ipython3",
   "version": "3.7.7"
  }
 },
 "nbformat": 4,
 "nbformat_minor": 1
}