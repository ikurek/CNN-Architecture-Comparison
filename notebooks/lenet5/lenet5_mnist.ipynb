{
 "cells": [
  {
   "cell_type": "code",
   "execution_count": 1,
   "metadata": {
    "pycharm": {
     "name": "#%%\n"
    }
   },
   "outputs": [],
   "source": [
    "import sys\n",
    "sys.path.extend(['..', '../', '../..', '../../' ])\n",
    "%load_ext autoreload\n",
    "%autoreload 2"
   ]
  },
  {
   "cell_type": "markdown",
   "metadata": {
    "pycharm": {
     "name": "#%% md\n"
    }
   },
   "source": [
    "# LeNet5 - MNIST"
   ]
  },
  {
   "cell_type": "code",
   "execution_count": 2,
   "metadata": {
    "pycharm": {
     "name": "#%%\n"
    }
   },
   "outputs": [
    {
     "name": "stderr",
     "output_type": "stream",
     "text": [
      "Using TensorFlow backend.\n"
     ]
    }
   ],
   "source": [
    "import paths\n",
    "import keras\n",
    "from src.parameters import metrics\n",
    "from src.datasets.dataset_generators import DatasetGenerators\n",
    "from src.keras_callback.time_history import TimeHistory\n",
    "from src.export.csv_export import export_learning_history_to_csv, export_learning_validation_result_to_csv\n",
    "from src.export.model_export import clear_exported_models\n",
    "from src.keras_model.lenet5_network import LeNet5Network"
   ]
  },
  {
   "cell_type": "code",
   "execution_count": 3,
   "metadata": {
    "pycharm": {
     "name": "#%%\n"
    }
   },
   "outputs": [],
   "source": [
    "network_name = 'lenet5'\n",
    "fit_epochs = 50\n",
    "dataset = 'mnist'\n",
    "dataset_percentage = '5'"
   ]
  },
  {
   "cell_type": "code",
   "execution_count": 4,
   "metadata": {
    "pycharm": {
     "name": "#%%\n"
    }
   },
   "outputs": [],
   "source": [
    "network = LeNet5Network()"
   ]
  },
  {
   "cell_type": "code",
   "execution_count": 5,
   "metadata": {
    "pycharm": {
     "name": "#%%\n"
    }
   },
   "outputs": [
    {
     "name": "stdout",
     "output_type": "stream",
     "text": [
      "Loading train set for mnist_5...\n",
      "Found 2419 images belonging to 10 classes.\n",
      "Loading test set for mnist_5...\n",
      "Found 695 images belonging to 10 classes.\n",
      "Loading validation set for mnist_5...\n",
      "Found 349 images belonging to 10 classes.\n"
     ]
    }
   ],
   "source": [
    "dataset_generators = DatasetGenerators(\n",
    "    name=f'{dataset}_{dataset_percentage}',\n",
    "    dataset_dir=paths.data_location,\n",
    "    image_size=network.image_size,\n",
    "    batch_size=network.batch_size,\n",
    "    grayscale=network.grayscale\n",
    ")"
   ]
  },
  {
   "cell_type": "code",
   "execution_count": 6,
   "metadata": {
    "pycharm": {
     "name": "#%%\n"
    }
   },
   "outputs": [],
   "source": [
    "model = network.get_compiled_model(\n",
    "    classes=dataset_generators.test.num_classes\n",
    ")"
   ]
  },
  {
   "cell_type": "code",
   "execution_count": 7,
   "metadata": {
    "pycharm": {
     "name": "#%%\n"
    }
   },
   "outputs": [],
   "source": [
    "checkpoint_path = f'{paths.models_location}{network_name}/{dataset}/'\n",
    "best_model_path = f'{checkpoint_path}best.h5'\n",
    "clear_exported_models(checkpoint_path)\n",
    "\n",
    "checkpoint_callback = keras.callbacks.ModelCheckpoint(\n",
    "    filepath=f'{checkpoint_path}{{epoch:02d}}-{{val_accuracy}}.h5',\n",
    "    save_best_only=False,\n",
    "    save_weights_only=False\n",
    ")\n",
    "\n",
    "best_callback = keras.callbacks.ModelCheckpoint(\n",
    "    filepath=best_model_path,\n",
    "    save_best_only=True,\n",
    "    verbose=1,\n",
    "    save_weights_only=False\n",
    ")\n",
    "\n",
    "time_callback = TimeHistory()\n",
    "\n",
    "model_callbacks = [checkpoint_callback, best_callback, time_callback]"
   ]
  },
  {
   "cell_type": "code",
   "execution_count": 8,
   "metadata": {
    "pycharm": {
     "name": "#%%\n"
    }
   },
   "outputs": [
    {
     "name": "stdout",
     "output_type": "stream",
     "text": [
      "Epoch 1/50\n",
      "76/76 [==============================] - 2s 29ms/step - loss: 1.5420 - accuracy: 0.6742 - precision: 0.8343 - recall: 0.8352 - val_loss: 0.4050 - val_accuracy: 0.8734 - val_precision: 0.9909 - val_recall: 0.9364\n",
      "\n",
      "Epoch 00001: val_loss improved from inf to 0.40502, saving model to /Users/igor/Python/CNN-Architecture-Comparison/models/lenet5/mnist/best.h5\n",
      "Epoch 2/50\n",
      "76/76 [==============================] - 1s 14ms/step - loss: 0.2953 - accuracy: 0.9124 - precision: 0.9461 - recall: 0.9476 - val_loss: 0.2314 - val_accuracy: 0.9165 - val_precision: 0.9545 - val_recall: 0.8890\n",
      "\n",
      "Epoch 00002: val_loss improved from 0.40502 to 0.23142, saving model to /Users/igor/Python/CNN-Architecture-Comparison/models/lenet5/mnist/best.h5\n",
      "Epoch 3/50\n",
      "76/76 [==============================] - 1s 15ms/step - loss: 0.1779 - accuracy: 0.9438 - precision: 0.9749 - recall: 0.9617 - val_loss: 0.2072 - val_accuracy: 0.9237 - val_precision: 0.9644 - val_recall: 0.9530\n",
      "\n",
      "Epoch 00003: val_loss improved from 0.23142 to 0.20721, saving model to /Users/igor/Python/CNN-Architecture-Comparison/models/lenet5/mnist/best.h5\n",
      "Epoch 4/50\n",
      "76/76 [==============================] - 1s 14ms/step - loss: 0.0953 - accuracy: 0.9711 - precision: 0.9750 - recall: 0.9638 - val_loss: 0.1755 - val_accuracy: 0.9237 - val_precision: 0.8977 - val_recall: 0.8902\n",
      "\n",
      "Epoch 00004: val_loss improved from 0.20721 to 0.17546, saving model to /Users/igor/Python/CNN-Architecture-Comparison/models/lenet5/mnist/best.h5\n",
      "Epoch 5/50\n",
      "76/76 [==============================] - 1s 16ms/step - loss: 0.0610 - accuracy: 0.9802 - precision: 0.9956 - recall: 0.9872 - val_loss: 0.1536 - val_accuracy: 0.9353 - val_precision: 1.0000 - val_recall: 0.9621\n",
      "\n",
      "Epoch 00005: val_loss improved from 0.17546 to 0.15362, saving model to /Users/igor/Python/CNN-Architecture-Comparison/models/lenet5/mnist/best.h5\n",
      "Epoch 6/50\n",
      "76/76 [==============================] - 1s 14ms/step - loss: 0.0339 - accuracy: 0.9909 - precision: 0.9868 - recall: 0.9825 - val_loss: 0.0212 - val_accuracy: 0.9424 - val_precision: 1.0000 - val_recall: 0.9886\n",
      "\n",
      "Epoch 00006: val_loss improved from 0.15362 to 0.02123, saving model to /Users/igor/Python/CNN-Architecture-Comparison/models/lenet5/mnist/best.h5\n",
      "Epoch 7/50\n",
      "76/76 [==============================] - 1s 15ms/step - loss: 0.0304 - accuracy: 0.9917 - precision: 0.9967 - recall: 1.0000 - val_loss: 0.0237 - val_accuracy: 0.9338 - val_precision: 0.9773 - val_recall: 0.9830\n",
      "\n",
      "Epoch 00007: val_loss did not improve from 0.02123\n",
      "Epoch 8/50\n",
      "76/76 [==============================] - 1s 16ms/step - loss: 0.0170 - accuracy: 0.9946 - precision: 0.9956 - recall: 0.9974 - val_loss: 0.0867 - val_accuracy: 0.9237 - val_precision: 0.8636 - val_recall: 0.8193\n",
      "\n",
      "Epoch 00008: val_loss did not improve from 0.02123\n",
      "Epoch 9/50\n",
      "76/76 [==============================] - 1s 17ms/step - loss: 0.0164 - accuracy: 0.9963 - precision: 0.9560 - recall: 0.9583 - val_loss: 0.2158 - val_accuracy: 0.9410 - val_precision: 0.9735 - val_recall: 0.9909\n",
      "\n",
      "Epoch 00009: val_loss did not improve from 0.02123\n",
      "Epoch 10/50\n",
      "76/76 [==============================] - 1s 14ms/step - loss: 0.0046 - accuracy: 1.0000 - precision: 0.9474 - recall: 0.9474 - val_loss: 2.5520e-05 - val_accuracy: 0.9525 - val_precision: 0.9545 - val_recall: 0.9341\n",
      "\n",
      "Epoch 00010: val_loss improved from 0.02123 to 0.00003, saving model to /Users/igor/Python/CNN-Architecture-Comparison/models/lenet5/mnist/best.h5\n",
      "Epoch 11/50\n",
      "76/76 [==============================] - 1s 14ms/step - loss: 0.0015 - accuracy: 1.0000 - precision: 0.9868 - recall: 0.9868 - val_loss: 0.0161 - val_accuracy: 0.9612 - val_precision: 0.9545 - val_recall: 0.9356\n",
      "\n",
      "Epoch 00011: val_loss did not improve from 0.00003\n",
      "Epoch 12/50\n",
      "76/76 [==============================] - 1s 18ms/step - loss: 6.7646e-04 - accuracy: 1.0000 - precision: 0.9868 - recall: 0.9868 - val_loss: 0.4573 - val_accuracy: 0.9597 - val_precision: 0.9545 - val_recall: 0.9341\n",
      "\n",
      "Epoch 00012: val_loss did not improve from 0.00003\n",
      "Epoch 13/50\n",
      "76/76 [==============================] - 1s 18ms/step - loss: 5.2455e-04 - accuracy: 1.0000 - precision: 0.9868 - recall: 0.9868 - val_loss: 0.2782 - val_accuracy: 0.9597 - val_precision: 1.0000 - val_recall: 0.9795\n",
      "\n",
      "Epoch 00013: val_loss did not improve from 0.00003\n",
      "Epoch 14/50\n",
      "76/76 [==============================] - 1s 17ms/step - loss: 4.3395e-04 - accuracy: 1.0000 - precision: 0.9737 - recall: 0.9737 - val_loss: 0.7019 - val_accuracy: 0.9612 - val_precision: 1.0000 - val_recall: 0.9818\n",
      "\n",
      "Epoch 00014: val_loss did not improve from 0.00003\n",
      "Epoch 15/50\n",
      "76/76 [==============================] - 1s 14ms/step - loss: 3.7106e-04 - accuracy: 1.0000 - precision: 0.9868 - recall: 0.9868 - val_loss: 0.0029 - val_accuracy: 0.9597 - val_precision: 1.0000 - val_recall: 0.9818\n",
      "\n",
      "Epoch 00015: val_loss did not improve from 0.00003\n",
      "Epoch 16/50\n",
      "76/76 [==============================] - 1s 16ms/step - loss: 3.2178e-04 - accuracy: 1.0000 - precision: 0.9868 - recall: 0.9868 - val_loss: 0.1127 - val_accuracy: 0.9597 - val_precision: 0.9545 - val_recall: 0.9390\n",
      "\n",
      "Epoch 00016: val_loss did not improve from 0.00003\n",
      "Epoch 17/50\n",
      "76/76 [==============================] - 1s 14ms/step - loss: 2.8333e-04 - accuracy: 1.0000 - precision: 1.0000 - recall: 1.0000 - val_loss: 0.2365 - val_accuracy: 0.9612 - val_precision: 1.0000 - val_recall: 0.9697\n",
      "\n",
      "Epoch 00017: val_loss did not improve from 0.00003\n",
      "Epoch 18/50\n",
      "76/76 [==============================] - 1s 16ms/step - loss: 2.5350e-04 - accuracy: 1.0000 - precision: 0.9605 - recall: 0.9605 - val_loss: 0.1268 - val_accuracy: 0.9612 - val_precision: 1.0000 - val_recall: 0.9811\n",
      "\n",
      "Epoch 00018: val_loss did not improve from 0.00003\n",
      "Epoch 19/50\n",
      "76/76 [==============================] - 1s 17ms/step - loss: 2.2624e-04 - accuracy: 1.0000 - precision: 1.0000 - recall: 1.0000 - val_loss: 0.0063 - val_accuracy: 0.9597 - val_precision: 0.9545 - val_recall: 0.9364\n",
      "\n",
      "Epoch 00019: val_loss did not improve from 0.00003\n",
      "Epoch 20/50\n",
      "76/76 [==============================] - 1s 13ms/step - loss: 2.0207e-04 - accuracy: 1.0000 - precision: 0.9868 - recall: 0.9868 - val_loss: 0.2764 - val_accuracy: 0.9626 - val_precision: 0.9545 - val_recall: 0.9341\n",
      "\n",
      "Epoch 00020: val_loss did not improve from 0.00003\n",
      "Epoch 21/50\n",
      "76/76 [==============================] - 1s 18ms/step - loss: 1.8310e-04 - accuracy: 1.0000 - precision: 0.9737 - recall: 0.9737 - val_loss: 0.4340 - val_accuracy: 0.9612 - val_precision: 1.0000 - val_recall: 0.9773\n",
      "\n",
      "Epoch 00021: val_loss did not improve from 0.00003\n",
      "Epoch 22/50\n",
      "76/76 [==============================] - 1s 16ms/step - loss: 1.6834e-04 - accuracy: 1.0000 - precision: 0.9868 - recall: 0.9868 - val_loss: 0.2402 - val_accuracy: 0.9612 - val_precision: 0.9545 - val_recall: 0.9341\n",
      "\n",
      "Epoch 00022: val_loss did not improve from 0.00003\n",
      "Epoch 23/50\n",
      "76/76 [==============================] - 1s 18ms/step - loss: 1.5270e-04 - accuracy: 1.0000 - precision: 0.9737 - recall: 0.9737 - val_loss: 0.2372 - val_accuracy: 0.9626 - val_precision: 1.0000 - val_recall: 0.9844\n",
      "\n",
      "Epoch 00023: val_loss did not improve from 0.00003\n",
      "Epoch 24/50\n",
      "76/76 [==============================] - 1s 16ms/step - loss: 1.4041e-04 - accuracy: 1.0000 - precision: 0.9474 - recall: 0.9474 - val_loss: 0.1181 - val_accuracy: 0.9626 - val_precision: 0.9545 - val_recall: 0.9280\n",
      "\n",
      "Epoch 00024: val_loss did not improve from 0.00003\n",
      "Epoch 25/50\n",
      "76/76 [==============================] - 1s 14ms/step - loss: 1.2947e-04 - accuracy: 1.0000 - precision: 1.0000 - recall: 1.0000 - val_loss: 0.1464 - val_accuracy: 0.9626 - val_precision: 0.9091 - val_recall: 0.8848\n",
      "\n",
      "Epoch 00025: val_loss did not improve from 0.00003\n",
      "Epoch 26/50\n",
      "76/76 [==============================] - 1s 17ms/step - loss: 1.1912e-04 - accuracy: 1.0000 - precision: 0.9868 - recall: 0.9868 - val_loss: 0.3463 - val_accuracy: 0.9626 - val_precision: 1.0000 - val_recall: 0.9545\n",
      "\n",
      "Epoch 00026: val_loss did not improve from 0.00003\n",
      "Epoch 27/50\n",
      "76/76 [==============================] - 1s 18ms/step - loss: 1.1028e-04 - accuracy: 1.0000 - precision: 0.9868 - recall: 0.9868 - val_loss: 0.2952 - val_accuracy: 0.9626 - val_precision: 1.0000 - val_recall: 0.9818\n",
      "\n",
      "Epoch 00027: val_loss did not improve from 0.00003\n",
      "Epoch 28/50\n",
      "76/76 [==============================] - 1s 18ms/step - loss: 1.0179e-04 - accuracy: 1.0000 - precision: 0.9868 - recall: 0.9868 - val_loss: 0.1296 - val_accuracy: 0.9626 - val_precision: 1.0000 - val_recall: 0.9848\n",
      "\n",
      "Epoch 00028: val_loss did not improve from 0.00003\n",
      "Epoch 29/50\n",
      "76/76 [==============================] - 1s 15ms/step - loss: 9.4891e-05 - accuracy: 1.0000 - precision: 0.9605 - recall: 0.9605 - val_loss: 0.1843 - val_accuracy: 0.9626 - val_precision: 0.9545 - val_recall: 0.9394\n",
      "\n",
      "Epoch 00029: val_loss did not improve from 0.00003\n",
      "Epoch 30/50\n",
      "76/76 [==============================] - 1s 15ms/step - loss: 8.7663e-05 - accuracy: 1.0000 - precision: 0.9737 - recall: 0.9737 - val_loss: 0.0202 - val_accuracy: 0.9626 - val_precision: 1.0000 - val_recall: 0.9818\n",
      "\n",
      "Epoch 00030: val_loss did not improve from 0.00003\n",
      "Epoch 31/50\n",
      "76/76 [==============================] - 1s 14ms/step - loss: 8.1075e-05 - accuracy: 1.0000 - precision: 0.9868 - recall: 0.9868 - val_loss: 0.2175 - val_accuracy: 0.9626 - val_precision: 0.9545 - val_recall: 0.9356\n",
      "\n",
      "Epoch 00031: val_loss did not improve from 0.00003\n",
      "Epoch 32/50\n",
      "76/76 [==============================] - 1s 14ms/step - loss: 7.6312e-05 - accuracy: 1.0000 - precision: 1.0000 - recall: 1.0000 - val_loss: 0.5968 - val_accuracy: 0.9626 - val_precision: 1.0000 - val_recall: 0.9659\n",
      "\n",
      "Epoch 00032: val_loss did not improve from 0.00003\n",
      "Epoch 33/50\n",
      "76/76 [==============================] - 1s 14ms/step - loss: 7.1761e-05 - accuracy: 1.0000 - precision: 0.9868 - recall: 0.9868 - val_loss: 0.1163 - val_accuracy: 0.9626 - val_precision: 0.9545 - val_recall: 0.9356\n",
      "\n",
      "Epoch 00033: val_loss did not improve from 0.00003\n",
      "Epoch 34/50\n",
      "76/76 [==============================] - 1s 13ms/step - loss: 6.6593e-05 - accuracy: 1.0000 - precision: 0.9868 - recall: 0.9868 - val_loss: 0.3244 - val_accuracy: 0.9612 - val_precision: 1.0000 - val_recall: 0.9735\n",
      "\n",
      "Epoch 00034: val_loss did not improve from 0.00003\n",
      "Epoch 35/50\n",
      "76/76 [==============================] - 1s 14ms/step - loss: 6.2532e-05 - accuracy: 1.0000 - precision: 0.9737 - recall: 0.9737 - val_loss: 0.3330 - val_accuracy: 0.9612 - val_precision: 1.0000 - val_recall: 0.9716\n",
      "\n",
      "Epoch 00035: val_loss did not improve from 0.00003\n",
      "Epoch 36/50\n",
      "76/76 [==============================] - 1s 13ms/step - loss: 5.8492e-05 - accuracy: 1.0000 - precision: 0.9605 - recall: 0.9605 - val_loss: 0.2153 - val_accuracy: 0.9612 - val_precision: 0.9091 - val_recall: 0.8886\n",
      "\n",
      "Epoch 00036: val_loss did not improve from 0.00003\n",
      "Epoch 37/50\n",
      "76/76 [==============================] - 1s 13ms/step - loss: 5.5115e-05 - accuracy: 1.0000 - precision: 0.9737 - recall: 0.9737 - val_loss: 0.0072 - val_accuracy: 0.9612 - val_precision: 1.0000 - val_recall: 0.9773\n",
      "\n",
      "Epoch 00037: val_loss did not improve from 0.00003\n",
      "Epoch 38/50\n",
      "76/76 [==============================] - 1s 12ms/step - loss: 5.1744e-05 - accuracy: 1.0000 - precision: 1.0000 - recall: 1.0000 - val_loss: 0.0030 - val_accuracy: 0.9612 - val_precision: 1.0000 - val_recall: 0.9795\n",
      "\n",
      "Epoch 00038: val_loss did not improve from 0.00003\n",
      "Epoch 39/50\n",
      "76/76 [==============================] - 1s 14ms/step - loss: 4.8824e-05 - accuracy: 1.0000 - precision: 1.0000 - recall: 1.0000 - val_loss: 0.0186 - val_accuracy: 0.9612 - val_precision: 1.0000 - val_recall: 0.9621\n",
      "\n",
      "Epoch 00039: val_loss did not improve from 0.00003\n",
      "Epoch 40/50\n",
      "76/76 [==============================] - 1s 14ms/step - loss: 4.5881e-05 - accuracy: 1.0000 - precision: 0.9737 - recall: 0.9737 - val_loss: 0.2417 - val_accuracy: 0.9597 - val_precision: 1.0000 - val_recall: 0.9708\n",
      "\n",
      "Epoch 00040: val_loss did not improve from 0.00003\n",
      "Epoch 41/50\n",
      "76/76 [==============================] - 1s 14ms/step - loss: 4.3610e-05 - accuracy: 1.0000 - precision: 0.9605 - recall: 0.9605 - val_loss: 0.0079 - val_accuracy: 0.9612 - val_precision: 0.9545 - val_recall: 0.9455\n",
      "\n",
      "Epoch 00041: val_loss did not improve from 0.00003\n",
      "Epoch 42/50\n",
      "76/76 [==============================] - 1s 14ms/step - loss: 4.0762e-05 - accuracy: 1.0000 - precision: 0.9868 - recall: 0.9868 - val_loss: 0.0016 - val_accuracy: 0.9597 - val_precision: 0.9545 - val_recall: 0.9318\n",
      "\n",
      "Epoch 00042: val_loss did not improve from 0.00003\n",
      "Epoch 43/50\n",
      "76/76 [==============================] - 1s 14ms/step - loss: 3.8437e-05 - accuracy: 1.0000 - precision: 0.9737 - recall: 0.9737 - val_loss: 0.0246 - val_accuracy: 0.9597 - val_precision: 0.9545 - val_recall: 0.9261\n",
      "\n",
      "Epoch 00043: val_loss did not improve from 0.00003\n",
      "Epoch 44/50\n",
      "76/76 [==============================] - 1s 15ms/step - loss: 3.6446e-05 - accuracy: 1.0000 - precision: 0.9868 - recall: 0.9868 - val_loss: 0.1009 - val_accuracy: 0.9597 - val_precision: 0.9545 - val_recall: 0.9455\n",
      "\n",
      "Epoch 00044: val_loss did not improve from 0.00003\n",
      "Epoch 45/50\n",
      "76/76 [==============================] - 1s 15ms/step - loss: 3.4579e-05 - accuracy: 1.0000 - precision: 1.0000 - recall: 1.0000 - val_loss: 0.0072 - val_accuracy: 0.9597 - val_precision: 1.0000 - val_recall: 0.9811\n",
      "\n",
      "Epoch 00045: val_loss did not improve from 0.00003\n",
      "Epoch 46/50\n",
      "76/76 [==============================] - 1s 14ms/step - loss: 3.2434e-05 - accuracy: 1.0000 - precision: 1.0000 - recall: 1.0000 - val_loss: 0.1834 - val_accuracy: 0.9597 - val_precision: 1.0000 - val_recall: 0.9773\n",
      "\n",
      "Epoch 00046: val_loss did not improve from 0.00003\n",
      "Epoch 47/50\n",
      "76/76 [==============================] - 1s 12ms/step - loss: 3.0706e-05 - accuracy: 1.0000 - precision: 0.9868 - recall: 0.9868 - val_loss: 3.3124e-05 - val_accuracy: 0.9597 - val_precision: 1.0000 - val_recall: 0.9773\n",
      "\n",
      "Epoch 00047: val_loss did not improve from 0.00003\n",
      "Epoch 48/50\n",
      "76/76 [==============================] - 1s 13ms/step - loss: 2.9207e-05 - accuracy: 1.0000 - precision: 0.9737 - recall: 0.9737 - val_loss: 0.1805 - val_accuracy: 0.9597 - val_precision: 0.9545 - val_recall: 0.9364\n",
      "\n",
      "Epoch 00048: val_loss did not improve from 0.00003\n",
      "Epoch 49/50\n",
      "76/76 [==============================] - 1s 14ms/step - loss: 2.7783e-05 - accuracy: 1.0000 - precision: 0.9868 - recall: 0.9868 - val_loss: 0.4406 - val_accuracy: 0.9612 - val_precision: 0.9545 - val_recall: 0.9318\n",
      "\n",
      "Epoch 00049: val_loss did not improve from 0.00003\n",
      "Epoch 50/50\n",
      "76/76 [==============================] - 1s 19ms/step - loss: 2.6288e-05 - accuracy: 1.0000 - precision: 0.9868 - recall: 0.9868 - val_loss: 0.0413 - val_accuracy: 0.9597 - val_precision: 1.0000 - val_recall: 0.9758\n",
      "\n",
      "Epoch 00050: val_loss did not improve from 0.00003\n"
     ]
    }
   ],
   "source": [
    "fit_result = model.fit_generator(\n",
    "    generator=dataset_generators.train,\n",
    "    epochs=fit_epochs,\n",
    "    validation_data=dataset_generators.test,\n",
    "    callbacks = model_callbacks\n",
    ")"
   ]
  },
  {
   "cell_type": "code",
   "execution_count": 9,
   "metadata": {
    "pycharm": {
     "name": "#%%\n"
    }
   },
   "outputs": [],
   "source": [
    "best_model = keras.models.load_model(best_model_path,\n",
    "    custom_objects= {\n",
    "        'precision': metrics.precision,\n",
    "        'recall': metrics.recall\n",
    "    }\n",
    ")\n",
    "validation_result = best_model.evaluate_generator(\n",
    "    generator=dataset_generators.validate\n",
    ")"
   ]
  },
  {
   "cell_type": "markdown",
   "metadata": {},
   "source": [
    "## Results"
   ]
  },
  {
   "cell_type": "markdown",
   "metadata": {},
   "source": [
    "### Epoch CSV"
   ]
  },
  {
   "cell_type": "code",
   "execution_count": 10,
   "metadata": {
    "pycharm": {
     "name": "#%%\n"
    }
   },
   "outputs": [
    {
     "name": "stdout",
     "output_type": "stream",
     "text": [
      "epoch, time, val_loss, val_accuracy, val_precision, val_recall\n",
      "0,0,0,0,0,0\n",
      "1,2.257840871810913,0.4050242006778717,0.8733813166618347,0.9909090399742126,0.9363636374473572\n",
      "2,1.1624770164489746,0.23142491281032562,0.9165467619895935,0.9545454382896423,0.8890151381492615\n",
      "3,1.269618272781372,0.20721451938152313,0.9237409830093384,0.9643939733505249,0.9530303478240967\n",
      "4,1.1121461391448975,0.17545576393604279,0.9237409830093384,0.8977272510528564,0.8901514410972595\n",
      "5,1.3057489395141602,0.1536155641078949,0.935251772403717,1.0,0.9621211886405945\n",
      "6,1.1476960182189941,0.021232236176729202,0.9424460530281067,1.0,0.9886363744735718\n",
      "7,1.2114360332489014,0.023720787838101387,0.9338129758834839,0.9772727489471436,0.9829545617103577\n",
      "8,1.2960147857666016,0.08673059195280075,0.9237409830093384,0.8636363744735718,0.8192640542984009\n",
      "9,1.376729965209961,0.21580463647842407,0.9410071969032288,0.9734848141670227,0.9909090399742126\n",
      "10,1.1685900688171387,2.5519893824821338e-05,0.9525179862976074,0.9545454382896423,0.9340908527374268\n",
      "11,1.098207950592041,0.016087546944618225,0.9611510634422302,0.9545454382896423,0.935606062412262\n",
      "12,1.4383060932159424,0.45732739567756653,0.9597122073173523,0.9545454382896423,0.9340908527374268\n",
      "13,1.383195161819458,0.27822598814964294,0.9597122073173523,1.0,0.9795454144477844\n",
      "14,1.347639799118042,0.7019103765487671,0.9611510634422302,1.0,0.9818181991577148\n",
      "15,1.1250898838043213,0.00288569089025259,0.9597122073173523,1.0,0.9818181395530701\n",
      "16,1.278616189956665,0.11271903663873672,0.9597122073173523,0.9545454382896423,0.9389610290527344\n",
      "17,1.118769884109497,0.2365206480026245,0.9611510634422302,1.0,0.9696969389915466\n",
      "18,1.2466068267822266,0.12679043412208557,0.9611510634422302,1.0,0.9810605645179749\n",
      "19,1.2919590473175049,0.0062563070096075535,0.9597122073173523,0.9545454382896423,0.9363635778427124\n",
      "20,1.0517208576202393,0.2763678729534149,0.9625899195671082,0.9545454382896423,0.9340908527374268\n",
      "21,1.3698852062225342,0.4339529573917389,0.9611510634422302,1.0,0.9772727489471436\n",
      "22,1.258390188217163,0.2401534765958786,0.9611510634422302,0.9545454382896423,0.9340908527374268\n",
      "23,1.4008212089538574,0.23719672858715057,0.9625899195671082,1.0,0.984415590763092\n",
      "24,1.2564291954040527,0.11813358962535858,0.9625899195671082,0.9545454382896423,0.9280303716659546\n",
      "25,1.1402361392974854,0.14644750952720642,0.9625899195671082,0.9090909361839294,0.8848485350608826\n",
      "26,1.3477728366851807,0.3463345766067505,0.9625899195671082,1.0,0.9545454382896423\n",
      "27,1.4346139430999756,0.29517805576324463,0.9625899195671082,1.0,0.9818181395530701\n",
      "28,1.4214630126953125,0.12963195145130157,0.9625899195671082,1.0,0.9848485589027405\n",
      "29,1.2194087505340576,0.1843140870332718,0.9625899195671082,0.9545454382896423,0.939393937587738\n",
      "30,1.2065808773040771,0.020161403343081474,0.9625899195671082,1.0,0.9818181991577148\n",
      "31,1.089475154876709,0.21751412749290466,0.9625899195671082,0.9545454382896423,0.9356060028076172\n",
      "32,1.1244239807128906,0.5967908501625061,0.9625899195671082,1.0,0.9659090638160706\n",
      "33,1.1218760013580322,0.11625535786151886,0.9625899195671082,0.9545454382896423,0.935606062412262\n",
      "34,1.0005338191986084,0.3243735730648041,0.9611510634422302,1.0,0.9734848141670227\n",
      "35,1.0614452362060547,0.33299803733825684,0.9611510634422302,1.0,0.9715909361839294\n",
      "36,1.0556612014770508,0.2152995616197586,0.9611510634422302,0.9090909361839294,0.8886363506317139\n",
      "37,1.029615879058838,0.007194750942289829,0.9611510634422302,1.0,0.9772727489471436\n",
      "38,0.9750092029571533,0.003042826894670725,0.9611510634422302,1.0,0.9795454144477844\n",
      "39,1.09962797164917,0.01863318309187889,0.9611510634422302,1.0,0.9621211886405945\n",
      "40,1.0750939846038818,0.24174222350120544,0.9597122073173523,1.0,0.9707791805267334\n",
      "41,1.1209971904754639,0.007927332073450089,0.9611510634422302,0.9545454382896423,0.9454545378684998\n",
      "42,1.0816888809204102,0.001570942928083241,0.9597122073173523,0.9545454382896423,0.9318181872367859\n",
      "43,1.0954291820526123,0.02455669641494751,0.9597122073173523,0.9545454382896423,0.9261363744735718\n",
      "44,1.2179546356201172,0.1008666530251503,0.9597122073173523,0.9545454382896423,0.9454545378684998\n",
      "45,1.1669249534606934,0.007229405455291271,0.9597122073173523,1.0,0.9810606241226196\n",
      "46,1.058176040649414,0.1834069788455963,0.9597122073173523,1.0,0.9772727489471436\n",
      "47,0.9599370956420898,3.312352055218071e-05,0.9597122073173523,1.0,0.9772727489471436\n",
      "48,1.051037311553955,0.18052440881729126,0.9597122073173523,0.9545454382896423,0.9363636374473572\n",
      "49,1.0744168758392334,0.44058462977409363,0.9611510634422302,0.9545454382896423,0.9318181872367859\n",
      "50,1.4915759563446045,0.04134349897503853,0.9597122073173523,1.0,0.9757575988769531\n",
      "\n"
     ]
    }
   ],
   "source": [
    "csv_file_path = f'{paths.results_location}{network_name}/{dataset}-history.csv'\n",
    "export_learning_history_to_csv(csv_file_path, fit_result, time_callback.times)"
   ]
  },
  {
   "cell_type": "markdown",
   "metadata": {},
   "source": [
    "### Validation result"
   ]
  },
  {
   "cell_type": "code",
   "execution_count": 11,
   "metadata": {
    "pycharm": {
     "name": "#%%\n"
    }
   },
   "outputs": [
    {
     "name": "stdout",
     "output_type": "stream",
     "text": [
      "avg_epoch_time, time, val_loss, val_accuracy, val_precision, val_recall\n",
      "1.2138982343673705,60.69491171836853,0.1866678148508072,0.9512894153594971,0.9772727489471436,1.0\n"
     ]
    }
   ],
   "source": [
    "csv_file_path = f'{paths.results_location}{network_name}/{dataset}-result.csv'\n",
    "export_learning_validation_result_to_csv(csv_file_path, validation_result, time_callback.times)"
   ]
  }
 ],
 "metadata": {
  "kernelspec": {
   "display_name": "Python 3",
   "language": "python",
   "name": "python3"
  },
  "language_info": {
   "codemirror_mode": {
    "name": "ipython",
    "version": 3
   },
   "file_extension": ".py",
   "mimetype": "text/x-python",
   "name": "python",
   "nbconvert_exporter": "python",
   "pygments_lexer": "ipython3",
   "version": "3.7.7"
  }
 },
 "nbformat": 4,
 "nbformat_minor": 4
}