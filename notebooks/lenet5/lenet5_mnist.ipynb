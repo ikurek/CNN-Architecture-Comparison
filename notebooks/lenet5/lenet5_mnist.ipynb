{
 "cells": [
  {
   "cell_type": "code",
   "execution_count": 1,
   "metadata": {
    "pycharm": {
     "name": "#%%\n"
    }
   },
   "outputs": [],
   "source": [
    "import sys\n",
    "sys.path.extend(['..', '../', '../..', '../../' ])\n",
    "%load_ext autoreload\n",
    "%autoreload 2"
   ]
  },
  {
   "cell_type": "markdown",
   "metadata": {
    "pycharm": {
     "name": "#%% md\n"
    }
   },
   "source": [
    "# LeNet5 - MNIST"
   ]
  },
  {
   "cell_type": "code",
   "execution_count": 2,
   "metadata": {
    "pycharm": {
     "name": "#%%\n"
    }
   },
   "outputs": [
    {
     "name": "stderr",
     "output_type": "stream",
     "text": [
      "Using TensorFlow backend.\n"
     ]
    }
   ],
   "source": [
    "import paths\n",
    "import keras\n",
    "from src.parameters import metrics\n",
    "from src.datasets.dataset_generators import DatasetGenerators\n",
    "from src.keras_callback.time_history import TimeHistory\n",
    "from src.export.csv_export import export_learning_history_to_csv, export_learning_validation_result_to_csv\n",
    "from src.export.model_export import clear_exported_models\n",
    "from src.keras_model.lenet5_network import LeNet5Network"
   ]
  },
  {
   "cell_type": "code",
   "execution_count": 3,
   "metadata": {
    "pycharm": {
     "name": "#%%\n"
    }
   },
   "outputs": [],
   "source": [
    "network_name = 'lenet5'\n",
    "fit_epochs = 50\n",
    "dataset = 'mnist'\n",
    "dataset_percentage = '5'"
   ]
  },
  {
   "cell_type": "code",
   "execution_count": 4,
   "metadata": {
    "pycharm": {
     "name": "#%%\n"
    }
   },
   "outputs": [],
   "source": [
    "network = LeNet5Network()"
   ]
  },
  {
   "cell_type": "code",
   "execution_count": 5,
   "metadata": {
    "pycharm": {
     "name": "#%%\n"
    }
   },
   "outputs": [
    {
     "name": "stdout",
     "output_type": "stream",
     "text": [
      "Loading train set for mnist_5...\n",
      "Found 2419 images belonging to 10 classes.\n",
      "Loading test set for mnist_5...\n",
      "Found 695 images belonging to 10 classes.\n",
      "Loading validation set for mnist_5...\n",
      "Found 349 images belonging to 10 classes.\n"
     ]
    }
   ],
   "source": [
    "dataset_generators = DatasetGenerators(\n",
    "    name=f'{dataset}_{dataset_percentage}',\n",
    "    dataset_dir=paths.data_location,\n",
    "    image_size=network.image_size,\n",
    "    batch_size=network.batch_size,\n",
    "    grayscale=network.grayscale\n",
    ")"
   ]
  },
  {
   "cell_type": "code",
   "execution_count": 6,
   "metadata": {
    "pycharm": {
     "name": "#%%\n"
    }
   },
   "outputs": [],
   "source": [
    "model = network.get_compiled_model(\n",
    "    classes=dataset_generators.test.num_classes\n",
    ")"
   ]
  },
  {
   "cell_type": "code",
   "execution_count": 7,
   "metadata": {
    "pycharm": {
     "name": "#%%\n"
    }
   },
   "outputs": [],
   "source": [
    "checkpoint_path = f'{paths.models_location}{network_name}/{dataset}/'\n",
    "best_model_path = f'{checkpoint_path}best.h5'\n",
    "clear_exported_models(checkpoint_path)\n",
    "\n",
    "checkpoint_callback = keras.callbacks.ModelCheckpoint(\n",
    "    filepath=f'{checkpoint_path}{{epoch:02d}}-{{val_accuracy}}.h5',\n",
    "    save_best_only=False,\n",
    "    save_weights_only=False\n",
    ")\n",
    "\n",
    "best_callback = keras.callbacks.ModelCheckpoint(\n",
    "    filepath=best_model_path,\n",
    "    save_best_only=True,\n",
    "    verbose=1,\n",
    "    save_weights_only=False\n",
    ")\n",
    "\n",
    "time_callback = TimeHistory()\n",
    "\n",
    "model_callbacks = [checkpoint_callback, best_callback, time_callback]"
   ]
  },
  {
   "cell_type": "code",
   "execution_count": 8,
   "metadata": {
    "pycharm": {
     "name": "#%%\n"
    }
   },
   "outputs": [
    {
     "name": "stdout",
     "output_type": "stream",
     "text": [
      "Epoch 1/50\n",
      "76/76 [==============================] - 1s 12ms/step - loss: 2.0939 - accuracy: 0.6838 - precision: 0.8870 - recall: 0.8424 - val_loss: 0.3801 - val_accuracy: 0.8777 - val_precision: 0.9886 - val_recall: 0.9583\n",
      "\n",
      "Epoch 00001: val_loss improved from inf to 0.38015, saving model to /Users/igor/Python/CNN-Architecture-Comparison/models/lenet5/mnist/best.h5\n",
      "Epoch 2/50\n",
      "76/76 [==============================] - 1s 10ms/step - loss: 0.3091 - accuracy: 0.9115 - precision: 0.9338 - recall: 0.9236 - val_loss: 0.1315 - val_accuracy: 0.9151 - val_precision: 0.9167 - val_recall: 0.9242\n",
      "\n",
      "Epoch 00002: val_loss improved from 0.38015 to 0.13153, saving model to /Users/igor/Python/CNN-Architecture-Comparison/models/lenet5/mnist/best.h5\n",
      "Epoch 3/50\n",
      "76/76 [==============================] - 1s 10ms/step - loss: 0.1868 - accuracy: 0.9409 - precision: 0.9612 - recall: 0.9561 - val_loss: 0.1370 - val_accuracy: 0.9122 - val_precision: 0.9061 - val_recall: 0.9303\n",
      "\n",
      "Epoch 00003: val_loss did not improve from 0.13153\n",
      "Epoch 4/50\n",
      "76/76 [==============================] - 1s 10ms/step - loss: 0.1417 - accuracy: 0.9516 - precision: 0.9563 - recall: 0.9462 - val_loss: 0.0550 - val_accuracy: 0.9353 - val_precision: 0.8864 - val_recall: 0.9242\n",
      "\n",
      "Epoch 00004: val_loss improved from 0.13153 to 0.05502, saving model to /Users/igor/Python/CNN-Architecture-Comparison/models/lenet5/mnist/best.h5\n",
      "Epoch 5/50\n",
      "76/76 [==============================] - 1s 10ms/step - loss: 0.0823 - accuracy: 0.9748 - precision: 0.9912 - recall: 0.9820 - val_loss: 0.1864 - val_accuracy: 0.9410 - val_precision: 0.9629 - val_recall: 0.9758\n",
      "\n",
      "Epoch 00005: val_loss did not improve from 0.05502\n",
      "Epoch 6/50\n",
      "76/76 [==============================] - 1s 10ms/step - loss: 0.0387 - accuracy: 0.9909 - precision: 0.9761 - recall: 0.9803 - val_loss: 0.2189 - val_accuracy: 0.9554 - val_precision: 1.0000 - val_recall: 0.9727\n",
      "\n",
      "Epoch 00006: val_loss did not improve from 0.05502\n",
      "Epoch 7/50\n",
      "76/76 [==============================] - 1s 10ms/step - loss: 0.0281 - accuracy: 0.9930 - precision: 0.9978 - recall: 0.9879 - val_loss: 0.1838 - val_accuracy: 0.9381 - val_precision: 0.9681 - val_recall: 0.9935\n",
      "\n",
      "Epoch 00007: val_loss did not improve from 0.05502\n",
      "Epoch 8/50\n",
      "76/76 [==============================] - 1s 10ms/step - loss: 0.0246 - accuracy: 0.9934 - precision: 1.0000 - recall: 1.0000 - val_loss: 0.0647 - val_accuracy: 0.9367 - val_precision: 0.9205 - val_recall: 0.9343\n",
      "\n",
      "Epoch 00008: val_loss did not improve from 0.05502\n",
      "Epoch 9/50\n",
      "76/76 [==============================] - 1s 10ms/step - loss: 0.0291 - accuracy: 0.9917 - precision: 0.9737 - recall: 0.9711 - val_loss: 0.5889 - val_accuracy: 0.9496 - val_precision: 0.8682 - val_recall: 0.8950\n",
      "\n",
      "Epoch 00009: val_loss did not improve from 0.05502\n",
      "Epoch 10/50\n",
      "76/76 [==============================] - 1s 11ms/step - loss: 0.0135 - accuracy: 0.9963 - precision: 0.9737 - recall: 0.9737 - val_loss: 0.3872 - val_accuracy: 0.9439 - val_precision: 0.9545 - val_recall: 0.9470\n",
      "\n",
      "Epoch 00010: val_loss did not improve from 0.05502\n",
      "Epoch 11/50\n",
      "76/76 [==============================] - 1s 10ms/step - loss: 0.0102 - accuracy: 0.9975 - precision: 0.9850 - recall: 0.9868 - val_loss: 0.2351 - val_accuracy: 0.9597 - val_precision: 0.9886 - val_recall: 0.9909\n",
      "\n",
      "Epoch 00011: val_loss did not improve from 0.05502\n",
      "Epoch 12/50\n",
      "76/76 [==============================] - 1s 11ms/step - loss: 0.0022 - accuracy: 1.0000 - precision: 0.9868 - recall: 0.9868 - val_loss: 0.1273 - val_accuracy: 0.9554 - val_precision: 0.9621 - val_recall: 0.9924\n",
      "\n",
      "Epoch 00012: val_loss did not improve from 0.05502\n",
      "Epoch 13/50\n",
      "76/76 [==============================] - 1s 11ms/step - loss: 0.0021 - accuracy: 0.9996 - precision: 0.9934 - recall: 1.0000 - val_loss: 0.0693 - val_accuracy: 0.9626 - val_precision: 0.9621 - val_recall: 0.9909\n",
      "\n",
      "Epoch 00013: val_loss did not improve from 0.05502\n",
      "Epoch 14/50\n",
      "76/76 [==============================] - 1s 10ms/step - loss: 9.5350e-04 - accuracy: 1.0000 - precision: 0.9737 - recall: 0.9737 - val_loss: 0.0861 - val_accuracy: 0.9640 - val_precision: 0.9545 - val_recall: 0.9318\n",
      "\n",
      "Epoch 00014: val_loss did not improve from 0.05502\n",
      "Epoch 15/50\n",
      "76/76 [==============================] - 1s 10ms/step - loss: 7.3823e-04 - accuracy: 1.0000 - precision: 0.9868 - recall: 0.9868 - val_loss: 0.0480 - val_accuracy: 0.9640 - val_precision: 0.9545 - val_recall: 0.9318\n",
      "\n",
      "Epoch 00015: val_loss improved from 0.05502 to 0.04804, saving model to /Users/igor/Python/CNN-Architecture-Comparison/models/lenet5/mnist/best.h5\n",
      "Epoch 16/50\n",
      "76/76 [==============================] - 1s 10ms/step - loss: 5.7654e-04 - accuracy: 1.0000 - precision: 0.9868 - recall: 0.9868 - val_loss: 0.0034 - val_accuracy: 0.9626 - val_precision: 0.9545 - val_recall: 0.9455\n",
      "\n",
      "Epoch 00016: val_loss improved from 0.04804 to 0.00336, saving model to /Users/igor/Python/CNN-Architecture-Comparison/models/lenet5/mnist/best.h5\n",
      "Epoch 17/50\n",
      "76/76 [==============================] - 1s 10ms/step - loss: 4.9075e-04 - accuracy: 1.0000 - precision: 0.9868 - recall: 0.9868 - val_loss: 0.3160 - val_accuracy: 0.9626 - val_precision: 0.9545 - val_recall: 0.9432\n",
      "\n",
      "Epoch 00017: val_loss did not improve from 0.00336\n",
      "Epoch 18/50\n",
      "76/76 [==============================] - 1s 10ms/step - loss: 4.3125e-04 - accuracy: 1.0000 - precision: 0.9605 - recall: 0.9605 - val_loss: 0.0245 - val_accuracy: 0.9655 - val_precision: 0.9545 - val_recall: 0.9394\n",
      "\n",
      "Epoch 00018: val_loss did not improve from 0.00336\n",
      "Epoch 19/50\n",
      "76/76 [==============================] - 1s 11ms/step - loss: 3.8614e-04 - accuracy: 1.0000 - precision: 1.0000 - recall: 1.0000 - val_loss: 0.0788 - val_accuracy: 0.9640 - val_precision: 1.0000 - val_recall: 0.9924\n",
      "\n",
      "Epoch 00019: val_loss did not improve from 0.00336\n",
      "Epoch 20/50\n",
      "76/76 [==============================] - 1s 10ms/step - loss: 3.5093e-04 - accuracy: 1.0000 - precision: 0.9868 - recall: 0.9868 - val_loss: 0.0047 - val_accuracy: 0.9640 - val_precision: 0.9545 - val_recall: 0.9432\n",
      "\n",
      "Epoch 00020: val_loss did not improve from 0.00336\n",
      "Epoch 21/50\n",
      "76/76 [==============================] - 1s 10ms/step - loss: 3.1281e-04 - accuracy: 1.0000 - precision: 0.9474 - recall: 0.9474 - val_loss: 0.0912 - val_accuracy: 0.9626 - val_precision: 1.0000 - val_recall: 0.9909\n",
      "\n",
      "Epoch 00021: val_loss did not improve from 0.00336\n",
      "Epoch 22/50\n",
      "76/76 [==============================] - 1s 10ms/step - loss: 2.8212e-04 - accuracy: 1.0000 - precision: 0.9868 - recall: 0.9868 - val_loss: 0.0208 - val_accuracy: 0.9626 - val_precision: 0.9091 - val_recall: 0.9026\n",
      "\n",
      "Epoch 00022: val_loss did not improve from 0.00336\n",
      "Epoch 23/50\n",
      "76/76 [==============================] - 1s 10ms/step - loss: 2.5661e-04 - accuracy: 1.0000 - precision: 1.0000 - recall: 1.0000 - val_loss: 0.0038 - val_accuracy: 0.9655 - val_precision: 1.0000 - val_recall: 0.9886\n",
      "\n",
      "Epoch 00023: val_loss did not improve from 0.00336\n",
      "Epoch 24/50\n",
      "76/76 [==============================] - 1s 10ms/step - loss: 2.3226e-04 - accuracy: 1.0000 - precision: 1.0000 - recall: 1.0000 - val_loss: 0.5344 - val_accuracy: 0.9626 - val_precision: 0.9545 - val_recall: 0.9470\n",
      "\n",
      "Epoch 00024: val_loss did not improve from 0.00336\n",
      "Epoch 25/50\n",
      "76/76 [==============================] - 1s 11ms/step - loss: 2.1450e-04 - accuracy: 1.0000 - precision: 0.9868 - recall: 0.9868 - val_loss: 0.2465 - val_accuracy: 0.9640 - val_precision: 0.9545 - val_recall: 0.9495\n",
      "\n",
      "Epoch 00025: val_loss did not improve from 0.00336\n",
      "Epoch 26/50\n",
      "76/76 [==============================] - 1s 10ms/step - loss: 1.9288e-04 - accuracy: 1.0000 - precision: 0.9868 - recall: 0.9868 - val_loss: 0.0547 - val_accuracy: 0.9640 - val_precision: 1.0000 - val_recall: 0.9935\n",
      "\n",
      "Epoch 00026: val_loss did not improve from 0.00336\n",
      "Epoch 27/50\n",
      "76/76 [==============================] - 1s 10ms/step - loss: 1.7784e-04 - accuracy: 1.0000 - precision: 0.9868 - recall: 0.9868 - val_loss: 0.5088 - val_accuracy: 0.9640 - val_precision: 1.0000 - val_recall: 0.9773\n",
      "\n",
      "Epoch 00027: val_loss did not improve from 0.00336\n",
      "Epoch 28/50\n",
      "76/76 [==============================] - 1s 10ms/step - loss: 1.6704e-04 - accuracy: 1.0000 - precision: 0.9737 - recall: 0.9737 - val_loss: 7.3483e-04 - val_accuracy: 0.9640 - val_precision: 1.0000 - val_recall: 0.9848\n"
     ]
    },
    {
     "name": "stdout",
     "output_type": "stream",
     "text": [
      "\n",
      "Epoch 00028: val_loss improved from 0.00336 to 0.00073, saving model to /Users/igor/Python/CNN-Architecture-Comparison/models/lenet5/mnist/best.h5\n",
      "Epoch 29/50\n",
      "76/76 [==============================] - 1s 10ms/step - loss: 1.5362e-04 - accuracy: 1.0000 - precision: 0.9868 - recall: 0.9868 - val_loss: 5.2510e-04 - val_accuracy: 0.9612 - val_precision: 1.0000 - val_recall: 0.9935\n",
      "\n",
      "Epoch 00029: val_loss improved from 0.00073 to 0.00053, saving model to /Users/igor/Python/CNN-Architecture-Comparison/models/lenet5/mnist/best.h5\n",
      "Epoch 30/50\n",
      "76/76 [==============================] - 1s 10ms/step - loss: 1.4242e-04 - accuracy: 1.0000 - precision: 0.9605 - recall: 0.9605 - val_loss: 0.0369 - val_accuracy: 0.9640 - val_precision: 1.0000 - val_recall: 0.9886\n",
      "\n",
      "Epoch 00030: val_loss did not improve from 0.00053\n",
      "Epoch 31/50\n",
      "76/76 [==============================] - 1s 10ms/step - loss: 1.3162e-04 - accuracy: 1.0000 - precision: 0.9868 - recall: 0.9868 - val_loss: 0.6637 - val_accuracy: 0.9640 - val_precision: 1.0000 - val_recall: 0.9886\n",
      "\n",
      "Epoch 00031: val_loss did not improve from 0.00053\n",
      "Epoch 32/50\n",
      "76/76 [==============================] - 1s 10ms/step - loss: 1.2306e-04 - accuracy: 1.0000 - precision: 0.9737 - recall: 0.9737 - val_loss: 0.2523 - val_accuracy: 0.9626 - val_precision: 0.9545 - val_recall: 0.9394\n",
      "\n",
      "Epoch 00032: val_loss did not improve from 0.00053\n",
      "Epoch 33/50\n",
      "76/76 [==============================] - 1s 10ms/step - loss: 1.1473e-04 - accuracy: 1.0000 - precision: 0.9868 - recall: 0.9868 - val_loss: 0.0018 - val_accuracy: 0.9640 - val_precision: 1.0000 - val_recall: 0.9924\n",
      "\n",
      "Epoch 00033: val_loss did not improve from 0.00053\n",
      "Epoch 34/50\n",
      "76/76 [==============================] - 1s 11ms/step - loss: 1.0737e-04 - accuracy: 1.0000 - precision: 0.9868 - recall: 0.9868 - val_loss: 5.9010e-04 - val_accuracy: 0.9626 - val_precision: 0.9545 - val_recall: 0.9394\n",
      "\n",
      "Epoch 00034: val_loss did not improve from 0.00053\n",
      "Epoch 35/50\n",
      "76/76 [==============================] - 1s 10ms/step - loss: 1.0023e-04 - accuracy: 1.0000 - precision: 0.9737 - recall: 0.9737 - val_loss: 0.3084 - val_accuracy: 0.9612 - val_precision: 1.0000 - val_recall: 0.9909\n",
      "\n",
      "Epoch 00035: val_loss did not improve from 0.00053\n",
      "Epoch 36/50\n",
      "76/76 [==============================] - 1s 10ms/step - loss: 9.4487e-05 - accuracy: 1.0000 - precision: 0.9605 - recall: 0.9605 - val_loss: 0.0043 - val_accuracy: 0.9626 - val_precision: 1.0000 - val_recall: 0.9909\n",
      "\n",
      "Epoch 00036: val_loss did not improve from 0.00053\n",
      "Epoch 37/50\n",
      "76/76 [==============================] - 1s 10ms/step - loss: 8.7834e-05 - accuracy: 1.0000 - precision: 1.0000 - recall: 1.0000 - val_loss: 5.5030e-05 - val_accuracy: 0.9612 - val_precision: 0.9091 - val_recall: 0.8864\n",
      "\n",
      "Epoch 00037: val_loss improved from 0.00053 to 0.00006, saving model to /Users/igor/Python/CNN-Architecture-Comparison/models/lenet5/mnist/best.h5\n",
      "Epoch 38/50\n",
      "76/76 [==============================] - 1s 11ms/step - loss: 8.1407e-05 - accuracy: 1.0000 - precision: 0.9868 - recall: 0.9868 - val_loss: 0.0964 - val_accuracy: 0.9612 - val_precision: 0.9545 - val_recall: 0.9394\n",
      "\n",
      "Epoch 00038: val_loss did not improve from 0.00006\n",
      "Epoch 39/50\n",
      "76/76 [==============================] - 1s 11ms/step - loss: 7.6332e-05 - accuracy: 1.0000 - precision: 0.9868 - recall: 0.9868 - val_loss: 0.0024 - val_accuracy: 0.9626 - val_precision: 1.0000 - val_recall: 0.9848\n",
      "\n",
      "Epoch 00039: val_loss did not improve from 0.00006\n",
      "Epoch 40/50\n",
      "76/76 [==============================] - 1s 11ms/step - loss: 7.2784e-05 - accuracy: 1.0000 - precision: 0.9737 - recall: 0.9737 - val_loss: 0.0884 - val_accuracy: 0.9640 - val_precision: 0.9545 - val_recall: 0.9432\n",
      "\n",
      "Epoch 00040: val_loss did not improve from 0.00006\n",
      "Epoch 41/50\n",
      "76/76 [==============================] - 1s 10ms/step - loss: 6.7877e-05 - accuracy: 1.0000 - precision: 0.9474 - recall: 0.9474 - val_loss: 0.2865 - val_accuracy: 0.9612 - val_precision: 1.0000 - val_recall: 0.9909\n",
      "\n",
      "Epoch 00041: val_loss did not improve from 0.00006\n",
      "Epoch 42/50\n",
      "76/76 [==============================] - 1s 10ms/step - loss: 6.3879e-05 - accuracy: 1.0000 - precision: 0.9737 - recall: 0.9737 - val_loss: 0.1454 - val_accuracy: 0.9626 - val_precision: 1.0000 - val_recall: 0.9924\n",
      "\n",
      "Epoch 00042: val_loss did not improve from 0.00006\n",
      "Epoch 43/50\n",
      "76/76 [==============================] - 1s 11ms/step - loss: 6.0269e-05 - accuracy: 1.0000 - precision: 0.9868 - recall: 0.9868 - val_loss: 0.2537 - val_accuracy: 0.9612 - val_precision: 0.9545 - val_recall: 0.9432\n",
      "\n",
      "Epoch 00043: val_loss did not improve from 0.00006\n",
      "Epoch 44/50\n",
      "76/76 [==============================] - 1s 10ms/step - loss: 5.6658e-05 - accuracy: 1.0000 - precision: 0.9868 - recall: 0.9868 - val_loss: 0.0113 - val_accuracy: 0.9612 - val_precision: 1.0000 - val_recall: 0.9924\n",
      "\n",
      "Epoch 00044: val_loss did not improve from 0.00006\n",
      "Epoch 45/50\n",
      "76/76 [==============================] - 1s 10ms/step - loss: 5.3266e-05 - accuracy: 1.0000 - precision: 0.9474 - recall: 0.9474 - val_loss: 0.5410 - val_accuracy: 0.9626 - val_precision: 1.0000 - val_recall: 0.9848\n",
      "\n",
      "Epoch 00045: val_loss did not improve from 0.00006\n",
      "Epoch 46/50\n",
      "76/76 [==============================] - 1s 10ms/step - loss: 5.0659e-05 - accuracy: 1.0000 - precision: 0.9605 - recall: 0.9605 - val_loss: 0.4302 - val_accuracy: 0.9597 - val_precision: 0.9545 - val_recall: 0.9432\n",
      "\n",
      "Epoch 00046: val_loss did not improve from 0.00006\n",
      "Epoch 47/50\n",
      "76/76 [==============================] - 1s 11ms/step - loss: 4.8129e-05 - accuracy: 1.0000 - precision: 1.0000 - recall: 1.0000 - val_loss: 0.3178 - val_accuracy: 0.9626 - val_precision: 0.9545 - val_recall: 0.9432\n",
      "\n",
      "Epoch 00047: val_loss did not improve from 0.00006\n",
      "Epoch 48/50\n",
      "76/76 [==============================] - 1s 10ms/step - loss: 4.4999e-05 - accuracy: 1.0000 - precision: 0.9474 - recall: 0.9474 - val_loss: 0.4310 - val_accuracy: 0.9626 - val_precision: 1.0000 - val_recall: 0.9848\n",
      "\n",
      "Epoch 00048: val_loss did not improve from 0.00006\n",
      "Epoch 49/50\n",
      "76/76 [==============================] - 1s 10ms/step - loss: 4.2823e-05 - accuracy: 1.0000 - precision: 0.9342 - recall: 0.9342 - val_loss: 0.2340 - val_accuracy: 0.9626 - val_precision: 1.0000 - val_recall: 0.9935\n",
      "\n",
      "Epoch 00049: val_loss did not improve from 0.00006\n",
      "Epoch 50/50\n",
      "76/76 [==============================] - 1s 10ms/step - loss: 4.0146e-05 - accuracy: 1.0000 - precision: 0.9868 - recall: 0.9868 - val_loss: 7.7661e-05 - val_accuracy: 0.9612 - val_precision: 1.0000 - val_recall: 0.9909\n",
      "\n",
      "Epoch 00050: val_loss did not improve from 0.00006\n"
     ]
    }
   ],
   "source": [
    "fit_result = model.fit_generator(\n",
    "    generator=dataset_generators.train,\n",
    "    epochs=fit_epochs,\n",
    "    validation_data=dataset_generators.test,\n",
    "    callbacks = model_callbacks\n",
    ")"
   ]
  },
  {
   "cell_type": "code",
   "execution_count": 9,
   "metadata": {
    "pycharm": {
     "name": "#%%\n"
    }
   },
   "outputs": [],
   "source": [
    "best_model = keras.models.load_model(best_model_path,\n",
    "    custom_objects= {\n",
    "        'precision': metrics.precision,\n",
    "        'recall': metrics.recall\n",
    "    }\n",
    ")\n",
    "validation_result = best_model.evaluate_generator(\n",
    "    generator=dataset_generators.validate\n",
    ")"
   ]
  },
  {
   "cell_type": "markdown",
   "metadata": {},
   "source": [
    "## Results"
   ]
  },
  {
   "cell_type": "markdown",
   "metadata": {},
   "source": [
    "### Epoch CSV"
   ]
  },
  {
   "cell_type": "code",
   "execution_count": 10,
   "metadata": {
    "pycharm": {
     "name": "#%%\n"
    }
   },
   "outputs": [
    {
     "name": "stdout",
     "output_type": "stream",
     "text": [
      "epoch, time, val_loss, val_accuracy, val_precision, val_recall\n",
      "0,0,0,0,0,0\n",
      "1,0.9289579391479492,0.3801450729370117,0.8776978254318237,0.9886363744735718,0.9583333730697632\n",
      "2,0.8051037788391113,0.13152512907981873,0.9151079058647156,0.9166666269302368,0.9242424368858337\n",
      "3,0.7669229507446289,0.13702434301376343,0.9122301936149597,0.9061327576637268,0.9303030371665955\n",
      "4,0.796252965927124,0.05501749366521835,0.935251772403717,0.8863636255264282,0.924242377281189\n",
      "5,0.786081075668335,0.1864074170589447,0.9410071969032288,0.9628787636756897,0.9757575988769531\n",
      "6,0.7813239097595215,0.21887293457984924,0.9553956985473633,1.0,0.972727358341217\n",
      "7,0.7805981636047363,0.18376226723194122,0.9381294846534729,0.9680736064910889,0.9935064911842346\n",
      "8,0.7854580879211426,0.06466849148273468,0.936690628528595,0.9204545617103577,0.9343433976173401\n",
      "9,0.7760889530181885,0.5888987183570862,0.9496402740478516,0.8681817650794983,0.8950216174125671\n",
      "10,0.8324379920959473,0.38724324107170105,0.9438849091529846,0.9545454382896423,0.9469696283340454\n",
      "11,0.7822160720825195,0.23508663475513458,0.9597122073173523,0.9886363744735718,0.9909090399742126\n",
      "12,0.8884880542755127,0.1272863894701004,0.9553956985473633,0.9621211886405945,0.9924241900444031\n",
      "13,0.8467762470245361,0.06928843259811401,0.9625899195671082,0.9621211886405945,0.9909090399742126\n",
      "14,0.7740159034729004,0.08611645549535751,0.9640287756919861,0.9545454382896423,0.9318181872367859\n",
      "15,0.8040571212768555,0.04804401472210884,0.9640287756919861,0.9545454382896423,0.9318181872367859\n",
      "16,0.8144721984863281,0.0033591610845178366,0.9625899195671082,0.9545454382896423,0.9454545378684998\n",
      "17,0.8046281337738037,0.3160059452056885,0.9625899195671082,0.9545454382896423,0.9431818127632141\n",
      "18,0.8181629180908203,0.024535726755857468,0.965467631816864,0.9545454382896423,0.9393939971923828\n",
      "19,0.8347377777099609,0.07883939892053604,0.9640287756919861,1.0,0.9924241900444031\n",
      "20,0.7860920429229736,0.004716545809060335,0.9640287756919861,0.9545454382896423,0.9431818127632141\n",
      "21,0.8010849952697754,0.0912403017282486,0.9625899195671082,1.0,0.9909090399742126\n",
      "22,0.7959592342376709,0.020777756348252296,0.9625899195671082,0.9090909361839294,0.9025974273681641\n",
      "23,0.7699320316314697,0.003818902652710676,0.965467631816864,1.0,0.9886363744735718\n",
      "24,0.7881579399108887,0.5343641638755798,0.9625899195671082,0.9545454382896423,0.946969747543335\n",
      "25,0.8492650985717773,0.2465212047100067,0.9640287756919861,0.9545454382896423,0.9494949579238892\n",
      "26,0.7784340381622314,0.05468745902180672,0.9640287756919861,1.0,0.9935064911842346\n",
      "27,0.7726092338562012,0.5087561011314392,0.9640287756919861,1.0,0.9772727489471436\n",
      "28,0.8088541030883789,0.0007348342332988977,0.9640287756919861,1.0,0.9848484396934509\n",
      "29,0.8353960514068604,0.0005250964895822108,0.9611510634422302,1.0,0.9935064911842346\n",
      "30,0.7714650630950928,0.036902669817209244,0.9640287756919861,1.0,0.9886363744735718\n",
      "31,0.7737381458282471,0.6637068390846252,0.9640287756919861,1.0,0.9886363744735718\n",
      "32,0.764840841293335,0.25225138664245605,0.9625899195671082,0.9545454382896423,0.939393937587738\n",
      "33,0.7718319892883301,0.0017974965739995241,0.9640287756919861,1.0,0.9924242496490479\n",
      "34,0.8224451541900635,0.0005901028052903712,0.9625899195671082,0.9545454382896423,0.939393937587738\n",
      "35,0.7681169509887695,0.30836221575737,0.9611510634422302,1.0,0.9909090399742126\n",
      "36,0.7702391147613525,0.004328249022364616,0.9625899195671082,1.0,0.9909090399742126\n",
      "37,0.79184889793396,5.503019201569259e-05,0.9611510634422302,0.9090909361839294,0.8863636255264282\n",
      "38,0.826200008392334,0.09641291946172714,0.9611510634422302,0.9545454382896423,0.939393937587738\n",
      "39,0.8592700958251953,0.002380366437137127,0.9625899195671082,1.0,0.9848485589027405\n",
      "40,0.8404228687286377,0.08835960179567337,0.9640287756919861,0.9545454382896423,0.9431818127632141\n",
      "41,0.8039569854736328,0.2865045368671417,0.9611510634422302,1.0,0.9909090399742126\n",
      "42,0.8238799571990967,0.1453685760498047,0.9625899195671082,1.0,0.9924242496490479\n",
      "43,0.8654060363769531,0.25366684794425964,0.9611510634422302,0.9545454382896423,0.9431818127632141\n",
      "44,0.8006701469421387,0.011295576579868793,0.9611510634422302,1.0,0.9924242496490479\n",
      "45,0.814967155456543,0.5410245656967163,0.9625899195671082,1.0,0.9848484396934509\n",
      "46,0.8093688488006592,0.4301729202270508,0.9597122073173523,0.9545454382896423,0.9431818127632141\n",
      "47,0.8555130958557129,0.31783753633499146,0.9625899195671082,0.9545454382896423,0.9431818127632141\n",
      "48,0.7915949821472168,0.43095260858535767,0.9625899195671082,1.0,0.9848484396934509\n",
      "49,0.8070399761199951,0.23403814435005188,0.9625899195671082,1.0,0.9935064911842346\n",
      "50,0.804387092590332,7.766103954054415e-05,0.9611510634422302,1.0,0.9909090399742126\n",
      "\n"
     ]
    }
   ],
   "source": [
    "csv_file_path = f'{paths.results_location}{network_name}/{dataset}-history.csv'\n",
    "export_learning_history_to_csv(csv_file_path, fit_result, time_callback.times)"
   ]
  },
  {
   "cell_type": "markdown",
   "metadata": {},
   "source": [
    "### Validation result"
   ]
  },
  {
   "cell_type": "code",
   "execution_count": 11,
   "metadata": {
    "pycharm": {
     "name": "#%%\n"
    }
   },
   "outputs": [
    {
     "name": "stdout",
     "output_type": "stream",
     "text": [
      "avg_epoch_time, time, val_loss, val_accuracy, val_precision, val_recall\n",
      "0.806595368385315,40.32976841926575,0.026978904381394386,0.9512894153594971,0.9363636374473572,0.9818181991577148\n"
     ]
    }
   ],
   "source": [
    "csv_file_path = f'{paths.results_location}{network_name}/{dataset}-result.csv'\n",
    "export_learning_validation_result_to_csv(csv_file_path, validation_result, time_callback.times)"
   ]
  }
 ],
 "metadata": {
  "kernelspec": {
   "display_name": "Python 3",
   "language": "python",
   "name": "python3"
  },
  "language_info": {
   "codemirror_mode": {
    "name": "ipython",
    "version": 3
   },
   "file_extension": ".py",
   "mimetype": "text/x-python",
   "name": "python",
   "nbconvert_exporter": "python",
   "pygments_lexer": "ipython3",
   "version": "3.7.7"
  }
 },
 "nbformat": 4,
 "nbformat_minor": 1
}