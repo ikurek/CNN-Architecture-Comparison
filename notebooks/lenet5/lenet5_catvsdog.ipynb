{
 "cells": [
  {
   "cell_type": "code",
   "execution_count": 1,
   "metadata": {
    "collapsed": false,
    "jupyter": {
     "outputs_hidden": false
    },
    "pycharm": {
     "name": "#%%\n"
    }
   },
   "outputs": [],
   "source": [
    "import sys\n",
    "sys.path.extend(['..', '../', '../..', '../../' ])\n",
    "%load_ext autoreload\n",
    "%autoreload 2"
   ]
  },
  {
   "cell_type": "markdown",
   "metadata": {
    "pycharm": {
     "name": "#%% md\n"
    }
   },
   "source": [
    "# LeNet5 - Cat-Vs-Dog"
   ]
  },
  {
   "cell_type": "code",
   "execution_count": 2,
   "metadata": {
    "pycharm": {
     "name": "#%%\n"
    }
   },
   "outputs": [
    {
     "name": "stderr",
     "output_type": "stream",
     "text": [
      "Using TensorFlow backend.\n"
     ]
    }
   ],
   "source": [
    "import paths\n",
    "import keras\n",
    "from src.parameters import metrics\n",
    "from src.datasets.dataset_generators import DatasetGenerators\n",
    "from src.keras_callback.time_history import TimeHistory\n",
    "from src.export.csv_export import export_learning_history_to_csv, export_learning_validation_result_to_csv\n",
    "from src.export.model_export import clear_exported_models\n",
    "from src.keras_model.lenet5_network import LeNet5Network"
   ]
  },
  {
   "cell_type": "code",
   "execution_count": 3,
   "metadata": {
    "pycharm": {
     "name": "#%%\n"
    }
   },
   "outputs": [],
   "source": [
    "network_name = 'lenet5'\n",
    "fit_epochs = 50\n",
    "dataset = 'cat-vs-dog'\n",
    "dataset_percentage = '10'"
   ]
  },
  {
   "cell_type": "code",
   "execution_count": 4,
   "metadata": {
    "pycharm": {
     "name": "#%%\n"
    }
   },
   "outputs": [],
   "source": [
    "network = LeNet5Network()"
   ]
  },
  {
   "cell_type": "code",
   "execution_count": 5,
   "metadata": {
    "pycharm": {
     "name": "#%%\n"
    }
   },
   "outputs": [
    {
     "name": "stdout",
     "output_type": "stream",
     "text": [
      "Loading train set for cat-vs-dog_10...\n",
      "Found 1750 images belonging to 2 classes.\n",
      "Loading test set for cat-vs-dog_10...\n",
      "Found 500 images belonging to 2 classes.\n",
      "Loading validation set for cat-vs-dog_10...\n",
      "Found 250 images belonging to 2 classes.\n"
     ]
    }
   ],
   "source": [
    "dataset_generators = DatasetGenerators(\n",
    "    name=f'{dataset}_{dataset_percentage}',\n",
    "    dataset_dir=paths.data_location,\n",
    "    image_size=network.image_size,\n",
    "    batch_size=network.batch_size,\n",
    "    grayscale=network.grayscale\n",
    ")"
   ]
  },
  {
   "cell_type": "code",
   "execution_count": 6,
   "metadata": {
    "pycharm": {
     "name": "#%%\n"
    }
   },
   "outputs": [],
   "source": [
    "model = network.get_compiled_model(\n",
    "    classes=dataset_generators.test.num_classes\n",
    ")"
   ]
  },
  {
   "cell_type": "code",
   "execution_count": 7,
   "metadata": {
    "pycharm": {
     "name": "#%%\n"
    }
   },
   "outputs": [],
   "source": [
    "checkpoint_path = f'{paths.models_location}{network_name}/{dataset}/'\n",
    "best_model_path = f'{checkpoint_path}best.h5'\n",
    "clear_exported_models(checkpoint_path)\n",
    "\n",
    "checkpoint_callback = keras.callbacks.ModelCheckpoint(\n",
    "    filepath=f'{checkpoint_path}{{epoch:02d}}-{{val_accuracy}}.h5',\n",
    "    save_best_only=False,\n",
    "    save_weights_only=False\n",
    ")\n",
    "\n",
    "best_callback = keras.callbacks.ModelCheckpoint(\n",
    "    filepath=best_model_path,\n",
    "    save_best_only=True,\n",
    "    verbose=1,\n",
    "    save_weights_only=False\n",
    ")\n",
    "\n",
    "time_callback = TimeHistory()\n",
    "\n",
    "model_callbacks = [checkpoint_callback, best_callback, time_callback]"
   ]
  },
  {
   "cell_type": "code",
   "execution_count": 8,
   "metadata": {
    "pycharm": {
     "name": "#%%\n"
    }
   },
   "outputs": [
    {
     "name": "stdout",
     "output_type": "stream",
     "text": [
      "Epoch 1/50\n",
      "55/55 [==============================] - 5s 98ms/step - loss: 2.9391 - accuracy: 0.5366 - precision: 0.4966 - recall: 0.5371 - val_loss: 0.8209 - val_accuracy: 0.5380 - val_precision: 0.5445 - val_recall: 0.4961\n",
      "\n",
      "Epoch 00001: val_loss improved from inf to 0.82088, saving model to /Users/igor/Python/CNN-Architecture-Comparison/models/lenet5/cat-vs-dog/best.h5\n",
      "Epoch 2/50\n",
      "55/55 [==============================] - 6s 108ms/step - loss: 0.6976 - accuracy: 0.6086 - precision: 0.6132 - recall: 0.6099 - val_loss: 0.9688 - val_accuracy: 0.5700 - val_precision: 0.5757 - val_recall: 0.5935\n",
      "\n",
      "Epoch 00002: val_loss did not improve from 0.82088\n",
      "Epoch 3/50\n",
      "55/55 [==============================] - 7s 119ms/step - loss: 0.5911 - accuracy: 0.6880 - precision: 0.6864 - recall: 0.7055 - val_loss: 0.7835 - val_accuracy: 0.5920 - val_precision: 0.5846 - val_recall: 0.6286\n",
      "\n",
      "Epoch 00003: val_loss improved from 0.82088 to 0.78355, saving model to /Users/igor/Python/CNN-Architecture-Comparison/models/lenet5/cat-vs-dog/best.h5\n",
      "Epoch 4/50\n",
      "55/55 [==============================] - 7s 134ms/step - loss: 0.5075 - accuracy: 0.7469 - precision: 0.7511 - recall: 0.7613 - val_loss: 0.6172 - val_accuracy: 0.5740 - val_precision: 0.5836 - val_recall: 0.5173\n",
      "\n",
      "Epoch 00004: val_loss improved from 0.78355 to 0.61720, saving model to /Users/igor/Python/CNN-Architecture-Comparison/models/lenet5/cat-vs-dog/best.h5\n",
      "Epoch 5/50\n",
      "55/55 [==============================] - 8s 140ms/step - loss: 0.4424 - accuracy: 0.7811 - precision: 0.7769 - recall: 0.8051 - val_loss: 0.7130 - val_accuracy: 0.6100 - val_precision: 0.5767 - val_recall: 0.8350\n",
      "\n",
      "Epoch 00005: val_loss did not improve from 0.61720\n",
      "Epoch 6/50\n",
      "55/55 [==============================] - 7s 132ms/step - loss: 0.3605 - accuracy: 0.8469 - precision: 0.8422 - recall: 0.8643 - val_loss: 0.7503 - val_accuracy: 0.6220 - val_precision: 0.6454 - val_recall: 0.6088\n",
      "\n",
      "Epoch 00006: val_loss did not improve from 0.61720\n",
      "Epoch 7/50\n",
      "55/55 [==============================] - 8s 146ms/step - loss: 0.2808 - accuracy: 0.8857 - precision: 0.8786 - recall: 0.8973 - val_loss: 0.8311 - val_accuracy: 0.5960 - val_precision: 0.6546 - val_recall: 0.4305\n",
      "\n",
      "Epoch 00007: val_loss did not improve from 0.61720\n",
      "Epoch 8/50\n",
      "55/55 [==============================] - 7s 135ms/step - loss: 0.2240 - accuracy: 0.9206 - precision: 0.9201 - recall: 0.9207 - val_loss: 0.8738 - val_accuracy: 0.6480 - val_precision: 0.6242 - val_recall: 0.7000\n",
      "\n",
      "Epoch 00008: val_loss did not improve from 0.61720\n",
      "Epoch 9/50\n",
      "55/55 [==============================] - 6s 104ms/step - loss: 0.1593 - accuracy: 0.9486 - precision: 0.9448 - recall: 0.9546 - val_loss: 0.9307 - val_accuracy: 0.6440 - val_precision: 0.6080 - val_recall: 0.7483\n",
      "\n",
      "Epoch 00009: val_loss did not improve from 0.61720\n",
      "Epoch 10/50\n",
      "55/55 [==============================] - 6s 111ms/step - loss: 0.1349 - accuracy: 0.9566 - precision: 0.9565 - recall: 0.9621 - val_loss: 1.2296 - val_accuracy: 0.6200 - val_precision: 0.5893 - val_recall: 0.6979\n",
      "\n",
      "Epoch 00010: val_loss did not improve from 0.61720\n",
      "Epoch 11/50\n",
      "55/55 [==============================] - 6s 111ms/step - loss: 0.0882 - accuracy: 0.9777 - precision: 0.9788 - recall: 0.9768 - val_loss: 1.2295 - val_accuracy: 0.6460 - val_precision: 0.6467 - val_recall: 0.6439\n",
      "\n",
      "Epoch 00011: val_loss did not improve from 0.61720\n",
      "Epoch 12/50\n",
      "55/55 [==============================] - 5s 100ms/step - loss: 0.0560 - accuracy: 0.9880 - precision: 0.9888 - recall: 0.9864 - val_loss: 1.3827 - val_accuracy: 0.6140 - val_precision: 0.6110 - val_recall: 0.6697\n",
      "\n",
      "Epoch 00012: val_loss did not improve from 0.61720\n",
      "Epoch 13/50\n",
      "55/55 [==============================] - 5s 83ms/step - loss: 0.0377 - accuracy: 0.9966 - precision: 0.9969 - recall: 0.9959 - val_loss: 1.2052 - val_accuracy: 0.6220 - val_precision: 0.5950 - val_recall: 0.7483\n",
      "\n",
      "Epoch 00013: val_loss did not improve from 0.61720\n",
      "Epoch 14/50\n",
      "55/55 [==============================] - 4s 81ms/step - loss: 0.0370 - accuracy: 0.9920 - precision: 0.9918 - recall: 0.9920 - val_loss: 1.8398 - val_accuracy: 0.6320 - val_precision: 0.6399 - val_recall: 0.6594\n",
      "\n",
      "Epoch 00014: val_loss did not improve from 0.61720\n",
      "Epoch 15/50\n",
      "55/55 [==============================] - 5s 82ms/step - loss: 0.0537 - accuracy: 0.9886 - precision: 0.9895 - recall: 0.9883 - val_loss: 0.9758 - val_accuracy: 0.5960 - val_precision: 0.6128 - val_recall: 0.5242\n",
      "\n",
      "Epoch 00015: val_loss did not improve from 0.61720\n",
      "Epoch 16/50\n",
      "55/55 [==============================] - 4s 80ms/step - loss: 0.0975 - accuracy: 0.9657 - precision: 0.9686 - recall: 0.9619 - val_loss: 1.7948 - val_accuracy: 0.6080 - val_precision: 0.5855 - val_recall: 0.6564\n",
      "\n",
      "Epoch 00016: val_loss did not improve from 0.61720\n",
      "Epoch 17/50\n",
      "55/55 [==============================] - 4s 70ms/step - loss: 0.0842 - accuracy: 0.9720 - precision: 0.9713 - recall: 0.9715 - val_loss: 2.2045 - val_accuracy: 0.5920 - val_precision: 0.5751 - val_recall: 0.7196\n",
      "\n",
      "Epoch 00017: val_loss did not improve from 0.61720\n",
      "Epoch 18/50\n",
      "55/55 [==============================] - 4s 70ms/step - loss: 0.0803 - accuracy: 0.9714 - precision: 0.9699 - recall: 0.9760 - val_loss: 1.7948 - val_accuracy: 0.6060 - val_precision: 0.6016 - val_recall: 0.6332\n",
      "\n",
      "Epoch 00018: val_loss did not improve from 0.61720\n",
      "Epoch 19/50\n",
      "55/55 [==============================] - 4s 71ms/step - loss: 0.0521 - accuracy: 0.9840 - precision: 0.9858 - recall: 0.9834 - val_loss: 1.2859 - val_accuracy: 0.6400 - val_precision: 0.6143 - val_recall: 0.7217\n",
      "\n",
      "Epoch 00019: val_loss did not improve from 0.61720\n",
      "Epoch 20/50\n",
      "55/55 [==============================] - 4s 70ms/step - loss: 0.0353 - accuracy: 0.9920 - precision: 0.9923 - recall: 0.9917 - val_loss: 1.7731 - val_accuracy: 0.6100 - val_precision: 0.6234 - val_recall: 0.5409\n",
      "\n",
      "Epoch 00020: val_loss did not improve from 0.61720\n",
      "Epoch 21/50\n",
      "55/55 [==============================] - 4s 72ms/step - loss: 0.0100 - accuracy: 0.9989 - precision: 0.9980 - recall: 1.0000 - val_loss: 2.4465 - val_accuracy: 0.6060 - val_precision: 0.6064 - val_recall: 0.5900\n",
      "\n",
      "Epoch 00021: val_loss did not improve from 0.61720\n",
      "Epoch 22/50\n",
      "55/55 [==============================] - 4s 74ms/step - loss: 0.0054 - accuracy: 1.0000 - precision: 1.0000 - recall: 1.0000 - val_loss: 0.6192 - val_accuracy: 0.6240 - val_precision: 0.6240 - val_recall: 0.6182\n",
      "\n",
      "Epoch 00022: val_loss did not improve from 0.61720\n",
      "Epoch 23/50\n",
      "55/55 [==============================] - 4s 74ms/step - loss: 0.0029 - accuracy: 1.0000 - precision: 1.0000 - recall: 1.0000 - val_loss: 1.8509 - val_accuracy: 0.6180 - val_precision: 0.6218 - val_recall: 0.6238\n",
      "\n",
      "Epoch 00023: val_loss did not improve from 0.61720\n",
      "Epoch 24/50\n",
      "55/55 [==============================] - 4s 71ms/step - loss: 0.0022 - accuracy: 1.0000 - precision: 1.0000 - recall: 1.0000 - val_loss: 2.8797 - val_accuracy: 0.6220 - val_precision: 0.6170 - val_recall: 0.6492\n",
      "\n",
      "Epoch 00024: val_loss did not improve from 0.61720\n",
      "Epoch 25/50\n",
      "55/55 [==============================] - 4s 71ms/step - loss: 0.0017 - accuracy: 1.0000 - precision: 1.0000 - recall: 1.0000 - val_loss: 2.9470 - val_accuracy: 0.6260 - val_precision: 0.6114 - val_recall: 0.6201\n",
      "\n",
      "Epoch 00025: val_loss did not improve from 0.61720\n",
      "Epoch 26/50\n",
      "55/55 [==============================] - 4s 72ms/step - loss: 0.0014 - accuracy: 1.0000 - precision: 1.0000 - recall: 1.0000 - val_loss: 1.2441 - val_accuracy: 0.6300 - val_precision: 0.6276 - val_recall: 0.6194\n",
      "\n",
      "Epoch 00026: val_loss did not improve from 0.61720\n",
      "Epoch 27/50\n",
      "55/55 [==============================] - 4s 72ms/step - loss: 0.0012 - accuracy: 1.0000 - precision: 1.0000 - recall: 1.0000 - val_loss: 1.2313 - val_accuracy: 0.6280 - val_precision: 0.6306 - val_recall: 0.6305\n",
      "\n",
      "Epoch 00027: val_loss did not improve from 0.61720\n",
      "Epoch 28/50\n",
      "55/55 [==============================] - 4s 70ms/step - loss: 0.0010 - accuracy: 1.0000 - precision: 1.0000 - recall: 1.0000 - val_loss: 2.9404 - val_accuracy: 0.6300 - val_precision: 0.6262 - val_recall: 0.6452\n",
      "\n",
      "Epoch 00028: val_loss did not improve from 0.61720\n",
      "Epoch 29/50\n",
      "55/55 [==============================] - 4s 74ms/step - loss: 8.6802e-04 - accuracy: 1.0000 - precision: 1.0000 - recall: 1.0000 - val_loss: 2.5775 - val_accuracy: 0.6280 - val_precision: 0.6248 - val_recall: 0.6226\n",
      "\n",
      "Epoch 00029: val_loss did not improve from 0.61720\n",
      "Epoch 30/50\n",
      "55/55 [==============================] - 4s 73ms/step - loss: 7.6811e-04 - accuracy: 1.0000 - precision: 1.0000 - recall: 1.0000 - val_loss: 2.4914 - val_accuracy: 0.6320 - val_precision: 0.6227 - val_recall: 0.6305\n",
      "\n",
      "Epoch 00030: val_loss did not improve from 0.61720\n",
      "Epoch 31/50\n",
      "55/55 [==============================] - 4s 74ms/step - loss: 6.7535e-04 - accuracy: 1.0000 - precision: 1.0000 - recall: 1.0000 - val_loss: 1.8112 - val_accuracy: 0.6380 - val_precision: 0.6462 - val_recall: 0.6533\n",
      "\n",
      "Epoch 00031: val_loss did not improve from 0.61720\n",
      "Epoch 32/50\n",
      "55/55 [==============================] - 4s 70ms/step - loss: 5.9902e-04 - accuracy: 1.0000 - precision: 1.0000 - recall: 1.0000 - val_loss: 1.3594 - val_accuracy: 0.6340 - val_precision: 0.6348 - val_recall: 0.6568\n",
      "\n",
      "Epoch 00032: val_loss did not improve from 0.61720\n",
      "Epoch 33/50\n",
      "55/55 [==============================] - 4s 75ms/step - loss: 5.4198e-04 - accuracy: 1.0000 - precision: 1.0000 - recall: 1.0000 - val_loss: 2.2636 - val_accuracy: 0.6400 - val_precision: 0.6377 - val_recall: 0.6444\n",
      "\n",
      "Epoch 00033: val_loss did not improve from 0.61720\n",
      "Epoch 34/50\n",
      "55/55 [==============================] - 4s 72ms/step - loss: 4.9028e-04 - accuracy: 1.0000 - precision: 1.0000 - recall: 1.0000 - val_loss: 3.6551 - val_accuracy: 0.6380 - val_precision: 0.6338 - val_recall: 0.6450\n",
      "\n",
      "Epoch 00034: val_loss did not improve from 0.61720\n",
      "Epoch 35/50\n",
      "55/55 [==============================] - 4s 74ms/step - loss: 4.5091e-04 - accuracy: 1.0000 - precision: 1.0000 - recall: 1.0000 - val_loss: 3.4352 - val_accuracy: 0.6360 - val_precision: 0.6456 - val_recall: 0.6513\n",
      "\n",
      "Epoch 00035: val_loss did not improve from 0.61720\n",
      "Epoch 36/50\n",
      "55/55 [==============================] - 4s 75ms/step - loss: 4.0379e-04 - accuracy: 1.0000 - precision: 1.0000 - recall: 1.0000 - val_loss: 1.9865 - val_accuracy: 0.6360 - val_precision: 0.6479 - val_recall: 0.6540\n",
      "\n",
      "Epoch 00036: val_loss did not improve from 0.61720\n",
      "Epoch 37/50\n",
      "55/55 [==============================] - 4s 68ms/step - loss: 3.7184e-04 - accuracy: 1.0000 - precision: 1.0000 - recall: 1.0000 - val_loss: 0.7063 - val_accuracy: 0.6340 - val_precision: 0.6463 - val_recall: 0.6495\n",
      "\n",
      "Epoch 00037: val_loss did not improve from 0.61720\n",
      "Epoch 38/50\n",
      "55/55 [==============================] - 4s 74ms/step - loss: 3.4646e-04 - accuracy: 1.0000 - precision: 1.0000 - recall: 1.0000 - val_loss: 1.0743 - val_accuracy: 0.6300 - val_precision: 0.6366 - val_recall: 0.6298\n",
      "\n",
      "Epoch 00038: val_loss did not improve from 0.61720\n",
      "Epoch 39/50\n",
      "55/55 [==============================] - 3s 63ms/step - loss: 3.2586e-04 - accuracy: 1.0000 - precision: 1.0000 - recall: 1.0000 - val_loss: 0.8934 - val_accuracy: 0.6320 - val_precision: 0.6365 - val_recall: 0.6464\n",
      "\n",
      "Epoch 00039: val_loss did not improve from 0.61720\n",
      "Epoch 40/50\n",
      "55/55 [==============================] - 3s 63ms/step - loss: 2.8848e-04 - accuracy: 1.0000 - precision: 1.0000 - recall: 1.0000 - val_loss: 3.1563 - val_accuracy: 0.6320 - val_precision: 0.6217 - val_recall: 0.6330\n",
      "\n",
      "Epoch 00040: val_loss did not improve from 0.61720\n",
      "Epoch 41/50\n",
      "55/55 [==============================] - 4s 64ms/step - loss: 2.6732e-04 - accuracy: 1.0000 - precision: 1.0000 - recall: 1.0000 - val_loss: 2.6069 - val_accuracy: 0.6280 - val_precision: 0.6246 - val_recall: 0.6601\n",
      "\n",
      "Epoch 00041: val_loss did not improve from 0.61720\n",
      "Epoch 42/50\n",
      "55/55 [==============================] - 4s 65ms/step - loss: 2.4862e-04 - accuracy: 1.0000 - precision: 1.0000 - recall: 1.0000 - val_loss: 6.1399 - val_accuracy: 0.6320 - val_precision: 0.6398 - val_recall: 0.6547\n",
      "\n",
      "Epoch 00042: val_loss did not improve from 0.61720\n",
      "Epoch 43/50\n",
      "55/55 [==============================] - 4s 67ms/step - loss: 2.3049e-04 - accuracy: 1.0000 - precision: 1.0000 - recall: 1.0000 - val_loss: 1.5586 - val_accuracy: 0.6280 - val_precision: 0.6296 - val_recall: 0.6328\n",
      "\n",
      "Epoch 00043: val_loss did not improve from 0.61720\n",
      "Epoch 44/50\n",
      "55/55 [==============================] - 4s 66ms/step - loss: 2.1751e-04 - accuracy: 1.0000 - precision: 1.0000 - recall: 1.0000 - val_loss: 2.6805 - val_accuracy: 0.6300 - val_precision: 0.6268 - val_recall: 0.6398\n",
      "\n",
      "Epoch 00044: val_loss did not improve from 0.61720\n",
      "Epoch 45/50\n",
      "55/55 [==============================] - 3s 63ms/step - loss: 2.0158e-04 - accuracy: 1.0000 - precision: 1.0000 - recall: 1.0000 - val_loss: 3.5305 - val_accuracy: 0.6300 - val_precision: 0.6173 - val_recall: 0.6464\n",
      "\n",
      "Epoch 00045: val_loss did not improve from 0.61720\n",
      "Epoch 46/50\n",
      "55/55 [==============================] - 4s 66ms/step - loss: 1.9125e-04 - accuracy: 1.0000 - precision: 1.0000 - recall: 1.0000 - val_loss: 2.6610 - val_accuracy: 0.6300 - val_precision: 0.6301 - val_recall: 0.6445\n",
      "\n",
      "Epoch 00046: val_loss did not improve from 0.61720\n",
      "Epoch 47/50\n",
      "55/55 [==============================] - 4s 64ms/step - loss: 1.7777e-04 - accuracy: 1.0000 - precision: 1.0000 - recall: 1.0000 - val_loss: 2.2528 - val_accuracy: 0.6280 - val_precision: 0.6208 - val_recall: 0.6252\n",
      "\n",
      "Epoch 00047: val_loss did not improve from 0.61720\n",
      "Epoch 48/50\n",
      "55/55 [==============================] - 4s 64ms/step - loss: 1.6767e-04 - accuracy: 1.0000 - precision: 1.0000 - recall: 1.0000 - val_loss: 2.7342 - val_accuracy: 0.6300 - val_precision: 0.6223 - val_recall: 0.6325\n",
      "\n",
      "Epoch 00048: val_loss did not improve from 0.61720\n",
      "Epoch 49/50\n",
      "55/55 [==============================] - 3s 64ms/step - loss: 1.5554e-04 - accuracy: 1.0000 - precision: 1.0000 - recall: 1.0000 - val_loss: 3.3386 - val_accuracy: 0.6300 - val_precision: 0.6398 - val_recall: 0.6448\n",
      "\n",
      "Epoch 00049: val_loss did not improve from 0.61720\n",
      "Epoch 50/50\n",
      "55/55 [==============================] - 4s 64ms/step - loss: 1.4909e-04 - accuracy: 1.0000 - precision: 1.0000 - recall: 1.0000 - val_loss: 3.9682 - val_accuracy: 0.6300 - val_precision: 0.6207 - val_recall: 0.6382\n",
      "\n",
      "Epoch 00050: val_loss did not improve from 0.61720\n"
     ]
    }
   ],
   "source": [
    "fit_result = model.fit_generator(\n",
    "    generator=dataset_generators.train,\n",
    "    epochs=fit_epochs,\n",
    "    validation_data=dataset_generators.test,\n",
    "    callbacks = model_callbacks\n",
    ")"
   ]
  },
  {
   "cell_type": "code",
   "execution_count": 9,
   "metadata": {
    "pycharm": {
     "name": "#%%\n"
    }
   },
   "outputs": [],
   "source": [
    "best_model = keras.models.load_model(best_model_path,\n",
    "    custom_objects= {\n",
    "        'precision': metrics.precision,\n",
    "        'recall': metrics.recall\n",
    "    }\n",
    ")\n",
    "validation_result = best_model.evaluate_generator(\n",
    "    generator=dataset_generators.validate\n",
    ")"
   ]
  },
  {
   "cell_type": "markdown",
   "metadata": {
    "pycharm": {
     "name": "#%% md\n"
    }
   },
   "source": [
    "## Results"
   ]
  },
  {
   "cell_type": "markdown",
   "metadata": {},
   "source": [
    "### Epoch CSV"
   ]
  },
  {
   "cell_type": "code",
   "execution_count": 10,
   "metadata": {
    "pycharm": {
     "name": "#%%\n"
    }
   },
   "outputs": [
    {
     "name": "stdout",
     "output_type": "stream",
     "text": [
      "epoch, time, val_loss, val_accuracy, val_precision, val_recall\n",
      "0,0,0,0,0,0\n",
      "1,5.437490224838257,0.820881724357605,0.5379999876022339,0.5444971919059753,0.496118426322937\n",
      "2,5.9510321617126465,0.968769371509552,0.5699999928474426,0.5756964683532715,0.5935468673706055\n",
      "3,6.619992971420288,0.7835481762886047,0.5920000076293945,0.5846453905105591,0.6286236643791199\n",
      "4,7.46208381652832,0.6172042489051819,0.5740000009536743,0.5835943222045898,0.5173345804214478\n",
      "5,7.748788118362427,0.7130295634269714,0.6100000143051147,0.5767063498497009,0.8349744081497192\n",
      "6,7.293951034545898,0.7503093481063843,0.621999979019165,0.6453566551208496,0.6087559461593628\n",
      "7,8.052918195724487,0.8311079144477844,0.5960000157356262,0.6546306014060974,0.43048423528671265\n",
      "8,7.448494911193848,0.8738366961479187,0.6480000019073486,0.6242109537124634,0.6999671459197998\n",
      "9,5.733583688735962,0.9307301640510559,0.6439999938011169,0.6080463528633118,0.7482956051826477\n",
      "10,6.16067910194397,1.2295809984207153,0.6200000047683716,0.5893006324768066,0.6978617906570435\n",
      "11,6.117362976074219,1.2295187711715698,0.6460000276565552,0.6466856002807617,0.6439318060874939\n",
      "12,5.513077020645142,1.38274085521698,0.6140000224113464,0.6109749674797058,0.669739842414856\n",
      "13,4.590770959854126,1.2051969766616821,0.621999979019165,0.5949745774269104,0.7483307719230652\n",
      "14,4.479519844055176,1.839811086654663,0.6320000290870667,0.6399158239364624,0.6594482660293579\n",
      "15,4.562639236450195,0.9757789373397827,0.5960000157356262,0.6128383278846741,0.5241826772689819\n",
      "16,4.421458959579468,1.7948106527328491,0.6079999804496765,0.5854735970497131,0.656363844871521\n",
      "17,3.89089298248291,2.204455852508545,0.5920000076293945,0.5751122832298279,0.7196225523948669\n",
      "18,3.859358787536621,1.794830083847046,0.6060000061988831,0.6015645265579224,0.6332377791404724\n",
      "19,3.9182891845703125,1.2858946323394775,0.6399999856948853,0.6143211722373962,0.72170490026474\n",
      "20,3.866563081741333,1.7730884552001953,0.6100000143051147,0.6233687400817871,0.5408585071563721\n",
      "21,3.9997951984405518,2.4465408325195312,0.6060000061988831,0.6063616275787354,0.589986264705658\n",
      "22,4.084271669387817,0.6192096471786499,0.6240000128746033,0.6240441799163818,0.6181874871253967\n",
      "23,4.11099100112915,1.8508718013763428,0.6179999709129333,0.6218145489692688,0.6238245964050293\n",
      "24,3.9071030616760254,2.8797049522399902,0.621999979019165,0.6169799566268921,0.6491554379463196\n",
      "25,3.907115936279297,2.947026252746582,0.6259999871253967,0.6114276647567749,0.6200844049453735\n",
      "26,3.9688119888305664,1.2440723180770874,0.6299999952316284,0.6275872588157654,0.6193501353263855\n",
      "27,3.982135057449341,1.231305480003357,0.628000020980835,0.630592942237854,0.6305228471755981\n",
      "28,3.893902063369751,2.940427780151367,0.6299999952316284,0.6261835694313049,0.645170271396637\n",
      "29,4.09201192855835,2.577453851699829,0.628000020980835,0.6247575283050537,0.6225584149360657\n",
      "30,4.0634379386901855,2.491374969482422,0.6320000290870667,0.6227074861526489,0.6304935216903687\n",
      "31,4.116015195846558,1.8112304210662842,0.6380000114440918,0.6461762189865112,0.6533455848693848\n",
      "32,3.867859125137329,1.359403133392334,0.6340000033378601,0.6347596645355225,0.6568067669868469\n",
      "33,4.1450419425964355,2.263570785522461,0.6399999856948853,0.6376904845237732,0.6444205045700073\n",
      "34,4.013094902038574,3.6551406383514404,0.6380000114440918,0.6337825655937195,0.6450274586677551\n",
      "35,4.085737943649292,3.4351966381073,0.6359999775886536,0.6455737352371216,0.651335597038269\n",
      "36,4.148903846740723,1.986488938331604,0.6359999775886536,0.6479125022888184,0.6540454626083374\n",
      "37,3.779513120651245,0.7063027620315552,0.6340000033378601,0.6463456153869629,0.649461030960083\n",
      "38,4.094015121459961,1.0743329524993896,0.6299999952316284,0.6365549564361572,0.6297674775123596\n",
      "39,3.4810869693756104,0.893380343914032,0.6320000290870667,0.6365436911582947,0.6464431285858154\n",
      "40,3.477138042449951,3.1562530994415283,0.6320000290870667,0.6217223405838013,0.6329742670059204\n",
      "41,3.536008834838867,2.606874942779541,0.628000020980835,0.6245902180671692,0.6600602865219116\n",
      "42,3.57912015914917,6.139859676361084,0.6320000290870667,0.6397572755813599,0.654664933681488\n",
      "43,3.7063910961151123,1.5586286783218384,0.628000020980835,0.6295843720436096,0.6327585577964783\n",
      "44,3.6314239501953125,2.680513858795166,0.6299999952316284,0.6267907023429871,0.6398008465766907\n",
      "45,3.4946420192718506,3.530508518218994,0.6299999952316284,0.617340624332428,0.6464258432388306\n",
      "46,3.670820951461792,2.6609878540039062,0.6299999952316284,0.6300832033157349,0.6445152759552002\n",
      "47,3.526885986328125,2.252751588821411,0.628000020980835,0.6207722425460815,0.6252256035804749\n",
      "48,3.545264720916748,2.7342162132263184,0.6299999952316284,0.6222940683364868,0.6324877738952637\n",
      "49,3.523076295852661,3.3386390209198,0.6299999952316284,0.6397725343704224,0.64478600025177\n",
      "50,3.529672861099243,3.9681649208068848,0.6299999952316284,0.6206843256950378,0.6381579041481018\n",
      "\n"
     ]
    }
   ],
   "source": [
    "csv_file_path = f'{paths.results_location}{network_name}/{dataset}-history.csv'\n",
    "export_learning_history_to_csv(csv_file_path, fit_result, time_callback.times)"
   ]
  },
  {
   "cell_type": "markdown",
   "metadata": {},
   "source": [
    "### Validation result"
   ]
  },
  {
   "cell_type": "code",
   "execution_count": 11,
   "metadata": {
    "pycharm": {
     "name": "#%%\n"
    }
   },
   "outputs": [
    {
     "name": "stdout",
     "output_type": "stream",
     "text": [
      "avg_epoch_time, time, val_loss, val_accuracy, val_precision, val_recall\n",
      "4.561804723739624,228.0902361869812,0.7793372869491577,0.6119999885559082,0.624394953250885,0.5814825892448425\n"
     ]
    }
   ],
   "source": [
    "csv_file_path = f'{paths.results_location}{network_name}/{dataset}-result.csv'\n",
    "export_learning_validation_result_to_csv(csv_file_path, validation_result, time_callback.times)"
   ]
  }
 ],
 "metadata": {
  "kernelspec": {
   "display_name": "Python 3",
   "language": "python",
   "name": "python3"
  },
  "language_info": {
   "codemirror_mode": {
    "name": "ipython",
    "version": 3
   },
   "file_extension": ".py",
   "mimetype": "text/x-python",
   "name": "python",
   "nbconvert_exporter": "python",
   "pygments_lexer": "ipython3",
   "version": "3.7.7"
  }
 },
 "nbformat": 4,
 "nbformat_minor": 4
}