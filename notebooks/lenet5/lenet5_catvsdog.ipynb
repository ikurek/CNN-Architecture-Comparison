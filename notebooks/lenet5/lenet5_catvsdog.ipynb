{
 "cells": [
  {
   "cell_type": "markdown",
   "metadata": {
    "collapsed": true,
    "pycharm": {
     "name": "#%% md\n"
    }
   },
   "source": [
    "Import required elements"
   ]
  },
  {
   "cell_type": "code",
   "execution_count": 1,
   "metadata": {
    "pycharm": {
     "name": "#%%\n"
    }
   },
   "outputs": [
    {
     "name": "stderr",
     "output_type": "stream",
     "text": [
      "Using TensorFlow backend.\n"
     ]
    }
   ],
   "source": [
    "from src.keras_model.lenet5_keras_model import LeNet5\n",
    "from src.datasets.dataset_generators import DatasetGenerators\n",
    "from keras.losses import categorical_crossentropy"
   ]
  },
  {
   "cell_type": "markdown",
   "metadata": {
    "pycharm": {
     "name": "#%% md\n"
    }
   },
   "source": [
    "Setup basic params"
   ]
  },
  {
   "cell_type": "code",
   "execution_count": 2,
   "metadata": {
    "pycharm": {
     "name": "#%%\n"
    }
   },
   "outputs": [],
   "source": [
    "dataset_dir = '/Users/igor/Python/CNN-Architecture-Comparison/data'\n",
    "dataset_name = 'cat-vs-dog'\n",
    "dataset_image_size = (32, 32)\n",
    "dataset_grayscale = True\n",
    "model_optimizer = 'adam'\n",
    "model_loss = categorical_crossentropy\n",
    "model_metrics = ['accuracy']\n",
    "fit_epochs = 10\n",
    "evaluation_bath_size = 128"
   ]
  },
  {
   "cell_type": "markdown",
   "metadata": {
    "pycharm": {
     "name": "#%% md\n"
    }
   },
   "source": [
    "Load dataset (Kaggle Cat vs Dog)"
   ]
  },
  {
   "cell_type": "code",
   "execution_count": 3,
   "metadata": {
    "pycharm": {
     "name": "#%%\n"
    }
   },
   "outputs": [
    {
     "name": "stdout",
     "output_type": "stream",
     "text": [
      "Loading train set for cat-vs-dog...\n",
      "Found 17500 images belonging to 2 classes.\n",
      "Loading test set for cat-vs-dog...\n",
      "Found 5000 images belonging to 2 classes.\n",
      "Loading validation set for cat-vs-dog...\n",
      "Found 2500 images belonging to 2 classes.\n"
     ]
    }
   ],
   "source": [
    "dataset_generators = DatasetGenerators(\n",
    "    name=dataset_name,\n",
    "    image_size=dataset_image_size,\n",
    "    dataset_dir=dataset_dir,\n",
    "    grayscale=dataset_grayscale\n",
    ")"
   ]
  },
  {
   "cell_type": "markdown",
   "metadata": {
    "pycharm": {
     "name": "#%% md\n"
    }
   },
   "source": [
    "Create & compile model"
   ]
  },
  {
   "cell_type": "code",
   "execution_count": 4,
   "metadata": {
    "pycharm": {
     "name": "#%%\n"
    }
   },
   "outputs": [],
   "source": [
    "model = LeNet5(\n",
    "    classes=dataset_generators.test.num_classes\n",
    ").getModel()\n",
    "\n",
    "model.compile(\n",
    "    optimizer=model_optimizer,\n",
    "    loss=model_loss,\n",
    "    metrics=model_metrics\n",
    ")"
   ]
  },
  {
   "cell_type": "markdown",
   "metadata": {
    "pycharm": {
     "name": "#%% md\n"
    }
   },
   "source": [
    "Perform epoch learning"
   ]
  },
  {
   "cell_type": "code",
   "execution_count": 5,
   "metadata": {
    "pycharm": {
     "name": "#%%\n"
    }
   },
   "outputs": [
    {
     "name": "stdout",
     "output_type": "stream",
     "text": [
      "Epoch 1/10\n",
      "547/547 [==============================] - 43s 78ms/step - loss: 0.7069 - accuracy: 0.6167 - val_loss: 0.6265 - val_accuracy: 0.6662\n",
      "Epoch 2/10\n",
      "547/547 [==============================] - 42s 76ms/step - loss: 0.5793 - accuracy: 0.6911 - val_loss: 0.5002 - val_accuracy: 0.6746\n",
      "Epoch 3/10\n",
      "547/547 [==============================] - 42s 77ms/step - loss: 0.5326 - accuracy: 0.7295 - val_loss: 0.6291 - val_accuracy: 0.6898\n",
      "Epoch 4/10\n",
      "547/547 [==============================] - 44s 81ms/step - loss: 0.4840 - accuracy: 0.7657 - val_loss: 0.6490 - val_accuracy: 0.6970\n",
      "Epoch 5/10\n",
      "547/547 [==============================] - 42s 77ms/step - loss: 0.4276 - accuracy: 0.7983 - val_loss: 0.4331 - val_accuracy: 0.7088\n",
      "Epoch 6/10\n",
      "547/547 [==============================] - 42s 76ms/step - loss: 0.3695 - accuracy: 0.8315 - val_loss: 0.5263 - val_accuracy: 0.6970\n",
      "Epoch 7/10\n",
      "547/547 [==============================] - 42s 76ms/step - loss: 0.3029 - accuracy: 0.8667 - val_loss: 1.4799 - val_accuracy: 0.6972\n",
      "Epoch 8/10\n",
      "547/547 [==============================] - 42s 76ms/step - loss: 0.2485 - accuracy: 0.8941 - val_loss: 1.3530 - val_accuracy: 0.6886\n",
      "Epoch 9/10\n",
      "547/547 [==============================] - 42s 76ms/step - loss: 0.1926 - accuracy: 0.9209 - val_loss: 0.6884 - val_accuracy: 0.6890\n",
      "Epoch 10/10\n",
      "547/547 [==============================] - 42s 76ms/step - loss: 0.1563 - accuracy: 0.9389 - val_loss: 0.6900 - val_accuracy: 0.6830\n"
     ]
    }
   ],
   "source": [
    "learn_history = model.fit_generator(\n",
    "    generator=dataset_generators.train,\n",
    "    epochs=fit_epochs,\n",
    "    validation_data=dataset_generators.test\n",
    ")"
   ]
  },
  {
   "cell_type": "markdown",
   "metadata": {
    "pycharm": {
     "name": "#%% md\n"
    }
   },
   "source": [
    "Evaluate model"
   ]
  },
  {
   "cell_type": "code",
   "execution_count": 6,
   "metadata": {
    "pycharm": {
     "name": "#%%\n"
    }
   },
   "outputs": [
    {
     "data": {
      "text/plain": [
       "[0.29934972524642944, 0.6711999773979187]"
      ]
     },
     "execution_count": 6,
     "metadata": {},
     "output_type": "execute_result"
    }
   ],
   "source": [
    "model.evaluate_generator(\n",
    "    generator=dataset_generators.validate\n",
    ")\n"
   ]
  }
 ],
 "metadata": {
  "kernelspec": {
   "display_name": "Python 3",
   "language": "python",
   "name": "python3"
  },
  "language_info": {
   "codemirror_mode": {
    "name": "ipython",
    "version": 3
   },
   "file_extension": ".py",
   "mimetype": "text/x-python",
   "name": "python",
   "nbconvert_exporter": "python",
   "pygments_lexer": "ipython3",
   "version": "3.7.7"
  }
 },
 "nbformat": 4,
 "nbformat_minor": 1
}