{
 "cells": [
  {
   "cell_type": "code",
   "execution_count": 1,
   "metadata": {
    "collapsed": false,
    "jupyter": {
     "outputs_hidden": false
    },
    "pycharm": {
     "name": "#%%\n"
    }
   },
   "outputs": [],
   "source": [
    "import sys\n",
    "sys.path.extend(['/Users/igor/Python/CNN-Architecture-Comparison/'])\n",
    "%load_ext autoreload\n",
    "%autoreload 2"
   ]
  },
  {
   "cell_type": "markdown",
   "metadata": {
    "pycharm": {
     "name": "#%% md\n"
    }
   },
   "source": [
    "# LeNet5 - Cat-vs-Dog"
   ]
  },
  {
   "cell_type": "code",
   "execution_count": 2,
   "metadata": {
    "pycharm": {
     "name": "#%%\n"
    }
   },
   "outputs": [
    {
     "name": "stderr",
     "output_type": "stream",
     "text": [
      "Using TensorFlow backend.\n"
     ]
    }
   ],
   "source": [
    "from src.datasets.dataset_generators import DatasetGenerators\n",
    "from src.keras_model.lenet5_network import LeNet5Network"
   ]
  },
  {
   "cell_type": "code",
   "execution_count": 3,
   "metadata": {
    "pycharm": {
     "name": "#%%\n"
    }
   },
   "outputs": [],
   "source": [
    "dataset_dir = '/Users/igor/Python/CNN-Architecture-Comparison/data'\n",
    "fit_epochs = 50"
   ]
  },
  {
   "cell_type": "code",
   "execution_count": 4,
   "metadata": {
    "pycharm": {
     "name": "#%%\n"
    }
   },
   "outputs": [],
   "source": [
    "network = LeNet5Network()"
   ]
  },
  {
   "cell_type": "code",
   "execution_count": 5,
   "metadata": {
    "pycharm": {
     "name": "#%%\n"
    }
   },
   "outputs": [
    {
     "name": "stdout",
     "output_type": "stream",
     "text": [
      "Loading train set for cat-vs-dog_10...\n",
      "Found 1750 images belonging to 2 classes.\n",
      "Loading test set for cat-vs-dog_10...\n",
      "Found 500 images belonging to 2 classes.\n",
      "Loading validation set for cat-vs-dog_10...\n",
      "Found 250 images belonging to 2 classes.\n"
     ]
    }
   ],
   "source": [
    "dataset_generators = DatasetGenerators(\n",
    "    name='cat-vs-dog_10',\n",
    "    dataset_dir=dataset_dir,\n",
    "    image_size=network.image_size,\n",
    "    batch_size=network.batch_size,\n",
    "    grayscale=network.grayscale\n",
    ")"
   ]
  },
  {
   "cell_type": "code",
   "execution_count": 6,
   "metadata": {
    "pycharm": {
     "name": "#%%\n"
    }
   },
   "outputs": [],
   "source": [
    "model = network.get_compiled_model(\n",
    "    classes=dataset_generators.test.num_classes\n",
    ")"
   ]
  },
  {
   "cell_type": "code",
   "execution_count": 7,
   "metadata": {
    "pycharm": {
     "name": "#%%\n"
    }
   },
   "outputs": [
    {
     "name": "stdout",
     "output_type": "stream",
     "text": [
      "Epoch 1/50\n",
      "55/55 [==============================] - 4s 72ms/step - loss: 2.2370 - accuracy: 0.5223 - precision_1: 0.5223 - recall_1: 0.5223 - val_loss: 0.9545 - val_accuracy: 0.5580 - val_precision_1: 0.5580 - val_recall_1: 0.5580\n",
      "Epoch 2/50\n",
      "55/55 [==============================] - 4s 65ms/step - loss: 0.7437 - accuracy: 0.6006 - precision_1: 0.6006 - recall_1: 0.6006 - val_loss: 0.7646 - val_accuracy: 0.5700 - val_precision_1: 0.5700 - val_recall_1: 0.5700\n",
      "Epoch 3/50\n",
      "55/55 [==============================] - 4s 64ms/step - loss: 0.6502 - accuracy: 0.6531 - precision_1: 0.6531 - recall_1: 0.6531 - val_loss: 0.6358 - val_accuracy: 0.6100 - val_precision_1: 0.6100 - val_recall_1: 0.6100\n",
      "Epoch 4/50\n",
      "55/55 [==============================] - 4s 65ms/step - loss: 0.6337 - accuracy: 0.6577 - precision_1: 0.6577 - recall_1: 0.6577 - val_loss: 0.7231 - val_accuracy: 0.5940 - val_precision_1: 0.5940 - val_recall_1: 0.5940\n",
      "Epoch 5/50\n",
      "55/55 [==============================] - 4s 64ms/step - loss: 0.5718 - accuracy: 0.7029 - precision_1: 0.7029 - recall_1: 0.7029 - val_loss: 0.7400 - val_accuracy: 0.6080 - val_precision_1: 0.6080 - val_recall_1: 0.6080\n",
      "Epoch 6/50\n",
      "55/55 [==============================] - 3s 63ms/step - loss: 0.5167 - accuracy: 0.7349 - precision_1: 0.7349 - recall_1: 0.7349 - val_loss: 0.6921 - val_accuracy: 0.6160 - val_precision_1: 0.6160 - val_recall_1: 0.6160\n",
      "Epoch 7/50\n",
      "55/55 [==============================] - 4s 64ms/step - loss: 0.4895 - accuracy: 0.7646 - precision_1: 0.7646 - recall_1: 0.7646 - val_loss: 1.0293 - val_accuracy: 0.6080 - val_precision_1: 0.6080 - val_recall_1: 0.6080\n",
      "Epoch 8/50\n",
      "55/55 [==============================] - 4s 64ms/step - loss: 0.4433 - accuracy: 0.8011 - precision_1: 0.8011 - recall_1: 0.8011 - val_loss: 0.5545 - val_accuracy: 0.6300 - val_precision_1: 0.6300 - val_recall_1: 0.6300\n",
      "Epoch 9/50\n",
      "55/55 [==============================] - 4s 64ms/step - loss: 0.4134 - accuracy: 0.8091 - precision_1: 0.8091 - recall_1: 0.8091 - val_loss: 0.6414 - val_accuracy: 0.6080 - val_precision_1: 0.6080 - val_recall_1: 0.6080\n",
      "Epoch 10/50\n",
      "55/55 [==============================] - 3s 63ms/step - loss: 0.4005 - accuracy: 0.8194 - precision_1: 0.8194 - recall_1: 0.8194 - val_loss: 0.4530 - val_accuracy: 0.6200 - val_precision_1: 0.6200 - val_recall_1: 0.6200\n",
      "Epoch 11/50\n",
      "55/55 [==============================] - 4s 64ms/step - loss: 0.3658 - accuracy: 0.8400 - precision_1: 0.8400 - recall_1: 0.8400 - val_loss: 0.4909 - val_accuracy: 0.6260 - val_precision_1: 0.6260 - val_recall_1: 0.6260\n",
      "Epoch 12/50\n",
      "55/55 [==============================] - 3s 63ms/step - loss: 0.3367 - accuracy: 0.8509 - precision_1: 0.8509 - recall_1: 0.8509 - val_loss: 0.5873 - val_accuracy: 0.6120 - val_precision_1: 0.6120 - val_recall_1: 0.6120\n",
      "Epoch 13/50\n",
      "55/55 [==============================] - 4s 65ms/step - loss: 0.3148 - accuracy: 0.8606 - precision_1: 0.8606 - recall_1: 0.8606 - val_loss: 1.0793 - val_accuracy: 0.6100 - val_precision_1: 0.6100 - val_recall_1: 0.6100\n",
      "Epoch 14/50\n",
      "55/55 [==============================] - 4s 64ms/step - loss: 0.2590 - accuracy: 0.8931 - precision_1: 0.8931 - recall_1: 0.8931 - val_loss: 0.6173 - val_accuracy: 0.6280 - val_precision_1: 0.6280 - val_recall_1: 0.6280\n",
      "Epoch 15/50\n",
      "55/55 [==============================] - 4s 64ms/step - loss: 0.2386 - accuracy: 0.8994 - precision_1: 0.8994 - recall_1: 0.8994 - val_loss: 0.7912 - val_accuracy: 0.5780 - val_precision_1: 0.5780 - val_recall_1: 0.5780\n",
      "Epoch 16/50\n",
      "55/55 [==============================] - 3s 63ms/step - loss: 0.2265 - accuracy: 0.9017 - precision_1: 0.9017 - recall_1: 0.9017 - val_loss: 0.8212 - val_accuracy: 0.6320 - val_precision_1: 0.6320 - val_recall_1: 0.6320\n",
      "Epoch 17/50\n",
      "55/55 [==============================] - 3s 63ms/step - loss: 0.1806 - accuracy: 0.9343 - precision_1: 0.9343 - recall_1: 0.9343 - val_loss: 1.0365 - val_accuracy: 0.6240 - val_precision_1: 0.6240 - val_recall_1: 0.6240\n",
      "Epoch 18/50\n",
      "55/55 [==============================] - 4s 64ms/step - loss: 0.1701 - accuracy: 0.9354 - precision_1: 0.9354 - recall_1: 0.9354 - val_loss: 1.0338 - val_accuracy: 0.6260 - val_precision_1: 0.6260 - val_recall_1: 0.6260\n",
      "Epoch 19/50\n",
      "55/55 [==============================] - 3s 63ms/step - loss: 0.1396 - accuracy: 0.9451 - precision_1: 0.9451 - recall_1: 0.9451 - val_loss: 0.5608 - val_accuracy: 0.6360 - val_precision_1: 0.6360 - val_recall_1: 0.6360\n",
      "Epoch 20/50\n",
      "55/55 [==============================] - 4s 64ms/step - loss: 0.1484 - accuracy: 0.9406 - precision_1: 0.9406 - recall_1: 0.9406 - val_loss: 0.8888 - val_accuracy: 0.6180 - val_precision_1: 0.6180 - val_recall_1: 0.6180\n",
      "Epoch 21/50\n",
      "55/55 [==============================] - 4s 64ms/step - loss: 0.1115 - accuracy: 0.9606 - precision_1: 0.9606 - recall_1: 0.9606 - val_loss: 1.2307 - val_accuracy: 0.6280 - val_precision_1: 0.6280 - val_recall_1: 0.6280\n",
      "Epoch 22/50\n",
      "55/55 [==============================] - 3s 63ms/step - loss: 0.0982 - accuracy: 0.9651 - precision_1: 0.9651 - recall_1: 0.9651 - val_loss: 0.8480 - val_accuracy: 0.6120 - val_precision_1: 0.6120 - val_recall_1: 0.6120\n",
      "Epoch 23/50\n",
      "55/55 [==============================] - 3s 63ms/step - loss: 0.0891 - accuracy: 0.9703 - precision_1: 0.9703 - recall_1: 0.9703 - val_loss: 1.0487 - val_accuracy: 0.6100 - val_precision_1: 0.6100 - val_recall_1: 0.6100\n",
      "Epoch 24/50\n",
      "55/55 [==============================] - 4s 64ms/step - loss: 0.0951 - accuracy: 0.9663 - precision_1: 0.9663 - recall_1: 0.9663 - val_loss: 0.6157 - val_accuracy: 0.6180 - val_precision_1: 0.6180 - val_recall_1: 0.6180\n",
      "Epoch 25/50\n",
      "55/55 [==============================] - 4s 64ms/step - loss: 0.0862 - accuracy: 0.9709 - precision_1: 0.9709 - recall_1: 0.9709 - val_loss: 2.1214 - val_accuracy: 0.5900 - val_precision_1: 0.5900 - val_recall_1: 0.5900\n",
      "Epoch 26/50\n",
      "55/55 [==============================] - 3s 63ms/step - loss: 0.0821 - accuracy: 0.9697 - precision_1: 0.9697 - recall_1: 0.9697 - val_loss: 1.1486 - val_accuracy: 0.6140 - val_precision_1: 0.6140 - val_recall_1: 0.6140\n",
      "Epoch 27/50\n",
      "55/55 [==============================] - 4s 65ms/step - loss: 0.0590 - accuracy: 0.9783 - precision_1: 0.9783 - recall_1: 0.9783 - val_loss: 2.1320 - val_accuracy: 0.6220 - val_precision_1: 0.6220 - val_recall_1: 0.6220\n",
      "Epoch 28/50\n",
      "55/55 [==============================] - 4s 65ms/step - loss: 0.0574 - accuracy: 0.9806 - precision_1: 0.9806 - recall_1: 0.9806 - val_loss: 0.5859 - val_accuracy: 0.6080 - val_precision_1: 0.6080 - val_recall_1: 0.6080\n",
      "Epoch 29/50\n",
      "55/55 [==============================] - 4s 65ms/step - loss: 0.0562 - accuracy: 0.9817 - precision_1: 0.9817 - recall_1: 0.9817 - val_loss: 2.7821 - val_accuracy: 0.6060 - val_precision_1: 0.6060 - val_recall_1: 0.6060\n",
      "Epoch 30/50\n",
      "55/55 [==============================] - 4s 65ms/step - loss: 0.1004 - accuracy: 0.9634 - precision_1: 0.9634 - recall_1: 0.9634 - val_loss: 1.3604 - val_accuracy: 0.5880 - val_precision_1: 0.5880 - val_recall_1: 0.5880\n",
      "Epoch 31/50\n",
      "55/55 [==============================] - 3s 63ms/step - loss: 0.0724 - accuracy: 0.9766 - precision_1: 0.9766 - recall_1: 0.9766 - val_loss: 1.9743 - val_accuracy: 0.6220 - val_precision_1: 0.6220 - val_recall_1: 0.6220\n",
      "Epoch 32/50\n",
      "55/55 [==============================] - 4s 64ms/step - loss: 0.0537 - accuracy: 0.9834 - precision_1: 0.9834 - recall_1: 0.9834 - val_loss: 0.6275 - val_accuracy: 0.6100 - val_precision_1: 0.6100 - val_recall_1: 0.6100\n",
      "Epoch 33/50\n",
      "55/55 [==============================] - 3s 63ms/step - loss: 0.0280 - accuracy: 0.9931 - precision_1: 0.9931 - recall_1: 0.9931 - val_loss: 1.4670 - val_accuracy: 0.6120 - val_precision_1: 0.6120 - val_recall_1: 0.6120\n",
      "Epoch 34/50\n",
      "55/55 [==============================] - 3s 64ms/step - loss: 0.0137 - accuracy: 0.9971 - precision_1: 0.9971 - recall_1: 0.9971 - val_loss: 1.4743 - val_accuracy: 0.6040 - val_precision_1: 0.6040 - val_recall_1: 0.6040\n",
      "Epoch 35/50\n",
      "55/55 [==============================] - 4s 64ms/step - loss: 0.0098 - accuracy: 0.9989 - precision_1: 0.9989 - recall_1: 0.9989 - val_loss: 2.5869 - val_accuracy: 0.6220 - val_precision_1: 0.6220 - val_recall_1: 0.6220\n",
      "Epoch 36/50\n",
      "55/55 [==============================] - 3s 63ms/step - loss: 0.0084 - accuracy: 0.9989 - precision_1: 0.9989 - recall_1: 0.9989 - val_loss: 1.5927 - val_accuracy: 0.6060 - val_precision_1: 0.6060 - val_recall_1: 0.6060\n",
      "Epoch 37/50\n",
      "55/55 [==============================] - 4s 64ms/step - loss: 0.0097 - accuracy: 0.9977 - precision_1: 0.9977 - recall_1: 0.9977 - val_loss: 1.1060 - val_accuracy: 0.6140 - val_precision_1: 0.6140 - val_recall_1: 0.6140\n",
      "Epoch 38/50\n",
      "55/55 [==============================] - 4s 64ms/step - loss: 0.0075 - accuracy: 0.9989 - precision_1: 0.9989 - recall_1: 0.9989 - val_loss: 3.2242 - val_accuracy: 0.6240 - val_precision_1: 0.6240 - val_recall_1: 0.6240\n",
      "Epoch 39/50\n",
      "55/55 [==============================] - 3s 64ms/step - loss: 0.0057 - accuracy: 0.9989 - precision_1: 0.9989 - recall_1: 0.9989 - val_loss: 2.0488 - val_accuracy: 0.6220 - val_precision_1: 0.6220 - val_recall_1: 0.6220\n",
      "Epoch 40/50\n",
      "55/55 [==============================] - 4s 64ms/step - loss: 0.0043 - accuracy: 0.9994 - precision_1: 0.9994 - recall_1: 0.9994 - val_loss: 0.7954 - val_accuracy: 0.5980 - val_precision_1: 0.5980 - val_recall_1: 0.5980\n",
      "Epoch 41/50\n",
      "55/55 [==============================] - 4s 65ms/step - loss: 0.0040 - accuracy: 0.9989 - precision_1: 0.9989 - recall_1: 0.9989 - val_loss: 2.2300 - val_accuracy: 0.6220 - val_precision_1: 0.6220 - val_recall_1: 0.6220\n",
      "Epoch 42/50\n",
      "55/55 [==============================] - 4s 64ms/step - loss: 0.0036 - accuracy: 0.9994 - precision_1: 0.9994 - recall_1: 0.9994 - val_loss: 0.8779 - val_accuracy: 0.6140 - val_precision_1: 0.6140 - val_recall_1: 0.6140\n",
      "Epoch 43/50\n",
      "55/55 [==============================] - 4s 64ms/step - loss: 0.0027 - accuracy: 1.0000 - precision_1: 1.0000 - recall_1: 1.0000 - val_loss: 2.0628 - val_accuracy: 0.6180 - val_precision_1: 0.6180 - val_recall_1: 0.6180\n",
      "Epoch 44/50\n",
      "55/55 [==============================] - 4s 64ms/step - loss: 0.0021 - accuracy: 1.0000 - precision_1: 1.0000 - recall_1: 1.0000 - val_loss: 2.6895 - val_accuracy: 0.6020 - val_precision_1: 0.6020 - val_recall_1: 0.6020\n",
      "Epoch 45/50\n",
      "55/55 [==============================] - 3s 63ms/step - loss: 0.0016 - accuracy: 1.0000 - precision_1: 1.0000 - recall_1: 1.0000 - val_loss: 1.8127 - val_accuracy: 0.6080 - val_precision_1: 0.6080 - val_recall_1: 0.6080\n",
      "Epoch 46/50\n",
      "55/55 [==============================] - 4s 64ms/step - loss: 0.0012 - accuracy: 1.0000 - precision_1: 1.0000 - recall_1: 1.0000 - val_loss: 1.9337 - val_accuracy: 0.6120 - val_precision_1: 0.6120 - val_recall_1: 0.6120\n",
      "Epoch 47/50\n",
      "55/55 [==============================] - 4s 64ms/step - loss: 0.0011 - accuracy: 1.0000 - precision_1: 1.0000 - recall_1: 1.0000 - val_loss: 1.8261 - val_accuracy: 0.6080 - val_precision_1: 0.6080 - val_recall_1: 0.6080\n",
      "Epoch 48/50\n",
      "55/55 [==============================] - 3s 64ms/step - loss: 9.5054e-04 - accuracy: 1.0000 - precision_1: 1.0000 - recall_1: 1.0000 - val_loss: 1.3826 - val_accuracy: 0.6060 - val_precision_1: 0.6060 - val_recall_1: 0.6060\n",
      "Epoch 49/50\n",
      "55/55 [==============================] - 3s 63ms/step - loss: 9.1740e-04 - accuracy: 1.0000 - precision_1: 1.0000 - recall_1: 1.0000 - val_loss: 1.7616 - val_accuracy: 0.6100 - val_precision_1: 0.6100 - val_recall_1: 0.6100\n",
      "Epoch 50/50\n",
      "55/55 [==============================] - 4s 65ms/step - loss: 7.8710e-04 - accuracy: 1.0000 - precision_1: 1.0000 - recall_1: 1.0000 - val_loss: 2.6689 - val_accuracy: 0.6060 - val_precision_1: 0.6060 - val_recall_1: 0.6060\n"
     ]
    }
   ],
   "source": [
    "history = model.fit_generator(\n",
    "    generator=dataset_generators.train,\n",
    "    epochs=fit_epochs,\n",
    "    validation_data=dataset_generators.test\n",
    ")"
   ]
  },
  {
   "cell_type": "code",
   "execution_count": 8,
   "metadata": {
    "pycharm": {
     "name": "#%%\n"
    }
   },
   "outputs": [],
   "source": [
    "result = model.evaluate_generator(\n",
    "    generator=dataset_generators.validate\n",
    ")"
   ]
  },
  {
   "cell_type": "markdown",
   "metadata": {
    "pycharm": {
     "name": "#%% md\n"
    }
   },
   "source": [
    "## Cat-vs-Dog Results"
   ]
  },
  {
   "cell_type": "code",
   "execution_count": 9,
   "metadata": {
    "pycharm": {
     "name": "#%%\n"
    }
   },
   "outputs": [
    {
     "name": "stdout",
     "output_type": "stream",
     "text": [
      "Loss: 3.7362632751464844\n",
      "Accuracy: 0.6639999747276306\n",
      "Precision: 0.6639999747276306\n",
      "Recall: 0.6639999747276306\n"
     ]
    }
   ],
   "source": [
    "print(\"Loss: {}\".format(result[0]))\n",
    "print(\"Accuracy: {}\".format(result[1]))\n",
    "print(\"Precision: {}\".format(result[2]))\n",
    "print(\"Recall: {}\".format(result[3]))"
   ]
  }
 ],
 "metadata": {
  "kernelspec": {
   "display_name": "Python 3",
   "language": "python",
   "name": "python3"
  },
  "language_info": {
   "codemirror_mode": {
    "name": "ipython",
    "version": 3
   },
   "file_extension": ".py",
   "mimetype": "text/x-python",
   "name": "python",
   "nbconvert_exporter": "python",
   "pygments_lexer": "ipython3",
   "version": "3.7.7"
  }
 },
 "nbformat": 4,
 "nbformat_minor": 4
}