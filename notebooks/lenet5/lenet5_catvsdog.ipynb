{
 "cells": [
  {
   "cell_type": "code",
   "execution_count": null,
   "outputs": [],
   "source": [
    "import sys\n",
    "sys.path.extend(['/Users/igor/Python/CNN-Architecture-Comparison/'])\n",
    "%load_ext autoreload\n",
    "%autoreload 2"
   ],
   "metadata": {
    "collapsed": false,
    "pycharm": {
     "name": "#%%\n"
    }
   }
  },
  {
   "cell_type": "markdown",
   "metadata": {
    "collapsed": true,
    "pycharm": {
     "name": "#%% md\n"
    }
   },
   "source": [
    "# LeNet5 - Cat-vs-Dog"
   ]
  },
  {
   "cell_type": "code",
   "execution_count": 1,
   "metadata": {
    "pycharm": {
     "name": "#%%\n"
    }
   },
   "outputs": [
    {
     "name": "stderr",
     "output_type": "stream",
     "text": [
      "Using TensorFlow backend.\n"
     ]
    }
   ],
   "source": [
    "from src.datasets.dataset_generators import DatasetGenerators\n",
    "from src.keras_model.lenet5_network import LeNet5Network"
   ]
  },
  {
   "cell_type": "code",
   "execution_count": 2,
   "metadata": {
    "pycharm": {
     "name": "#%%\n"
    }
   },
   "outputs": [],
   "source": [
    "dataset_dir = '/Users/igor/Python/CNN-Architecture-Comparison/data'\n",
    "fit_epochs = 10"
   ]
  },
  {
   "cell_type": "code",
   "execution_count": 3,
   "metadata": {
    "pycharm": {
     "name": "#%%\n"
    }
   },
   "outputs": [],
   "source": [
    "network = LeNet5Network()"
   ]
  },
  {
   "cell_type": "code",
   "execution_count": 4,
   "metadata": {
    "pycharm": {
     "name": "#%%\n"
    }
   },
   "outputs": [
    {
     "name": "stdout",
     "output_type": "stream",
     "text": [
      "Loading train set for cat-vs-dog...\n",
      "Found 17500 images belonging to 2 classes.\n",
      "Loading test set for cat-vs-dog...\n",
      "Found 5000 images belonging to 2 classes.\n",
      "Loading validation set for cat-vs-dog...\n",
      "Found 2500 images belonging to 2 classes.\n"
     ]
    }
   ],
   "source": [
    "dataset_generators = DatasetGenerators(\n",
    "    name='cat-vs-dog_10',\n",
    "    dataset_dir=dataset_dir,\n",
    "    image_size=network.image_size,\n",
    "    batch_size=network.batch_size,\n",
    "    grayscale=network.grayscale\n",
    ")"
   ]
  },
  {
   "cell_type": "code",
   "execution_count": 5,
   "metadata": {
    "pycharm": {
     "name": "#%%\n"
    }
   },
   "outputs": [],
   "source": [
    "model = network.get_compiled_model(\n",
    "    classes=dataset_generators.test.num_classes\n",
    ")"
   ]
  },
  {
   "cell_type": "code",
   "execution_count": null,
   "metadata": {
    "pycharm": {
     "name": "#%%\n"
    }
   },
   "outputs": [
    {
     "name": "stdout",
     "output_type": "stream",
     "text": [
      "Epoch 1/10\n",
      "274/274 [==============================] - 75s 273ms/step - loss: 0.9665 - accuracy: 0.5731 - precision_1: 0.5731 - recall_1: 0.5731 - val_loss: 0.6935 - val_accuracy: 0.5858 - val_precision_1: 0.5858 - val_recall_1: 0.5858\n",
      "Epoch 2/10\n",
      "274/274 [==============================] - 40s 146ms/step - loss: 0.6324 - accuracy: 0.6451 - precision_1: 0.6451 - recall_1: 0.6451 - val_loss: 0.6481 - val_accuracy: 0.6412 - val_precision_1: 0.6412 - val_recall_1: 0.6412\n",
      "Epoch 3/10\n",
      "274/274 [==============================] - 40s 146ms/step - loss: 0.5857 - accuracy: 0.6907 - precision_1: 0.6907 - recall_1: 0.6907 - val_loss: 0.5634 - val_accuracy: 0.6212 - val_precision_1: 0.6212 - val_recall_1: 0.6212\n",
      "Epoch 4/10\n",
      "274/274 [==============================] - 40s 146ms/step - loss: 0.5536 - accuracy: 0.7127 - precision_1: 0.7127 - recall_1: 0.7127 - val_loss: 0.6736 - val_accuracy: 0.6786 - val_precision_1: 0.6786 - val_recall_1: 0.6786\n",
      "Epoch 5/10\n",
      "274/274 [==============================] - 40s 146ms/step - loss: 0.5159 - accuracy: 0.7410 - precision_1: 0.7410 - recall_1: 0.7410 - val_loss: 0.8742 - val_accuracy: 0.6932 - val_precision_1: 0.6932 - val_recall_1: 0.6932\n",
      "Epoch 6/10\n",
      "274/274 [==============================] - 40s 146ms/step - loss: 0.4835 - accuracy: 0.7643 - precision_1: 0.7643 - recall_1: 0.7643 - val_loss: 0.1786 - val_accuracy: 0.6884 - val_precision_1: 0.6884 - val_recall_1: 0.6884\n",
      "Epoch 7/10\n",
      "274/274 [==============================] - 41s 150ms/step - loss: 0.4471 - accuracy: 0.7894 - precision_1: 0.7894 - recall_1: 0.7894 - val_loss: 0.4150 - val_accuracy: 0.6898 - val_precision_1: 0.6898 - val_recall_1: 0.6898\n",
      "Epoch 8/10\n",
      "273/274 [============================>.] - ETA: 0s - loss: 0.4078 - accuracy: 0.8073 - precision_1: 0.8073 - recall_1: 0.8073"
     ]
    }
   ],
   "source": [
    "history = model.fit_generator(\n",
    "    generator=dataset_generators.train,\n",
    "    epochs=fit_epochs,\n",
    "    validation_data=dataset_generators.test\n",
    ")"
   ]
  },
  {
   "cell_type": "code",
   "execution_count": null,
   "metadata": {
    "pycharm": {
     "name": "#%%\n"
    }
   },
   "outputs": [],
   "source": [
    "result = model.evaluate_generator(\n",
    "    generator=dataset_generators.validate\n",
    ")"
   ]
  },
  {
   "cell_type": "markdown",
   "metadata": {
    "pycharm": {
     "name": "#%% md\n"
    }
   },
   "source": [
    "## Cat-vs-Dog Results"
   ]
  },
  {
   "cell_type": "code",
   "execution_count": null,
   "metadata": {
    "pycharm": {
     "name": "#%%\n"
    }
   },
   "outputs": [],
   "source": [
    "print(\"Loss: {}\".format(result[0]))\n",
    "print(\"Accuracy: {}\".format(result[1]))\n",
    "print(\"Precision: {}\".format(result[2]))\n",
    "print(\"Recall: {}\".format(result[3]))"
   ]
  }
 ],
 "metadata": {
  "kernelspec": {
   "display_name": "Python 3",
   "language": "python",
   "name": "python3"
  },
  "language_info": {
   "codemirror_mode": {
    "name": "ipython",
    "version": 3
   },
   "file_extension": ".py",
   "mimetype": "text/x-python",
   "name": "python",
   "nbconvert_exporter": "python",
   "pygments_lexer": "ipython3",
   "version": "3.7.7"
  }
 },
 "nbformat": 4,
 "nbformat_minor": 1
}