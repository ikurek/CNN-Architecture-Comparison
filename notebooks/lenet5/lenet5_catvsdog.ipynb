{
 "cells": [
  {
   "cell_type": "code",
   "execution_count": 1,
   "metadata": {
    "jupyter": {
     "outputs_hidden": false
    },
    "pycharm": {
     "name": "#%%\n"
    }
   },
   "outputs": [],
   "source": [
    "import sys\n",
    "sys.path.extend(['..', '../', '../..', '../../' ])\n",
    "%load_ext autoreload\n",
    "%autoreload 2"
   ]
  },
  {
   "cell_type": "markdown",
   "metadata": {
    "pycharm": {
     "name": "#%% md\n"
    }
   },
   "source": [
    "# LeNet5 - Cat-Vs-Dog"
   ]
  },
  {
   "cell_type": "code",
   "execution_count": 2,
   "metadata": {
    "pycharm": {
     "name": "#%%\n"
    }
   },
   "outputs": [
    {
     "name": "stderr",
     "output_type": "stream",
     "text": [
      "Using TensorFlow backend.\n"
     ]
    }
   ],
   "source": [
    "import paths\n",
    "import keras\n",
    "from src.parameters import metrics\n",
    "from src.datasets.dataset_generators import DatasetGenerators\n",
    "from src.keras_callback.time_history import TimeHistory\n",
    "from src.export.csv_export import export_learning_history_to_csv, export_learning_validation_result_to_csv\n",
    "from src.export.model_export import clear_exported_models\n",
    "from src.keras_model.lenet5_network import LeNet5Network"
   ]
  },
  {
   "cell_type": "code",
   "execution_count": 3,
   "metadata": {
    "pycharm": {
     "name": "#%%\n"
    }
   },
   "outputs": [],
   "source": [
    "network_name = 'lenet5'\n",
    "fit_epochs = 50\n",
    "dataset = 'cat-vs-dog'\n",
    "dataset_percentage = '10'"
   ]
  },
  {
   "cell_type": "code",
   "execution_count": 4,
   "metadata": {
    "pycharm": {
     "name": "#%%\n"
    }
   },
   "outputs": [],
   "source": [
    "network = LeNet5Network()"
   ]
  },
  {
   "cell_type": "code",
   "execution_count": 5,
   "metadata": {
    "pycharm": {
     "name": "#%%\n"
    }
   },
   "outputs": [
    {
     "name": "stdout",
     "output_type": "stream",
     "text": [
      "Loading train set for cat-vs-dog_10...\n",
      "Found 1750 images belonging to 2 classes.\n",
      "Loading test set for cat-vs-dog_10...\n",
      "Found 500 images belonging to 2 classes.\n",
      "Loading validation set for cat-vs-dog_10...\n",
      "Found 250 images belonging to 2 classes.\n"
     ]
    }
   ],
   "source": [
    "dataset_generators = DatasetGenerators(\n",
    "    name=f'{dataset}_{dataset_percentage}',\n",
    "    dataset_dir=paths.data_location,\n",
    "    image_size=network.image_size,\n",
    "    batch_size=network.batch_size,\n",
    "    grayscale=network.grayscale\n",
    ")"
   ]
  },
  {
   "cell_type": "code",
   "execution_count": 6,
   "metadata": {
    "pycharm": {
     "name": "#%%\n"
    }
   },
   "outputs": [],
   "source": [
    "model = network.get_compiled_model(\n",
    "    classes=dataset_generators.test.num_classes\n",
    ")"
   ]
  },
  {
   "cell_type": "code",
   "execution_count": 7,
   "metadata": {
    "pycharm": {
     "name": "#%%\n"
    }
   },
   "outputs": [],
   "source": [
    "checkpoint_path = f'{paths.models_location}{network_name}/{dataset}/'\n",
    "best_model_path = f'{checkpoint_path}best.h5'\n",
    "clear_exported_models(checkpoint_path)\n",
    "\n",
    "checkpoint_callback = keras.callbacks.ModelCheckpoint(\n",
    "    filepath=f'{checkpoint_path}{{epoch:02d}}-{{val_accuracy}}.h5',\n",
    "    save_best_only=False,\n",
    "    save_weights_only=False\n",
    ")\n",
    "\n",
    "best_callback = keras.callbacks.ModelCheckpoint(\n",
    "    filepath=best_model_path,\n",
    "    save_best_only=True,\n",
    "    verbose=1,\n",
    "    save_weights_only=False\n",
    ")\n",
    "\n",
    "time_callback = TimeHistory()\n",
    "\n",
    "model_callbacks = [checkpoint_callback, best_callback, time_callback]"
   ]
  },
  {
   "cell_type": "code",
   "execution_count": 8,
   "metadata": {
    "pycharm": {
     "name": "#%%\n"
    }
   },
   "outputs": [
    {
     "name": "stdout",
     "output_type": "stream",
     "text": [
      "Epoch 1/50\n",
      "55/55 [==============================] - 6s 110ms/step - loss: 1.2219 - accuracy: 0.5280 - precision: 0.5192 - recall: 0.5335 - val_loss: 0.7646 - val_accuracy: 0.5480 - val_precision: 0.5955 - val_recall: 0.2979\n",
      "Epoch 2/50\n",
      "55/55 [==============================] - 4s 67ms/step - loss: 0.6492 - accuracy: 0.6309 - precision: 0.6395 - recall: 0.6121 - val_loss: 0.5193 - val_accuracy: 0.6500 - val_precision: 0.6238 - val_recall: 0.7180\n",
      "Epoch 3/50\n",
      "55/55 [==============================] - 4s 67ms/step - loss: 0.5880 - accuracy: 0.6743 - precision: 0.6741 - recall: 0.7100 - val_loss: 0.6812 - val_accuracy: 0.6360 - val_precision: 0.6051 - val_recall: 0.7502\n",
      "Epoch 4/50\n",
      "55/55 [==============================] - 4s 67ms/step - loss: 0.5438 - accuracy: 0.7177 - precision: 0.7309 - recall: 0.7315 - val_loss: 0.8151 - val_accuracy: 0.6060 - val_precision: 0.5626 - val_recall: 0.8987\n",
      "Epoch 5/50\n",
      "55/55 [==============================] - 4s 64ms/step - loss: 0.5264 - accuracy: 0.7200 - precision: 0.7372 - recall: 0.7612 - val_loss: 0.4265 - val_accuracy: 0.6680 - val_precision: 0.6877 - val_recall: 0.6038\n",
      "Epoch 6/50\n",
      "55/55 [==============================] - 3s 63ms/step - loss: 0.4436 - accuracy: 0.7966 - precision: 0.7967 - recall: 0.8171 - val_loss: 1.1623 - val_accuracy: 0.6260 - val_precision: 0.6786 - val_recall: 0.4516\n",
      "Epoch 7/50\n",
      "55/55 [==============================] - 3s 64ms/step - loss: 0.3876 - accuracy: 0.8234 - precision: 0.8232 - recall: 0.8417 - val_loss: 0.6720 - val_accuracy: 0.6380 - val_precision: 0.5982 - val_recall: 0.8942\n",
      "Epoch 8/50\n",
      "55/55 [==============================] - 3s 63ms/step - loss: 0.3354 - accuracy: 0.8509 - precision: 0.8449 - recall: 0.8654 - val_loss: 1.1835 - val_accuracy: 0.6800 - val_precision: 0.6629 - val_recall: 0.7210\n",
      "Epoch 9/50\n",
      "55/55 [==============================] - 3s 63ms/step - loss: 0.2726 - accuracy: 0.8886 - precision: 0.8869 - recall: 0.8974 - val_loss: 0.5852 - val_accuracy: 0.6520 - val_precision: 0.6534 - val_recall: 0.6563\n",
      "Epoch 10/50\n",
      "55/55 [==============================] - 4s 65ms/step - loss: 0.2326 - accuracy: 0.8989 - precision: 0.9013 - recall: 0.9074 - val_loss: 0.5697 - val_accuracy: 0.6580 - val_precision: 0.6388 - val_recall: 0.7462\n",
      "Epoch 11/50\n",
      "55/55 [==============================] - 3s 64ms/step - loss: 0.1744 - accuracy: 0.9349 - precision: 0.9319 - recall: 0.9415 - val_loss: 0.5082 - val_accuracy: 0.6700 - val_precision: 0.6936 - val_recall: 0.6239\n",
      "Epoch 12/50\n",
      "55/55 [==============================] - 4s 64ms/step - loss: 0.1418 - accuracy: 0.9549 - precision: 0.9537 - recall: 0.9570 - val_loss: 0.8959 - val_accuracy: 0.6480 - val_precision: 0.6643 - val_recall: 0.6155\n",
      "Epoch 13/50\n",
      "55/55 [==============================] - 4s 67ms/step - loss: 0.1054 - accuracy: 0.9640 - precision: 0.9640 - recall: 0.9673 - val_loss: 0.8016 - val_accuracy: 0.6280 - val_precision: 0.6146 - val_recall: 0.6865\n",
      "Epoch 14/50\n",
      "55/55 [==============================] - 4s 66ms/step - loss: 0.0872 - accuracy: 0.9720 - precision: 0.9718 - recall: 0.9738 - val_loss: 1.2308 - val_accuracy: 0.6520 - val_precision: 0.6280 - val_recall: 0.7540\n",
      "Epoch 15/50\n",
      "55/55 [==============================] - 4s 67ms/step - loss: 0.0779 - accuracy: 0.9783 - precision: 0.9798 - recall: 0.9797 - val_loss: 1.1681 - val_accuracy: 0.6120 - val_precision: 0.6447 - val_recall: 0.5072\n",
      "Epoch 16/50\n",
      "55/55 [==============================] - 4s 69ms/step - loss: 0.0535 - accuracy: 0.9857 - precision: 0.9854 - recall: 0.9842 - val_loss: 3.0920 - val_accuracy: 0.6540 - val_precision: 0.6508 - val_recall: 0.6162\n",
      "Epoch 17/50\n",
      "55/55 [==============================] - 4s 65ms/step - loss: 0.0431 - accuracy: 0.9874 - precision: 0.9831 - recall: 0.9908 - val_loss: 0.6145 - val_accuracy: 0.6560 - val_precision: 0.6631 - val_recall: 0.6776\n",
      "Epoch 18/50\n",
      "55/55 [==============================] - 4s 70ms/step - loss: 0.0367 - accuracy: 0.9874 - precision: 0.9866 - recall: 0.9901 - val_loss: 3.7855 - val_accuracy: 0.6340 - val_precision: 0.6145 - val_recall: 0.6930\n",
      "Epoch 19/50\n",
      "55/55 [==============================] - 4s 69ms/step - loss: 0.0657 - accuracy: 0.9800 - precision: 0.9811 - recall: 0.9793 - val_loss: 1.4358 - val_accuracy: 0.5880 - val_precision: 0.6528 - val_recall: 0.3477\n",
      "Epoch 20/50\n",
      "55/55 [==============================] - 4s 70ms/step - loss: 0.1193 - accuracy: 0.9520 - precision: 0.9578 - recall: 0.9536 - val_loss: 2.6306 - val_accuracy: 0.6080 - val_precision: 0.5972 - val_recall: 0.6546\n",
      "Epoch 21/50\n",
      "55/55 [==============================] - 4s 76ms/step - loss: 0.0411 - accuracy: 0.9863 - precision: 0.9859 - recall: 0.9870 - val_loss: 1.9221 - val_accuracy: 0.6320 - val_precision: 0.6376 - val_recall: 0.6079\n",
      "Epoch 22/50\n",
      "55/55 [==============================] - 4s 70ms/step - loss: 0.0161 - accuracy: 0.9971 - precision: 0.9960 - recall: 0.9979 - val_loss: 1.4307 - val_accuracy: 0.6440 - val_precision: 0.6426 - val_recall: 0.6551\n",
      "Epoch 23/50\n",
      "55/55 [==============================] - 4s 66ms/step - loss: 0.0059 - accuracy: 0.9994 - precision: 0.9990 - recall: 1.0000 - val_loss: 2.5927 - val_accuracy: 0.6280 - val_precision: 0.6208 - val_recall: 0.6672\n",
      "Epoch 24/50\n",
      "55/55 [==============================] - 4s 65ms/step - loss: 0.0029 - accuracy: 1.0000 - precision: 1.0000 - recall: 1.0000 - val_loss: 2.6515 - val_accuracy: 0.6520 - val_precision: 0.6605 - val_recall: 0.6507\n",
      "Epoch 25/50\n",
      "55/55 [==============================] - 4s 64ms/step - loss: 0.0020 - accuracy: 1.0000 - precision: 1.0000 - recall: 1.0000 - val_loss: 1.7051 - val_accuracy: 0.6460 - val_precision: 0.6517 - val_recall: 0.6493\n",
      "Epoch 26/50\n",
      "55/55 [==============================] - 4s 70ms/step - loss: 0.0015 - accuracy: 1.0000 - precision: 1.0000 - recall: 1.0000 - val_loss: 1.4474 - val_accuracy: 0.6380 - val_precision: 0.6327 - val_recall: 0.6655\n",
      "Epoch 27/50\n",
      "55/55 [==============================] - 4s 70ms/step - loss: 0.0011 - accuracy: 1.0000 - precision: 1.0000 - recall: 1.0000 - val_loss: 2.7811 - val_accuracy: 0.6440 - val_precision: 0.6362 - val_recall: 0.6520\n",
      "Epoch 28/50\n",
      "55/55 [==============================] - 4s 65ms/step - loss: 9.4924e-04 - accuracy: 1.0000 - precision: 1.0000 - recall: 1.0000 - val_loss: 1.2643 - val_accuracy: 0.6480 - val_precision: 0.6514 - val_recall: 0.6567\n",
      "Epoch 29/50\n",
      "55/55 [==============================] - 4s 64ms/step - loss: 7.7826e-04 - accuracy: 1.0000 - precision: 1.0000 - recall: 1.0000 - val_loss: 1.3888 - val_accuracy: 0.6420 - val_precision: 0.6396 - val_recall: 0.6545\n",
      "Epoch 30/50\n",
      "55/55 [==============================] - 4s 76ms/step - loss: 6.7136e-04 - accuracy: 1.0000 - precision: 1.0000 - recall: 1.0000 - val_loss: 2.9785 - val_accuracy: 0.6400 - val_precision: 0.6325 - val_recall: 0.6621\n",
      "Epoch 31/50\n",
      "55/55 [==============================] - 5s 89ms/step - loss: 5.9276e-04 - accuracy: 1.0000 - precision: 1.0000 - recall: 1.0000 - val_loss: 1.4556 - val_accuracy: 0.6400 - val_precision: 0.6452 - val_recall: 0.6663\n",
      "Epoch 32/50\n",
      "55/55 [==============================] - 4s 68ms/step - loss: 5.1673e-04 - accuracy: 1.0000 - precision: 1.0000 - recall: 1.0000 - val_loss: 1.6566 - val_accuracy: 0.6440 - val_precision: 0.6313 - val_recall: 0.6560\n",
      "Epoch 33/50\n",
      "55/55 [==============================] - 4s 70ms/step - loss: 4.5596e-04 - accuracy: 1.0000 - precision: 1.0000 - recall: 1.0000 - val_loss: 2.8258 - val_accuracy: 0.6400 - val_precision: 0.6222 - val_recall: 0.6592\n",
      "Epoch 34/50\n",
      "55/55 [==============================] - 4s 70ms/step - loss: 4.2347e-04 - accuracy: 1.0000 - precision: 1.0000 - recall: 1.0000 - val_loss: 2.9832 - val_accuracy: 0.6400 - val_precision: 0.6291 - val_recall: 0.6552\n",
      "Epoch 35/50\n",
      "55/55 [==============================] - 4s 70ms/step - loss: 3.7679e-04 - accuracy: 1.0000 - precision: 1.0000 - recall: 1.0000 - val_loss: 4.1533 - val_accuracy: 0.6400 - val_precision: 0.6327 - val_recall: 0.6650\n",
      "Epoch 36/50\n",
      "55/55 [==============================] - 4s 72ms/step - loss: 3.3512e-04 - accuracy: 1.0000 - precision: 1.0000 - recall: 1.0000 - val_loss: 3.1487 - val_accuracy: 0.6400 - val_precision: 0.6254 - val_recall: 0.6515\n",
      "Epoch 37/50\n"
     ]
    },
    {
     "name": "stdout",
     "output_type": "stream",
     "text": [
      "55/55 [==============================] - 4s 68ms/step - loss: 3.0353e-04 - accuracy: 1.0000 - precision: 1.0000 - recall: 1.0000 - val_loss: 3.3100 - val_accuracy: 0.6420 - val_precision: 0.6326 - val_recall: 0.6565\n",
      "Epoch 38/50\n",
      "55/55 [==============================] - 4s 67ms/step - loss: 2.8046e-04 - accuracy: 1.0000 - precision: 1.0000 - recall: 1.0000 - val_loss: 3.2155 - val_accuracy: 0.6420 - val_precision: 0.6369 - val_recall: 0.6733\n",
      "Epoch 39/50\n",
      "55/55 [==============================] - 4s 68ms/step - loss: 2.5222e-04 - accuracy: 1.0000 - precision: 1.0000 - recall: 1.0000 - val_loss: 3.1632 - val_accuracy: 0.6440 - val_precision: 0.6388 - val_recall: 0.6681\n",
      "Epoch 40/50\n",
      "55/55 [==============================] - 4s 68ms/step - loss: 2.2975e-04 - accuracy: 1.0000 - precision: 1.0000 - recall: 1.0000 - val_loss: 3.4720 - val_accuracy: 0.6460 - val_precision: 0.6505 - val_recall: 0.6681\n",
      "Epoch 41/50\n",
      "55/55 [==============================] - 4s 68ms/step - loss: 2.1549e-04 - accuracy: 1.0000 - precision: 1.0000 - recall: 1.0000 - val_loss: 4.1938 - val_accuracy: 0.6480 - val_precision: 0.6402 - val_recall: 0.6728\n",
      "Epoch 42/50\n",
      "55/55 [==============================] - 4s 66ms/step - loss: 1.9630e-04 - accuracy: 1.0000 - precision: 1.0000 - recall: 1.0000 - val_loss: 3.4856 - val_accuracy: 0.6460 - val_precision: 0.6389 - val_recall: 0.6504\n",
      "Epoch 43/50\n",
      "55/55 [==============================] - 4s 64ms/step - loss: 1.8104e-04 - accuracy: 1.0000 - precision: 1.0000 - recall: 1.0000 - val_loss: 1.7805 - val_accuracy: 0.6460 - val_precision: 0.6466 - val_recall: 0.6629\n",
      "Epoch 44/50\n",
      "55/55 [==============================] - 4s 64ms/step - loss: 1.6815e-04 - accuracy: 1.0000 - precision: 1.0000 - recall: 1.0000 - val_loss: 1.1808 - val_accuracy: 0.6440 - val_precision: 0.6286 - val_recall: 0.6610\n",
      "Epoch 45/50\n",
      "55/55 [==============================] - 4s 66ms/step - loss: 1.5655e-04 - accuracy: 1.0000 - precision: 1.0000 - recall: 1.0000 - val_loss: 4.1237 - val_accuracy: 0.6460 - val_precision: 0.6533 - val_recall: 0.6633\n",
      "Epoch 46/50\n",
      "55/55 [==============================] - 4s 69ms/step - loss: 1.4803e-04 - accuracy: 1.0000 - precision: 1.0000 - recall: 1.0000 - val_loss: 4.3213 - val_accuracy: 0.6460 - val_precision: 0.6453 - val_recall: 0.6629\n",
      "Epoch 47/50\n",
      "55/55 [==============================] - 4s 70ms/step - loss: 1.3589e-04 - accuracy: 1.0000 - precision: 1.0000 - recall: 1.0000 - val_loss: 2.2049 - val_accuracy: 0.6500 - val_precision: 0.6504 - val_recall: 0.6498\n",
      "Epoch 48/50\n",
      "55/55 [==============================] - 4s 67ms/step - loss: 1.2775e-04 - accuracy: 1.0000 - precision: 1.0000 - recall: 1.0000 - val_loss: 3.7716 - val_accuracy: 0.6440 - val_precision: 0.6434 - val_recall: 0.6686\n",
      "Epoch 49/50\n",
      "55/55 [==============================] - 4s 64ms/step - loss: 1.1962e-04 - accuracy: 1.0000 - precision: 1.0000 - recall: 1.0000 - val_loss: 2.5848 - val_accuracy: 0.6420 - val_precision: 0.6470 - val_recall: 0.6489\n",
      "Epoch 50/50\n",
      "55/55 [==============================] - 4s 65ms/step - loss: 1.1232e-04 - accuracy: 1.0000 - precision: 1.0000 - recall: 1.0000 - val_loss: 3.8436 - val_accuracy: 0.6440 - val_precision: 0.6368 - val_recall: 0.6583\n"
     ]
    }
   ],
   "source": [
    "fit_result = model.fit_generator(\n",
    "    generator=dataset_generators.train,\n",
    "    epochs=fit_epochs,\n",
    "    validation_data=dataset_generators.test,\n",
    "    callbacks = model_callbacks\n",
    ")"
   ]
  },
  {
   "cell_type": "code",
   "execution_count": 9,
   "metadata": {
    "pycharm": {
     "name": "#%%\n"
    }
   },
   "outputs": [],
   "source": [
    "best_model = keras.models.load_model(best_model_path,\n",
    "    custom_objects= {\n",
    "        'precision': metrics.precision,\n",
    "        'recall': metrics.recall\n",
    "    }\n",
    ")\n",
    "validation_result = best_model.evaluate_generator(\n",
    "    generator=dataset_generators.validate\n",
    ")"
   ]
  },
  {
   "cell_type": "markdown",
   "metadata": {
    "pycharm": {
     "name": "#%% md\n"
    }
   },
   "source": [
    "## Results"
   ]
  },
  {
   "cell_type": "markdown",
   "metadata": {},
   "source": [
    "### Epoch CSV"
   ]
  },
  {
   "cell_type": "code",
   "execution_count": 10,
   "metadata": {
    "pycharm": {
     "name": "#%%\n"
    }
   },
   "outputs": [
    {
     "name": "stdout",
     "output_type": "stream",
     "text": [
      "epoch, time, val_loss, val_accuracy, val_precision, val_recall\n",
      "0,0,0,0,0,0\n",
      "1,6.0639259815216064,0.7646225690841675,0.5479999780654907,0.5955109000205994,0.29789918661117554\n",
      "2,3.730588912963867,0.5193068981170654,0.6499999761581421,0.6237736940383911,0.7180382013320923\n",
      "3,3.6839990615844727,0.6811953186988831,0.6359999775886536,0.6050700545310974,0.750240683555603\n",
      "4,3.732018232345581,0.8150625228881836,0.6060000061988831,0.5626401901245117,0.8986744284629822\n",
      "5,3.5343921184539795,0.4265148639678955,0.6679999828338623,0.687727689743042,0.6037598252296448\n",
      "6,3.5147128105163574,1.1622717380523682,0.6259999871253967,0.6785646677017212,0.45164617896080017\n",
      "7,3.5180869102478027,0.6720091700553894,0.6380000114440918,0.5982322692871094,0.8941740989685059\n",
      "8,3.4975061416625977,1.1835198402404785,0.6800000071525574,0.6629409193992615,0.720952570438385\n",
      "9,3.512525796890259,0.5851806998252869,0.6520000100135803,0.653448760509491,0.6563054919242859\n",
      "10,3.6014249324798584,0.5696600675582886,0.6579999923706055,0.6387824416160583,0.7462066411972046\n",
      "11,3.51901912689209,0.5081633925437927,0.6700000166893005,0.6936436891555786,0.6238841414451599\n",
      "12,3.558748960494995,0.8958731889724731,0.6480000019073486,0.6642847061157227,0.615531325340271\n",
      "13,3.7388172149658203,0.8016376495361328,0.628000020980835,0.6145987510681152,0.6865232586860657\n",
      "14,3.67697811126709,1.2307989597320557,0.6520000100135803,0.6279891729354858,0.7540010213851929\n",
      "15,3.6904852390289307,1.1680716276168823,0.6119999885559082,0.6446771621704102,0.5071905851364136\n",
      "16,3.7968931198120117,3.091958522796631,0.6539999842643738,0.6508126258850098,0.6161969900131226\n",
      "17,3.6125950813293457,0.6145385503768921,0.656000018119812,0.6630939245223999,0.677563488483429\n",
      "18,3.8490710258483887,3.7854981422424316,0.6340000033378601,0.614463210105896,0.6930286288261414\n",
      "19,3.8010833263397217,1.4357830286026,0.5879999995231628,0.6528413891792297,0.34769922494888306\n",
      "20,3.8989429473876953,2.6306064128875732,0.6079999804496765,0.5972170233726501,0.6545788645744324\n",
      "21,4.222297191619873,1.922088623046875,0.6320000290870667,0.6376481056213379,0.6079241633415222\n",
      "22,3.8753421306610107,1.4306741952896118,0.6439999938011169,0.6425950527191162,0.6550561189651489\n",
      "23,3.6692497730255127,2.5926692485809326,0.628000020980835,0.6208362579345703,0.6671907305717468\n",
      "24,3.5847277641296387,2.651454448699951,0.6520000100135803,0.6604725122451782,0.6506735682487488\n",
      "25,3.567595958709717,1.7051427364349365,0.6460000276565552,0.6517366170883179,0.6493234038352966\n",
      "26,3.9052889347076416,1.447356939315796,0.6380000114440918,0.632710874080658,0.6655369400978088\n",
      "27,3.8599162101745605,2.781128406524658,0.6439999938011169,0.6361982226371765,0.6519891023635864\n",
      "28,3.5993199348449707,1.2643301486968994,0.6480000019073486,0.651383638381958,0.6566630005836487\n",
      "29,3.543281078338623,1.388828158378601,0.6420000195503235,0.6395798921585083,0.6544679403305054\n",
      "30,4.20084810256958,2.978464126586914,0.6399999856948853,0.632533073425293,0.6620916724205017\n",
      "31,4.895371198654175,1.4556056261062622,0.6399999856948853,0.6451859474182129,0.6663201451301575\n",
      "32,3.7434699535369873,1.656568169593811,0.6439999938011169,0.6312677264213562,0.6559827923774719\n",
      "33,3.8663947582244873,2.8257975578308105,0.6399999856948853,0.6221936345100403,0.6591973900794983\n",
      "34,3.85457181930542,2.9832205772399902,0.6399999856948853,0.6290784478187561,0.6552491188049316\n",
      "35,3.8702309131622314,4.153255939483643,0.6399999856948853,0.632704496383667,0.664952278137207\n",
      "36,3.9765708446502686,3.148733615875244,0.6399999856948853,0.6253846287727356,0.6515499353408813\n",
      "37,3.7681710720062256,3.3099656105041504,0.6420000195503235,0.6325604319572449,0.6565110087394714\n",
      "38,3.730212926864624,3.2155425548553467,0.6420000195503235,0.636874258518219,0.6733243465423584\n",
      "39,3.763354778289795,3.1631884574890137,0.6439999938011169,0.6388228535652161,0.6680771708488464\n",
      "40,3.7597849369049072,3.471979856491089,0.6460000276565552,0.6504692435264587,0.6681260466575623\n",
      "41,3.7700400352478027,4.193792819976807,0.6480000019073486,0.6401585340499878,0.6727849841117859\n",
      "42,3.6752331256866455,3.4856009483337402,0.6460000276565552,0.638916552066803,0.6503615975379944\n",
      "43,3.5418460369110107,1.780487060546875,0.6460000276565552,0.6465514898300171,0.6629126071929932\n",
      "44,3.561570167541504,1.1808351278305054,0.6439999938011169,0.6286401152610779,0.6610399484634399\n",
      "45,3.6365859508514404,4.1237287521362305,0.6460000276565552,0.6533181667327881,0.6632609367370605\n",
      "46,3.8401939868927,4.321294784545898,0.6460000276565552,0.645333468914032,0.6628676652908325\n",
      "47,3.8764290809631348,2.2048819065093994,0.6499999761581421,0.650412380695343,0.6498374938964844\n",
      "48,3.704697847366333,3.771646499633789,0.6439999938011169,0.6434020400047302,0.6686366200447083\n",
      "49,3.5467329025268555,2.5847911834716797,0.6420000195503235,0.6469555497169495,0.6488993167877197\n",
      "50,3.6065561771392822,3.8435826301574707,0.6439999938011169,0.6368151307106018,0.6582604050636292\n",
      "\n"
     ]
    }
   ],
   "source": [
    "csv_file_path = f'{paths.results_location}{network_name}/{dataset}-history.csv'\n",
    "export_learning_history_to_csv(csv_file_path, fit_result, time_callback.times)"
   ]
  },
  {
   "cell_type": "markdown",
   "metadata": {},
   "source": [
    "### Validation result"
   ]
  },
  {
   "cell_type": "code",
   "execution_count": 11,
   "metadata": {
    "pycharm": {
     "name": "#%%\n"
    }
   },
   "outputs": [
    {
     "name": "stdout",
     "output_type": "stream",
     "text": [
      "avg_epoch_time, time, val_loss, val_accuracy, val_precision, val_recall\n",
      "3.7909540128707886,189.54770064353943,2.523925542831421,0.671999990940094,0.6482727527618408,0.7386161088943481\n"
     ]
    }
   ],
   "source": [
    "csv_file_path = f'{paths.results_location}{network_name}/{dataset}-result.csv'\n",
    "export_learning_validation_result_to_csv(csv_file_path, validation_result, time_callback.times)"
   ]
  }
 ],
 "metadata": {
  "kernelspec": {
   "display_name": "Python 3",
   "language": "python",
   "name": "python3"
  },
  "language_info": {
   "codemirror_mode": {
    "name": "ipython",
    "version": 3
   },
   "file_extension": ".py",
   "mimetype": "text/x-python",
   "name": "python",
   "nbconvert_exporter": "python",
   "pygments_lexer": "ipython3",
   "version": "3.7.7"
  }
 },
 "nbformat": 4,
 "nbformat_minor": 4
}