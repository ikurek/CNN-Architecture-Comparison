{
 "cells": [
  {
   "cell_type": "code",
   "execution_count": 1,
   "metadata": {
    "collapsed": false,
    "jupyter": {
     "outputs_hidden": false
    },
    "pycharm": {
     "name": "#%%\n"
    }
   },
   "outputs": [],
   "source": [
    "import sys\n",
    "sys.path.extend(['..', '../', '../..', '../../' ])\n",
    "%load_ext autoreload\n",
    "%autoreload 2"
   ]
  },
  {
   "cell_type": "code",
   "execution_count": 2,
   "metadata": {
    "pycharm": {
     "name": "#%%\n"
    }
   },
   "outputs": [
    {
     "name": "stderr",
     "output_type": "stream",
     "text": [
      "Using TensorFlow backend.\n"
     ]
    }
   ],
   "source": [
    "import keras\n",
    "from src.const import paths, datasets, networks\n",
    "from src.parameters import metrics\n",
    "from src.datasets.dataset_generators import DatasetGenerators\n",
    "from src.keras_callback.time_history import TimeHistory\n",
    "from src.export.csv_export import export_learning_history_to_csv, export_learning_validation_result_to_csv\n",
    "from src.export.model_export import clear_exported_models, get_best_model_from_directory\n",
    "from src.export.result_plot import plot_learning_history_metrics, plot_learning_history_loss, plot_learning_history_val_loss, plot_learning_history_val_metrics\n",
    "from src.keras_model.lenet5_network import LeNet5Network"
   ]
  },
  {
   "cell_type": "code",
   "execution_count": 3,
   "metadata": {
    "pycharm": {
     "name": "#%%\n"
    }
   },
   "outputs": [],
   "source": [
    "network_name = networks.lenet5\n",
    "network = LeNet5Network()\n",
    "fit_epochs = 50\n",
    "dataset = datasets.catvsdog\n",
    "dataset_percentage = '10'\n"
   ]
  },
  {
   "cell_type": "code",
   "execution_count": 4,
   "metadata": {
    "pycharm": {
     "name": "#%%\n"
    }
   },
   "outputs": [
    {
     "name": "stdout",
     "output_type": "stream",
     "text": [
      "Loading train set for cat-vs-dog_10...\n",
      "Found 1750 images belonging to 2 classes.\n",
      "Loading test set for cat-vs-dog_10...\n",
      "Found 500 images belonging to 2 classes.\n",
      "Loading validation set for cat-vs-dog_10...\n",
      "Found 250 images belonging to 2 classes.\n"
     ]
    }
   ],
   "source": [
    "dataset_generators = DatasetGenerators(\n",
    "    name=f'{dataset}_{dataset_percentage}',\n",
    "    dataset_dir=paths.data_location,\n",
    "    image_size=network.image_size,\n",
    "    batch_size=network.batch_size,\n",
    "    grayscale=network.grayscale\n",
    ")"
   ]
  },
  {
   "cell_type": "code",
   "execution_count": 5,
   "metadata": {
    "pycharm": {
     "name": "#%%\n"
    }
   },
   "outputs": [],
   "source": [
    "model = network.get_compiled_model(\n",
    "    classes=dataset_generators.test.num_classes\n",
    ")"
   ]
  },
  {
   "cell_type": "code",
   "execution_count": 6,
   "metadata": {
    "pycharm": {
     "name": "#%%\n"
    }
   },
   "outputs": [],
   "source": [
    "checkpoint_path = f'{paths.models_location}{network_name}/{dataset}/'\n",
    "best_model_path = f'{checkpoint_path}best/'\n",
    "clear_exported_models(checkpoint_path)\n",
    "clear_exported_models(best_model_path)\n",
    "\n",
    "checkpoint_callback = keras.callbacks.ModelCheckpoint(\n",
    "    filepath=f'{checkpoint_path}{{epoch:02d}}-{{val_accuracy}}.h5',\n",
    "    save_best_only=False,\n",
    "    save_weights_only=False\n",
    ")\n",
    "\n",
    "best_callback = keras.callbacks.ModelCheckpoint(\n",
    "    filepath=f'{best_model_path}best-{{epoch:02d}}-{{val_accuracy}}.h5',\n",
    "    save_best_only=True,\n",
    "    verbose=1,\n",
    "    save_weights_only=False\n",
    ")\n",
    "\n",
    "time_callback = TimeHistory()\n",
    "\n",
    "model_callbacks = [checkpoint_callback, best_callback, time_callback]"
   ]
  },
  {
   "cell_type": "code",
   "execution_count": 7,
   "metadata": {
    "pycharm": {
     "name": "#%%\n"
    }
   },
   "outputs": [
    {
     "name": "stdout",
     "output_type": "stream",
     "text": [
      "Epoch 1/50\n",
      "55/55 [==============================] - 4s 71ms/step - loss: 0.9969 - accuracy: 0.5777 - precision: 0.5888 - recall: 0.5797 - val_loss: 0.5668 - val_accuracy: 0.5540 - val_precision: 0.6496 - val_recall: 0.2604\n",
      "\n",
      "Epoch 00001: val_loss improved from inf to 0.56685, saving model to /Users/igor/Python/CNN-Architecture-Comparison/models/lenet5/cat-vs-dog/best/best-01-0.5540000200271606.h5\n",
      "Epoch 2/50\n",
      "55/55 [==============================] - 4s 64ms/step - loss: 0.6327 - accuracy: 0.6594 - precision: 0.6700 - recall: 0.6831 - val_loss: 0.6473 - val_accuracy: 0.5920 - val_precision: 0.5633 - val_recall: 0.8158\n",
      "\n",
      "Epoch 00002: val_loss did not improve from 0.56685\n",
      "Epoch 3/50\n",
      "55/55 [==============================] - 4s 65ms/step - loss: 0.5555 - accuracy: 0.7040 - precision: 0.7058 - recall: 0.7158 - val_loss: 0.4579 - val_accuracy: 0.6080 - val_precision: 0.5899 - val_recall: 0.7149\n",
      "\n",
      "Epoch 00003: val_loss improved from 0.56685 to 0.45790, saving model to /Users/igor/Python/CNN-Architecture-Comparison/models/lenet5/cat-vs-dog/best/best-03-0.6079999804496765.h5\n",
      "Epoch 4/50\n",
      "55/55 [==============================] - 4s 68ms/step - loss: 0.5017 - accuracy: 0.7491 - precision: 0.7529 - recall: 0.7822 - val_loss: 0.5174 - val_accuracy: 0.6080 - val_precision: 0.6124 - val_recall: 0.5652\n",
      "\n",
      "Epoch 00004: val_loss did not improve from 0.45790\n",
      "Epoch 5/50\n",
      "55/55 [==============================] - 3s 63ms/step - loss: 0.4510 - accuracy: 0.7823 - precision: 0.8093 - recall: 0.7694 - val_loss: 0.6982 - val_accuracy: 0.6180 - val_precision: 0.6653 - val_recall: 0.4887\n",
      "\n",
      "Epoch 00005: val_loss did not improve from 0.45790\n",
      "Epoch 6/50\n",
      "55/55 [==============================] - 3s 63ms/step - loss: 0.3773 - accuracy: 0.8274 - precision: 0.8319 - recall: 0.8330 - val_loss: 0.5889 - val_accuracy: 0.6500 - val_precision: 0.6919 - val_recall: 0.5375\n",
      "\n",
      "Epoch 00006: val_loss did not improve from 0.45790\n",
      "Epoch 7/50\n",
      "55/55 [==============================] - 3s 63ms/step - loss: 0.3270 - accuracy: 0.8577 - precision: 0.8679 - recall: 0.8626 - val_loss: 0.4848 - val_accuracy: 0.6580 - val_precision: 0.6591 - val_recall: 0.6624\n",
      "\n",
      "Epoch 00007: val_loss did not improve from 0.45790\n",
      "Epoch 8/50\n",
      "55/55 [==============================] - 3s 63ms/step - loss: 0.2575 - accuracy: 0.8994 - precision: 0.9110 - recall: 0.8982 - val_loss: 1.1041 - val_accuracy: 0.6260 - val_precision: 0.5847 - val_recall: 0.7959\n",
      "\n",
      "Epoch 00008: val_loss did not improve from 0.45790\n",
      "Epoch 9/50\n",
      "55/55 [==============================] - 3s 63ms/step - loss: 0.2182 - accuracy: 0.9160 - precision: 0.9215 - recall: 0.9176 - val_loss: 0.8573 - val_accuracy: 0.6140 - val_precision: 0.6135 - val_recall: 0.6126\n",
      "\n",
      "Epoch 00009: val_loss did not improve from 0.45790\n",
      "Epoch 10/50\n",
      "55/55 [==============================] - 3s 63ms/step - loss: 0.1586 - accuracy: 0.9451 - precision: 0.9515 - recall: 0.9409 - val_loss: 0.8438 - val_accuracy: 0.6400 - val_precision: 0.6260 - val_recall: 0.6719\n",
      "\n",
      "Epoch 00010: val_loss did not improve from 0.45790\n",
      "Epoch 11/50\n",
      "55/55 [==============================] - 3s 63ms/step - loss: 0.1036 - accuracy: 0.9697 - precision: 0.9729 - recall: 0.9675 - val_loss: 1.1728 - val_accuracy: 0.6260 - val_precision: 0.6129 - val_recall: 0.6832\n",
      "\n",
      "Epoch 00011: val_loss did not improve from 0.45790\n",
      "Epoch 12/50\n",
      "55/55 [==============================] - 3s 63ms/step - loss: 0.0655 - accuracy: 0.9817 - precision: 0.9830 - recall: 0.9810 - val_loss: 1.3838 - val_accuracy: 0.6300 - val_precision: 0.6485 - val_recall: 0.5911\n",
      "\n",
      "Epoch 00012: val_loss did not improve from 0.45790\n",
      "Epoch 13/50\n",
      "55/55 [==============================] - 3s 63ms/step - loss: 0.0490 - accuracy: 0.9897 - precision: 0.9898 - recall: 0.9909 - val_loss: 0.6513 - val_accuracy: 0.6300 - val_precision: 0.6338 - val_recall: 0.5983\n",
      "\n",
      "Epoch 00013: val_loss did not improve from 0.45790\n",
      "Epoch 14/50\n",
      "55/55 [==============================] - 3s 63ms/step - loss: 0.0448 - accuracy: 0.9909 - precision: 0.9918 - recall: 0.9876 - val_loss: 1.8111 - val_accuracy: 0.6220 - val_precision: 0.6037 - val_recall: 0.6743\n",
      "\n",
      "Epoch 00014: val_loss did not improve from 0.45790\n",
      "Epoch 15/50\n",
      "55/55 [==============================] - 3s 63ms/step - loss: 0.1143 - accuracy: 0.9611 - precision: 0.9612 - recall: 0.9644 - val_loss: 1.0102 - val_accuracy: 0.6160 - val_precision: 0.6036 - val_recall: 0.7122\n",
      "\n",
      "Epoch 00015: val_loss did not improve from 0.45790\n",
      "Epoch 16/50\n",
      "55/55 [==============================] - 4s 64ms/step - loss: 0.0413 - accuracy: 0.9937 - precision: 0.9901 - recall: 0.9963 - val_loss: 1.2810 - val_accuracy: 0.6340 - val_precision: 0.6235 - val_recall: 0.6300\n",
      "\n",
      "Epoch 00016: val_loss did not improve from 0.45790\n",
      "Epoch 17/50\n",
      "55/55 [==============================] - 3s 63ms/step - loss: 0.0151 - accuracy: 0.9989 - precision: 0.9989 - recall: 0.9980 - val_loss: 1.3278 - val_accuracy: 0.6320 - val_precision: 0.6366 - val_recall: 0.5982\n",
      "\n",
      "Epoch 00017: val_loss did not improve from 0.45790\n",
      "Epoch 18/50\n",
      "55/55 [==============================] - 3s 63ms/step - loss: 0.0078 - accuracy: 1.0000 - precision: 1.0000 - recall: 1.0000 - val_loss: 1.8736 - val_accuracy: 0.6300 - val_precision: 0.6350 - val_recall: 0.6260\n",
      "\n",
      "Epoch 00018: val_loss did not improve from 0.45790\n",
      "Epoch 19/50\n",
      "55/55 [==============================] - 3s 63ms/step - loss: 0.0043 - accuracy: 1.0000 - precision: 1.0000 - recall: 1.0000 - val_loss: 0.9021 - val_accuracy: 0.6380 - val_precision: 0.6366 - val_recall: 0.6547\n",
      "\n",
      "Epoch 00019: val_loss did not improve from 0.45790\n",
      "Epoch 20/50\n",
      "55/55 [==============================] - 3s 64ms/step - loss: 0.0031 - accuracy: 1.0000 - precision: 1.0000 - recall: 1.0000 - val_loss: 1.3651 - val_accuracy: 0.6260 - val_precision: 0.6162 - val_recall: 0.6440\n",
      "\n",
      "Epoch 00020: val_loss did not improve from 0.45790\n",
      "Epoch 21/50\n",
      "55/55 [==============================] - 4s 64ms/step - loss: 0.0024 - accuracy: 1.0000 - precision: 1.0000 - recall: 1.0000 - val_loss: 2.5264 - val_accuracy: 0.6340 - val_precision: 0.6250 - val_recall: 0.6400\n",
      "\n",
      "Epoch 00021: val_loss did not improve from 0.45790\n",
      "Epoch 22/50\n",
      "55/55 [==============================] - 4s 66ms/step - loss: 0.0019 - accuracy: 1.0000 - precision: 1.0000 - recall: 1.0000 - val_loss: 1.5663 - val_accuracy: 0.6320 - val_precision: 0.6264 - val_recall: 0.6543\n",
      "\n",
      "Epoch 00022: val_loss did not improve from 0.45790\n",
      "Epoch 23/50\n",
      "55/55 [==============================] - 4s 66ms/step - loss: 0.0016 - accuracy: 1.0000 - precision: 1.0000 - recall: 1.0000 - val_loss: 2.0198 - val_accuracy: 0.6340 - val_precision: 0.6117 - val_recall: 0.6457\n",
      "\n",
      "Epoch 00023: val_loss did not improve from 0.45790\n",
      "Epoch 24/50\n",
      "55/55 [==============================] - 4s 64ms/step - loss: 0.0014 - accuracy: 1.0000 - precision: 1.0000 - recall: 1.0000 - val_loss: 2.6306 - val_accuracy: 0.6320 - val_precision: 0.6242 - val_recall: 0.6549\n",
      "\n",
      "Epoch 00024: val_loss did not improve from 0.45790\n",
      "Epoch 25/50\n",
      "55/55 [==============================] - 4s 65ms/step - loss: 0.0011 - accuracy: 1.0000 - precision: 1.0000 - recall: 1.0000 - val_loss: 0.8282 - val_accuracy: 0.6280 - val_precision: 0.6336 - val_recall: 0.6721\n",
      "\n",
      "Epoch 00025: val_loss did not improve from 0.45790\n",
      "Epoch 26/50\n",
      "55/55 [==============================] - 4s 64ms/step - loss: 0.0010 - accuracy: 1.0000 - precision: 1.0000 - recall: 1.0000 - val_loss: 3.4518 - val_accuracy: 0.6240 - val_precision: 0.6215 - val_recall: 0.6673\n",
      "\n",
      "Epoch 00026: val_loss did not improve from 0.45790\n",
      "Epoch 27/50\n",
      "55/55 [==============================] - 4s 64ms/step - loss: 8.9126e-04 - accuracy: 1.0000 - precision: 1.0000 - recall: 1.0000 - val_loss: 1.4202 - val_accuracy: 0.6340 - val_precision: 0.6284 - val_recall: 0.6699\n",
      "\n",
      "Epoch 00027: val_loss did not improve from 0.45790\n",
      "Epoch 28/50\n",
      "55/55 [==============================] - 4s 65ms/step - loss: 8.0229e-04 - accuracy: 1.0000 - precision: 1.0000 - recall: 1.0000 - val_loss: 1.6379 - val_accuracy: 0.6240 - val_precision: 0.6284 - val_recall: 0.6330\n",
      "\n",
      "Epoch 00028: val_loss did not improve from 0.45790\n",
      "Epoch 29/50\n",
      "55/55 [==============================] - 4s 65ms/step - loss: 6.9461e-04 - accuracy: 1.0000 - precision: 1.0000 - recall: 1.0000 - val_loss: 0.6632 - val_accuracy: 0.6340 - val_precision: 0.6205 - val_recall: 0.6650\n",
      "\n",
      "Epoch 00029: val_loss did not improve from 0.45790\n",
      "Epoch 30/50\n",
      "55/55 [==============================] - 4s 64ms/step - loss: 6.5131e-04 - accuracy: 1.0000 - precision: 1.0000 - recall: 1.0000 - val_loss: 3.8046 - val_accuracy: 0.6280 - val_precision: 0.6185 - val_recall: 0.6548\n",
      "\n",
      "Epoch 00030: val_loss did not improve from 0.45790\n",
      "Epoch 31/50\n",
      "55/55 [==============================] - 4s 64ms/step - loss: 5.6789e-04 - accuracy: 1.0000 - precision: 1.0000 - recall: 1.0000 - val_loss: 1.7339 - val_accuracy: 0.6300 - val_precision: 0.6187 - val_recall: 0.6851\n",
      "\n",
      "Epoch 00031: val_loss did not improve from 0.45790\n",
      "Epoch 32/50\n",
      "55/55 [==============================] - 4s 66ms/step - loss: 5.2853e-04 - accuracy: 1.0000 - precision: 1.0000 - recall: 1.0000 - val_loss: 1.5646 - val_accuracy: 0.6300 - val_precision: 0.6243 - val_recall: 0.6587\n",
      "\n",
      "Epoch 00032: val_loss did not improve from 0.45790\n",
      "Epoch 33/50\n",
      "55/55 [==============================] - 4s 70ms/step - loss: 4.7705e-04 - accuracy: 1.0000 - precision: 1.0000 - recall: 1.0000 - val_loss: 4.0611 - val_accuracy: 0.6260 - val_precision: 0.6176 - val_recall: 0.6338\n",
      "\n",
      "Epoch 00033: val_loss did not improve from 0.45790\n",
      "Epoch 34/50\n",
      "55/55 [==============================] - 4s 68ms/step - loss: 4.3503e-04 - accuracy: 1.0000 - precision: 1.0000 - recall: 1.0000 - val_loss: 1.6627 - val_accuracy: 0.6320 - val_precision: 0.6252 - val_recall: 0.6624\n",
      "\n",
      "Epoch 00034: val_loss did not improve from 0.45790\n",
      "Epoch 35/50\n",
      "55/55 [==============================] - 4s 65ms/step - loss: 3.9630e-04 - accuracy: 1.0000 - precision: 1.0000 - recall: 1.0000 - val_loss: 1.8520 - val_accuracy: 0.6280 - val_precision: 0.6252 - val_recall: 0.6453\n",
      "\n",
      "Epoch 00035: val_loss did not improve from 0.45790\n",
      "Epoch 36/50\n",
      "55/55 [==============================] - 4s 66ms/step - loss: 3.6631e-04 - accuracy: 1.0000 - precision: 1.0000 - recall: 1.0000 - val_loss: 1.5534 - val_accuracy: 0.6280 - val_precision: 0.6339 - val_recall: 0.6393\n",
      "\n",
      "Epoch 00036: val_loss did not improve from 0.45790\n",
      "Epoch 37/50\n",
      "55/55 [==============================] - 4s 64ms/step - loss: 3.3434e-04 - accuracy: 1.0000 - precision: 1.0000 - recall: 1.0000 - val_loss: 1.8122 - val_accuracy: 0.6300 - val_precision: 0.6276 - val_recall: 0.6578\n",
      "\n",
      "Epoch 00037: val_loss did not improve from 0.45790\n",
      "Epoch 38/50\n",
      "55/55 [==============================] - 4s 64ms/step - loss: 3.1338e-04 - accuracy: 1.0000 - precision: 1.0000 - recall: 1.0000 - val_loss: 2.7744 - val_accuracy: 0.6320 - val_precision: 0.6278 - val_recall: 0.6478\n",
      "\n",
      "Epoch 00038: val_loss did not improve from 0.45790\n",
      "Epoch 39/50\n",
      "55/55 [==============================] - 4s 65ms/step - loss: 2.8612e-04 - accuracy: 1.0000 - precision: 1.0000 - recall: 1.0000 - val_loss: 1.4946 - val_accuracy: 0.6300 - val_precision: 0.6296 - val_recall: 0.6467\n",
      "\n",
      "Epoch 00039: val_loss did not improve from 0.45790\n",
      "Epoch 40/50\n",
      "55/55 [==============================] - 4s 65ms/step - loss: 2.7512e-04 - accuracy: 1.0000 - precision: 1.0000 - recall: 1.0000 - val_loss: 3.8948 - val_accuracy: 0.6300 - val_precision: 0.6203 - val_recall: 0.6507\n",
      "\n",
      "Epoch 00040: val_loss did not improve from 0.45790\n",
      "Epoch 41/50\n",
      "55/55 [==============================] - 4s 64ms/step - loss: 2.5538e-04 - accuracy: 1.0000 - precision: 1.0000 - recall: 1.0000 - val_loss: 2.3042 - val_accuracy: 0.6280 - val_precision: 0.6321 - val_recall: 0.6485\n",
      "\n",
      "Epoch 00041: val_loss did not improve from 0.45790\n",
      "Epoch 42/50\n",
      "55/55 [==============================] - 4s 65ms/step - loss: 2.3218e-04 - accuracy: 1.0000 - precision: 1.0000 - recall: 1.0000 - val_loss: 2.2178 - val_accuracy: 0.6340 - val_precision: 0.6277 - val_recall: 0.6583\n",
      "\n",
      "Epoch 00042: val_loss did not improve from 0.45790\n",
      "Epoch 43/50\n",
      "55/55 [==============================] - 4s 64ms/step - loss: 2.1911e-04 - accuracy: 1.0000 - precision: 1.0000 - recall: 1.0000 - val_loss: 3.8690 - val_accuracy: 0.6320 - val_precision: 0.6271 - val_recall: 0.6560\n",
      "\n",
      "Epoch 00043: val_loss did not improve from 0.45790\n",
      "Epoch 44/50\n",
      "55/55 [==============================] - 4s 65ms/step - loss: 2.0276e-04 - accuracy: 1.0000 - precision: 1.0000 - recall: 1.0000 - val_loss: 2.5534 - val_accuracy: 0.6320 - val_precision: 0.6262 - val_recall: 0.6550\n",
      "\n",
      "Epoch 00044: val_loss did not improve from 0.45790\n",
      "Epoch 45/50\n",
      "55/55 [==============================] - 4s 64ms/step - loss: 1.8855e-04 - accuracy: 1.0000 - precision: 1.0000 - recall: 1.0000 - val_loss: 2.1418 - val_accuracy: 0.6280 - val_precision: 0.6204 - val_recall: 0.6543\n",
      "\n",
      "Epoch 00045: val_loss did not improve from 0.45790\n",
      "Epoch 46/50\n",
      "55/55 [==============================] - 4s 64ms/step - loss: 1.7940e-04 - accuracy: 1.0000 - precision: 1.0000 - recall: 1.0000 - val_loss: 2.8085 - val_accuracy: 0.6260 - val_precision: 0.6181 - val_recall: 0.6524\n",
      "\n",
      "Epoch 00046: val_loss did not improve from 0.45790\n",
      "Epoch 47/50\n",
      "55/55 [==============================] - 4s 64ms/step - loss: 1.6879e-04 - accuracy: 1.0000 - precision: 1.0000 - recall: 1.0000 - val_loss: 0.4102 - val_accuracy: 0.6280 - val_precision: 0.6189 - val_recall: 0.6646\n",
      "\n",
      "Epoch 00047: val_loss improved from 0.45790 to 0.41022, saving model to /Users/igor/Python/CNN-Architecture-Comparison/models/lenet5/cat-vs-dog/best/best-47-0.628000020980835.h5\n",
      "Epoch 48/50\n",
      "55/55 [==============================] - 4s 64ms/step - loss: 1.6656e-04 - accuracy: 1.0000 - precision: 1.0000 - recall: 1.0000 - val_loss: 5.0503 - val_accuracy: 0.6320 - val_precision: 0.6274 - val_recall: 0.6516\n",
      "\n",
      "Epoch 00048: val_loss did not improve from 0.41022\n",
      "Epoch 49/50\n",
      "55/55 [==============================] - 4s 64ms/step - loss: 1.4749e-04 - accuracy: 1.0000 - precision: 1.0000 - recall: 1.0000 - val_loss: 2.5274 - val_accuracy: 0.6340 - val_precision: 0.6375 - val_recall: 0.6565\n",
      "\n",
      "Epoch 00049: val_loss did not improve from 0.41022\n",
      "Epoch 50/50\n",
      "55/55 [==============================] - 4s 64ms/step - loss: 1.4098e-04 - accuracy: 1.0000 - precision: 1.0000 - recall: 1.0000 - val_loss: 4.6423 - val_accuracy: 0.6320 - val_precision: 0.6284 - val_recall: 0.6473\n",
      "\n",
      "Epoch 00050: val_loss did not improve from 0.41022\n"
     ]
    }
   ],
   "source": [
    "fit_result = model.fit_generator(\n",
    "    generator=dataset_generators.train,\n",
    "    epochs=fit_epochs,\n",
    "    validation_data=dataset_generators.test,\n",
    "    callbacks = model_callbacks\n",
    ")"
   ]
  },
  {
   "cell_type": "code",
   "execution_count": 8,
   "metadata": {
    "pycharm": {
     "name": "#%%\n"
    }
   },
   "outputs": [],
   "source": [
    "best_saved_model_path = get_best_model_from_directory(best_model_path)\n",
    "best_saved_model = keras.models.load_model(best_saved_model_path,\n",
    "    custom_objects= {\n",
    "        'precision': metrics.precision,\n",
    "        'recall': metrics.recall\n",
    "    }\n",
    ")\n",
    "validation_result = best_saved_model.evaluate_generator(\n",
    "    generator=dataset_generators.validate\n",
    ")"
   ]
  },
  {
   "cell_type": "markdown",
   "metadata": {
    "pycharm": {
     "name": "#%% md\n"
    }
   },
   "source": [
    "## Results"
   ]
  },
  {
   "cell_type": "markdown",
   "metadata": {},
   "source": [
    "### Epoch CSV"
   ]
  },
  {
   "cell_type": "code",
   "execution_count": 9,
   "metadata": {
    "pycharm": {
     "name": "#%%\n"
    }
   },
   "outputs": [
    {
     "name": "stdout",
     "output_type": "stream",
     "text": [
      "epoch,time,val_loss,val_accuracy,val_precision,val_recall,loss,accuracy,precision,recall\n",
      "0,0,0,0,0,0\n",
      "1,3.9531118869781494,0.5668475031852722,0.5540000200271606,0.6496279835700989,0.2604232132434845,0.9972691707611084,0.5777142643928528,0.5888401865959167,0.5797247886657715\n",
      "2,3.5480713844299316,0.6472967267036438,0.5920000076293945,0.5632696151733398,0.8157585859298706,0.6315700581414359,0.659428596496582,0.6700044274330139,0.6830713152885437\n",
      "3,3.6464598178863525,0.4579048156738281,0.6079999804496765,0.5898802280426025,0.7149057388305664,0.5563316562516348,0.7039999961853027,0.7057822942733765,0.7157973647117615\n",
      "4,3.7845969200134277,0.5174421072006226,0.6079999804496765,0.61244136095047,0.5651922821998596,0.5014796679360526,0.7491428852081299,0.752865731716156,0.782203197479248\n",
      "5,3.4973580837249756,0.6982275247573853,0.6179999709129333,0.6652979254722595,0.48870620131492615,0.4502823076929365,0.7822856903076172,0.80930495262146,0.7693669199943542\n",
      "6,3.5140280723571777,0.5888792872428894,0.6499999761581421,0.6918901801109314,0.5375249981880188,0.3774041339329311,0.8274285793304443,0.8318963050842285,0.8330492377281189\n",
      "7,3.4967050552368164,0.4848499894142151,0.6579999923706055,0.6590866446495056,0.6624252200126648,0.3267786185741425,0.8577142953872681,0.8678911328315735,0.8626347184181213\n",
      "8,3.5127720832824707,1.1041332483291626,0.6259999871253967,0.5846779346466064,0.7958555817604065,0.2578925245319094,0.8994285464286804,0.911020040512085,0.898224413394928\n",
      "9,3.4840309619903564,0.8573126792907715,0.6140000224113464,0.6135193109512329,0.6125869154930115,0.21860766116210392,0.9160000085830688,0.9215035438537598,0.9175996780395508\n",
      "10,3.4958479404449463,0.8437860608100891,0.6399999856948853,0.626026451587677,0.6719400882720947,0.15887186406339918,0.9451428651809692,0.9514961838722229,0.9408782124519348\n",
      "11,3.50962495803833,1.17278254032135,0.6259999871253967,0.6128637194633484,0.6831899285316467,0.10388118511012623,0.9697142839431763,0.9728706479072571,0.9675272107124329\n",
      "12,3.4886910915374756,1.3837724924087524,0.6299999952316284,0.6485424041748047,0.5910770297050476,0.0655401716870921,0.9817143082618713,0.9829530119895935,0.9809757471084595\n",
      "13,3.49208402633667,0.6512895822525024,0.6299999952316284,0.6338033676147461,0.5982546806335449,0.049135231799313,0.9897142648696899,0.9898282885551453,0.9909029006958008\n",
      "14,3.502614974975586,1.811117172241211,0.621999979019165,0.6036707758903503,0.6743190884590149,0.04489114705366748,0.9908571243286133,0.9918348789215088,0.9876444935798645\n",
      "15,3.481268882751465,1.010243535041809,0.6159999966621399,0.6036022901535034,0.7122103571891785,0.11449575792891639,0.9611428380012512,0.961225688457489,0.964366614818573\n",
      "16,3.527961015701294,1.2810070514678955,0.6340000033378601,0.6235304474830627,0.6300276517868042,0.04121458117025239,0.9937142729759216,0.990139901638031,0.9962528347969055\n",
      "17,3.514035940170288,1.3277761936187744,0.6320000290870667,0.6365824937820435,0.5981619358062744,0.015122059785893986,0.9988571405410767,0.9989305138587952,0.9979798197746277\n",
      "18,3.485819101333618,1.873569130897522,0.6299999952316284,0.6349899172782898,0.6260446906089783,0.007851518094007458,1.0,1.0,1.0\n",
      "19,3.5124149322509766,0.9021164178848267,0.6380000114440918,0.6366245746612549,0.6546521186828613,0.004294798033311963,1.0,1.0,1.0\n",
      "20,3.519322156906128,1.3651256561279297,0.6259999871253967,0.6161518692970276,0.644012987613678,0.0030568922742136885,1.0,1.0,1.0\n",
      "21,3.526573896408081,2.5263562202453613,0.6340000033378601,0.6250466704368591,0.6399623155593872,0.0024282931475234884,1.0,1.0,1.0\n",
      "22,3.6630859375,1.5663120746612549,0.6320000290870667,0.626401424407959,0.6543282866477966,0.0019225039121561816,1.0,1.0,1.0\n",
      "23,3.631646156311035,2.0197701454162598,0.6340000033378601,0.6116557717323303,0.6457277536392212,0.0015935485416225025,1.0,1.0,1.0\n",
      "24,3.530245304107666,2.6306207180023193,0.6320000290870667,0.6241915225982666,0.6548627614974976,0.001352967490309051,1.0,1.0,1.0\n",
      "25,3.5940661430358887,0.8282485008239746,0.628000020980835,0.6335881948471069,0.6720708012580872,0.0011236174280223037,1.0,1.0,1.0\n",
      "26,3.562286138534546,3.4517853260040283,0.6240000128746033,0.6215000152587891,0.6672655940055847,0.0010042290329667074,1.0,1.0,1.0\n",
      "27,3.540092945098877,1.420152187347412,0.6340000033378601,0.6283843517303467,0.6699497699737549,0.0008817861332957234,1.0,1.0,1.0\n",
      "28,3.5723559856414795,1.6378761529922485,0.6240000128746033,0.6284165382385254,0.6329523921012878,0.0008027410885718252,1.0,1.0,1.0\n",
      "29,3.5876309871673584,0.6632185578346252,0.6340000033378601,0.6204774379730225,0.6649859547615051,0.0006960566226459508,1.0,1.0,1.0\n",
      "30,3.5519721508026123,3.804626941680908,0.628000020980835,0.6185458302497864,0.6548117995262146,0.000652194611196007,1.0,1.0,1.0\n",
      "31,3.535675048828125,1.7339423894882202,0.6299999952316284,0.6186846494674683,0.6850869059562683,0.0005693050466610918,1.0,1.0,1.0\n",
      "32,3.6612420082092285,1.5645787715911865,0.6299999952316284,0.6242517232894897,0.6587274670600891,0.0005297038653599365,1.0,1.0,1.0\n",
      "33,3.898470163345337,4.061132907867432,0.6259999871253967,0.6176435947418213,0.6338174939155579,0.00047597596594797716,1.0,1.0,1.0\n",
      "34,3.7895379066467285,1.662706971168518,0.6320000290870667,0.6252021193504333,0.6623997092247009,0.00043428005311372023,1.0,1.0,1.0\n",
      "35,3.6070168018341064,1.85202157497406,0.628000020980835,0.6252231597900391,0.645257830619812,0.00039705784615528373,1.0,1.0,1.0\n",
      "36,3.662061929702759,1.5533595085144043,0.628000020980835,0.6338600516319275,0.6392567753791809,0.0003655924882872828,1.0,1.0,1.0\n",
      "37,3.55354380607605,1.8122103214263916,0.6299999952316284,0.6276221871376038,0.6577857136726379,0.00033471006570783045,1.0,1.0,1.0\n",
      "38,3.5577621459960938,2.774380922317505,0.6320000290870667,0.6277779936790466,0.647773027420044,0.00031422492110037375,1.0,1.0,1.0\n",
      "39,3.59871506690979,1.4945695400238037,0.6299999952316284,0.6296499371528625,0.6467067003250122,0.000286675193962375,1.0,1.0,1.0\n",
      "40,3.599813938140869,3.8947949409484863,0.6299999952316284,0.6203101873397827,0.6506513953208923,0.00027363081954951795,1.0,1.0,1.0\n",
      "41,3.540053129196167,2.3041725158691406,0.628000020980835,0.6320927143096924,0.6484925150871277,0.0002565455246991145,1.0,1.0,1.0\n",
      "42,3.5776960849761963,2.2178139686584473,0.6340000033378601,0.627722978591919,0.6583192348480225,0.00023263794059000378,1.0,1.0,1.0\n",
      "43,3.5410149097442627,3.8689627647399902,0.6320000290870667,0.6271010637283325,0.6560330390930176,0.0002181533496560795,1.0,1.0,1.0\n",
      "44,3.5784640312194824,2.5534141063690186,0.6320000290870667,0.6261634826660156,0.655045211315155,0.0002032529234503662,1.0,1.0,1.0\n",
      "45,3.537123680114746,2.141849994659424,0.628000020980835,0.6204308867454529,0.654262900352478,0.00018871902419985938,1.0,1.0,1.0\n",
      "46,3.5433170795440674,2.8085410594940186,0.6259999871253967,0.6181104183197021,0.6523976922035217,0.00017869261439357485,1.0,1.0,1.0\n",
      "47,3.5560109615325928,0.4102218747138977,0.628000020980835,0.6188681721687317,0.6646466851234436,0.00016878348173174476,1.0,1.0,1.0\n",
      "48,3.5348520278930664,5.050331115722656,0.6320000290870667,0.6274023652076721,0.651622474193573,0.00016608899785205722,1.0,1.0,1.0\n",
      "49,3.5294439792633057,2.527447462081909,0.6340000033378601,0.6374523639678955,0.6565413475036621,0.00014767099228421492,1.0,1.0,1.0\n",
      "50,3.5436930656433105,4.64232873916626,0.6320000290870667,0.6284185647964478,0.6473134756088257,0.0001410111017591719,1.0,1.0,1.0\n",
      "\n"
     ]
    }
   ],
   "source": [
    "csv_file_path = f'{paths.results_location}{network_name}/{dataset}-history.csv'\n",
    "export_learning_history_to_csv(csv_file_path, fit_result, time_callback.times)"
   ]
  },
  {
   "cell_type": "markdown",
   "metadata": {},
   "source": [
    "### Epoch plot"
   ]
  },
  {
   "cell_type": "code",
   "execution_count": 10,
   "metadata": {
    "collapsed": false,
    "jupyter": {
     "outputs_hidden": false
    },
    "pycharm": {
     "name": "#%%\n"
    }
   },
   "outputs": [
    {
     "data": {
      "image/png": "[encoded data removed]",
      "text/plain": [
       "<Figure size 432x288 with 1 Axes>"
      ]
     },
     "metadata": {
      "needs_background": "light"
     },
     "output_type": "display_data"
    },
    {
     "data": {
      "image/png": "[encoded data removed]",
      "text/plain": [
       "<Figure size 432x288 with 1 Axes>"
      ]
     },
     "metadata": {
      "needs_background": "light"
     },
     "output_type": "display_data"
    },
    {
     "data": {
      "image/png": "[encoded data removed]",
      "text/plain": [
       "<Figure size 432x288 with 1 Axes>"
      ]
     },
     "metadata": {
      "needs_background": "light"
     },
     "output_type": "display_data"
    },
    {
     "data": {
      "image/png": "[encoded data removed]",
      "text/plain": [
       "<Figure size 432x288 with 1 Axes>"
      ]
     },
     "metadata": {
      "needs_background": "light"
     },
     "output_type": "display_data"
    }
   ],
   "source": [
    "val_metrics_png_file_path = f'{paths.results_location}{network_name}/{dataset}-plot-val-metrics.png'\n",
    "val_loss_png_file_path = f'{paths.results_location}{network_name}/{dataset}-plot-val-loss.png'\n",
    "metrics_png_file_path = f'{paths.results_location}{network_name}/{dataset}-plot-metrics.png'\n",
    "loss_png_file_path = f'{paths.results_location}{network_name}/{dataset}-plot-loss.png'\n",
    "\n",
    "plot_learning_history_val_metrics(val_metrics_png_file_path, network_name, dataset, fit_result)\n",
    "plot_learning_history_val_loss(val_loss_png_file_path, network_name, dataset, fit_result)\n",
    "plot_learning_history_metrics(metrics_png_file_path, network_name, dataset, fit_result)\n",
    "plot_learning_history_loss(loss_png_file_path, network_name, dataset, fit_result)"
   ]
  },
  {
   "cell_type": "markdown",
   "metadata": {},
   "source": [
    "### Validation result"
   ]
  },
  {
   "cell_type": "code",
   "execution_count": 11,
   "metadata": {
    "pycharm": {
     "name": "#%%\n"
    }
   },
   "outputs": [
    {
     "name": "stdout",
     "output_type": "stream",
     "text": [
      "avg_epoch_time,time,val_loss,val_accuracy,val_precision,val_recall\n",
      "3.5734456539154054,178.67228269577026,2.926726818084717,0.6119999885559082,0.6073252558708191,0.656535267829895\n"
     ]
    }
   ],
   "source": [
    "csv_file_path = f'{paths.results_location}{network_name}/{dataset}-result.csv'\n",
    "export_learning_validation_result_to_csv(csv_file_path, validation_result, time_callback.times)"
   ]
  }
 ],
 "metadata": {
  "kernelspec": {
   "display_name": "Python 3",
   "language": "python",
   "name": "python3"
  },
  "language_info": {
   "codemirror_mode": {
    "name": "ipython",
    "version": 3
   },
   "file_extension": ".py",
   "mimetype": "text/x-python",
   "name": "python",
   "nbconvert_exporter": "python",
   "pygments_lexer": "ipython3",
   "version": "3.7.7"
  }
 },
 "nbformat": 4,
 "nbformat_minor": 4
}