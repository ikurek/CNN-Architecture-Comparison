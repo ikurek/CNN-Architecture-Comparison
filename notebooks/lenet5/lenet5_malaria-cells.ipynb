{
 "cells": [
  {
   "cell_type": "code",
   "execution_count": 1,
   "metadata": {
    "collapsed": false,
    "jupyter": {
     "outputs_hidden": false
    },
    "pycharm": {
     "name": "#%%\n"
    }
   },
   "outputs": [],
   "source": [
    "import sys\n",
    "sys.path.extend(['..', '../', '../..', '../../' ])\n",
    "%load_ext autoreload\n",
    "%autoreload 2"
   ]
  },
  {
   "cell_type": "markdown",
   "metadata": {},
   "source": [
    "# LeNet5 - Malaria Cells"
   ]
  },
  {
   "cell_type": "code",
   "execution_count": 2,
   "metadata": {
    "pycharm": {
     "name": "#%%\n"
    }
   },
   "outputs": [
    {
     "name": "stderr",
     "output_type": "stream",
     "text": [
      "Using TensorFlow backend.\n"
     ]
    }
   ],
   "source": [
    "import paths\n",
    "import keras\n",
    "from src.parameters import metrics\n",
    "from src.datasets.dataset_generators import DatasetGenerators\n",
    "from src.keras_callback.time_history import TimeHistory\n",
    "from src.export.csv_export import export_learning_history_to_csv, export_learning_validation_result_to_csv\n",
    "from src.export.model_export import clear_exported_models\n",
    "from src.keras_model.lenet5_network import LeNet5Network"
   ]
  },
  {
   "cell_type": "code",
   "execution_count": 3,
   "metadata": {
    "pycharm": {
     "name": "#%%\n"
    }
   },
   "outputs": [],
   "source": [
    "network_name = 'lenet5'\n",
    "fit_epochs = 50\n",
    "dataset = 'malaria-cells'\n",
    "dataset_percentage = '5'"
   ]
  },
  {
   "cell_type": "code",
   "execution_count": 4,
   "metadata": {
    "pycharm": {
     "name": "#%%\n"
    }
   },
   "outputs": [],
   "source": [
    "network = LeNet5Network()"
   ]
  },
  {
   "cell_type": "code",
   "execution_count": 5,
   "metadata": {
    "pycharm": {
     "name": "#%%\n"
    }
   },
   "outputs": [
    {
     "name": "stdout",
     "output_type": "stream",
     "text": [
      "Loading train set for malaria-cells_5...\n",
      "Found 966 images belonging to 2 classes.\n",
      "Loading test set for malaria-cells_5...\n",
      "Found 276 images belonging to 2 classes.\n",
      "Loading validation set for malaria-cells_5...\n",
      "Found 138 images belonging to 2 classes.\n"
     ]
    }
   ],
   "source": [
    "dataset_generators = DatasetGenerators(\n",
    "    name=f'{dataset}_{dataset_percentage}',\n",
    "    dataset_dir=paths.data_location,\n",
    "    image_size=network.image_size,\n",
    "    batch_size=network.batch_size,\n",
    "    grayscale=network.grayscale\n",
    ")"
   ]
  },
  {
   "cell_type": "code",
   "execution_count": 6,
   "metadata": {
    "pycharm": {
     "name": "#%%\n"
    }
   },
   "outputs": [],
   "source": [
    "model = network.get_compiled_model(\n",
    "    classes=dataset_generators.test.num_classes\n",
    ")"
   ]
  },
  {
   "cell_type": "code",
   "execution_count": 7,
   "metadata": {
    "pycharm": {
     "name": "#%%\n"
    }
   },
   "outputs": [],
   "source": [
    "checkpoint_path = f'{paths.models_location}{network_name}/{dataset}/'\n",
    "best_model_path = f'{checkpoint_path}best.h5'\n",
    "clear_exported_models(checkpoint_path)\n",
    "\n",
    "checkpoint_callback = keras.callbacks.ModelCheckpoint(\n",
    "    filepath=f'{checkpoint_path}{{epoch:02d}}-{{val_accuracy}}.h5',\n",
    "    save_best_only=False,\n",
    "    save_weights_only=False\n",
    ")\n",
    "\n",
    "best_callback = keras.callbacks.ModelCheckpoint(\n",
    "    filepath=best_model_path,\n",
    "    save_best_only=True,\n",
    "    verbose=1,\n",
    "    save_weights_only=False\n",
    ")\n",
    "\n",
    "time_callback = TimeHistory()\n",
    "\n",
    "model_callbacks = [checkpoint_callback, best_callback, time_callback]"
   ]
  },
  {
   "cell_type": "code",
   "execution_count": 8,
   "metadata": {
    "pycharm": {
     "is_executing": true,
     "name": "#%%\n"
    }
   },
   "outputs": [
    {
     "name": "stdout",
     "output_type": "stream",
     "text": [
      "Epoch 1/50\n",
      "31/31 [==============================] - 2s 67ms/step - loss: 0.7981 - accuracy: 0.5745 - precision: 0.5590 - recall: 0.5766 - val_loss: 0.5603 - val_accuracy: 0.6449 - val_precision: 0.6175 - val_recall: 0.7641\n",
      "\n",
      "Epoch 00001: val_loss improved from inf to 0.56035, saving model to /Users/igor/Python/CNN-Architecture-Comparison/models/lenet5/malaria-cells/best.h5\n",
      "Epoch 2/50\n",
      "31/31 [==============================] - 1s 46ms/step - loss: 0.5751 - accuracy: 0.7081 - precision: 0.7207 - recall: 0.7518 - val_loss: 0.7214 - val_accuracy: 0.7174 - val_precision: 0.6954 - val_recall: 0.7866\n",
      "\n",
      "Epoch 00002: val_loss did not improve from 0.56035\n",
      "Epoch 3/50\n",
      "31/31 [==============================] - 1s 46ms/step - loss: 0.4665 - accuracy: 0.7919 - precision: 0.7702 - recall: 0.8475 - val_loss: 0.6693 - val_accuracy: 0.7645 - val_precision: 0.8457 - val_recall: 0.6332\n",
      "\n",
      "Epoch 00003: val_loss did not improve from 0.56035\n",
      "Epoch 4/50\n",
      "31/31 [==============================] - 2s 57ms/step - loss: 0.4607 - accuracy: 0.7940 - precision: 0.7896 - recall: 0.7847 - val_loss: 1.1356 - val_accuracy: 0.7065 - val_precision: 0.8846 - val_recall: 0.4668\n",
      "\n",
      "Epoch 00004: val_loss did not improve from 0.56035\n",
      "Epoch 5/50\n",
      "31/31 [==============================] - 2s 64ms/step - loss: 0.4019 - accuracy: 0.8137 - precision: 0.8201 - recall: 0.8162 - val_loss: 0.8061 - val_accuracy: 0.7464 - val_precision: 0.7438 - val_recall: 0.7508\n",
      "\n",
      "Epoch 00005: val_loss did not improve from 0.56035\n",
      "Epoch 6/50\n",
      "31/31 [==============================] - 2s 61ms/step - loss: 0.3279 - accuracy: 0.8602 - precision: 0.8598 - recall: 0.8790 - val_loss: 0.3348 - val_accuracy: 0.7391 - val_precision: 0.7676 - val_recall: 0.7233\n",
      "\n",
      "Epoch 00006: val_loss improved from 0.56035 to 0.33477, saving model to /Users/igor/Python/CNN-Architecture-Comparison/models/lenet5/malaria-cells/best.h5\n",
      "Epoch 7/50\n",
      "31/31 [==============================] - 2s 64ms/step - loss: 0.2906 - accuracy: 0.8892 - precision: 0.8888 - recall: 0.9047 - val_loss: 0.4051 - val_accuracy: 0.7428 - val_precision: 0.7434 - val_recall: 0.7370\n",
      "\n",
      "Epoch 00007: val_loss did not improve from 0.33477\n",
      "Epoch 8/50\n",
      "31/31 [==============================] - 2s 61ms/step - loss: 0.2389 - accuracy: 0.9006 - precision: 0.8892 - recall: 0.9269 - val_loss: 0.3781 - val_accuracy: 0.7609 - val_precision: 0.7496 - val_recall: 0.7629\n",
      "\n",
      "Epoch 00008: val_loss did not improve from 0.33477\n",
      "Epoch 9/50\n",
      "31/31 [==============================] - 2s 72ms/step - loss: 0.2017 - accuracy: 0.9275 - precision: 0.9108 - recall: 0.9547 - val_loss: 0.5157 - val_accuracy: 0.7681 - val_precision: 0.7821 - val_recall: 0.7504\n",
      "\n",
      "Epoch 00009: val_loss did not improve from 0.33477\n",
      "Epoch 10/50\n",
      "31/31 [==============================] - 2s 65ms/step - loss: 0.1868 - accuracy: 0.9244 - precision: 0.9108 - recall: 0.9413 - val_loss: 0.5446 - val_accuracy: 0.7754 - val_precision: 0.8034 - val_recall: 0.7519\n",
      "\n",
      "Epoch 00010: val_loss did not improve from 0.33477\n",
      "Epoch 11/50\n",
      "31/31 [==============================] - 2s 65ms/step - loss: 0.1892 - accuracy: 0.9286 - precision: 0.9291 - recall: 0.9431 - val_loss: 1.2513 - val_accuracy: 0.7572 - val_precision: 0.7092 - val_recall: 0.8379\n",
      "\n",
      "Epoch 00011: val_loss did not improve from 0.33477\n",
      "Epoch 12/50\n",
      "31/31 [==============================] - 2s 68ms/step - loss: 0.1831 - accuracy: 0.9348 - precision: 0.9338 - recall: 0.9426 - val_loss: 0.4051 - val_accuracy: 0.7862 - val_precision: 0.7787 - val_recall: 0.7684\n",
      "\n",
      "Epoch 00012: val_loss did not improve from 0.33477\n",
      "Epoch 13/50\n",
      "31/31 [==============================] - 2s 69ms/step - loss: 0.1355 - accuracy: 0.9513 - precision: 0.9482 - recall: 0.9606 - val_loss: 1.0091 - val_accuracy: 0.7681 - val_precision: 0.7944 - val_recall: 0.7153\n",
      "\n",
      "Epoch 00013: val_loss did not improve from 0.33477\n",
      "Epoch 14/50\n",
      "31/31 [==============================] - 2s 61ms/step - loss: 0.0888 - accuracy: 0.9710 - precision: 0.9600 - recall: 0.9844 - val_loss: 0.6646 - val_accuracy: 0.7645 - val_precision: 0.8286 - val_recall: 0.6959\n",
      "\n",
      "Epoch 00014: val_loss did not improve from 0.33477\n",
      "Epoch 15/50\n",
      "31/31 [==============================] - 2s 63ms/step - loss: 0.0658 - accuracy: 0.9814 - precision: 0.9799 - recall: 0.9861 - val_loss: 0.6863 - val_accuracy: 0.7717 - val_precision: 0.7755 - val_recall: 0.7562\n",
      "\n",
      "Epoch 00015: val_loss did not improve from 0.33477\n",
      "Epoch 16/50\n",
      "31/31 [==============================] - 2s 61ms/step - loss: 0.0660 - accuracy: 0.9793 - precision: 0.9693 - recall: 0.9932 - val_loss: 0.9695 - val_accuracy: 0.7790 - val_precision: 0.8323 - val_recall: 0.6884\n",
      "\n",
      "Epoch 00016: val_loss did not improve from 0.33477\n",
      "Epoch 17/50\n",
      "31/31 [==============================] - 2s 67ms/step - loss: 0.0453 - accuracy: 0.9917 - precision: 0.9876 - recall: 0.9953 - val_loss: 1.8557 - val_accuracy: 0.7790 - val_precision: 0.7994 - val_recall: 0.7147\n",
      "\n",
      "Epoch 00017: val_loss did not improve from 0.33477\n",
      "Epoch 18/50\n",
      "31/31 [==============================] - 2s 70ms/step - loss: 0.0430 - accuracy: 0.9896 - precision: 0.9862 - recall: 0.9939 - val_loss: 0.6751 - val_accuracy: 0.7717 - val_precision: 0.7578 - val_recall: 0.8055\n",
      "\n",
      "Epoch 00018: val_loss did not improve from 0.33477\n",
      "Epoch 19/50\n",
      "31/31 [==============================] - 2s 60ms/step - loss: 0.0310 - accuracy: 0.9959 - precision: 0.9941 - recall: 0.9980 - val_loss: 0.1258 - val_accuracy: 0.7862 - val_precision: 0.7942 - val_recall: 0.7916\n",
      "\n",
      "Epoch 00019: val_loss improved from 0.33477 to 0.12580, saving model to /Users/igor/Python/CNN-Architecture-Comparison/models/lenet5/malaria-cells/best.h5\n",
      "Epoch 20/50\n",
      "31/31 [==============================] - 2s 69ms/step - loss: 0.0210 - accuracy: 0.9979 - precision: 0.9962 - recall: 1.0000 - val_loss: 1.1551 - val_accuracy: 0.7645 - val_precision: 0.7962 - val_recall: 0.6985\n",
      "\n",
      "Epoch 00020: val_loss did not improve from 0.12580\n",
      "Epoch 21/50\n",
      "31/31 [==============================] - 2s 71ms/step - loss: 0.0201 - accuracy: 0.9990 - precision: 0.9978 - recall: 1.0000 - val_loss: 0.1957 - val_accuracy: 0.7935 - val_precision: 0.7893 - val_recall: 0.8022\n",
      "\n",
      "Epoch 00021: val_loss did not improve from 0.12580\n",
      "Epoch 22/50\n",
      "31/31 [==============================] - 2s 61ms/step - loss: 0.0128 - accuracy: 0.9990 - precision: 0.9980 - recall: 1.0000 - val_loss: 0.4577 - val_accuracy: 0.7826 - val_precision: 0.8095 - val_recall: 0.7530\n",
      "\n",
      "Epoch 00022: val_loss did not improve from 0.12580\n",
      "Epoch 23/50\n",
      "31/31 [==============================] - 2s 53ms/step - loss: 0.0171 - accuracy: 0.9979 - precision: 0.9983 - recall: 0.9981 - val_loss: 1.0181 - val_accuracy: 0.7500 - val_precision: 0.8246 - val_recall: 0.6118\n",
      "\n",
      "Epoch 00023: val_loss did not improve from 0.12580\n",
      "Epoch 24/50\n",
      "31/31 [==============================] - 2s 53ms/step - loss: 0.0290 - accuracy: 0.9928 - precision: 0.9930 - recall: 0.9933 - val_loss: 1.8723 - val_accuracy: 0.7283 - val_precision: 0.8117 - val_recall: 0.5993\n",
      "\n",
      "Epoch 00024: val_loss did not improve from 0.12580\n",
      "Epoch 25/50\n",
      "31/31 [==============================] - 2s 51ms/step - loss: 0.0154 - accuracy: 0.9969 - precision: 0.9952 - recall: 0.9984 - val_loss: 3.4532 - val_accuracy: 0.7645 - val_precision: 0.7796 - val_recall: 0.7317\n",
      "\n",
      "Epoch 00025: val_loss did not improve from 0.12580\n",
      "Epoch 26/50\n",
      "31/31 [==============================] - 1s 44ms/step - loss: 0.0156 - accuracy: 0.9979 - precision: 1.0000 - recall: 0.9955 - val_loss: 2.0376 - val_accuracy: 0.7717 - val_precision: 0.7524 - val_recall: 0.8236\n",
      "\n",
      "Epoch 00026: val_loss did not improve from 0.12580\n",
      "Epoch 27/50\n",
      "31/31 [==============================] - 2s 54ms/step - loss: 0.0298 - accuracy: 0.9928 - precision: 0.9908 - recall: 0.9941 - val_loss: 2.1306 - val_accuracy: 0.7391 - val_precision: 0.8267 - val_recall: 0.6278\n",
      "\n",
      "Epoch 00027: val_loss did not improve from 0.12580\n",
      "Epoch 28/50\n",
      "31/31 [==============================] - 2s 50ms/step - loss: 0.0295 - accuracy: 0.9886 - precision: 0.9906 - recall: 0.9891 - val_loss: 0.2462 - val_accuracy: 0.7645 - val_precision: 0.7603 - val_recall: 0.7712\n",
      "\n",
      "Epoch 00028: val_loss did not improve from 0.12580\n",
      "Epoch 29/50\n",
      "31/31 [==============================] - 2s 51ms/step - loss: 0.0278 - accuracy: 0.9928 - precision: 0.9910 - recall: 0.9937 - val_loss: 1.8640 - val_accuracy: 0.7971 - val_precision: 0.8117 - val_recall: 0.7789\n",
      "\n",
      "Epoch 00029: val_loss did not improve from 0.12580\n",
      "Epoch 30/50\n",
      "31/31 [==============================] - 2s 53ms/step - loss: 0.0247 - accuracy: 0.9938 - precision: 0.9960 - recall: 0.9926 - val_loss: 0.7910 - val_accuracy: 0.7826 - val_precision: 0.7958 - val_recall: 0.7530\n",
      "\n",
      "Epoch 00030: val_loss did not improve from 0.12580\n",
      "Epoch 31/50\n",
      "31/31 [==============================] - 2s 55ms/step - loss: 0.0415 - accuracy: 0.9876 - precision: 0.9871 - recall: 0.9851 - val_loss: 1.5528 - val_accuracy: 0.7862 - val_precision: 0.8056 - val_recall: 0.7365\n",
      "\n",
      "Epoch 00031: val_loss did not improve from 0.12580\n",
      "Epoch 32/50\n",
      "31/31 [==============================] - 2s 57ms/step - loss: 0.0324 - accuracy: 0.9938 - precision: 0.9883 - recall: 0.9950 - val_loss: 1.5158 - val_accuracy: 0.7754 - val_precision: 0.8355 - val_recall: 0.7040\n",
      "\n",
      "Epoch 00032: val_loss did not improve from 0.12580\n",
      "Epoch 33/50\n",
      "31/31 [==============================] - 2s 50ms/step - loss: 0.1941 - accuracy: 0.9255 - precision: 0.9299 - recall: 0.9331 - val_loss: 1.2411 - val_accuracy: 0.7826 - val_precision: 0.7649 - val_recall: 0.7531\n",
      "\n",
      "Epoch 00033: val_loss did not improve from 0.12580\n",
      "Epoch 34/50\n",
      "31/31 [==============================] - 2s 51ms/step - loss: 0.0414 - accuracy: 0.9907 - precision: 0.9900 - recall: 0.9926 - val_loss: 0.0653 - val_accuracy: 0.8188 - val_precision: 0.8564 - val_recall: 0.7886\n",
      "\n",
      "Epoch 00034: val_loss improved from 0.12580 to 0.06528, saving model to /Users/igor/Python/CNN-Architecture-Comparison/models/lenet5/malaria-cells/best.h5\n",
      "Epoch 35/50\n",
      "31/31 [==============================] - 2s 72ms/step - loss: 0.0098 - accuracy: 1.0000 - precision: 1.0000 - recall: 1.0000 - val_loss: 0.6110 - val_accuracy: 0.7971 - val_precision: 0.8421 - val_recall: 0.7452\n",
      "\n",
      "Epoch 00035: val_loss did not improve from 0.06528\n",
      "Epoch 36/50\n",
      "31/31 [==============================] - 2s 48ms/step - loss: 0.0037 - accuracy: 1.0000 - precision: 1.0000 - recall: 1.0000 - val_loss: 0.3462 - val_accuracy: 0.7935 - val_precision: 0.8212 - val_recall: 0.7552\n",
      "\n",
      "Epoch 00036: val_loss did not improve from 0.06528\n",
      "Epoch 37/50\n",
      "31/31 [==============================] - 1s 37ms/step - loss: 0.0024 - accuracy: 1.0000 - precision: 1.0000 - recall: 1.0000 - val_loss: 2.5500 - val_accuracy: 0.8007 - val_precision: 0.8414 - val_recall: 0.7453\n",
      "\n",
      "Epoch 00037: val_loss did not improve from 0.06528\n",
      "Epoch 38/50\n",
      "31/31 [==============================] - 1s 38ms/step - loss: 0.0018 - accuracy: 1.0000 - precision: 1.0000 - recall: 1.0000 - val_loss: 0.5011 - val_accuracy: 0.7971 - val_precision: 0.8424 - val_recall: 0.7444\n",
      "\n",
      "Epoch 00038: val_loss did not improve from 0.06528\n",
      "Epoch 39/50\n",
      "31/31 [==============================] - 1s 44ms/step - loss: 0.0014 - accuracy: 1.0000 - precision: 1.0000 - recall: 1.0000 - val_loss: 1.9369 - val_accuracy: 0.7971 - val_precision: 0.8498 - val_recall: 0.7496\n",
      "\n",
      "Epoch 00039: val_loss did not improve from 0.06528\n",
      "Epoch 40/50\n",
      "31/31 [==============================] - 1s 41ms/step - loss: 0.0013 - accuracy: 1.0000 - precision: 1.0000 - recall: 1.0000 - val_loss: 3.7393 - val_accuracy: 0.8080 - val_precision: 0.8461 - val_recall: 0.7703\n",
      "\n",
      "Epoch 00040: val_loss did not improve from 0.06528\n",
      "Epoch 41/50\n",
      "31/31 [==============================] - 1s 39ms/step - loss: 0.0010 - accuracy: 1.0000 - precision: 1.0000 - recall: 1.0000 - val_loss: 0.9714 - val_accuracy: 0.8043 - val_precision: 0.8522 - val_recall: 0.7414\n",
      "\n",
      "Epoch 00041: val_loss did not improve from 0.06528\n",
      "Epoch 42/50\n",
      "31/31 [==============================] - 1s 39ms/step - loss: 9.4968e-04 - accuracy: 1.0000 - precision: 0.9677 - recall: 0.9677 - val_loss: 0.6666 - val_accuracy: 0.8007 - val_precision: 0.8480 - val_recall: 0.7615\n",
      "\n",
      "Epoch 00042: val_loss did not improve from 0.06528\n",
      "Epoch 43/50\n",
      "31/31 [==============================] - 1s 39ms/step - loss: 8.8607e-04 - accuracy: 1.0000 - precision: 1.0000 - recall: 1.0000 - val_loss: 0.9051 - val_accuracy: 0.8152 - val_precision: 0.8506 - val_recall: 0.7892\n",
      "\n",
      "Epoch 00043: val_loss did not improve from 0.06528\n",
      "Epoch 44/50\n",
      "31/31 [==============================] - 1s 39ms/step - loss: 7.6979e-04 - accuracy: 1.0000 - precision: 1.0000 - recall: 1.0000 - val_loss: 1.2953 - val_accuracy: 0.8007 - val_precision: 0.8412 - val_recall: 0.7498\n",
      "\n",
      "Epoch 00044: val_loss did not improve from 0.06528\n",
      "Epoch 45/50\n",
      "31/31 [==============================] - 1s 39ms/step - loss: 7.0183e-04 - accuracy: 1.0000 - precision: 1.0000 - recall: 1.0000 - val_loss: 2.2834 - val_accuracy: 0.8043 - val_precision: 0.8295 - val_recall: 0.7432\n",
      "\n",
      "Epoch 00045: val_loss did not improve from 0.06528\n",
      "Epoch 46/50\n",
      "31/31 [==============================] - 1s 42ms/step - loss: 6.4092e-04 - accuracy: 1.0000 - precision: 1.0000 - recall: 1.0000 - val_loss: 2.7276 - val_accuracy: 0.8043 - val_precision: 0.8392 - val_recall: 0.7383\n",
      "\n",
      "Epoch 00046: val_loss did not improve from 0.06528\n",
      "Epoch 47/50\n",
      "31/31 [==============================] - 1s 40ms/step - loss: 5.8291e-04 - accuracy: 1.0000 - precision: 1.0000 - recall: 1.0000 - val_loss: 0.4726 - val_accuracy: 0.8043 - val_precision: 0.8417 - val_recall: 0.7598\n",
      "\n",
      "Epoch 00047: val_loss did not improve from 0.06528\n",
      "Epoch 48/50\n",
      "31/31 [==============================] - 1s 40ms/step - loss: 5.5210e-04 - accuracy: 1.0000 - precision: 1.0000 - recall: 1.0000 - val_loss: 0.7021 - val_accuracy: 0.8007 - val_precision: 0.8421 - val_recall: 0.7520\n",
      "\n",
      "Epoch 00048: val_loss did not improve from 0.06528\n",
      "Epoch 49/50\n",
      "31/31 [==============================] - 1s 42ms/step - loss: 4.9857e-04 - accuracy: 1.0000 - precision: 1.0000 - recall: 1.0000 - val_loss: 0.4999 - val_accuracy: 0.8080 - val_precision: 0.8415 - val_recall: 0.7770\n",
      "\n",
      "Epoch 00049: val_loss did not improve from 0.06528\n",
      "Epoch 50/50\n",
      "31/31 [==============================] - 1s 37ms/step - loss: 4.6265e-04 - accuracy: 1.0000 - precision: 1.0000 - recall: 1.0000 - val_loss: 2.7642 - val_accuracy: 0.8043 - val_precision: 0.8192 - val_recall: 0.7270\n",
      "\n",
      "Epoch 00050: val_loss did not improve from 0.06528\n"
     ]
    }
   ],
   "source": [
    "fit_result = model.fit_generator(\n",
    "    generator=dataset_generators.train,\n",
    "    epochs=fit_epochs,\n",
    "    validation_data=dataset_generators.test,\n",
    "    callbacks = model_callbacks\n",
    ")"
   ]
  },
  {
   "cell_type": "code",
   "execution_count": 9,
   "metadata": {
    "pycharm": {
     "name": "#%%\n"
    }
   },
   "outputs": [],
   "source": [
    "best_model = keras.models.load_model(best_model_path,\n",
    "    custom_objects= {\n",
    "        'precision': metrics.precision,\n",
    "        'recall': metrics.recall\n",
    "    }\n",
    ")\n",
    "validation_result = best_model.evaluate_generator(\n",
    "    generator=dataset_generators.validate\n",
    ")"
   ]
  },
  {
   "cell_type": "markdown",
   "metadata": {
    "pycharm": {
     "name": "#%% md\n"
    }
   },
   "source": [
    "## Results"
   ]
  },
  {
   "cell_type": "markdown",
   "metadata": {
    "pycharm": {
     "name": "#%% md\n"
    }
   },
   "source": [
    "### Epoch CSV"
   ]
  },
  {
   "cell_type": "code",
   "execution_count": 10,
   "metadata": {
    "pycharm": {
     "name": "#%%\n"
    }
   },
   "outputs": [
    {
     "name": "stdout",
     "output_type": "stream",
     "text": [
      "epoch, time, val_loss, val_accuracy, val_precision, val_recall\n",
      "0,0,0,0,0,0\n",
      "1,2.190312147140503,0.560345470905304,0.6449275612831116,0.6175258159637451,0.7641382217407227\n",
      "2,1.4623489379882812,0.7213678956031799,0.717391312122345,0.6954374313354492,0.7866097092628479\n",
      "3,1.4621691703796387,0.6692983508110046,0.7644927501678467,0.8457061648368835,0.6332299709320068\n",
      "4,1.7867991924285889,1.135623574256897,0.70652174949646,0.8845679759979248,0.46676328778266907\n",
      "5,2.0211880207061768,0.8061447143554688,0.7463768124580383,0.7437801957130432,0.7508230209350586\n",
      "6,1.9776270389556885,0.33477431535720825,0.739130437374115,0.7676001191139221,0.7232851982116699\n",
      "7,2.0036628246307373,0.4050665497779846,0.7427536249160767,0.7433984279632568,0.7369751930236816\n",
      "8,1.9339630603790283,0.37809988856315613,0.760869562625885,0.7496327757835388,0.7629311084747314\n",
      "9,2.2632691860198975,0.5157225728034973,0.7681159377098083,0.7820661664009094,0.7503905296325684\n",
      "10,2.0489141941070557,0.5445934534072876,0.7753623127937317,0.8034231662750244,0.7518518567085266\n",
      "11,2.055079936981201,1.2513271570205688,0.7572463750839233,0.7091698050498962,0.8378679752349854\n",
      "12,2.160823106765747,0.40510788559913635,0.7862318754196167,0.7786954045295715,0.7683857083320618\n",
      "13,2.1624739170074463,1.009103536605835,0.7681159377098083,0.7943710684776306,0.715288519859314\n",
      "14,1.928915023803711,0.6645784378051758,0.7644927501678467,0.8286224007606506,0.6958763003349304\n",
      "15,1.9893581867218018,0.6862867474555969,0.77173912525177,0.7754769921302795,0.7561953067779541\n",
      "16,1.9501287937164307,0.9695361852645874,0.7789855003356934,0.8323004841804504,0.6884456872940063\n",
      "17,2.117255926132202,1.855703353881836,0.7789855003356934,0.7994005084037781,0.7147476673126221\n",
      "18,2.192121744155884,0.6750707626342773,0.77173912525177,0.7577700018882751,0.8054518103599548\n",
      "19,1.9340741634368896,0.1258031576871872,0.7862318754196167,0.7941913604736328,0.7916387915611267\n",
      "20,2.184683084487915,1.1550540924072266,0.7644927501678467,0.7962487936019897,0.6984608173370361\n",
      "21,2.227318048477173,0.19565312564373016,0.79347825050354,0.7893497943878174,0.8022221326828003\n",
      "22,1.9137229919433594,0.4577040672302246,0.782608687877655,0.8094916939735413,0.752997100353241\n",
      "23,1.673192024230957,1.018053650856018,0.75,0.8245551586151123,0.611766517162323\n",
      "24,1.689551830291748,1.8723328113555908,0.72826087474823,0.8117165565490723,0.5993495583534241\n",
      "25,1.5979108810424805,3.4531569480895996,0.7644927501678467,0.779629647731781,0.731688380241394\n",
      "26,1.3990118503570557,2.0376265048980713,0.77173912525177,0.7523679733276367,0.823625922203064\n",
      "27,1.7058968544006348,2.130579948425293,0.739130437374115,0.8266554474830627,0.6277675628662109\n",
      "28,1.5728530883789062,0.24615180492401123,0.7644927501678467,0.7602730393409729,0.7711505889892578\n",
      "29,1.622056007385254,1.8639529943466187,0.7971014380455017,0.8117284178733826,0.7789444923400879\n",
      "30,1.683603048324585,0.7909708023071289,0.782608687877655,0.7958333492279053,0.7530471682548523\n",
      "31,1.7453320026397705,1.5528478622436523,0.7862318754196167,0.8055599331855774,0.736473798751831\n",
      "32,1.795238971710205,1.5158202648162842,0.7753623127937317,0.8355019092559814,0.7039844393730164\n",
      "33,1.5780282020568848,1.2411394119262695,0.782608687877655,0.7649482488632202,0.7531242370605469\n",
      "34,1.6580321788787842,0.0652809739112854,0.8188405632972717,0.8563770651817322,0.7885802388191223\n",
      "35,2.2795369625091553,0.6110252141952515,0.7971014380455017,0.8421266078948975,0.7451819181442261\n",
      "36,1.5311598777770996,0.3461730480194092,0.79347825050354,0.8211925029754639,0.7552175521850586\n",
      "37,1.1832940578460693,2.5499768257141113,0.8007246255874634,0.8413563370704651,0.7453200817108154\n",
      "38,1.2377088069915771,0.5011059641838074,0.7971014380455017,0.8424240946769714,0.7444096803665161\n",
      "39,1.396819829940796,1.936852216720581,0.7971014380455017,0.8498427867889404,0.7495661377906799\n",
      "40,1.2971980571746826,3.7392985820770264,0.8079710006713867,0.8461445569992065,0.7703378200531006\n",
      "41,1.2262890338897705,0.971413254737854,0.804347813129425,0.8522096872329712,0.7414486408233643\n",
      "42,1.2460103034973145,0.6665902137756348,0.8007246255874634,0.8479637503623962,0.7614842057228088\n",
      "43,1.2245879173278809,0.9051462411880493,0.8152173757553101,0.8505641222000122,0.7892001867294312\n",
      "44,1.2238240242004395,1.2952549457550049,0.8007246255874634,0.8412155508995056,0.7497937679290771\n",
      "45,1.2406079769134521,2.283377170562744,0.804347813129425,0.8295388221740723,0.7432383298873901\n",
      "46,1.3296921253204346,2.7276368141174316,0.804347813129425,0.8391901850700378,0.7383162975311279\n",
      "47,1.2692499160766602,0.47260481119155884,0.804347813129425,0.8416696786880493,0.7598250508308411\n",
      "48,1.2599248886108398,0.7020925879478455,0.8007246255874634,0.8420609831809998,0.7519862055778503\n",
      "49,1.3248026371002197,0.49991288781166077,0.8079710006713867,0.8415433764457703,0.7770443558692932\n",
      "50,1.1907949447631836,2.764204263687134,0.804347813129425,0.8192375302314758,0.7269567251205444\n",
      "\n"
     ]
    }
   ],
   "source": [
    "csv_file_path = f'{paths.results_location}{network_name}/{dataset}-history.csv'\n",
    "export_learning_history_to_csv(csv_file_path, fit_result, time_callback.times)"
   ]
  },
  {
   "cell_type": "markdown",
   "metadata": {
    "pycharm": {
     "name": "#%% md\n"
    }
   },
   "source": [
    "### Validation result"
   ]
  },
  {
   "cell_type": "code",
   "execution_count": 11,
   "metadata": {
    "pycharm": {
     "name": "#%%\n"
    }
   },
   "outputs": [
    {
     "name": "stdout",
     "output_type": "stream",
     "text": [
      "avg_epoch_time, time, val_loss, val_accuracy, val_precision, val_recall\n",
      "1.702968339920044,85.1484169960022,2.9245383739471436,0.8478260636329651,0.8294677734375,0.8196031451225281\n"
     ]
    }
   ],
   "source": [
    "csv_file_path = f'{paths.results_location}{network_name}/{dataset}-result.csv'\n",
    "export_learning_validation_result_to_csv(csv_file_path, validation_result, time_callback.times)"
   ]
  }
 ],
 "metadata": {
  "kernelspec": {
   "display_name": "Python 3",
   "language": "python",
   "name": "python3"
  },
  "language_info": {
   "codemirror_mode": {
    "name": "ipython",
    "version": 3
   },
   "file_extension": ".py",
   "mimetype": "text/x-python",
   "name": "python",
   "nbconvert_exporter": "python",
   "pygments_lexer": "ipython3",
   "version": "3.7.7"
  }
 },
 "nbformat": 4,
 "nbformat_minor": 4
}