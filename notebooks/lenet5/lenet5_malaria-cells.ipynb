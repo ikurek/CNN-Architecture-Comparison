{
 "cells": [
  {
   "cell_type": "code",
   "execution_count": 1,
   "metadata": {
    "jupyter": {
     "outputs_hidden": false
    },
    "pycharm": {
     "name": "#%%\n"
    }
   },
   "outputs": [],
   "source": [
    "import sys\n",
    "sys.path.extend(['..', '../', '../..', '../../' ])\n",
    "%load_ext autoreload\n",
    "%autoreload 2"
   ]
  },
  {
   "cell_type": "markdown",
   "metadata": {},
   "source": [
    "# LeNet5 - Malaria-Cells"
   ]
  },
  {
   "cell_type": "code",
   "execution_count": 2,
   "metadata": {
    "pycharm": {
     "name": "#%%\n"
    }
   },
   "outputs": [
    {
     "name": "stderr",
     "output_type": "stream",
     "text": [
      "Using TensorFlow backend.\n"
     ]
    }
   ],
   "source": [
    "import paths\n",
    "import keras\n",
    "from src.datasets.dataset_generators import DatasetGenerators\n",
    "from src.keras_callback.time_history import TimeHistory\n",
    "from src.export.csv_export import export_learning_history_to_csv, export_learning_validation_result_to_csv\n",
    "from src.export.model_export import clear_exported_models\n",
    "from src.keras_model.lenet5_network import LeNet5Network"
   ]
  },
  {
   "cell_type": "code",
   "execution_count": 3,
   "metadata": {
    "pycharm": {
     "name": "#%%\n"
    }
   },
   "outputs": [],
   "source": [
    "network_name = 'lenet5'\n",
    "fit_epochs = 50\n",
    "dataset = 'malaria-cells'\n",
    "dataset_percentage = '5'"
   ]
  },
  {
   "cell_type": "code",
   "execution_count": 4,
   "metadata": {
    "pycharm": {
     "name": "#%%\n"
    }
   },
   "outputs": [],
   "source": [
    "network = LeNet5Network()"
   ]
  },
  {
   "cell_type": "code",
   "execution_count": 5,
   "metadata": {
    "pycharm": {
     "name": "#%%\n"
    }
   },
   "outputs": [
    {
     "name": "stdout",
     "output_type": "stream",
     "text": [
      "Loading train set for malaria-cells_5...\n",
      "Found 966 images belonging to 2 classes.\n",
      "Loading test set for malaria-cells_5...\n",
      "Found 276 images belonging to 2 classes.\n",
      "Loading validation set for malaria-cells_5...\n",
      "Found 138 images belonging to 2 classes.\n"
     ]
    }
   ],
   "source": [
    "dataset_generators = DatasetGenerators(\n",
    "    name=f'{dataset}_{dataset_percentage}',\n",
    "    dataset_dir=paths.data_location,\n",
    "    image_size=network.image_size,\n",
    "    batch_size=network.batch_size,\n",
    "    grayscale=network.grayscale\n",
    ")"
   ]
  },
  {
   "cell_type": "code",
   "execution_count": 6,
   "metadata": {
    "pycharm": {
     "name": "#%%\n"
    }
   },
   "outputs": [],
   "source": [
    "model = network.get_compiled_model(\n",
    "    classes=dataset_generators.test.num_classes\n",
    ")"
   ]
  },
  {
   "cell_type": "code",
   "execution_count": 7,
   "metadata": {
    "pycharm": {
     "name": "#%%\n"
    }
   },
   "outputs": [],
   "source": [
    "checkpoint_path = f'{paths.models_location}{network_name}/{dataset}/'\n",
    "clear_exported_models(checkpoint_path)\n",
    "\n",
    "checkpoint_callback = keras.callbacks.ModelCheckpoint(\n",
    "    filepath=f'{checkpoint_path}{{epoch:02d}}-{{val_accuracy}}.h5',\n",
    "    verbose=1,\n",
    "    save_best_only=False,\n",
    "    save_weights_only=False\n",
    ")\n",
    "\n",
    "time_callback = TimeHistory()\n",
    "\n",
    "model_callbacks = [checkpoint_callback, time_callback]"
   ]
  },
  {
   "cell_type": "code",
   "execution_count": 8,
   "metadata": {
    "pycharm": {
     "is_executing": true,
     "name": "#%%\n"
    }
   },
   "outputs": [
    {
     "name": "stdout",
     "output_type": "stream",
     "text": [
      "Epoch 1/50\n",
      "31/31 [==============================] - 1s 38ms/step - loss: 10.1700 - accuracy: 0.5186 - precision: 0.3230 - recall: 0.5033 - val_loss: 3.3401 - val_accuracy: 0.5036 - val_precision: 0.4994 - val_recall: 0.9856\n",
      "\n",
      "Epoch 00001: saving model to /Users/igor/Python/CNN-Architecture-Comparison/models/lenet5/malaria-cells/01-0.5036231875419617.h5\n",
      "Epoch 2/50\n",
      "31/31 [==============================] - 1s 32ms/step - loss: 1.4861 - accuracy: 0.5041 - precision: 0.4783 - recall: 0.5329 - val_loss: 0.9963 - val_accuracy: 0.5000 - val_precision: 0.4990 - val_recall: 0.7087\n",
      "\n",
      "Epoch 00002: saving model to /Users/igor/Python/CNN-Architecture-Comparison/models/lenet5/malaria-cells/02-0.5.h5\n",
      "Epoch 3/50\n",
      "31/31 [==============================] - 1s 33ms/step - loss: 1.1303 - accuracy: 0.5083 - precision: 0.5073 - recall: 0.5618 - val_loss: 1.0962 - val_accuracy: 0.4783 - val_precision: 0.1833 - val_recall: 0.0451\n",
      "\n",
      "Epoch 00003: saving model to /Users/igor/Python/CNN-Architecture-Comparison/models/lenet5/malaria-cells/03-0.47826087474823.h5\n",
      "Epoch 4/50\n",
      "31/31 [==============================] - 1s 33ms/step - loss: 0.8397 - accuracy: 0.5745 - precision: 0.5512 - recall: 0.5583 - val_loss: 0.5571 - val_accuracy: 0.5616 - val_precision: 0.5396 - val_recall: 0.8256\n",
      "\n",
      "Epoch 00004: saving model to /Users/igor/Python/CNN-Architecture-Comparison/models/lenet5/malaria-cells/04-0.5615941882133484.h5\n",
      "Epoch 5/50\n",
      "31/31 [==============================] - 1s 33ms/step - loss: 0.7844 - accuracy: 0.5911 - precision: 0.5679 - recall: 0.6022 - val_loss: 0.9018 - val_accuracy: 0.5761 - val_precision: 0.5442 - val_recall: 0.8585\n",
      "\n",
      "Epoch 00005: saving model to /Users/igor/Python/CNN-Architecture-Comparison/models/lenet5/malaria-cells/05-0.5760869383811951.h5\n",
      "Epoch 6/50\n",
      "31/31 [==============================] - 1s 33ms/step - loss: 0.7791 - accuracy: 0.5766 - precision: 0.5871 - recall: 0.5917 - val_loss: 1.3524 - val_accuracy: 0.4964 - val_precision: 0.4333 - val_recall: 0.0768\n",
      "\n",
      "Epoch 00006: saving model to /Users/igor/Python/CNN-Architecture-Comparison/models/lenet5/malaria-cells/06-0.49637681245803833.h5\n",
      "Epoch 7/50\n",
      "31/31 [==============================] - 1s 33ms/step - loss: 0.7050 - accuracy: 0.6232 - precision: 0.5884 - recall: 0.6348 - val_loss: 0.6615 - val_accuracy: 0.6051 - val_precision: 0.6135 - val_recall: 0.5983\n",
      "\n",
      "Epoch 00007: saving model to /Users/igor/Python/CNN-Architecture-Comparison/models/lenet5/malaria-cells/07-0.6050724387168884.h5\n",
      "Epoch 8/50\n",
      "31/31 [==============================] - 1s 33ms/step - loss: 0.8135 - accuracy: 0.6046 - precision: 0.6527 - recall: 0.6383 - val_loss: 0.8090 - val_accuracy: 0.6087 - val_precision: 0.6171 - val_recall: 0.5372\n",
      "\n",
      "Epoch 00008: saving model to /Users/igor/Python/CNN-Architecture-Comparison/models/lenet5/malaria-cells/08-0.6086956262588501.h5\n",
      "Epoch 9/50\n",
      "31/31 [==============================] - 1s 35ms/step - loss: 0.5625 - accuracy: 0.7122 - precision: 0.7005 - recall: 0.7809 - val_loss: 0.6769 - val_accuracy: 0.6304 - val_precision: 0.7378 - val_recall: 0.4264\n",
      "\n",
      "Epoch 00009: saving model to /Users/igor/Python/CNN-Architecture-Comparison/models/lenet5/malaria-cells/09-0.6304348111152649.h5\n",
      "Epoch 10/50\n",
      "31/31 [==============================] - 1s 33ms/step - loss: 0.5521 - accuracy: 0.7091 - precision: 0.7098 - recall: 0.7373 - val_loss: 1.0250 - val_accuracy: 0.5978 - val_precision: 0.5623 - val_recall: 0.8260\n",
      "\n",
      "Epoch 00010: saving model to /Users/igor/Python/CNN-Architecture-Comparison/models/lenet5/malaria-cells/10-0.5978260636329651.h5\n",
      "Epoch 11/50\n",
      "31/31 [==============================] - 1s 33ms/step - loss: 0.5507 - accuracy: 0.7091 - precision: 0.7179 - recall: 0.7777 - val_loss: 0.8532 - val_accuracy: 0.6087 - val_precision: 0.5733 - val_recall: 0.8784\n",
      "\n",
      "Epoch 00011: saving model to /Users/igor/Python/CNN-Architecture-Comparison/models/lenet5/malaria-cells/11-0.6086956262588501.h5\n",
      "Epoch 12/50\n",
      "31/31 [==============================] - 1s 33ms/step - loss: 0.5149 - accuracy: 0.7288 - precision: 0.6879 - recall: 0.7669 - val_loss: 0.6163 - val_accuracy: 0.6703 - val_precision: 0.6279 - val_recall: 0.8415\n",
      "\n",
      "Epoch 00012: saving model to /Users/igor/Python/CNN-Architecture-Comparison/models/lenet5/malaria-cells/12-0.6702898740768433.h5\n",
      "Epoch 13/50\n",
      "31/31 [==============================] - 1s 32ms/step - loss: 0.5238 - accuracy: 0.7288 - precision: 0.7415 - recall: 0.7684 - val_loss: 0.4065 - val_accuracy: 0.7029 - val_precision: 0.6916 - val_recall: 0.7327\n",
      "\n",
      "Epoch 00013: saving model to /Users/igor/Python/CNN-Architecture-Comparison/models/lenet5/malaria-cells/13-0.7028985619544983.h5\n",
      "Epoch 14/50\n",
      "31/31 [==============================] - 1s 33ms/step - loss: 0.4447 - accuracy: 0.8075 - precision: 0.7935 - recall: 0.8521 - val_loss: 0.7692 - val_accuracy: 0.7101 - val_precision: 0.7650 - val_recall: 0.6111\n",
      "\n",
      "Epoch 00014: saving model to /Users/igor/Python/CNN-Architecture-Comparison/models/lenet5/malaria-cells/14-0.7101449370384216.h5\n",
      "Epoch 15/50\n",
      "31/31 [==============================] - 1s 35ms/step - loss: 0.5310 - accuracy: 0.7516 - precision: 0.7248 - recall: 0.7938 - val_loss: 0.9055 - val_accuracy: 0.6775 - val_precision: 0.7457 - val_recall: 0.5448\n",
      "\n",
      "Epoch 00015: saving model to /Users/igor/Python/CNN-Architecture-Comparison/models/lenet5/malaria-cells/15-0.6775362491607666.h5\n",
      "Epoch 16/50\n",
      "31/31 [==============================] - 1s 33ms/step - loss: 0.6664 - accuracy: 0.6667 - precision: 0.6540 - recall: 0.6738 - val_loss: 0.9721 - val_accuracy: 0.5761 - val_precision: 0.5476 - val_recall: 0.9084\n",
      "\n",
      "Epoch 00016: saving model to /Users/igor/Python/CNN-Architecture-Comparison/models/lenet5/malaria-cells/16-0.5760869383811951.h5\n",
      "Epoch 17/50\n",
      "31/31 [==============================] - 1s 33ms/step - loss: 0.5893 - accuracy: 0.6925 - precision: 0.7058 - recall: 0.7526 - val_loss: 0.8836 - val_accuracy: 0.5326 - val_precision: 0.5341 - val_recall: 0.4383\n",
      "\n",
      "Epoch 00017: saving model to /Users/igor/Python/CNN-Architecture-Comparison/models/lenet5/malaria-cells/17-0.532608687877655.h5\n",
      "Epoch 18/50\n",
      "31/31 [==============================] - 1s 33ms/step - loss: 0.5384 - accuracy: 0.7060 - precision: 0.7207 - recall: 0.7962 - val_loss: 0.5642 - val_accuracy: 0.6341 - val_precision: 0.7310 - val_recall: 0.4207\n",
      "\n",
      "Epoch 00018: saving model to /Users/igor/Python/CNN-Architecture-Comparison/models/lenet5/malaria-cells/18-0.6340579986572266.h5\n",
      "Epoch 19/50\n",
      "31/31 [==============================] - 1s 33ms/step - loss: 0.4836 - accuracy: 0.7598 - precision: 0.7547 - recall: 0.8338 - val_loss: 0.6306 - val_accuracy: 0.6196 - val_precision: 0.6677 - val_recall: 0.4494\n",
      "\n",
      "Epoch 00019: saving model to /Users/igor/Python/CNN-Architecture-Comparison/models/lenet5/malaria-cells/19-0.6195651888847351.h5\n",
      "Epoch 20/50\n",
      "31/31 [==============================] - 1s 33ms/step - loss: 0.5183 - accuracy: 0.7360 - precision: 0.7545 - recall: 0.7679 - val_loss: 0.9249 - val_accuracy: 0.6087 - val_precision: 0.5744 - val_recall: 0.8005\n",
      "\n",
      "Epoch 00020: saving model to /Users/igor/Python/CNN-Architecture-Comparison/models/lenet5/malaria-cells/20-0.6086956262588501.h5\n",
      "Epoch 21/50\n",
      "31/31 [==============================] - 1s 33ms/step - loss: 0.4956 - accuracy: 0.7660 - precision: 0.7678 - recall: 0.7935 - val_loss: 0.8722 - val_accuracy: 0.6268 - val_precision: 0.5890 - val_recall: 0.8158\n",
      "\n",
      "Epoch 00021: saving model to /Users/igor/Python/CNN-Architecture-Comparison/models/lenet5/malaria-cells/21-0.6268116235733032.h5\n",
      "Epoch 22/50\n",
      "31/31 [==============================] - 1s 32ms/step - loss: 0.4708 - accuracy: 0.7733 - precision: 0.7734 - recall: 0.8234 - val_loss: 0.4247 - val_accuracy: 0.7065 - val_precision: 0.6807 - val_recall: 0.7968\n",
      "\n",
      "Epoch 00022: saving model to /Users/igor/Python/CNN-Architecture-Comparison/models/lenet5/malaria-cells/22-0.70652174949646.h5\n",
      "Epoch 23/50\n",
      "31/31 [==============================] - 1s 33ms/step - loss: 0.4614 - accuracy: 0.7723 - precision: 0.7773 - recall: 0.8336 - val_loss: 0.8093 - val_accuracy: 0.6848 - val_precision: 0.6727 - val_recall: 0.7042\n",
      "\n",
      "Epoch 00023: saving model to /Users/igor/Python/CNN-Architecture-Comparison/models/lenet5/malaria-cells/23-0.6847826242446899.h5\n",
      "Epoch 24/50\n"
     ]
    },
    {
     "name": "stdout",
     "output_type": "stream",
     "text": [
      "31/31 [==============================] - 1s 32ms/step - loss: 0.4186 - accuracy: 0.8054 - precision: 0.7933 - recall: 0.8582 - val_loss: 0.6039 - val_accuracy: 0.6848 - val_precision: 0.7721 - val_recall: 0.5178\n",
      "\n",
      "Epoch 00024: saving model to /Users/igor/Python/CNN-Architecture-Comparison/models/lenet5/malaria-cells/24-0.6847826242446899.h5\n",
      "Epoch 25/50\n",
      "31/31 [==============================] - 1s 32ms/step - loss: 0.4230 - accuracy: 0.7971 - precision: 0.7780 - recall: 0.8531 - val_loss: 0.7548 - val_accuracy: 0.6232 - val_precision: 0.7064 - val_recall: 0.4364\n",
      "\n",
      "Epoch 00025: saving model to /Users/igor/Python/CNN-Architecture-Comparison/models/lenet5/malaria-cells/25-0.6231883764266968.h5\n",
      "Epoch 26/50\n",
      "31/31 [==============================] - 1s 33ms/step - loss: 0.4298 - accuracy: 0.8023 - precision: 0.8022 - recall: 0.8097 - val_loss: 0.8548 - val_accuracy: 0.6522 - val_precision: 0.6498 - val_recall: 0.6717\n",
      "\n",
      "Epoch 00026: saving model to /Users/igor/Python/CNN-Architecture-Comparison/models/lenet5/malaria-cells/26-0.6521739363670349.h5\n",
      "Epoch 27/50\n",
      "31/31 [==============================] - 1s 32ms/step - loss: 0.4078 - accuracy: 0.8178 - precision: 0.8112 - recall: 0.8827 - val_loss: 0.6213 - val_accuracy: 0.7319 - val_precision: 0.7506 - val_recall: 0.7092\n",
      "\n",
      "Epoch 00027: saving model to /Users/igor/Python/CNN-Architecture-Comparison/models/lenet5/malaria-cells/27-0.7318840622901917.h5\n",
      "Epoch 28/50\n",
      "31/31 [==============================] - 1s 32ms/step - loss: 0.4571 - accuracy: 0.7743 - precision: 0.7762 - recall: 0.8180 - val_loss: 0.6507 - val_accuracy: 0.5652 - val_precision: 0.7685 - val_recall: 0.2137\n",
      "\n",
      "Epoch 00028: saving model to /Users/igor/Python/CNN-Architecture-Comparison/models/lenet5/malaria-cells/28-0.5652173757553101.h5\n",
      "Epoch 29/50\n",
      "31/31 [==============================] - 1s 32ms/step - loss: 0.4313 - accuracy: 0.7919 - precision: 0.8064 - recall: 0.8097 - val_loss: 0.6815 - val_accuracy: 0.6486 - val_precision: 0.6620 - val_recall: 0.6213\n",
      "\n",
      "Epoch 00029: saving model to /Users/igor/Python/CNN-Architecture-Comparison/models/lenet5/malaria-cells/29-0.6485507488250732.h5\n",
      "Epoch 30/50\n",
      "31/31 [==============================] - 1s 32ms/step - loss: 0.4017 - accuracy: 0.8178 - precision: 0.8006 - recall: 0.8422 - val_loss: 1.1387 - val_accuracy: 0.7174 - val_precision: 0.7140 - val_recall: 0.7443\n",
      "\n",
      "Epoch 00030: saving model to /Users/igor/Python/CNN-Architecture-Comparison/models/lenet5/malaria-cells/30-0.717391312122345.h5\n",
      "Epoch 31/50\n",
      "31/31 [==============================] - 1s 32ms/step - loss: 0.3415 - accuracy: 0.8468 - precision: 0.8289 - recall: 0.8748 - val_loss: 0.7547 - val_accuracy: 0.6667 - val_precision: 0.6315 - val_recall: 0.7675\n",
      "\n",
      "Epoch 00031: saving model to /Users/igor/Python/CNN-Architecture-Comparison/models/lenet5/malaria-cells/31-0.6666666865348816.h5\n",
      "Epoch 32/50\n",
      "31/31 [==============================] - 1s 32ms/step - loss: 0.3417 - accuracy: 0.8623 - precision: 0.8323 - recall: 0.9092 - val_loss: 0.5504 - val_accuracy: 0.6812 - val_precision: 0.7233 - val_recall: 0.5662\n",
      "\n",
      "Epoch 00032: saving model to /Users/igor/Python/CNN-Architecture-Comparison/models/lenet5/malaria-cells/32-0.6811594367027283.h5\n",
      "Epoch 33/50\n",
      "31/31 [==============================] - 1s 33ms/step - loss: 0.3376 - accuracy: 0.8592 - precision: 0.8427 - recall: 0.8929 - val_loss: 0.7479 - val_accuracy: 0.6920 - val_precision: 0.6662 - val_recall: 0.7557\n",
      "\n",
      "Epoch 00033: saving model to /Users/igor/Python/CNN-Architecture-Comparison/models/lenet5/malaria-cells/33-0.6920289993286133.h5\n",
      "Epoch 34/50\n",
      "31/31 [==============================] - 1s 32ms/step - loss: 0.3348 - accuracy: 0.8499 - precision: 0.8330 - recall: 0.8982 - val_loss: 0.7989 - val_accuracy: 0.6667 - val_precision: 0.7068 - val_recall: 0.5684\n",
      "\n",
      "Epoch 00034: saving model to /Users/igor/Python/CNN-Architecture-Comparison/models/lenet5/malaria-cells/34-0.6666666865348816.h5\n",
      "Epoch 35/50\n",
      "31/31 [==============================] - 1s 32ms/step - loss: 0.3436 - accuracy: 0.8468 - precision: 0.8345 - recall: 0.8894 - val_loss: 0.6455 - val_accuracy: 0.7065 - val_precision: 0.6712 - val_recall: 0.7403\n",
      "\n",
      "Epoch 00035: saving model to /Users/igor/Python/CNN-Architecture-Comparison/models/lenet5/malaria-cells/35-0.70652174949646.h5\n",
      "Epoch 36/50\n",
      "31/31 [==============================] - 1s 32ms/step - loss: 0.3031 - accuracy: 0.8675 - precision: 0.8509 - recall: 0.9040 - val_loss: 0.8546 - val_accuracy: 0.7101 - val_precision: 0.7221 - val_recall: 0.7071\n",
      "\n",
      "Epoch 00036: saving model to /Users/igor/Python/CNN-Architecture-Comparison/models/lenet5/malaria-cells/36-0.7101449370384216.h5\n",
      "Epoch 37/50\n",
      "31/31 [==============================] - 1s 33ms/step - loss: 0.2846 - accuracy: 0.8810 - precision: 0.8681 - recall: 0.9096 - val_loss: 1.4215 - val_accuracy: 0.7138 - val_precision: 0.7075 - val_recall: 0.7614\n",
      "\n",
      "Epoch 00037: saving model to /Users/igor/Python/CNN-Architecture-Comparison/models/lenet5/malaria-cells/37-0.7137681245803833.h5\n",
      "Epoch 38/50\n",
      "31/31 [==============================] - 1s 32ms/step - loss: 0.2680 - accuracy: 0.8861 - precision: 0.8660 - recall: 0.9265 - val_loss: 1.1569 - val_accuracy: 0.7065 - val_precision: 0.7299 - val_recall: 0.7114\n",
      "\n",
      "Epoch 00038: saving model to /Users/igor/Python/CNN-Architecture-Comparison/models/lenet5/malaria-cells/38-0.70652174949646.h5\n",
      "Epoch 39/50\n",
      "31/31 [==============================] - 1s 33ms/step - loss: 0.2642 - accuracy: 0.8903 - precision: 0.8755 - recall: 0.9193 - val_loss: 0.5822 - val_accuracy: 0.7210 - val_precision: 0.7395 - val_recall: 0.6959\n",
      "\n",
      "Epoch 00039: saving model to /Users/igor/Python/CNN-Architecture-Comparison/models/lenet5/malaria-cells/39-0.7210144996643066.h5\n",
      "Epoch 40/50\n",
      "31/31 [==============================] - 1s 32ms/step - loss: 0.2748 - accuracy: 0.8944 - precision: 0.8671 - recall: 0.9375 - val_loss: 0.6962 - val_accuracy: 0.7210 - val_precision: 0.7370 - val_recall: 0.6539\n",
      "\n",
      "Epoch 00040: saving model to /Users/igor/Python/CNN-Architecture-Comparison/models/lenet5/malaria-cells/40-0.7210144996643066.h5\n",
      "Epoch 41/50\n",
      "31/31 [==============================] - 1s 32ms/step - loss: 0.2409 - accuracy: 0.9079 - precision: 0.8944 - recall: 0.9386 - val_loss: 0.5610 - val_accuracy: 0.7428 - val_precision: 0.7177 - val_recall: 0.7931\n",
      "\n",
      "Epoch 00041: saving model to /Users/igor/Python/CNN-Architecture-Comparison/models/lenet5/malaria-cells/41-0.7427536249160767.h5\n",
      "Epoch 42/50\n",
      "31/31 [==============================] - 1s 32ms/step - loss: 0.2417 - accuracy: 0.9068 - precision: 0.8807 - recall: 0.9371 - val_loss: 1.4129 - val_accuracy: 0.7609 - val_precision: 0.8407 - val_recall: 0.6312\n",
      "\n",
      "Epoch 00042: saving model to /Users/igor/Python/CNN-Architecture-Comparison/models/lenet5/malaria-cells/42-0.760869562625885.h5\n",
      "Epoch 43/50\n",
      "31/31 [==============================] - 1s 32ms/step - loss: 0.2323 - accuracy: 0.9037 - precision: 0.8951 - recall: 0.9265 - val_loss: 1.3092 - val_accuracy: 0.7283 - val_precision: 0.7324 - val_recall: 0.7399\n",
      "\n",
      "Epoch 00043: saving model to /Users/igor/Python/CNN-Architecture-Comparison/models/lenet5/malaria-cells/43-0.72826087474823.h5\n",
      "Epoch 44/50\n",
      "31/31 [==============================] - 1s 32ms/step - loss: 0.2001 - accuracy: 0.9337 - precision: 0.9172 - recall: 0.9602 - val_loss: 0.6781 - val_accuracy: 0.7355 - val_precision: 0.7227 - val_recall: 0.7775\n",
      "\n",
      "Epoch 00044: saving model to /Users/igor/Python/CNN-Architecture-Comparison/models/lenet5/malaria-cells/44-0.7355072498321533.h5\n",
      "Epoch 45/50\n",
      "31/31 [==============================] - 1s 32ms/step - loss: 0.2254 - accuracy: 0.9110 - precision: 0.8923 - recall: 0.9346 - val_loss: 1.3031 - val_accuracy: 0.7464 - val_precision: 0.8297 - val_recall: 0.6257\n",
      "\n",
      "Epoch 00045: saving model to /Users/igor/Python/CNN-Architecture-Comparison/models/lenet5/malaria-cells/45-0.7463768124580383.h5\n",
      "Epoch 46/50\n",
      "31/31 [==============================] - 1s 32ms/step - loss: 0.1973 - accuracy: 0.9193 - precision: 0.8994 - recall: 0.9467 - val_loss: 1.7889 - val_accuracy: 0.7536 - val_precision: 0.7361 - val_recall: 0.7548\n",
      "\n",
      "Epoch 00046: saving model to /Users/igor/Python/CNN-Architecture-Comparison/models/lenet5/malaria-cells/46-0.7536231875419617.h5\n",
      "Epoch 47/50\n"
     ]
    },
    {
     "name": "stdout",
     "output_type": "stream",
     "text": [
      "31/31 [==============================] - 1s 32ms/step - loss: 0.1897 - accuracy: 0.9306 - precision: 0.9187 - recall: 0.9575 - val_loss: 0.8541 - val_accuracy: 0.7645 - val_precision: 0.7324 - val_recall: 0.8180\n",
      "\n",
      "Epoch 00047: saving model to /Users/igor/Python/CNN-Architecture-Comparison/models/lenet5/malaria-cells/47-0.7644927501678467.h5\n",
      "Epoch 48/50\n",
      "31/31 [==============================] - 1s 32ms/step - loss: 0.1865 - accuracy: 0.9296 - precision: 0.9088 - recall: 0.9642 - val_loss: 1.5198 - val_accuracy: 0.7609 - val_precision: 0.7202 - val_recall: 0.8358\n",
      "\n",
      "Epoch 00048: saving model to /Users/igor/Python/CNN-Architecture-Comparison/models/lenet5/malaria-cells/48-0.760869562625885.h5\n",
      "Epoch 49/50\n",
      "31/31 [==============================] - 1s 32ms/step - loss: 0.2811 - accuracy: 0.8665 - precision: 0.8553 - recall: 0.9076 - val_loss: 0.7251 - val_accuracy: 0.7101 - val_precision: 0.7042 - val_recall: 0.7299\n",
      "\n",
      "Epoch 00049: saving model to /Users/igor/Python/CNN-Architecture-Comparison/models/lenet5/malaria-cells/49-0.7101449370384216.h5\n",
      "Epoch 50/50\n",
      "31/31 [==============================] - 1s 32ms/step - loss: 0.2454 - accuracy: 0.8954 - precision: 0.8898 - recall: 0.9256 - val_loss: 1.1592 - val_accuracy: 0.5978 - val_precision: 0.7235 - val_recall: 0.3266\n",
      "\n",
      "Epoch 00050: saving model to /Users/igor/Python/CNN-Architecture-Comparison/models/lenet5/malaria-cells/50-0.5978260636329651.h5\n"
     ]
    }
   ],
   "source": [
    "fit_result = model.fit_generator(\n",
    "    generator=dataset_generators.train,\n",
    "    epochs=fit_epochs,\n",
    "    validation_data=dataset_generators.test,\n",
    "    callbacks = model_callbacks\n",
    ")"
   ]
  },
  {
   "cell_type": "code",
   "execution_count": 9,
   "metadata": {
    "pycharm": {
     "name": "#%%\n"
    }
   },
   "outputs": [],
   "source": [
    "validation_result = model.evaluate_generator(\n",
    "    generator=dataset_generators.validate\n",
    ")"
   ]
  },
  {
   "cell_type": "markdown",
   "metadata": {
    "pycharm": {
     "name": "#%% md\n"
    }
   },
   "source": [
    "## Malaria-Cells Results"
   ]
  },
  {
   "cell_type": "markdown",
   "metadata": {
    "pycharm": {
     "name": "#%% md\n"
    }
   },
   "source": [
    "### Epoch CSV"
   ]
  },
  {
   "cell_type": "code",
   "execution_count": 10,
   "metadata": {
    "pycharm": {
     "name": "#%%\n"
    }
   },
   "outputs": [
    {
     "name": "stdout",
     "output_type": "stream",
     "text": [
      "epoch, time, val_loss, val_accuracy, val_precision, val_recall\n",
      "0,0,0,0,0,0\n",
      "1,1.2011702060699463,3.3400683403015137,0.5036231875419617,0.49935033917427063,0.985605001449585\n",
      "2,1.023177146911621,0.9962725639343262,0.5,0.4990154802799225,0.70872962474823\n",
      "3,1.0481510162353516,1.0962110757827759,0.47826087474823,0.18333333730697632,0.04507080838084221\n",
      "4,1.0341660976409912,0.5571099519729614,0.5615941882133484,0.5396018624305725,0.8256128430366516\n",
      "5,1.0397319793701172,0.9017835855484009,0.5760869383811951,0.544239342212677,0.8585213422775269\n",
      "6,1.0406250953674316,1.3523749113082886,0.49637681245803833,0.4333333373069763,0.07678481936454773\n",
      "7,1.0321588516235352,0.6615354418754578,0.6050724387168884,0.6135042905807495,0.5982919931411743\n",
      "8,1.0414798259735107,0.809003472328186,0.6086956262588501,0.617102324962616,0.5371911525726318\n",
      "9,1.1185109615325928,0.6768539547920227,0.6304348111152649,0.7377946376800537,0.42643770575523376\n",
      "10,1.0325486660003662,1.0249872207641602,0.5978260636329651,0.5622632503509521,0.8259553909301758\n",
      "11,1.0490961074829102,0.8532419204711914,0.6086956262588501,0.57334303855896,0.8783872723579407\n",
      "12,1.035309076309204,0.6162611246109009,0.6702898740768433,0.6278675198554993,0.841518223285675\n",
      "13,1.0282418727874756,0.40652260184288025,0.7028985619544983,0.6916086077690125,0.7327248454093933\n",
      "14,1.04665207862854,0.7692002058029175,0.7101449370384216,0.7649537920951843,0.6110618114471436\n",
      "15,1.1179211139678955,0.9054886102676392,0.6775362491607666,0.7457209825515747,0.5448163747787476\n",
      "16,1.0594978332519531,0.9721155166625977,0.5760869383811951,0.5475538969039917,0.9083774089813232\n",
      "17,1.0598151683807373,0.8836318850517273,0.532608687877655,0.5340540409088135,0.4382779598236084\n",
      "18,1.0348100662231445,0.5642286539077759,0.6340579986572266,0.730980396270752,0.4206918478012085\n",
      "19,1.0421669483184814,0.6306434869766235,0.6195651888847351,0.6677424311637878,0.4493827223777771\n",
      "20,1.0406968593597412,0.9249054193496704,0.6086956262588501,0.574402928352356,0.8004966378211975\n",
      "21,1.0382740497589111,0.8722402453422546,0.6268116235733032,0.5889904499053955,0.815769374370575\n",
      "22,1.022033929824829,0.4247240424156189,0.70652174949646,0.6807382106781006,0.7968377470970154\n",
      "23,1.0338878631591797,0.8093364834785461,0.6847826242446899,0.672713041305542,0.7041717767715454\n",
      "24,1.031184196472168,0.6038800477981567,0.6847826242446899,0.7721140384674072,0.5178118944168091\n",
      "25,1.0093448162078857,0.754768967628479,0.6231883764266968,0.706393301486969,0.4364379346370697\n",
      "26,1.033879041671753,0.8547633290290833,0.6521739363670349,0.6497668027877808,0.6717374324798584\n",
      "27,1.0043630599975586,0.6213472485542297,0.7318840622901917,0.7506041526794434,0.7091941237449646\n",
      "28,1.0258090496063232,0.6506849527359009,0.5652173757553101,0.7685185670852661,0.21373184025287628\n",
      "29,1.019768238067627,0.6815479397773743,0.6485507488250732,0.6619575023651123,0.6212504506111145\n",
      "30,1.0244779586791992,1.1386783123016357,0.717391312122345,0.7139564156532288,0.7443234324455261\n",
      "31,1.0145020484924316,0.7547361254692078,0.6666666865348816,0.6315051317214966,0.7674911022186279\n",
      "32,1.0061612129211426,0.5504336357116699,0.6811594367027283,0.7232732176780701,0.5661712884902954\n",
      "33,1.0332069396972656,0.747852623462677,0.6920289993286133,0.6662183403968811,0.7557140588760376\n",
      "34,1.0137286186218262,0.7989045977592468,0.6666666865348816,0.7067954540252686,0.568386435508728\n",
      "35,1.0147759914398193,0.6454626321792603,0.70652174949646,0.6711713671684265,0.7402834296226501\n",
      "36,1.0049347877502441,0.8545764684677124,0.7101449370384216,0.7220587730407715,0.7070691585540771\n",
      "37,1.0338287353515625,1.421474814414978,0.7137681245803833,0.7075386047363281,0.7614090442657471\n",
      "38,1.011866807937622,1.1568880081176758,0.70652174949646,0.729938268661499,0.7113854885101318\n",
      "39,1.039241075515747,0.5822442770004272,0.7210144996643066,0.739506185054779,0.695875883102417\n",
      "40,1.0264441967010498,0.6961553692817688,0.7210144996643066,0.7369740009307861,0.6539142727851868\n",
      "41,1.0267670154571533,0.5610486268997192,0.7427536249160767,0.7176995277404785,0.7931223511695862\n",
      "42,1.0192439556121826,1.4129064083099365,0.760869562625885,0.8407143354415894,0.6311776638031006\n",
      "43,1.026554822921753,1.3092236518859863,0.72826087474823,0.7323623299598694,0.7398688793182373\n",
      "44,1.020209789276123,0.6780539751052856,0.7355072498321533,0.7227372527122498,0.7775047421455383\n",
      "45,1.0132431983947754,1.3031086921691895,0.7463768124580383,0.8297073841094971,0.6257309913635254\n",
      "46,1.0263440608978271,1.7889397144317627,0.7536231875419617,0.7361004948616028,0.7548114061355591\n",
      "47,1.011146068572998,0.8541088104248047,0.7644927501678467,0.7323586940765381,0.8179839253425598\n",
      "48,1.0158841609954834,1.5198376178741455,0.760869562625885,0.7201751470565796,0.8358283638954163\n",
      "49,1.0240211486816406,0.7251361608505249,0.7101449370384216,0.7042076587677002,0.7299279570579529\n",
      "50,1.0291850566864014,1.1592090129852295,0.5978260636329651,0.7234567999839783,0.3266487717628479\n",
      "\n"
     ]
    }
   ],
   "source": [
    "csv_file_path = f'{paths.results_location}{network_name}/{dataset}-history.csv'\n",
    "export_learning_history_to_csv(csv_file_path, fit_result, time_callback.times)"
   ]
  },
  {
   "cell_type": "markdown",
   "metadata": {
    "pycharm": {
     "name": "#%% md\n"
    }
   },
   "source": [
    "### Validation result"
   ]
  },
  {
   "cell_type": "code",
   "execution_count": 11,
   "metadata": {
    "pycharm": {
     "name": "#%%\n"
    }
   },
   "outputs": [
    {
     "name": "stdout",
     "output_type": "stream",
     "text": [
      "avg_epoch_time, time, val_loss, val_accuracy, val_precision, val_recall\n",
      "1.0356047773361206,51.78023886680603,0.739446759223938,0.6739130616188049,0.821977972984314,0.4870914816856384\n"
     ]
    }
   ],
   "source": [
    "csv_file_path = f'{paths.results_location}{network_name}/{dataset}-result.csv'\n",
    "export_learning_validation_result_to_csv(csv_file_path, validation_result, time_callback.times)"
   ]
  }
 ],
 "metadata": {
  "kernelspec": {
   "display_name": "Python 3",
   "language": "python",
   "name": "python3"
  },
  "language_info": {
   "codemirror_mode": {
    "name": "ipython",
    "version": 3
   },
   "file_extension": ".py",
   "mimetype": "text/x-python",
   "name": "python",
   "nbconvert_exporter": "python",
   "pygments_lexer": "ipython3",
   "version": "3.7.7"
  }
 },
 "nbformat": 4,
 "nbformat_minor": 4
}