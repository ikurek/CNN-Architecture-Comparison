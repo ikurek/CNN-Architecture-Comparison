{
 "cells": [
  {
   "cell_type": "code",
   "execution_count": 1,
   "metadata": {
    "pycharm": {
     "name": "#%%\n"
    }
   },
   "outputs": [],
   "source": [
    "import sys\n",
    "sys.path.extend(['..', '../', '../..', '../../' ])\n",
    "%load_ext autoreload\n",
    "%autoreload 2"
   ]
  },
  {
   "cell_type": "markdown",
   "metadata": {},
   "source": [
    "# LeNet5 - CALTECH101"
   ]
  },
  {
   "cell_type": "code",
   "execution_count": 2,
   "metadata": {
    "pycharm": {
     "name": "#%%\n"
    }
   },
   "outputs": [
    {
     "name": "stderr",
     "output_type": "stream",
     "text": [
      "Using TensorFlow backend.\n"
     ]
    }
   ],
   "source": [
    "import paths\n",
    "import keras\n",
    "from src.parameters import metrics\n",
    "from src.datasets.dataset_generators import DatasetGenerators\n",
    "from src.keras_callback.time_history import TimeHistory\n",
    "from src.export.csv_export import export_learning_history_to_csv, export_learning_validation_result_to_csv\n",
    "from src.export.model_export import clear_exported_models\n",
    "from src.keras_model.lenet5_network import LeNet5Network"
   ]
  },
  {
   "cell_type": "code",
   "execution_count": 3,
   "metadata": {
    "pycharm": {
     "name": "#%%\n"
    }
   },
   "outputs": [],
   "source": [
    "network_name = 'lenet5'\n",
    "fit_epochs = 50\n",
    "dataset = 'caltech101'\n",
    "dataset_percentage = '40'"
   ]
  },
  {
   "cell_type": "code",
   "execution_count": 4,
   "metadata": {
    "pycharm": {
     "name": "#%%\n"
    }
   },
   "outputs": [],
   "source": [
    "network = LeNet5Network()"
   ]
  },
  {
   "cell_type": "code",
   "execution_count": 5,
   "metadata": {
    "pycharm": {
     "name": "#%%\n"
    }
   },
   "outputs": [
    {
     "name": "stdout",
     "output_type": "stream",
     "text": [
      "Loading train set for caltech101_40...\n",
      "Found 2451 images belonging to 101 classes.\n",
      "Loading test set for caltech101_40...\n",
      "Found 735 images belonging to 101 classes.\n",
      "Loading validation set for caltech101_40...\n",
      "Found 398 images belonging to 101 classes.\n"
     ]
    }
   ],
   "source": [
    "dataset_generators = DatasetGenerators(\n",
    "    name=f'{dataset}_{dataset_percentage}',\n",
    "    dataset_dir=paths.data_location,\n",
    "    image_size=network.image_size,\n",
    "    batch_size=network.batch_size,\n",
    "    grayscale=network.grayscale\n",
    ")"
   ]
  },
  {
   "cell_type": "code",
   "execution_count": 6,
   "metadata": {
    "pycharm": {
     "name": "#%%\n"
    }
   },
   "outputs": [],
   "source": [
    "model = network.get_compiled_model(\n",
    "    classes=dataset_generators.test.num_classes\n",
    ")"
   ]
  },
  {
   "cell_type": "code",
   "execution_count": 7,
   "metadata": {
    "pycharm": {
     "name": "#%%\n"
    }
   },
   "outputs": [],
   "source": [
    "checkpoint_path = f'{paths.models_location}{network_name}/{dataset}/'\n",
    "best_model_path = f'{checkpoint_path}best.h5'\n",
    "clear_exported_models(checkpoint_path)\n",
    "\n",
    "checkpoint_callback = keras.callbacks.ModelCheckpoint(\n",
    "    filepath=f'{checkpoint_path}{{epoch:02d}}-{{val_accuracy}}.h5',\n",
    "    save_best_only=False,\n",
    "    save_weights_only=False\n",
    ")\n",
    "\n",
    "best_callback = keras.callbacks.ModelCheckpoint(\n",
    "    filepath=best_model_path,\n",
    "    save_best_only=True,\n",
    "    verbose=1,\n",
    "    save_weights_only=False\n",
    ")\n",
    "\n",
    "time_callback = TimeHistory()\n",
    "\n",
    "model_callbacks = [checkpoint_callback, best_callback, time_callback]"
   ]
  },
  {
   "cell_type": "code",
   "execution_count": 8,
   "metadata": {
    "pycharm": {
     "name": "#%%\n"
    }
   },
   "outputs": [
    {
     "name": "stdout",
     "output_type": "stream",
     "text": [
      "Epoch 1/50\n",
      "77/77 [==============================] - 3s 42ms/step - loss: 5.8664 - accuracy: 0.1302 - precision: 0.1818 - recall: 0.1082 - val_loss: 4.4441 - val_accuracy: 0.2190 - val_precision: 0.2609 - val_recall: 0.2130\n",
      "Epoch 2/50\n",
      "77/77 [==============================] - 3s 36ms/step - loss: 3.7571 - accuracy: 0.2387 - precision: 0.4870 - recall: 0.3600 - val_loss: 2.9506 - val_accuracy: 0.2503 - val_precision: 0.5942 - val_recall: 0.5333\n",
      "Epoch 3/50\n",
      "77/77 [==============================] - 3s 35ms/step - loss: 3.4276 - accuracy: 0.2811 - precision: 0.6126 - recall: 0.5152 - val_loss: 4.3134 - val_accuracy: 0.2694 - val_precision: 0.6087 - val_recall: 0.5362\n",
      "Epoch 4/50\n",
      "77/77 [==============================] - 3s 35ms/step - loss: 3.1211 - accuracy: 0.3329 - precision: 0.7273 - recall: 0.6764 - val_loss: 3.8140 - val_accuracy: 0.3048 - val_precision: 0.6957 - val_recall: 0.6522\n",
      "Epoch 5/50\n",
      "77/77 [==============================] - 3s 35ms/step - loss: 2.8000 - accuracy: 0.3839 - precision: 0.7554 - recall: 0.7208 - val_loss: 3.6604 - val_accuracy: 0.2871 - val_precision: 0.8478 - val_recall: 0.8587\n",
      "Epoch 6/50\n",
      "77/77 [==============================] - 3s 35ms/step - loss: 2.4672 - accuracy: 0.4459 - precision: 0.7511 - recall: 0.7143 - val_loss: 3.7964 - val_accuracy: 0.3143 - val_precision: 0.7138 - val_recall: 0.7826\n",
      "Epoch 7/50\n",
      "77/77 [==============================] - 3s 37ms/step - loss: 2.1498 - accuracy: 0.4961 - precision: 0.7955 - recall: 0.7706 - val_loss: 3.9487 - val_accuracy: 0.3293 - val_precision: 0.7899 - val_recall: 0.8043\n",
      "Epoch 8/50\n",
      "77/77 [==============================] - 3s 35ms/step - loss: 1.8731 - accuracy: 0.5553 - precision: 0.7468 - recall: 0.7403 - val_loss: 3.3224 - val_accuracy: 0.3306 - val_precision: 0.6072 - val_recall: 0.7391\n",
      "Epoch 9/50\n",
      "77/77 [==============================] - 3s 37ms/step - loss: 1.6048 - accuracy: 0.6128 - precision: 0.7522 - recall: 0.7468 - val_loss: 5.2298 - val_accuracy: 0.3401 - val_precision: 0.6775 - val_recall: 0.7826\n",
      "Epoch 10/50\n",
      "77/77 [==============================] - 3s 36ms/step - loss: 1.3503 - accuracy: 0.6642 - precision: 0.7532 - recall: 0.7446 - val_loss: 3.2392 - val_accuracy: 0.3469 - val_precision: 0.7717 - val_recall: 0.7826\n",
      "Epoch 11/50\n",
      "77/77 [==============================] - 3s 37ms/step - loss: 1.1420 - accuracy: 0.7173 - precision: 0.7565 - recall: 0.7597 - val_loss: 3.2854 - val_accuracy: 0.3401 - val_precision: 0.6014 - val_recall: 0.6630\n",
      "Epoch 12/50\n",
      "77/77 [==============================] - 3s 38ms/step - loss: 0.9684 - accuracy: 0.7548 - precision: 0.7424 - recall: 0.7398 - val_loss: 6.5631 - val_accuracy: 0.3361 - val_precision: 0.7862 - val_recall: 0.8333\n",
      "Epoch 13/50\n",
      "77/77 [==============================] - 3s 35ms/step - loss: 0.8141 - accuracy: 0.8042 - precision: 0.8139 - recall: 0.8095 - val_loss: 5.9641 - val_accuracy: 0.3442 - val_precision: 0.7899 - val_recall: 0.8986\n",
      "Epoch 14/50\n",
      "77/77 [==============================] - 3s 38ms/step - loss: 0.6807 - accuracy: 0.8331 - precision: 0.8052 - recall: 0.8009 - val_loss: 5.0691 - val_accuracy: 0.3429 - val_precision: 0.6290 - val_recall: 0.6957\n",
      "Epoch 15/50\n",
      "77/77 [==============================] - 3s 35ms/step - loss: 0.5512 - accuracy: 0.8613 - precision: 0.8268 - recall: 0.8247 - val_loss: 6.0980 - val_accuracy: 0.3537 - val_precision: 0.7377 - val_recall: 0.8174\n",
      "Epoch 16/50\n",
      "77/77 [==============================] - 3s 36ms/step - loss: 0.4338 - accuracy: 0.8939 - precision: 0.7554 - recall: 0.7662 - val_loss: 6.0062 - val_accuracy: 0.3374 - val_precision: 0.6486 - val_recall: 0.6812\n",
      "Epoch 17/50\n",
      "77/77 [==============================] - 3s 36ms/step - loss: 0.3643 - accuracy: 0.9151 - precision: 0.8610 - recall: 0.8658 - val_loss: 9.0094 - val_accuracy: 0.3469 - val_precision: 0.6304 - val_recall: 0.6957\n",
      "Epoch 18/50\n",
      "77/77 [==============================] - 3s 36ms/step - loss: 0.3564 - accuracy: 0.9074 - precision: 0.7922 - recall: 0.7857 - val_loss: 6.2901 - val_accuracy: 0.3333 - val_precision: 0.6275 - val_recall: 0.7391\n",
      "Epoch 19/50\n",
      "77/77 [==============================] - 3s 36ms/step - loss: 0.2617 - accuracy: 0.9364 - precision: 0.8139 - recall: 0.8052 - val_loss: 6.4448 - val_accuracy: 0.3442 - val_precision: 0.5580 - val_recall: 0.6739\n",
      "Epoch 20/50\n",
      "77/77 [==============================] - 3s 37ms/step - loss: 0.2590 - accuracy: 0.9335 - precision: 0.7749 - recall: 0.7727 - val_loss: 7.1281 - val_accuracy: 0.3429 - val_precision: 0.6594 - val_recall: 0.6616\n",
      "Epoch 21/50\n",
      "77/77 [==============================] - 3s 39ms/step - loss: 0.2222 - accuracy: 0.9461 - precision: 0.7597 - recall: 0.7597 - val_loss: 8.3470 - val_accuracy: 0.3456 - val_precision: 0.6268 - val_recall: 0.6757\n",
      "Epoch 22/50\n",
      "77/77 [==============================] - 3s 36ms/step - loss: 0.2005 - accuracy: 0.9490 - precision: 0.8442 - recall: 0.8398 - val_loss: 6.7735 - val_accuracy: 0.3184 - val_precision: 0.7464 - val_recall: 0.8043\n",
      "Epoch 23/50\n",
      "77/77 [==============================] - 3s 36ms/step - loss: 0.1717 - accuracy: 0.9568 - precision: 0.8333 - recall: 0.8377 - val_loss: 10.5883 - val_accuracy: 0.3279 - val_precision: 0.8442 - val_recall: 0.8732\n",
      "Epoch 24/50\n",
      "77/77 [==============================] - 3s 36ms/step - loss: 0.1382 - accuracy: 0.9674 - precision: 0.7662 - recall: 0.7641 - val_loss: 9.2962 - val_accuracy: 0.3361 - val_precision: 0.6957 - val_recall: 0.6812\n",
      "Epoch 25/50\n",
      "77/77 [==============================] - 3s 37ms/step - loss: 0.1488 - accuracy: 0.9621 - precision: 0.8182 - recall: 0.8182 - val_loss: 10.6242 - val_accuracy: 0.3374 - val_precision: 0.6920 - val_recall: 0.7174\n",
      "Epoch 26/50\n",
      "77/77 [==============================] - 3s 36ms/step - loss: 0.1887 - accuracy: 0.9441 - precision: 0.8182 - recall: 0.8312 - val_loss: 7.8959 - val_accuracy: 0.3524 - val_precision: 0.6978 - val_recall: 0.8261\n",
      "Epoch 27/50\n",
      "77/77 [==============================] - 3s 41ms/step - loss: 0.1731 - accuracy: 0.9576 - precision: 0.7424 - recall: 0.7457 - val_loss: 8.5849 - val_accuracy: 0.3429 - val_precision: 0.6822 - val_recall: 0.6739\n",
      "Epoch 28/50\n",
      "77/77 [==============================] - 3s 41ms/step - loss: 0.0987 - accuracy: 0.9804 - precision: 0.7662 - recall: 0.7619 - val_loss: 8.0655 - val_accuracy: 0.3347 - val_precision: 0.5384 - val_recall: 0.6522\n",
      "Epoch 29/50\n",
      "77/77 [==============================] - 3s 36ms/step - loss: 0.0884 - accuracy: 0.9812 - precision: 0.7435 - recall: 0.7468 - val_loss: 12.4374 - val_accuracy: 0.3469 - val_precision: 0.6580 - val_recall: 0.7826\n",
      "Epoch 30/50\n",
      "77/77 [==============================] - 3s 36ms/step - loss: 0.0860 - accuracy: 0.9780 - precision: 0.7240 - recall: 0.7208 - val_loss: 8.6446 - val_accuracy: 0.3306 - val_precision: 0.7101 - val_recall: 0.7971\n",
      "Epoch 31/50\n",
      "77/77 [==============================] - 3s 35ms/step - loss: 0.0581 - accuracy: 0.9886 - precision: 0.7662 - recall: 0.7662 - val_loss: 7.0705 - val_accuracy: 0.3320 - val_precision: 0.7246 - val_recall: 0.8043\n",
      "Epoch 32/50\n",
      "77/77 [==============================] - 3s 36ms/step - loss: 0.0401 - accuracy: 0.9931 - precision: 0.7500 - recall: 0.7532 - val_loss: 8.4335 - val_accuracy: 0.3401 - val_precision: 0.7717 - val_recall: 0.7464\n",
      "Epoch 33/50\n",
      "77/77 [==============================] - 3s 36ms/step - loss: 0.0400 - accuracy: 0.9918 - precision: 0.8896 - recall: 0.8918 - val_loss: 11.9519 - val_accuracy: 0.3388 - val_precision: 0.7471 - val_recall: 0.8478\n",
      "Epoch 34/50\n",
      "77/77 [==============================] - 3s 37ms/step - loss: 0.0393 - accuracy: 0.9902 - precision: 0.8268 - recall: 0.8279 - val_loss: 9.2241 - val_accuracy: 0.3388 - val_precision: 0.6232 - val_recall: 0.7391\n",
      "Epoch 35/50\n",
      "77/77 [==============================] - 3s 35ms/step - loss: 0.1712 - accuracy: 0.9478 - precision: 0.7890 - recall: 0.7857 - val_loss: 7.1321 - val_accuracy: 0.3265 - val_precision: 0.6341 - val_recall: 0.8696\n",
      "Epoch 36/50\n",
      "77/77 [==============================] - 3s 36ms/step - loss: 0.1879 - accuracy: 0.9449 - precision: 0.7673 - recall: 0.7641 - val_loss: 7.5573 - val_accuracy: 0.3374 - val_precision: 0.7101 - val_recall: 0.7681\n",
      "Epoch 37/50\n",
      "77/77 [==============================] - 3s 36ms/step - loss: 0.1016 - accuracy: 0.9702 - precision: 0.7619 - recall: 0.7662 - val_loss: 8.1511 - val_accuracy: 0.3483 - val_precision: 0.7174 - val_recall: 0.7826\n"
     ]
    },
    {
     "name": "stdout",
     "output_type": "stream",
     "text": [
      "Epoch 38/50\n",
      "77/77 [==============================] - 3s 35ms/step - loss: 0.0924 - accuracy: 0.9755 - precision: 0.8312 - recall: 0.8268 - val_loss: 8.7133 - val_accuracy: 0.3524 - val_precision: 0.7464 - val_recall: 0.8696\n",
      "Epoch 39/50\n",
      "77/77 [==============================] - 3s 37ms/step - loss: 0.0584 - accuracy: 0.9865 - precision: 0.8268 - recall: 0.8247 - val_loss: 10.1556 - val_accuracy: 0.3537 - val_precision: 0.6254 - val_recall: 0.7029\n",
      "Epoch 40/50\n",
      "77/77 [==============================] - 3s 36ms/step - loss: 0.0542 - accuracy: 0.9869 - precision: 0.8312 - recall: 0.8268 - val_loss: 6.8904 - val_accuracy: 0.3361 - val_precision: 0.6268 - val_recall: 0.7391\n",
      "Epoch 41/50\n",
      "77/77 [==============================] - 3s 36ms/step - loss: 0.0479 - accuracy: 0.9869 - precision: 0.7760 - recall: 0.7792 - val_loss: 11.7455 - val_accuracy: 0.3497 - val_precision: 0.7246 - val_recall: 0.8116\n",
      "Epoch 42/50\n",
      "77/77 [==============================] - 3s 36ms/step - loss: 0.0555 - accuracy: 0.9869 - precision: 0.7749 - recall: 0.7727 - val_loss: 10.3996 - val_accuracy: 0.3388 - val_precision: 0.6232 - val_recall: 0.6145\n",
      "Epoch 43/50\n",
      "77/77 [==============================] - 3s 36ms/step - loss: 0.0230 - accuracy: 0.9959 - precision: 0.8701 - recall: 0.8669 - val_loss: 10.3149 - val_accuracy: 0.3537 - val_precision: 0.6891 - val_recall: 0.8261\n",
      "Epoch 44/50\n",
      "77/77 [==============================] - 3s 36ms/step - loss: 0.0159 - accuracy: 0.9984 - precision: 0.8247 - recall: 0.8268 - val_loss: 11.0808 - val_accuracy: 0.3497 - val_precision: 0.6304 - val_recall: 0.6217\n",
      "Epoch 45/50\n",
      "77/77 [==============================] - 3s 35ms/step - loss: 0.0093 - accuracy: 0.9988 - precision: 0.8026 - recall: 0.7987 - val_loss: 8.6308 - val_accuracy: 0.3510 - val_precision: 0.6775 - val_recall: 0.7681\n",
      "Epoch 46/50\n",
      "77/77 [==============================] - 3s 36ms/step - loss: 0.0054 - accuracy: 0.9996 - precision: 0.7597 - recall: 0.7662 - val_loss: 11.0506 - val_accuracy: 0.3510 - val_precision: 0.6413 - val_recall: 0.7101\n",
      "Epoch 47/50\n",
      "77/77 [==============================] - 3s 35ms/step - loss: 0.0110 - accuracy: 0.9980 - precision: 0.8009 - recall: 0.7987 - val_loss: 13.2377 - val_accuracy: 0.3333 - val_precision: 0.6304 - val_recall: 0.7826\n",
      "Epoch 48/50\n",
      "77/77 [==============================] - 3s 36ms/step - loss: 0.0461 - accuracy: 0.9878 - precision: 0.7532 - recall: 0.7446 - val_loss: 10.9007 - val_accuracy: 0.3388 - val_precision: 0.7428 - val_recall: 0.8043\n",
      "Epoch 49/50\n",
      "77/77 [==============================] - 3s 36ms/step - loss: 0.0278 - accuracy: 0.9951 - precision: 0.8117 - recall: 0.8182 - val_loss: 8.5788 - val_accuracy: 0.3537 - val_precision: 0.5551 - val_recall: 0.5870\n",
      "Epoch 50/50\n",
      "77/77 [==============================] - 3s 36ms/step - loss: 0.0924 - accuracy: 0.9735 - precision: 0.8442 - recall: 0.8377 - val_loss: 10.8311 - val_accuracy: 0.3306 - val_precision: 0.6891 - val_recall: 0.8116\n"
     ]
    }
   ],
   "source": [
    "fit_result = model.fit_generator(\n",
    "    generator=dataset_generators.train,\n",
    "    epochs=fit_epochs,\n",
    "    validation_data=dataset_generators.test,\n",
    "    callbacks = model_callbacks\n",
    ")"
   ]
  },
  {
   "cell_type": "code",
   "execution_count": 9,
   "metadata": {
    "pycharm": {
     "name": "#%%\n"
    }
   },
   "outputs": [],
   "source": [
    "best_model = keras.models.load_model(best_model_path,\n",
    "    custom_objects= {\n",
    "        'precision': metrics.precision,\n",
    "        'recall': metrics.recall\n",
    "    }\n",
    ")\n",
    "validation_result = best_model.evaluate_generator(\n",
    "    generator=dataset_generators.validate\n",
    ")"
   ]
  },
  {
   "cell_type": "markdown",
   "metadata": {
    "pycharm": {
     "name": "#%% md\n"
    }
   },
   "source": [
    "## Results"
   ]
  },
  {
   "cell_type": "markdown",
   "metadata": {},
   "source": [
    "### Epoch CSV"
   ]
  },
  {
   "cell_type": "code",
   "execution_count": 10,
   "metadata": {
    "pycharm": {
     "name": "#%%\n"
    }
   },
   "outputs": [
    {
     "name": "stdout",
     "output_type": "stream",
     "text": [
      "epoch, time, val_loss, val_accuracy, val_precision, val_recall\n",
      "0,0,0,0,0,0\n",
      "1,3.2246956825256348,4.444108009338379,0.21904762089252472,0.260869562625885,0.2130434662103653\n",
      "2,2.787241220474243,2.9505507946014404,0.25034013390541077,0.5942028760910034,0.5333333015441895\n",
      "3,2.7122058868408203,4.313374996185303,0.26938775181770325,0.6086956262588501,0.5362318754196167\n",
      "4,2.704558849334717,3.813999891281128,0.3047619163990021,0.695652186870575,0.6521739363670349\n",
      "5,2.707820177078247,3.660388469696045,0.28707483410835266,0.8478260636329651,0.8586956262588501\n",
      "6,2.703456401824951,3.796356678009033,0.3142857253551483,0.7137681841850281,0.782608687877655\n",
      "7,2.8965978622436523,3.9487476348876953,0.3292517066001892,0.7898550629615784,0.804347813129425\n",
      "8,2.7329893112182617,3.322382926940918,0.3306122422218323,0.6072463393211365,0.739130437374115\n",
      "9,2.8742599487304688,5.229778289794922,0.3401360511779785,0.6775361895561218,0.782608687877655\n",
      "10,2.7924270629882812,3.239232301712036,0.3469387888908386,0.77173912525177,0.782608687877655\n",
      "11,2.8975539207458496,3.2854251861572266,0.3401360511779785,0.6014492511749268,0.6630434989929199\n",
      "12,2.9197537899017334,6.563074588775635,0.33605441451072693,0.7862319350242615,0.8333333134651184\n",
      "13,2.7500381469726562,5.96405029296875,0.3442176878452301,0.7898551225662231,0.8985506892204285\n",
      "14,2.927366018295288,5.069060802459717,0.34285715222358704,0.6289854645729065,0.695652186870575\n",
      "15,2.7543721199035645,6.097992897033691,0.35374149680137634,0.7376810908317566,0.8173912763595581\n",
      "16,2.7686052322387695,6.006218433380127,0.3374149799346924,0.6485507488250732,0.6811594367027283\n",
      "17,2.7605221271514893,9.009358406066895,0.3469387888908386,0.6304348111152649,0.695652186870575\n",
      "18,2.783005952835083,6.290088653564453,0.3333333432674408,0.6275362372398376,0.739130437374115\n",
      "19,2.8293890953063965,6.44482421875,0.3442176878452301,0.5579710602760315,0.6739130616188049\n",
      "20,2.910025119781494,7.128144264221191,0.34285715222358704,0.6594202518463135,0.6615942120552063\n",
      "21,3.0502541065216064,8.346979141235352,0.34557822346687317,0.6268115639686584,0.6757246255874634\n",
      "22,2.776465892791748,6.773538112640381,0.3183673322200775,0.7463768720626831,0.804347813129425\n",
      "23,2.7663586139678955,10.588257789611816,0.32789117097854614,0.8442028760910034,0.8731883764266968\n",
      "24,2.782474994659424,9.296156883239746,0.33605441451072693,0.695652186870575,0.6811594367027283\n",
      "25,2.888279914855957,10.624247550964355,0.3374149799346924,0.6920289993286133,0.717391312122345\n",
      "26,2.824615955352783,7.895857334136963,0.3523809611797333,0.6978260278701782,0.8260869383811951\n",
      "27,3.1723639965057373,8.584921836853027,0.34285715222358704,0.6821945905685425,0.6739130616188049\n",
      "28,3.1782050132751465,8.065506935119629,0.33469387888908386,0.5384058356285095,0.6521739363670349\n",
      "29,2.769106149673462,12.437422752380371,0.3469387888908386,0.6579710245132446,0.782608687877655\n",
      "30,2.7598140239715576,8.644641876220703,0.3306122422218323,0.7101448774337769,0.7971013784408569\n",
      "31,2.739921808242798,7.070477485656738,0.33197277784347534,0.7246376276016235,0.804347813129425\n",
      "32,2.772528886795044,8.433528900146484,0.3401360511779785,0.77173912525177,0.7463768124580383\n",
      "33,2.7905170917510986,11.951869010925293,0.33877551555633545,0.7471014261245728,0.8478260636329651\n",
      "34,2.899415969848633,9.22410774230957,0.33877551555633545,0.6231883764266968,0.739130437374115\n",
      "35,2.74767804145813,7.132096767425537,0.3265306055545807,0.6340579390525818,0.8695651888847351\n",
      "36,2.820176124572754,7.557265758514404,0.3374149799346924,0.7101449370384216,0.7681159973144531\n",
      "37,2.8221981525421143,8.151094436645508,0.3482993245124817,0.7173911929130554,0.7826086282730103\n",
      "38,2.716931104660034,8.713296890258789,0.3523809611797333,0.7463768720626831,0.8695651292800903\n",
      "39,2.8391261100769043,10.155648231506348,0.35374149680137634,0.6253623366355896,0.7028985023498535\n",
      "40,2.8120248317718506,6.890350341796875,0.33605441451072693,0.6268116235733032,0.739130437374115\n",
      "41,2.7861921787261963,11.745524406433105,0.34965986013412476,0.7246376276016235,0.8115941882133484\n",
      "42,2.7620508670806885,10.399600982666016,0.33877551555633545,0.6231884360313416,0.6144927740097046\n",
      "43,2.7649800777435303,10.31489086151123,0.35374149680137634,0.689130425453186,0.8260869383811951\n",
      "44,2.7638349533081055,11.080842018127441,0.34965986013412476,0.6304348111152649,0.6217391490936279\n",
      "45,2.7444329261779785,8.630837440490723,0.3510203957557678,0.6775361895561218,0.7681159973144531\n",
      "46,2.784047842025757,11.050557136535645,0.3510203957557678,0.6413043737411499,0.7101449370384216\n",
      "47,2.7529008388519287,13.237720489501953,0.3333333432674408,0.6304348111152649,0.782608687877655\n",
      "48,2.7632358074188232,10.900691986083984,0.33877551555633545,0.7427535653114319,0.804347813129425\n",
      "49,2.7701070308685303,8.578757286071777,0.35374149680137634,0.5550724267959595,0.5869565010070801\n",
      "50,2.7987160682678223,10.831093788146973,0.3306122422218323,0.689130425453186,0.8115942478179932\n",
      "\n"
     ]
    }
   ],
   "source": [
    "csv_file_path = f'{paths.results_location}{network_name}/{dataset}-history.csv'\n",
    "export_learning_history_to_csv(csv_file_path, fit_result, time_callback.times)"
   ]
  },
  {
   "cell_type": "markdown",
   "metadata": {},
   "source": [
    "### Validation result"
   ]
  },
  {
   "cell_type": "code",
   "execution_count": 11,
   "metadata": {
    "pycharm": {
     "name": "#%%\n"
    }
   },
   "outputs": [
    {
     "name": "stdout",
     "output_type": "stream",
     "text": [
      "avg_epoch_time, time, val_loss, val_accuracy, val_precision, val_recall\n",
      "2.8211167860031128,141.05583930015564,9.706934928894043,0.36432161927223206,0.5384615659713745,0.6153846383094788\n"
     ]
    }
   ],
   "source": [
    "csv_file_path = f'{paths.results_location}{network_name}/{dataset}-result.csv'\n",
    "export_learning_validation_result_to_csv(csv_file_path, validation_result, time_callback.times)"
   ]
  }
 ],
 "metadata": {
  "kernelspec": {
   "display_name": "Python 3",
   "language": "python",
   "name": "python3"
  },
  "language_info": {
   "codemirror_mode": {
    "name": "ipython",
    "version": 3
   },
   "file_extension": ".py",
   "mimetype": "text/x-python",
   "name": "python",
   "nbconvert_exporter": "python",
   "pygments_lexer": "ipython3",
   "version": "3.7.7"
  }
 },
 "nbformat": 4,
 "nbformat_minor": 4
}