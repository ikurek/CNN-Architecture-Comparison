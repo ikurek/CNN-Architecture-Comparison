{
 "cells": [
  {
   "cell_type": "code",
   "execution_count": 1,
   "metadata": {
    "pycharm": {
     "name": "#%%\n"
    }
   },
   "outputs": [],
   "source": [
    "import sys\n",
    "sys.path.extend(['/Users/igor/Python/CNN-Architecture-Comparison/'])\n",
    "%load_ext autoreload\n",
    "%autoreload 2"
   ]
  },
  {
   "cell_type": "markdown",
   "metadata": {},
   "source": [
    "# LeNet5 - CALTECH101"
   ]
  },
  {
   "cell_type": "code",
   "execution_count": 2,
   "metadata": {
    "pycharm": {
     "name": "#%%\n"
    }
   },
   "outputs": [
    {
     "name": "stderr",
     "output_type": "stream",
     "text": [
      "Using TensorFlow backend.\n"
     ]
    }
   ],
   "source": [
    "from src.datasets.dataset_generators import DatasetGenerators\n",
    "from src.keras_model.lenet5_network import LeNet5Network"
   ]
  },
  {
   "cell_type": "code",
   "execution_count": 3,
   "metadata": {
    "pycharm": {
     "name": "#%%\n"
    }
   },
   "outputs": [],
   "source": [
    "dataset_dir = '/Users/igor/Python/CNN-Architecture-Comparison/data'\n",
    "fit_epochs = 50"
   ]
  },
  {
   "cell_type": "code",
   "execution_count": 4,
   "metadata": {
    "pycharm": {
     "name": "#%%\n"
    }
   },
   "outputs": [],
   "source": [
    "network = LeNet5Network()"
   ]
  },
  {
   "cell_type": "code",
   "execution_count": 5,
   "metadata": {
    "pycharm": {
     "name": "#%%\n"
    }
   },
   "outputs": [
    {
     "name": "stdout",
     "output_type": "stream",
     "text": [
      "Loading train set for caltech101_40...\n",
      "Found 2451 images belonging to 101 classes.\n",
      "Loading test set for caltech101_40...\n",
      "Found 735 images belonging to 101 classes.\n",
      "Loading validation set for caltech101_40...\n",
      "Found 398 images belonging to 101 classes.\n"
     ]
    }
   ],
   "source": [
    "dataset_generators = DatasetGenerators(\n",
    "    name='caltech101_40',\n",
    "    dataset_dir=dataset_dir,\n",
    "    image_size=network.image_size,\n",
    "    batch_size=network.batch_size,\n",
    "    grayscale=network.grayscale\n",
    ")"
   ]
  },
  {
   "cell_type": "code",
   "execution_count": 6,
   "metadata": {
    "pycharm": {
     "name": "#%%\n"
    }
   },
   "outputs": [],
   "source": [
    "model = network.get_compiled_model(\n",
    "    classes=dataset_generators.test.num_classes\n",
    ")"
   ]
  },
  {
   "cell_type": "code",
   "execution_count": 7,
   "metadata": {
    "pycharm": {
     "name": "#%%\n"
    }
   },
   "outputs": [
    {
     "name": "stdout",
     "output_type": "stream",
     "text": [
      "Epoch 1/50\n",
      "77/77 [==============================] - 3s 43ms/step - loss: 4.2467 - accuracy: 0.1722 - precision_1: 0.8618 - recall_1: 0.0534 - val_loss: 3.9818 - val_accuracy: 0.2245 - val_precision_1: 0.8636 - val_recall_1: 0.1293\n",
      "Epoch 2/50\n",
      "77/77 [==============================] - 3s 36ms/step - loss: 3.5042 - accuracy: 0.2693 - precision_1: 0.9091 - recall_1: 0.1714 - val_loss: 3.3138 - val_accuracy: 0.2490 - val_precision_1: 0.8675 - val_recall_1: 0.1959\n",
      "Epoch 3/50\n",
      "77/77 [==============================] - 3s 35ms/step - loss: 3.1765 - accuracy: 0.3211 - precision_1: 0.9199 - recall_1: 0.2109 - val_loss: 2.7635 - val_accuracy: 0.2776 - val_precision_1: 0.9068 - val_recall_1: 0.1986\n",
      "Epoch 4/50\n",
      "77/77 [==============================] - 3s 36ms/step - loss: 2.7826 - accuracy: 0.3790 - precision_1: 0.9301 - recall_1: 0.2607 - val_loss: 3.0575 - val_accuracy: 0.2939 - val_precision_1: 0.8457 - val_recall_1: 0.2163\n",
      "Epoch 5/50\n",
      "77/77 [==============================] - 3s 36ms/step - loss: 2.3981 - accuracy: 0.4447 - precision_1: 0.9344 - recall_1: 0.2962 - val_loss: 3.8170 - val_accuracy: 0.3129 - val_precision_1: 0.8233 - val_recall_1: 0.2408\n",
      "Epoch 6/50\n",
      "77/77 [==============================] - 3s 37ms/step - loss: 2.0534 - accuracy: 0.5088 - precision_1: 0.9187 - recall_1: 0.3643 - val_loss: 3.0632 - val_accuracy: 0.3143 - val_precision_1: 0.8145 - val_recall_1: 0.2449\n",
      "Epoch 7/50\n",
      "77/77 [==============================] - 3s 35ms/step - loss: 1.6775 - accuracy: 0.5891 - precision_1: 0.9385 - recall_1: 0.4296 - val_loss: 3.0875 - val_accuracy: 0.3442 - val_precision_1: 0.7101 - val_recall_1: 0.2667\n",
      "Epoch 8/50\n",
      "77/77 [==============================] - 3s 36ms/step - loss: 1.3506 - accuracy: 0.6634 - precision_1: 0.9299 - recall_1: 0.5145 - val_loss: 3.9831 - val_accuracy: 0.3252 - val_precision_1: 0.6577 - val_recall_1: 0.2667\n",
      "Epoch 9/50\n",
      "77/77 [==============================] - 3s 36ms/step - loss: 1.0547 - accuracy: 0.7324 - precision_1: 0.9455 - recall_1: 0.5875 - val_loss: 3.2571 - val_accuracy: 0.3401 - val_precision_1: 0.6100 - val_recall_1: 0.2830\n",
      "Epoch 10/50\n",
      "77/77 [==============================] - 3s 36ms/step - loss: 0.8397 - accuracy: 0.7899 - precision_1: 0.9550 - recall_1: 0.6487 - val_loss: 4.0330 - val_accuracy: 0.3401 - val_precision_1: 0.6017 - val_recall_1: 0.2898\n",
      "Epoch 11/50\n",
      "77/77 [==============================] - 3s 36ms/step - loss: 0.6642 - accuracy: 0.8311 - precision_1: 0.9553 - recall_1: 0.7230 - val_loss: 4.1110 - val_accuracy: 0.3388 - val_precision_1: 0.5397 - val_recall_1: 0.3143\n",
      "Epoch 12/50\n",
      "77/77 [==============================] - 3s 36ms/step - loss: 0.4945 - accuracy: 0.8707 - precision_1: 0.9647 - recall_1: 0.7809 - val_loss: 3.6955 - val_accuracy: 0.3211 - val_precision_1: 0.4841 - val_recall_1: 0.2898\n",
      "Epoch 13/50\n",
      "77/77 [==============================] - 3s 36ms/step - loss: 0.3702 - accuracy: 0.9098 - precision_1: 0.9695 - recall_1: 0.8433 - val_loss: 4.4747 - val_accuracy: 0.3483 - val_precision_1: 0.4583 - val_recall_1: 0.3143\n",
      "Epoch 14/50\n",
      "77/77 [==============================] - 3s 36ms/step - loss: 0.3130 - accuracy: 0.9310 - precision_1: 0.9754 - recall_1: 0.8752 - val_loss: 6.6655 - val_accuracy: 0.3347 - val_precision_1: 0.4499 - val_recall_1: 0.2993\n",
      "Epoch 15/50\n",
      "77/77 [==============================] - 3s 36ms/step - loss: 0.2630 - accuracy: 0.9359 - precision_1: 0.9709 - recall_1: 0.8845 - val_loss: 5.8581 - val_accuracy: 0.3388 - val_precision_1: 0.4495 - val_recall_1: 0.3088\n",
      "Epoch 16/50\n",
      "77/77 [==============================] - 3s 36ms/step - loss: 0.1736 - accuracy: 0.9629 - precision_1: 0.9888 - recall_1: 0.9343 - val_loss: 7.2057 - val_accuracy: 0.3442 - val_precision_1: 0.4338 - val_recall_1: 0.3211\n",
      "Epoch 17/50\n",
      "77/77 [==============================] - 3s 36ms/step - loss: 0.1177 - accuracy: 0.9820 - precision_1: 0.9916 - recall_1: 0.9584 - val_loss: 7.4203 - val_accuracy: 0.3361 - val_precision_1: 0.4312 - val_recall_1: 0.3156\n",
      "Epoch 18/50\n",
      "77/77 [==============================] - 3s 36ms/step - loss: 0.0620 - accuracy: 0.9939 - precision_1: 0.9975 - recall_1: 0.9820 - val_loss: 4.9549 - val_accuracy: 0.3442 - val_precision_1: 0.4164 - val_recall_1: 0.3184\n",
      "Epoch 19/50\n",
      "77/77 [==============================] - 3s 36ms/step - loss: 0.0400 - accuracy: 0.9967 - precision_1: 0.9984 - recall_1: 0.9914 - val_loss: 8.0551 - val_accuracy: 0.3537 - val_precision_1: 0.4261 - val_recall_1: 0.3293\n",
      "Epoch 20/50\n",
      "77/77 [==============================] - 3s 36ms/step - loss: 0.0191 - accuracy: 0.9992 - precision_1: 0.9996 - recall_1: 0.9980 - val_loss: 6.1861 - val_accuracy: 0.3483 - val_precision_1: 0.4093 - val_recall_1: 0.3347\n",
      "Epoch 21/50\n",
      "77/77 [==============================] - 3s 36ms/step - loss: 0.0149 - accuracy: 0.9996 - precision_1: 0.9996 - recall_1: 0.9980 - val_loss: 8.7392 - val_accuracy: 0.3456 - val_precision_1: 0.4070 - val_recall_1: 0.3306\n",
      "Epoch 22/50\n",
      "77/77 [==============================] - 3s 36ms/step - loss: 0.0211 - accuracy: 0.9971 - precision_1: 0.9976 - recall_1: 0.9967 - val_loss: 8.1643 - val_accuracy: 0.3429 - val_precision_1: 0.4043 - val_recall_1: 0.3306\n",
      "Epoch 23/50\n",
      "77/77 [==============================] - 3s 38ms/step - loss: 0.2059 - accuracy: 0.9457 - precision_1: 0.9630 - recall_1: 0.9241 - val_loss: 6.1100 - val_accuracy: 0.3388 - val_precision_1: 0.4097 - val_recall_1: 0.3116\n",
      "Epoch 24/50\n",
      "77/77 [==============================] - 3s 42ms/step - loss: 0.2305 - accuracy: 0.9372 - precision_1: 0.9539 - recall_1: 0.9127 - val_loss: 5.7905 - val_accuracy: 0.3347 - val_precision_1: 0.4244 - val_recall_1: 0.3170\n",
      "Epoch 25/50\n",
      "77/77 [==============================] - 3s 42ms/step - loss: 0.2298 - accuracy: 0.9470 - precision_1: 0.9623 - recall_1: 0.9168 - val_loss: 5.3268 - val_accuracy: 0.3293 - val_precision_1: 0.4176 - val_recall_1: 0.3102\n",
      "Epoch 26/50\n",
      "77/77 [==============================] - 3s 36ms/step - loss: 0.0909 - accuracy: 0.9816 - precision_1: 0.9863 - recall_1: 0.9670 - val_loss: 5.4019 - val_accuracy: 0.3347 - val_precision_1: 0.4010 - val_recall_1: 0.3252\n",
      "Epoch 27/50\n",
      "77/77 [==============================] - 3s 36ms/step - loss: 0.0290 - accuracy: 0.9984 - precision_1: 0.9984 - recall_1: 0.9963 - val_loss: 7.1615 - val_accuracy: 0.3388 - val_precision_1: 0.4034 - val_recall_1: 0.3211\n",
      "Epoch 28/50\n",
      "77/77 [==============================] - 3s 39ms/step - loss: 0.0174 - accuracy: 0.9992 - precision_1: 0.9992 - recall_1: 0.9992 - val_loss: 7.3895 - val_accuracy: 0.3401 - val_precision_1: 0.4013 - val_recall_1: 0.3293\n",
      "Epoch 29/50\n",
      "77/77 [==============================] - 3s 38ms/step - loss: 0.0078 - accuracy: 0.9996 - precision_1: 0.9996 - recall_1: 0.9996 - val_loss: 6.7658 - val_accuracy: 0.3442 - val_precision_1: 0.4030 - val_recall_1: 0.3306\n",
      "Epoch 30/50\n",
      "77/77 [==============================] - 3s 37ms/step - loss: 0.0069 - accuracy: 0.9996 - precision_1: 0.9996 - recall_1: 0.9996 - val_loss: 7.0167 - val_accuracy: 0.3483 - val_precision_1: 0.4049 - val_recall_1: 0.3361\n",
      "Epoch 31/50\n",
      "77/77 [==============================] - 3s 36ms/step - loss: 0.0068 - accuracy: 0.9996 - precision_1: 0.9996 - recall_1: 0.9996 - val_loss: 6.6263 - val_accuracy: 0.3361 - val_precision_1: 0.3874 - val_recall_1: 0.3252\n",
      "Epoch 32/50\n",
      "77/77 [==============================] - 3s 36ms/step - loss: 0.0063 - accuracy: 0.9992 - precision_1: 0.9992 - recall_1: 0.9992 - val_loss: 6.4521 - val_accuracy: 0.3456 - val_precision_1: 0.3948 - val_recall_1: 0.3320\n",
      "Epoch 33/50\n",
      "77/77 [==============================] - 3s 37ms/step - loss: 0.0041 - accuracy: 0.9996 - precision_1: 0.9996 - recall_1: 0.9996 - val_loss: 10.2610 - val_accuracy: 0.3497 - val_precision_1: 0.3912 - val_recall_1: 0.3401\n",
      "Epoch 34/50\n",
      "77/77 [==============================] - 3s 36ms/step - loss: 0.0072 - accuracy: 0.9996 - precision_1: 0.9996 - recall_1: 0.9996 - val_loss: 10.0361 - val_accuracy: 0.3415 - val_precision_1: 0.4003 - val_recall_1: 0.3306\n",
      "Epoch 35/50\n",
      "77/77 [==============================] - 3s 36ms/step - loss: 0.0096 - accuracy: 0.9992 - precision_1: 0.9992 - recall_1: 0.9992 - val_loss: 6.7836 - val_accuracy: 0.3374 - val_precision_1: 0.3882 - val_recall_1: 0.3306\n",
      "Epoch 36/50\n",
      "77/77 [==============================] - 3s 36ms/step - loss: 0.0086 - accuracy: 0.9988 - precision_1: 0.9988 - recall_1: 0.9988 - val_loss: 7.9870 - val_accuracy: 0.3442 - val_precision_1: 0.4036 - val_recall_1: 0.3388\n",
      "Epoch 37/50\n",
      "77/77 [==============================] - 3s 38ms/step - loss: 0.0042 - accuracy: 0.9996 - precision_1: 0.9996 - recall_1: 0.9996 - val_loss: 9.2222 - val_accuracy: 0.3401 - val_precision_1: 0.3823 - val_recall_1: 0.3293\n",
      "Epoch 38/50\n",
      "77/77 [==============================] - 3s 37ms/step - loss: 0.0111 - accuracy: 0.9992 - precision_1: 0.9992 - recall_1: 0.9992 - val_loss: 6.5790 - val_accuracy: 0.3429 - val_precision_1: 0.3889 - val_recall_1: 0.3333\n",
      "Epoch 39/50\n",
      "77/77 [==============================] - 3s 36ms/step - loss: 0.0189 - accuracy: 0.9984 - precision_1: 0.9984 - recall_1: 0.9980 - val_loss: 5.4353 - val_accuracy: 0.3483 - val_precision_1: 0.3974 - val_recall_1: 0.3374\n",
      "Epoch 40/50\n",
      "77/77 [==============================] - 3s 36ms/step - loss: 0.0057 - accuracy: 0.9992 - precision_1: 0.9992 - recall_1: 0.9992 - val_loss: 11.3618 - val_accuracy: 0.3537 - val_precision_1: 0.4036 - val_recall_1: 0.3361\n",
      "Epoch 41/50\n",
      "77/77 [==============================] - 3s 36ms/step - loss: 0.0103 - accuracy: 0.9992 - precision_1: 0.9992 - recall_1: 0.9992 - val_loss: 11.4567 - val_accuracy: 0.3415 - val_precision_1: 0.3889 - val_recall_1: 0.3333\n",
      "Epoch 42/50\n",
      "77/77 [==============================] - 3s 36ms/step - loss: 0.2121 - accuracy: 0.9396 - precision_1: 0.9563 - recall_1: 0.9282 - val_loss: 7.6813 - val_accuracy: 0.3238 - val_precision_1: 0.3945 - val_recall_1: 0.3102\n",
      "Epoch 43/50\n",
      "77/77 [==============================] - 3s 36ms/step - loss: 0.5578 - accuracy: 0.8405 - precision_1: 0.8930 - recall_1: 0.7834 - val_loss: 5.1723 - val_accuracy: 0.3293 - val_precision_1: 0.4312 - val_recall_1: 0.3156\n",
      "Epoch 44/50\n",
      "77/77 [==============================] - 3s 36ms/step - loss: 0.2069 - accuracy: 0.9400 - precision_1: 0.9614 - recall_1: 0.9139 - val_loss: 6.7234 - val_accuracy: 0.3469 - val_precision_1: 0.4201 - val_recall_1: 0.3293\n",
      "Epoch 45/50\n",
      "77/77 [==============================] - 3s 36ms/step - loss: 0.0870 - accuracy: 0.9767 - precision_1: 0.9855 - recall_1: 0.9702 - val_loss: 7.9059 - val_accuracy: 0.3497 - val_precision_1: 0.4077 - val_recall_1: 0.3306\n",
      "Epoch 46/50\n",
      "77/77 [==============================] - 3s 36ms/step - loss: 0.0529 - accuracy: 0.9886 - precision_1: 0.9914 - recall_1: 0.9857 - val_loss: 8.4941 - val_accuracy: 0.3293 - val_precision_1: 0.3800 - val_recall_1: 0.3211\n",
      "Epoch 47/50\n",
      "77/77 [==============================] - 3s 36ms/step - loss: 0.0186 - accuracy: 0.9963 - precision_1: 0.9963 - recall_1: 0.9955 - val_loss: 7.0701 - val_accuracy: 0.3347 - val_precision_1: 0.3912 - val_recall_1: 0.3279\n",
      "Epoch 48/50\n",
      "77/77 [==============================] - 3s 36ms/step - loss: 0.0109 - accuracy: 0.9988 - precision_1: 0.9988 - recall_1: 0.9988 - val_loss: 6.8888 - val_accuracy: 0.3469 - val_precision_1: 0.3940 - val_recall_1: 0.3415\n",
      "Epoch 49/50\n",
      "77/77 [==============================] - 3s 37ms/step - loss: 0.0063 - accuracy: 0.9996 - precision_1: 0.9996 - recall_1: 0.9992 - val_loss: 7.9931 - val_accuracy: 0.3565 - val_precision_1: 0.3881 - val_recall_1: 0.3374\n",
      "Epoch 50/50\n",
      "77/77 [==============================] - 3s 36ms/step - loss: 0.0080 - accuracy: 0.9992 - precision_1: 0.9992 - recall_1: 0.9992 - val_loss: 10.0901 - val_accuracy: 0.3551 - val_precision_1: 0.4041 - val_recall_1: 0.3469\n"
     ]
    }
   ],
   "source": [
    "history = model.fit_generator(\n",
    "    generator=dataset_generators.train,\n",
    "    epochs=fit_epochs,\n",
    "    validation_data=dataset_generators.test\n",
    ")"
   ]
  },
  {
   "cell_type": "code",
   "execution_count": 8,
   "metadata": {
    "pycharm": {
     "name": "#%%\n"
    }
   },
   "outputs": [],
   "source": [
    "result = model.evaluate_generator(\n",
    "    generator=dataset_generators.validate\n",
    ")"
   ]
  },
  {
   "cell_type": "markdown",
   "metadata": {
    "pycharm": {
     "name": "#%% md\n"
    }
   },
   "source": [
    "## CALTECH101 Results"
   ]
  },
  {
   "cell_type": "code",
   "execution_count": 9,
   "metadata": {
    "pycharm": {
     "name": "#%%\n"
    }
   },
   "outputs": [
    {
     "name": "stdout",
     "output_type": "stream",
     "text": [
      "Loss: 6.44946813583374\n",
      "Accuracy: 0.37185928225517273\n",
      "Precision: 0.4137931168079376\n",
      "Recall: 0.36180904507637024\n"
     ]
    }
   ],
   "source": [
    "print(\"Loss: {}\".format(result[0]))\n",
    "print(\"Accuracy: {}\".format(result[1]))\n",
    "print(\"Precision: {}\".format(result[2]))\n",
    "print(\"Recall: {}\".format(result[3]))"
   ]
  }
 ],
 "metadata": {
  "kernelspec": {
   "display_name": "Python 3",
   "language": "python",
   "name": "python3"
  },
  "language_info": {
   "codemirror_mode": {
    "name": "ipython",
    "version": 3
   },
   "file_extension": ".py",
   "mimetype": "text/x-python",
   "name": "python",
   "nbconvert_exporter": "python",
   "pygments_lexer": "ipython3",
   "version": "3.7.7"
  }
 },
 "nbformat": 4,
 "nbformat_minor": 4
}