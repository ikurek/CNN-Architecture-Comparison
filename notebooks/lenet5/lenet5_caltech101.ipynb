{
 "cells": [
  {
   "cell_type": "code",
   "execution_count": 1,
   "metadata": {
    "pycharm": {
     "name": "#%%\n"
    }
   },
   "outputs": [],
   "source": [
    "import sys\n",
    "sys.path.extend(['..', '../', '../..', '../../' ])\n",
    "%load_ext autoreload\n",
    "%autoreload 2"
   ]
  },
  {
   "cell_type": "markdown",
   "metadata": {},
   "source": [
    "# LeNet5 - CALTECH101"
   ]
  },
  {
   "cell_type": "code",
   "execution_count": 2,
   "metadata": {
    "pycharm": {
     "name": "#%%\n"
    }
   },
   "outputs": [
    {
     "name": "stderr",
     "output_type": "stream",
     "text": [
      "Using TensorFlow backend.\n"
     ]
    }
   ],
   "source": [
    "import paths\n",
    "import keras\n",
    "from src.parameters import metrics\n",
    "from src.datasets.dataset_generators import DatasetGenerators\n",
    "from src.keras_callback.time_history import TimeHistory\n",
    "from src.export.csv_export import export_learning_history_to_csv, export_learning_validation_result_to_csv\n",
    "from src.export.model_export import clear_exported_models\n",
    "from src.keras_model.lenet5_network import LeNet5Network"
   ]
  },
  {
   "cell_type": "code",
   "execution_count": 3,
   "metadata": {
    "pycharm": {
     "name": "#%%\n"
    }
   },
   "outputs": [],
   "source": [
    "network_name = 'lenet5'\n",
    "fit_epochs = 50\n",
    "dataset = 'caltech101'\n",
    "dataset_percentage = '40'"
   ]
  },
  {
   "cell_type": "code",
   "execution_count": 4,
   "metadata": {
    "pycharm": {
     "name": "#%%\n"
    }
   },
   "outputs": [],
   "source": [
    "network = LeNet5Network()"
   ]
  },
  {
   "cell_type": "code",
   "execution_count": 5,
   "metadata": {
    "pycharm": {
     "name": "#%%\n"
    }
   },
   "outputs": [
    {
     "name": "stdout",
     "output_type": "stream",
     "text": [
      "Loading train set for caltech101_40...\n",
      "Found 2451 images belonging to 101 classes.\n",
      "Loading test set for caltech101_40...\n",
      "Found 735 images belonging to 101 classes.\n",
      "Loading validation set for caltech101_40...\n",
      "Found 398 images belonging to 101 classes.\n"
     ]
    }
   ],
   "source": [
    "dataset_generators = DatasetGenerators(\n",
    "    name=f'{dataset}_{dataset_percentage}',\n",
    "    dataset_dir=paths.data_location,\n",
    "    image_size=network.image_size,\n",
    "    batch_size=network.batch_size,\n",
    "    grayscale=network.grayscale\n",
    ")"
   ]
  },
  {
   "cell_type": "code",
   "execution_count": 6,
   "metadata": {
    "pycharm": {
     "name": "#%%\n"
    }
   },
   "outputs": [],
   "source": [
    "model = network.get_compiled_model(\n",
    "    classes=dataset_generators.test.num_classes\n",
    ")"
   ]
  },
  {
   "cell_type": "code",
   "execution_count": 7,
   "metadata": {
    "pycharm": {
     "name": "#%%\n"
    }
   },
   "outputs": [],
   "source": [
    "checkpoint_path = f'{paths.models_location}{network_name}/{dataset}/'\n",
    "best_model_path = f'{checkpoint_path}best.h5'\n",
    "clear_exported_models(checkpoint_path)\n",
    "\n",
    "checkpoint_callback = keras.callbacks.ModelCheckpoint(\n",
    "    filepath=f'{checkpoint_path}{{epoch:02d}}-{{val_accuracy}}.h5',\n",
    "    save_best_only=False,\n",
    "    save_weights_only=False\n",
    ")\n",
    "\n",
    "best_callback = keras.callbacks.ModelCheckpoint(\n",
    "    filepath=best_model_path,\n",
    "    save_best_only=True,\n",
    "    verbose=1,\n",
    "    save_weights_only=False\n",
    ")\n",
    "\n",
    "time_callback = TimeHistory()\n",
    "\n",
    "model_callbacks = [checkpoint_callback, best_callback, time_callback]"
   ]
  },
  {
   "cell_type": "code",
   "execution_count": 8,
   "metadata": {
    "pycharm": {
     "name": "#%%\n"
    }
   },
   "outputs": [
    {
     "name": "stdout",
     "output_type": "stream",
     "text": [
      "Epoch 1/50\n",
      "77/77 [==============================] - 5s 60ms/step - loss: 6.0448 - accuracy: 0.1142 - precision: 0.0779 - recall: 0.0286 - val_loss: 3.7770 - val_accuracy: 0.1973 - val_precision: 0.1739 - val_recall: 0.0754\n",
      "\n",
      "Epoch 00001: val_loss improved from inf to 3.77702, saving model to /Users/igor/Python/CNN-Architecture-Comparison/models/lenet5/caltech101/best.h5\n",
      "Epoch 2/50\n",
      "77/77 [==============================] - 3s 41ms/step - loss: 3.7852 - accuracy: 0.2297 - precision: 0.5703 - recall: 0.4394 - val_loss: 3.4989 - val_accuracy: 0.2395 - val_precision: 0.7609 - val_recall: 0.7217\n",
      "\n",
      "Epoch 00002: val_loss improved from 3.77702 to 3.49894, saving model to /Users/igor/Python/CNN-Architecture-Comparison/models/lenet5/caltech101/best.h5\n",
      "Epoch 3/50\n",
      "77/77 [==============================] - 4s 54ms/step - loss: 3.4696 - accuracy: 0.2636 - precision: 0.6684 - recall: 0.6110 - val_loss: 4.0677 - val_accuracy: 0.2612 - val_precision: 0.5652 - val_recall: 0.5254\n",
      "\n",
      "Epoch 00003: val_loss did not improve from 3.49894\n",
      "Epoch 4/50\n",
      "77/77 [==============================] - 5s 63ms/step - loss: 3.2148 - accuracy: 0.3089 - precision: 0.7489 - recall: 0.7078 - val_loss: 3.6896 - val_accuracy: 0.2748 - val_precision: 0.7174 - val_recall: 0.7681\n",
      "\n",
      "Epoch 00004: val_loss did not improve from 3.49894\n",
      "Epoch 5/50\n",
      "77/77 [==============================] - 5s 71ms/step - loss: 2.9409 - accuracy: 0.3505 - precision: 0.7338 - recall: 0.7208 - val_loss: 3.3040 - val_accuracy: 0.2912 - val_precision: 0.7174 - val_recall: 0.6630\n",
      "\n",
      "Epoch 00005: val_loss improved from 3.49894 to 3.30396, saving model to /Users/igor/Python/CNN-Architecture-Comparison/models/lenet5/caltech101/best.h5\n",
      "Epoch 6/50\n",
      "77/77 [==============================] - 6s 73ms/step - loss: 2.6834 - accuracy: 0.3937 - precision: 0.7641 - recall: 0.7381 - val_loss: 2.8331 - val_accuracy: 0.3020 - val_precision: 0.7464 - val_recall: 0.6957\n",
      "\n",
      "Epoch 00006: val_loss improved from 3.30396 to 2.83313, saving model to /Users/igor/Python/CNN-Architecture-Comparison/models/lenet5/caltech101/best.h5\n",
      "Epoch 7/50\n",
      "77/77 [==============================] - 6s 75ms/step - loss: 2.4168 - accuracy: 0.4378 - precision: 0.7522 - recall: 0.7284 - val_loss: 4.4340 - val_accuracy: 0.3129 - val_precision: 0.8116 - val_recall: 0.7391\n",
      "\n",
      "Epoch 00007: val_loss did not improve from 2.83313\n",
      "Epoch 8/50\n",
      "77/77 [==============================] - 6s 76ms/step - loss: 2.1435 - accuracy: 0.5018 - precision: 0.8063 - recall: 0.7933 - val_loss: 3.4960 - val_accuracy: 0.3184 - val_precision: 0.6413 - val_recall: 0.6522\n",
      "\n",
      "Epoch 00008: val_loss did not improve from 2.83313\n",
      "Epoch 9/50\n",
      "77/77 [==============================] - 6s 79ms/step - loss: 1.8807 - accuracy: 0.5426 - precision: 0.7792 - recall: 0.7565 - val_loss: 4.5207 - val_accuracy: 0.3224 - val_precision: 0.7174 - val_recall: 0.6739\n",
      "\n",
      "Epoch 00009: val_loss did not improve from 2.83313\n",
      "Epoch 10/50\n",
      "77/77 [==============================] - 6s 80ms/step - loss: 1.5768 - accuracy: 0.6144 - precision: 0.8247 - recall: 0.8139 - val_loss: 3.9792 - val_accuracy: 0.3265 - val_precision: 0.8370 - val_recall: 0.7971\n",
      "\n",
      "Epoch 00010: val_loss did not improve from 2.83313\n",
      "Epoch 11/50\n",
      "77/77 [==============================] - 5s 70ms/step - loss: 1.3787 - accuracy: 0.6577 - precision: 0.7695 - recall: 0.7608 - val_loss: 3.9998 - val_accuracy: 0.3320 - val_precision: 0.6594 - val_recall: 0.6486\n",
      "\n",
      "Epoch 00011: val_loss did not improve from 2.83313\n",
      "Epoch 12/50\n",
      "77/77 [==============================] - 4s 58ms/step - loss: 1.1978 - accuracy: 0.6948 - precision: 0.7760 - recall: 0.7684 - val_loss: 5.0007 - val_accuracy: 0.3279 - val_precision: 0.5565 - val_recall: 0.4942\n",
      "\n",
      "Epoch 00012: val_loss did not improve from 2.83313\n",
      "Epoch 13/50\n",
      "77/77 [==============================] - 5s 59ms/step - loss: 1.0026 - accuracy: 0.7421 - precision: 0.8019 - recall: 0.8052 - val_loss: 4.8842 - val_accuracy: 0.3238 - val_precision: 0.7391 - val_recall: 0.6667\n",
      "\n",
      "Epoch 00013: val_loss did not improve from 2.83313\n",
      "Epoch 14/50\n",
      "77/77 [==============================] - 5s 64ms/step - loss: 0.8513 - accuracy: 0.7834 - precision: 0.7630 - recall: 0.7532 - val_loss: 2.7663 - val_accuracy: 0.3361 - val_precision: 0.7174 - val_recall: 0.6957\n",
      "\n",
      "Epoch 00014: val_loss improved from 2.83313 to 2.76633, saving model to /Users/igor/Python/CNN-Architecture-Comparison/models/lenet5/caltech101/best.h5\n",
      "Epoch 15/50\n",
      "77/77 [==============================] - 5s 60ms/step - loss: 0.7372 - accuracy: 0.8013 - precision: 0.7890 - recall: 0.7857 - val_loss: 6.6381 - val_accuracy: 0.3293 - val_precision: 0.7246 - val_recall: 0.6739\n",
      "\n",
      "Epoch 00015: val_loss did not improve from 2.76633\n",
      "Epoch 16/50\n",
      "77/77 [==============================] - 4s 57ms/step - loss: 0.6422 - accuracy: 0.8339 - precision: 0.8052 - recall: 0.7987 - val_loss: 5.3473 - val_accuracy: 0.3224 - val_precision: 0.8696 - val_recall: 0.8913\n",
      "\n",
      "Epoch 00016: val_loss did not improve from 2.76633\n",
      "Epoch 17/50\n",
      "77/77 [==============================] - 4s 47ms/step - loss: 0.5595 - accuracy: 0.8560 - precision: 0.7403 - recall: 0.7338 - val_loss: 7.3757 - val_accuracy: 0.3361 - val_precision: 0.6739 - val_recall: 0.6870\n",
      "\n",
      "Epoch 00017: val_loss did not improve from 2.76633\n",
      "Epoch 18/50\n",
      "77/77 [==============================] - 3s 43ms/step - loss: 0.4595 - accuracy: 0.8829 - precision: 0.7273 - recall: 0.7143 - val_loss: 6.2627 - val_accuracy: 0.3415 - val_precision: 0.7609 - val_recall: 0.7449\n",
      "\n",
      "Epoch 00018: val_loss did not improve from 2.76633\n",
      "Epoch 19/50\n",
      "77/77 [==============================] - 3s 45ms/step - loss: 0.3501 - accuracy: 0.9119 - precision: 0.8701 - recall: 0.8658 - val_loss: 7.6379 - val_accuracy: 0.3361 - val_precision: 0.6522 - val_recall: 0.6072\n",
      "\n",
      "Epoch 00019: val_loss did not improve from 2.76633\n",
      "Epoch 20/50\n",
      "77/77 [==============================] - 3s 45ms/step - loss: 0.2747 - accuracy: 0.9319 - precision: 0.7879 - recall: 0.7814 - val_loss: 9.0652 - val_accuracy: 0.3361 - val_precision: 0.6558 - val_recall: 0.6993\n",
      "\n",
      "Epoch 00020: val_loss did not improve from 2.76633\n",
      "Epoch 21/50\n",
      "77/77 [==============================] - 3s 43ms/step - loss: 0.2623 - accuracy: 0.9335 - precision: 0.7684 - recall: 0.7658 - val_loss: 6.4969 - val_accuracy: 0.3306 - val_precision: 0.6087 - val_recall: 0.5435\n",
      "\n",
      "Epoch 00021: val_loss did not improve from 2.76633\n",
      "Epoch 22/50\n",
      "77/77 [==============================] - 3s 43ms/step - loss: 0.1832 - accuracy: 0.9551 - precision: 0.7987 - recall: 0.8052 - val_loss: 7.1975 - val_accuracy: 0.3483 - val_precision: 0.7826 - val_recall: 0.7159\n",
      "\n",
      "Epoch 00022: val_loss did not improve from 2.76633\n",
      "Epoch 23/50\n",
      "77/77 [==============================] - 3s 39ms/step - loss: 0.2066 - accuracy: 0.9490 - precision: 0.7619 - recall: 0.7489 - val_loss: 6.9524 - val_accuracy: 0.3469 - val_precision: 0.7826 - val_recall: 0.7138\n",
      "\n",
      "Epoch 00023: val_loss did not improve from 2.76633\n",
      "Epoch 24/50\n",
      "77/77 [==============================] - 3s 38ms/step - loss: 0.2694 - accuracy: 0.9270 - precision: 0.7922 - recall: 0.7896 - val_loss: 8.7102 - val_accuracy: 0.3347 - val_precision: 0.6957 - val_recall: 0.6594\n",
      "\n",
      "Epoch 00024: val_loss did not improve from 2.76633\n",
      "Epoch 25/50\n",
      "77/77 [==============================] - 3s 38ms/step - loss: 0.2062 - accuracy: 0.9474 - precision: 0.8528 - recall: 0.8571 - val_loss: 8.1730 - val_accuracy: 0.3374 - val_precision: 0.7391 - val_recall: 0.6304\n",
      "\n",
      "Epoch 00025: val_loss did not improve from 2.76633\n",
      "Epoch 26/50\n",
      "77/77 [==============================] - 3s 39ms/step - loss: 0.1601 - accuracy: 0.9588 - precision: 0.7987 - recall: 0.8009 - val_loss: 12.0143 - val_accuracy: 0.3211 - val_precision: 0.6522 - val_recall: 0.5906\n",
      "\n",
      "Epoch 00026: val_loss did not improve from 2.76633\n",
      "Epoch 27/50\n",
      "77/77 [==============================] - 3s 37ms/step - loss: 0.1073 - accuracy: 0.9727 - precision: 0.7922 - recall: 0.7922 - val_loss: 8.9776 - val_accuracy: 0.3415 - val_precision: 0.7826 - val_recall: 0.7246\n",
      "\n",
      "Epoch 00027: val_loss did not improve from 2.76633\n",
      "Epoch 28/50\n",
      "77/77 [==============================] - 3s 39ms/step - loss: 0.0850 - accuracy: 0.9845 - precision: 0.8312 - recall: 0.8203 - val_loss: 11.8136 - val_accuracy: 0.3483 - val_precision: 0.7246 - val_recall: 0.6304\n",
      "\n",
      "Epoch 00028: val_loss did not improve from 2.76633\n",
      "Epoch 29/50\n",
      "77/77 [==============================] - 3s 40ms/step - loss: 0.1145 - accuracy: 0.9723 - precision: 0.7403 - recall: 0.7446 - val_loss: 5.8395 - val_accuracy: 0.3361 - val_precision: 0.8261 - val_recall: 0.7319\n",
      "\n",
      "Epoch 00029: val_loss did not improve from 2.76633\n",
      "Epoch 30/50\n",
      "77/77 [==============================] - 3s 40ms/step - loss: 0.2081 - accuracy: 0.9404 - precision: 0.7532 - recall: 0.7489 - val_loss: 6.6625 - val_accuracy: 0.3374 - val_precision: 0.5543 - val_recall: 0.6087\n",
      "\n",
      "Epoch 00030: val_loss did not improve from 2.76633\n",
      "Epoch 31/50\n",
      "77/77 [==============================] - 3s 41ms/step - loss: 0.2344 - accuracy: 0.9327 - precision: 0.8117 - recall: 0.8117 - val_loss: 9.6117 - val_accuracy: 0.3524 - val_precision: 0.6486 - val_recall: 0.7029\n",
      "\n",
      "Epoch 00031: val_loss did not improve from 2.76633\n",
      "Epoch 32/50\n",
      "77/77 [==============================] - 3s 38ms/step - loss: 0.1325 - accuracy: 0.9633 - precision: 0.7792 - recall: 0.7792 - val_loss: 10.0004 - val_accuracy: 0.3429 - val_precision: 0.6069 - val_recall: 0.5870\n",
      "\n",
      "Epoch 00032: val_loss did not improve from 2.76633\n",
      "Epoch 33/50\n",
      "77/77 [==============================] - 3s 39ms/step - loss: 0.0498 - accuracy: 0.9914 - precision: 0.8149 - recall: 0.8139 - val_loss: 6.1738 - val_accuracy: 0.3565 - val_precision: 0.6630 - val_recall: 0.5978\n",
      "\n",
      "Epoch 00033: val_loss did not improve from 2.76633\n",
      "Epoch 34/50\n",
      "77/77 [==============================] - 3s 39ms/step - loss: 0.0450 - accuracy: 0.9906 - precision: 0.7760 - recall: 0.7792 - val_loss: 10.1705 - val_accuracy: 0.3374 - val_precision: 0.7826 - val_recall: 0.7159\n",
      "\n",
      "Epoch 00034: val_loss did not improve from 2.76633\n",
      "Epoch 35/50\n",
      "77/77 [==============================] - 3s 38ms/step - loss: 0.0327 - accuracy: 0.9967 - precision: 0.8701 - recall: 0.8658 - val_loss: 10.8080 - val_accuracy: 0.3442 - val_precision: 0.5942 - val_recall: 0.5797\n",
      "\n",
      "Epoch 00035: val_loss did not improve from 2.76633\n",
      "Epoch 36/50\n",
      "77/77 [==============================] - 3s 39ms/step - loss: 0.0473 - accuracy: 0.9947 - precision: 0.8506 - recall: 0.8506 - val_loss: 11.2912 - val_accuracy: 0.3388 - val_precision: 0.6522 - val_recall: 0.6848\n",
      "\n",
      "Epoch 00036: val_loss did not improve from 2.76633\n",
      "Epoch 37/50\n",
      "77/77 [==============================] - 3s 39ms/step - loss: 0.0378 - accuracy: 0.9943 - precision: 0.7403 - recall: 0.7377 - val_loss: 9.0267 - val_accuracy: 0.3320 - val_precision: 0.6957 - val_recall: 0.6377\n",
      "\n",
      "Epoch 00037: val_loss did not improve from 2.76633\n",
      "Epoch 38/50\n",
      "77/77 [==============================] - 3s 40ms/step - loss: 0.0362 - accuracy: 0.9918 - precision: 0.8636 - recall: 0.8701 - val_loss: 7.6597 - val_accuracy: 0.3333 - val_precision: 0.6522 - val_recall: 0.5942\n",
      "\n",
      "Epoch 00038: val_loss did not improve from 2.76633\n",
      "Epoch 39/50\n",
      "77/77 [==============================] - 3s 41ms/step - loss: 0.0381 - accuracy: 0.9931 - precision: 0.8442 - recall: 0.8398 - val_loss: 10.0947 - val_accuracy: 0.3361 - val_precision: 0.7464 - val_recall: 0.7826\n",
      "\n",
      "Epoch 00039: val_loss did not improve from 2.76633\n",
      "Epoch 40/50\n",
      "77/77 [==============================] - 3s 40ms/step - loss: 0.1682 - accuracy: 0.9547 - precision: 0.8247 - recall: 0.8279 - val_loss: 7.8673 - val_accuracy: 0.3252 - val_precision: 0.7609 - val_recall: 0.7246\n",
      "\n",
      "Epoch 00040: val_loss did not improve from 2.76633\n",
      "Epoch 41/50\n",
      "77/77 [==============================] - 3s 40ms/step - loss: 0.2580 - accuracy: 0.9270 - precision: 0.7435 - recall: 0.7424 - val_loss: 7.7190 - val_accuracy: 0.3429 - val_precision: 0.7159 - val_recall: 0.7138\n",
      "\n",
      "Epoch 00041: val_loss did not improve from 2.76633\n",
      "Epoch 42/50\n",
      "77/77 [==============================] - 3s 39ms/step - loss: 0.1447 - accuracy: 0.9584 - precision: 0.7814 - recall: 0.7879 - val_loss: 8.2039 - val_accuracy: 0.3442 - val_precision: 0.5725 - val_recall: 0.6087\n",
      "\n",
      "Epoch 00042: val_loss did not improve from 2.76633\n",
      "Epoch 43/50\n",
      "77/77 [==============================] - 3s 39ms/step - loss: 0.0628 - accuracy: 0.9841 - precision: 0.7532 - recall: 0.7532 - val_loss: 14.7949 - val_accuracy: 0.3633 - val_precision: 0.7391 - val_recall: 0.6630\n",
      "\n",
      "Epoch 00043: val_loss did not improve from 2.76633\n",
      "Epoch 44/50\n",
      "77/77 [==============================] - 3s 39ms/step - loss: 0.0240 - accuracy: 0.9947 - precision: 0.8182 - recall: 0.8182 - val_loss: 13.9846 - val_accuracy: 0.3469 - val_precision: 0.6957 - val_recall: 0.6522\n",
      "\n",
      "Epoch 00044: val_loss did not improve from 2.76633\n",
      "Epoch 45/50\n",
      "77/77 [==============================] - 3s 39ms/step - loss: 0.0161 - accuracy: 0.9984 - precision: 0.7662 - recall: 0.7630 - val_loss: 9.1156 - val_accuracy: 0.3578 - val_precision: 0.7246 - val_recall: 0.6196\n",
      "\n",
      "Epoch 00045: val_loss did not improve from 2.76633\n",
      "Epoch 46/50\n",
      "77/77 [==============================] - 3s 42ms/step - loss: 0.0069 - accuracy: 0.9996 - precision: 0.8182 - recall: 0.8182 - val_loss: 12.7051 - val_accuracy: 0.3565 - val_precision: 0.6087 - val_recall: 0.5362\n",
      "\n",
      "Epoch 00046: val_loss did not improve from 2.76633\n",
      "Epoch 47/50\n",
      "77/77 [==============================] - 3s 41ms/step - loss: 0.0091 - accuracy: 0.9992 - precision: 0.8026 - recall: 0.8026 - val_loss: 10.0744 - val_accuracy: 0.3524 - val_precision: 0.7283 - val_recall: 0.6275\n",
      "\n",
      "Epoch 00047: val_loss did not improve from 2.76633\n",
      "Epoch 48/50\n",
      "77/77 [==============================] - 3s 40ms/step - loss: 0.0082 - accuracy: 0.9992 - precision: 0.7879 - recall: 0.7879 - val_loss: 11.0440 - val_accuracy: 0.3537 - val_precision: 0.5652 - val_recall: 0.5036\n",
      "\n",
      "Epoch 00048: val_loss did not improve from 2.76633\n",
      "Epoch 49/50\n",
      "77/77 [==============================] - 3s 38ms/step - loss: 0.0047 - accuracy: 0.9996 - precision: 0.8052 - recall: 0.8052 - val_loss: 8.7771 - val_accuracy: 0.3701 - val_precision: 0.6594 - val_recall: 0.6522\n",
      "\n",
      "Epoch 00049: val_loss did not improve from 2.76633\n",
      "Epoch 50/50\n",
      "77/77 [==============================] - 3s 40ms/step - loss: 0.0042 - accuracy: 0.9996 - precision: 0.7229 - recall: 0.7273 - val_loss: 11.1595 - val_accuracy: 0.3537 - val_precision: 0.6957 - val_recall: 0.6130\n",
      "\n",
      "Epoch 00050: val_loss did not improve from 2.76633\n"
     ]
    }
   ],
   "source": [
    "fit_result = model.fit_generator(\n",
    "    generator=dataset_generators.train,\n",
    "    epochs=fit_epochs,\n",
    "    validation_data=dataset_generators.test,\n",
    "    callbacks = model_callbacks\n",
    ")"
   ]
  },
  {
   "cell_type": "code",
   "execution_count": 9,
   "metadata": {
    "pycharm": {
     "name": "#%%\n"
    }
   },
   "outputs": [],
   "source": [
    "best_model = keras.models.load_model(best_model_path,\n",
    "    custom_objects= {\n",
    "        'precision': metrics.precision,\n",
    "        'recall': metrics.recall\n",
    "    }\n",
    ")\n",
    "validation_result = best_model.evaluate_generator(\n",
    "    generator=dataset_generators.validate\n",
    ")"
   ]
  },
  {
   "cell_type": "markdown",
   "metadata": {
    "pycharm": {
     "name": "#%% md\n"
    }
   },
   "source": [
    "## Results"
   ]
  },
  {
   "cell_type": "markdown",
   "metadata": {},
   "source": [
    "### Epoch CSV"
   ]
  },
  {
   "cell_type": "code",
   "execution_count": 10,
   "metadata": {
    "pycharm": {
     "name": "#%%\n"
    }
   },
   "outputs": [
    {
     "name": "stdout",
     "output_type": "stream",
     "text": [
      "epoch, time, val_loss, val_accuracy, val_precision, val_recall\n",
      "0,0,0,0,0,0\n",
      "1,4.684413194656372,3.7770187854766846,0.1972789168357849,0.17391301691532135,0.07536231726408005\n",
      "2,3.1751291751861572,3.4989421367645264,0.23945578932762146,0.760869562625885,0.7217391729354858\n",
      "3,4.177363872528076,4.0677313804626465,0.2612244784832001,0.5652173757553101,0.5253623127937317\n",
      "4,4.9265758991241455,3.689648389816284,0.2748299241065979,0.717391312122345,0.7681159377098083\n",
      "5,5.533876895904541,3.303964614868164,0.29115647077560425,0.7173911929130554,0.6630434989929199\n",
      "6,5.653120994567871,2.833132743835449,0.30204081535339355,0.7463768124580383,0.695652186870575\n",
      "7,5.782026052474976,4.43399715423584,0.31292515993118286,0.8115941882133484,0.739130437374115\n",
      "8,5.88078498840332,3.496011734008789,0.3183673322200775,0.6413043737411499,0.6521739363670349\n",
      "9,6.110200881958008,4.5207414627075195,0.3224489688873291,0.717391312122345,0.6739130616188049\n",
      "10,6.191290855407715,3.979151964187622,0.3265306055545807,0.8369565010070801,0.7971014976501465\n",
      "11,5.421455144882202,3.9998226165771484,0.33197277784347534,0.6594203114509583,0.6485506892204285\n",
      "12,4.528883934020996,5.0006794929504395,0.32789117097854614,0.5565217733383179,0.4942029118537903\n",
      "13,4.579397916793823,4.884227275848389,0.32380953431129456,0.739130437374115,0.6666666865348816\n",
      "14,5.018333196640015,2.7663328647613525,0.33605441451072693,0.717391312122345,0.695652186870575\n",
      "15,4.687777996063232,6.638138294219971,0.3292517066001892,0.7246376276016235,0.6739130616188049\n",
      "16,4.440631866455078,5.34734582901001,0.3224489688873291,0.8695651292800903,0.8913043737411499\n",
      "17,3.6294660568237305,7.375661373138428,0.33605441451072693,0.6739130616188049,0.686956524848938\n",
      "18,3.319679021835327,6.2627363204956055,0.3414965867996216,0.760869562625885,0.7449275255203247\n",
      "19,3.501563787460327,7.637864112854004,0.33605441451072693,0.6521739363670349,0.6072463989257812\n",
      "20,3.528939962387085,9.065248489379883,0.33605441451072693,0.6557970643043518,0.6992753148078918\n",
      "21,3.3415939807891846,6.496897220611572,0.3306122422218323,0.6086956262588501,0.54347825050354\n",
      "22,3.367487907409668,7.19753885269165,0.3482993245124817,0.7826086282730103,0.7159420251846313\n",
      "23,3.0377330780029297,6.952444553375244,0.3469387888908386,0.782608687877655,0.7137680649757385\n",
      "24,2.978433132171631,8.710171699523926,0.33469387888908386,0.695652186870575,0.6594203114509583\n",
      "25,2.933659076690674,8.17302131652832,0.3374149799346924,0.739130437374115,0.6304348111152649\n",
      "26,3.0216240882873535,12.01430606842041,0.32108843326568604,0.6521739363670349,0.590579628944397\n",
      "27,2.88535475730896,8.977605819702148,0.3414965867996216,0.7826086282730103,0.7246376276016235\n",
      "28,3.063275098800659,11.813560485839844,0.3482993245124817,0.7246376276016235,0.6304348111152649\n",
      "29,3.106431007385254,5.839541435241699,0.33605441451072693,0.8260869383811951,0.7318840026855469\n",
      "30,3.1084108352661133,6.662499904632568,0.3374149799346924,0.554347813129425,0.6086956262588501\n",
      "31,3.1644699573516846,9.611715316772461,0.3523809611797333,0.6485507488250732,0.7028986215591431\n",
      "32,2.941654682159424,10.000446319580078,0.34285715222358704,0.6068840622901917,0.5869565010070801\n",
      "33,3.012941837310791,6.173781871795654,0.35646259784698486,0.6630434989929199,0.5978260636329651\n",
      "34,3.0147640705108643,10.170540809631348,0.3374149799346924,0.7826086282730103,0.7159419655799866\n",
      "35,2.990583896636963,10.80798053741455,0.3442176878452301,0.5942028760910034,0.5797101259231567\n",
      "36,3.0401151180267334,11.29117488861084,0.33877551555633545,0.6521739363670349,0.6847826242446899\n",
      "37,3.0185751914978027,9.02668285369873,0.33197277784347534,0.695652186870575,0.6376811861991882\n",
      "38,3.109851121902466,7.659744739532471,0.3333333432674408,0.6521739363670349,0.5942028760910034\n",
      "39,3.1705667972564697,10.09469985961914,0.33605441451072693,0.7463768720626831,0.7826086282730103\n",
      "40,3.0797340869903564,7.867327690124512,0.3251700699329376,0.760869562625885,0.7246376276016235\n",
      "41,3.113413095474243,7.7189764976501465,0.34285715222358704,0.7159420251846313,0.7137680649757385\n",
      "42,2.9986979961395264,8.20388126373291,0.3442176878452301,0.5724638104438782,0.6086956858634949\n",
      "43,3.056414842605591,14.794869422912598,0.3632653057575226,0.739130437374115,0.6630434989929199\n",
      "44,3.0397531986236572,13.984589576721191,0.3469387888908386,0.6956521272659302,0.6521738767623901\n",
      "45,3.0381357669830322,9.115550994873047,0.35782313346862793,0.7246376276016235,0.6195651888847351\n",
      "46,3.2359538078308105,12.705076217651367,0.35646259784698486,0.6086956262588501,0.5362319350242615\n",
      "47,3.150237798690796,10.074358940124512,0.3523809611797333,0.72826087474823,0.6275362372398376\n",
      "48,3.0935258865356445,11.044038772583008,0.35374149680137634,0.5652173757553101,0.5036231875419617\n",
      "49,2.9369542598724365,8.777082443237305,0.3700680136680603,0.6594203114509583,0.6521739363670349\n",
      "50,3.134310007095337,11.159485816955566,0.35374149680137634,0.695652186870575,0.613043487071991\n",
      "\n"
     ]
    }
   ],
   "source": [
    "csv_file_path = f'{paths.results_location}{network_name}/{dataset}-history.csv'\n",
    "export_learning_history_to_csv(csv_file_path, fit_result, time_callback.times)"
   ]
  },
  {
   "cell_type": "markdown",
   "metadata": {},
   "source": [
    "### Validation result"
   ]
  },
  {
   "cell_type": "code",
   "execution_count": 11,
   "metadata": {
    "pycharm": {
     "name": "#%%\n"
    }
   },
   "outputs": [
    {
     "name": "stdout",
     "output_type": "stream",
     "text": [
      "avg_epoch_time, time, val_loss, val_accuracy, val_precision, val_recall\n",
      "3.739111361503601,186.95556807518005,7.5587592124938965,0.3592964708805084,0.6384614706039429,0.692307710647583\n"
     ]
    }
   ],
   "source": [
    "csv_file_path = f'{paths.results_location}{network_name}/{dataset}-result.csv'\n",
    "export_learning_validation_result_to_csv(csv_file_path, validation_result, time_callback.times)"
   ]
  }
 ],
 "metadata": {
  "kernelspec": {
   "display_name": "Python 3",
   "language": "python",
   "name": "python3"
  },
  "language_info": {
   "codemirror_mode": {
    "name": "ipython",
    "version": 3
   },
   "file_extension": ".py",
   "mimetype": "text/x-python",
   "name": "python",
   "nbconvert_exporter": "python",
   "pygments_lexer": "ipython3",
   "version": "3.7.7"
  }
 },
 "nbformat": 4,
 "nbformat_minor": 4
}