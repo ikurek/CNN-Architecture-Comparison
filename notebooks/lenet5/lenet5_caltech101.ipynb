{
 "cells": [
  {
   "cell_type": "code",
   "metadata": {
    "pycharm": {
     "name": "#%%\n"
    }
   },
   "source": [
    "import sys\n",
    "sys.path.extend(['/Users/igor/Python/CNN-Architecture-Comparison/'])\n",
    "%load_ext autoreload\n",
    "%autoreload 2"
   ],
   "execution_count": null,
   "outputs": []
  },
  {
   "cell_type": "markdown",
   "source": [
    "# LeNet5 - CALTECH101"
   ],
   "metadata": {
    "collapsed": false
   }
  },
  {
   "cell_type": "code",
   "execution_count": 1,
   "metadata": {
    "pycharm": {
     "name": "#%%\n"
    }
   },
   "outputs": [
    {
     "ename": "ModuleNotFoundError",
     "evalue": "No module named 'src'",
     "output_type": "error",
     "traceback": [
      "\u001B[0;31m---------------------------------------------------------------------------\u001B[0m",
      "\u001B[0;31mModuleNotFoundError\u001B[0m                       Traceback (most recent call last)",
      "\u001B[0;32m<ipython-input-1-ea7b17e5d469>\u001B[0m in \u001B[0;36m<module>\u001B[0;34m\u001B[0m\n\u001B[0;32m----> 1\u001B[0;31m \u001B[0;32mfrom\u001B[0m \u001B[0msrc\u001B[0m\u001B[0;34m.\u001B[0m\u001B[0mdatasets\u001B[0m\u001B[0;34m.\u001B[0m\u001B[0mdataset_generators\u001B[0m \u001B[0;32mimport\u001B[0m \u001B[0mDatasetGenerators\u001B[0m\u001B[0;34m\u001B[0m\u001B[0;34m\u001B[0m\u001B[0m\n\u001B[0m\u001B[1;32m      2\u001B[0m \u001B[0;32mfrom\u001B[0m \u001B[0msrc\u001B[0m\u001B[0;34m.\u001B[0m\u001B[0mkeras_model\u001B[0m\u001B[0;34m.\u001B[0m\u001B[0mlenet5_network\u001B[0m \u001B[0;32mimport\u001B[0m \u001B[0mLeNet5Network\u001B[0m\u001B[0;34m\u001B[0m\u001B[0;34m\u001B[0m\u001B[0m\n",
      "\u001B[0;31mModuleNotFoundError\u001B[0m: No module named 'src'"
     ]
    }
   ],
   "source": [
    "from src.datasets.dataset_generators import DatasetGenerators\n",
    "from src.keras_model.lenet5_network import LeNet5Network"
   ]
  },
  {
   "cell_type": "code",
   "execution_count": 2,
   "metadata": {
    "pycharm": {
     "name": "#%%\n"
    }
   },
   "outputs": [],
   "source": [
    "dataset_dir = '/Users/igor/Python/CNN-Architecture-Comparison/data'\n",
    "fit_epochs = 10"
   ]
  },
  {
   "cell_type": "code",
   "execution_count": 3,
   "metadata": {
    "pycharm": {
     "name": "#%%\n"
    }
   },
   "outputs": [],
   "source": [
    "network = LeNet5Network()"
   ]
  },
  {
   "cell_type": "code",
   "execution_count": 4,
   "metadata": {
    "pycharm": {
     "name": "#%%\n"
    }
   },
   "outputs": [
    {
     "name": "stdout",
     "output_type": "stream",
     "text": [
      "Loading train set for caltech101...\n",
      "Found 6026 images belonging to 101 classes.\n",
      "Loading test set for caltech101...\n",
      "Found 1740 images belonging to 101 classes.\n",
      "Loading validation set for caltech101...\n",
      "Found 911 images belonging to 101 classes.\n"
     ]
    }
   ],
   "source": [
    "dataset_generators = DatasetGenerators(\n",
    "    name='caltech101',\n",
    "    dataset_dir=dataset_dir,\n",
    "    image_size=network.image_size,\n",
    "    batch_size=network.batch_size,\n",
    "    grayscale=network.grayscale\n",
    ")"
   ]
  },
  {
   "cell_type": "code",
   "execution_count": 5,
   "metadata": {
    "pycharm": {
     "name": "#%%\n"
    }
   },
   "outputs": [],
   "source": [
    "model = network.get_compiled_model(\n",
    "    classes=dataset_generators.test.num_classes\n",
    ")"
   ]
  },
  {
   "cell_type": "code",
   "execution_count": 6,
   "metadata": {
    "pycharm": {
     "name": "#%%\n"
    }
   },
   "outputs": [
    {
     "name": "stdout",
     "output_type": "stream",
     "text": [
      "Epoch 1/10\n",
      "95/95 [==============================] - 13s 139ms/step - loss: 5.3932 - accuracy: 0.1512 - precision_1: 0.4531 - recall_1: 0.0504 - val_loss: 4.7784 - val_accuracy: 0.2448 - val_precision_1: 0.9069 - val_recall_1: 0.1063\n",
      "Epoch 2/10\n",
      "95/95 [==============================] - 7s 72ms/step - loss: 3.6018 - accuracy: 0.2665 - precision_1: 0.9025 - recall_1: 0.1444 - val_loss: 3.0380 - val_accuracy: 0.2833 - val_precision_1: 0.9183 - val_recall_1: 0.1937\n",
      "Epoch 3/10\n",
      "95/95 [==============================] - 7s 73ms/step - loss: 3.2846 - accuracy: 0.3148 - precision_1: 0.9088 - recall_1: 0.2149 - val_loss: 2.4197 - val_accuracy: 0.3201 - val_precision_1: 0.9340 - val_recall_1: 0.2195\n",
      "Epoch 4/10\n",
      "95/95 [==============================] - 7s 72ms/step - loss: 2.9823 - accuracy: 0.3672 - precision_1: 0.9196 - recall_1: 0.2562 - val_loss: 3.1281 - val_accuracy: 0.3506 - val_precision_1: 0.9165 - val_recall_1: 0.2397\n",
      "Epoch 5/10\n",
      "95/95 [==============================] - 7s 72ms/step - loss: 2.7067 - accuracy: 0.4049 - precision_1: 0.9138 - recall_1: 0.2904 - val_loss: 3.0164 - val_accuracy: 0.3707 - val_precision_1: 0.8646 - val_recall_1: 0.2753\n",
      "Epoch 6/10\n",
      "95/95 [==============================] - 7s 73ms/step - loss: 2.4701 - accuracy: 0.4457 - precision_1: 0.9111 - recall_1: 0.3196 - val_loss: 3.0468 - val_accuracy: 0.3793 - val_precision_1: 0.8804 - val_recall_1: 0.2793\n",
      "Epoch 7/10\n",
      "95/95 [==============================] - 7s 72ms/step - loss: 2.2509 - accuracy: 0.4882 - precision_1: 0.9141 - recall_1: 0.3550 - val_loss: 2.6661 - val_accuracy: 0.3776 - val_precision_1: 0.8359 - val_recall_1: 0.2839\n",
      "Epoch 8/10\n",
      "95/95 [==============================] - 7s 73ms/step - loss: 2.0564 - accuracy: 0.5266 - precision_1: 0.9121 - recall_1: 0.3857 - val_loss: 3.8493 - val_accuracy: 0.4052 - val_precision_1: 0.7947 - val_recall_1: 0.3270\n",
      "Epoch 9/10\n",
      "95/95 [==============================] - 7s 73ms/step - loss: 1.8691 - accuracy: 0.5581 - precision_1: 0.9088 - recall_1: 0.4218 - val_loss: 2.3147 - val_accuracy: 0.4126 - val_precision_1: 0.7643 - val_recall_1: 0.3448\n",
      "Epoch 10/10\n",
      "95/95 [==============================] - 7s 73ms/step - loss: 1.6648 - accuracy: 0.5934 - precision_1: 0.9151 - recall_1: 0.4635 - val_loss: 4.5838 - val_accuracy: 0.4115 - val_precision_1: 0.7395 - val_recall_1: 0.3425\n"
     ]
    }
   ],
   "source": [
    "history = model.fit_generator(\n",
    "    generator=dataset_generators.train,\n",
    "    epochs=fit_epochs,\n",
    "    validation_data=dataset_generators.test\n",
    ")"
   ]
  },
  {
   "cell_type": "code",
   "execution_count": 7,
   "metadata": {
    "pycharm": {
     "name": "#%%\n"
    }
   },
   "outputs": [],
   "source": [
    "result = model.evaluate_generator(\n",
    "    generator=dataset_generators.validate\n",
    ")"
   ]
  },
  {
   "cell_type": "markdown",
   "metadata": {
    "pycharm": {
     "name": "#%% md\n"
    }
   },
   "source": [
    "## CALTECH101 Results"
   ]
  },
  {
   "cell_type": "code",
   "execution_count": 8,
   "metadata": {
    "pycharm": {
     "name": "#%%\n"
    }
   },
   "outputs": [
    {
     "name": "stdout",
     "output_type": "stream",
     "text": [
      "Loss: 2.693427801132202\n",
      "Accuracy: 0.41712403297424316\n",
      "Precision: 0.7493917346000671\n",
      "Recall: 0.3380900025367737\n"
     ]
    }
   ],
   "source": [
    "print(\"Loss: {}\".format(result[0]))\n",
    "print(\"Accuracy: {}\".format(result[1]))\n",
    "print(\"Precision: {}\".format(result[2]))\n",
    "print(\"Recall: {}\".format(result[3]))"
   ]
  }
 ],
 "metadata": {
  "kernelspec": {
   "display_name": "Python 3",
   "language": "python",
   "name": "python3"
  },
  "language_info": {
   "codemirror_mode": {
    "name": "ipython",
    "version": 3
   },
   "file_extension": ".py",
   "mimetype": "text/x-python",
   "name": "python",
   "nbconvert_exporter": "python",
   "pygments_lexer": "ipython3",
   "version": "3.7.7"
  }
 },
 "nbformat": 4,
 "nbformat_minor": 1
}