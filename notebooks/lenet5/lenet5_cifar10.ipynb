{
 "cells": [
  {
   "cell_type": "code",
   "execution_count": 1,
   "metadata": {
    "pycharm": {
     "name": "#%%\n"
    }
   },
   "outputs": [],
   "source": [
    "import sys\n",
    "sys.path.extend(['..', '../', '../..', '../../' ])\n",
    "%load_ext autoreload\n",
    "%autoreload 2"
   ]
  },
  {
   "cell_type": "markdown",
   "metadata": {},
   "source": [
    "# LeNet5 - CIFAR10"
   ]
  },
  {
   "cell_type": "code",
   "execution_count": 2,
   "metadata": {
    "pycharm": {
     "name": "#%%\n"
    }
   },
   "outputs": [
    {
     "name": "stderr",
     "output_type": "stream",
     "text": [
      "Using TensorFlow backend.\n"
     ]
    }
   ],
   "source": [
    "import paths\n",
    "import keras\n",
    "from src.parameters import metrics\n",
    "from src.datasets.dataset_generators import DatasetGenerators\n",
    "from src.keras_callback.time_history import TimeHistory\n",
    "from src.export.csv_export import export_learning_history_to_csv, export_learning_validation_result_to_csv\n",
    "from src.export.model_export import clear_exported_models\n",
    "from src.keras_model.lenet5_network import LeNet5Network"
   ]
  },
  {
   "cell_type": "code",
   "execution_count": 3,
   "metadata": {
    "pycharm": {
     "name": "#%%\n"
    }
   },
   "outputs": [],
   "source": [
    "network_name = 'lenet5'\n",
    "fit_epochs = 50\n",
    "dataset = 'cifar10'\n",
    "dataset_percentage = '5'"
   ]
  },
  {
   "cell_type": "code",
   "execution_count": 4,
   "metadata": {
    "pycharm": {
     "name": "#%%\n"
    }
   },
   "outputs": [],
   "source": [
    "network = LeNet5Network()"
   ]
  },
  {
   "cell_type": "code",
   "execution_count": 5,
   "metadata": {
    "pycharm": {
     "name": "#%%\n"
    }
   },
   "outputs": [
    {
     "name": "stdout",
     "output_type": "stream",
     "text": [
      "Loading train set for cifar10_5...\n",
      "Found 1750 images belonging to 10 classes.\n",
      "Loading test set for cifar10_5...\n",
      "Found 500 images belonging to 10 classes.\n",
      "Loading validation set for cifar10_5...\n",
      "Found 250 images belonging to 10 classes.\n"
     ]
    }
   ],
   "source": [
    "dataset_generators = DatasetGenerators(\n",
    "    name=f'{dataset}_{dataset_percentage}',\n",
    "    dataset_dir=paths.data_location,\n",
    "    image_size=network.image_size,\n",
    "    batch_size=network.batch_size,\n",
    "    grayscale=network.grayscale\n",
    ")"
   ]
  },
  {
   "cell_type": "code",
   "execution_count": 6,
   "metadata": {
    "pycharm": {
     "name": "#%%\n"
    }
   },
   "outputs": [],
   "source": [
    "model = network.get_compiled_model(\n",
    "    classes=dataset_generators.test.num_classes\n",
    ")"
   ]
  },
  {
   "cell_type": "code",
   "execution_count": 7,
   "metadata": {
    "pycharm": {
     "name": "#%%\n"
    }
   },
   "outputs": [],
   "source": [
    "checkpoint_path = f'{paths.models_location}{network_name}/{dataset}/'\n",
    "best_model_path = f'{checkpoint_path}best.h5'\n",
    "clear_exported_models(checkpoint_path)\n",
    "\n",
    "checkpoint_callback = keras.callbacks.ModelCheckpoint(\n",
    "    filepath=f'{checkpoint_path}{{epoch:02d}}-{{val_accuracy}}.h5',\n",
    "    save_best_only=False,\n",
    "    save_weights_only=False\n",
    ")\n",
    "\n",
    "best_callback = keras.callbacks.ModelCheckpoint(\n",
    "    filepath=best_model_path,\n",
    "    save_best_only=True,\n",
    "    verbose=1,\n",
    "    save_weights_only=False\n",
    ")\n",
    "\n",
    "time_callback = TimeHistory()\n",
    "\n",
    "model_callbacks = [checkpoint_callback, best_callback, time_callback]"
   ]
  },
  {
   "cell_type": "code",
   "execution_count": 8,
   "metadata": {
    "pycharm": {
     "name": "#%%\n"
    }
   },
   "outputs": [
    {
     "name": "stdout",
     "output_type": "stream",
     "text": [
      "Epoch 1/50\n",
      "55/55 [==============================] - 1s 25ms/step - loss: 4.2635 - accuracy: 0.1251 - precision: 0.0158 - recall: 0.0227 - val_loss: 2.1863 - val_accuracy: 0.1440 - val_precision: 0.1250 - val_recall: 0.0333\n",
      "Epoch 2/50\n",
      "55/55 [==============================] - 1s 12ms/step - loss: 2.1916 - accuracy: 0.2029 - precision: 0.1545 - recall: 0.0709 - val_loss: 2.3646 - val_accuracy: 0.2240 - val_precision: 0.1875 - val_recall: 0.0562\n",
      "Epoch 3/50\n",
      "55/55 [==============================] - 1s 11ms/step - loss: 1.8985 - accuracy: 0.3206 - precision: 0.3409 - recall: 0.1874 - val_loss: 2.2589 - val_accuracy: 0.2600 - val_precision: 0.0937 - val_recall: 0.0729\n",
      "Epoch 4/50\n",
      "55/55 [==============================] - 1s 12ms/step - loss: 1.6491 - accuracy: 0.4314 - precision: 0.4551 - recall: 0.2532 - val_loss: 2.3638 - val_accuracy: 0.3060 - val_precision: 0.2812 - val_recall: 0.1208\n",
      "Epoch 5/50\n",
      "55/55 [==============================] - 1s 11ms/step - loss: 1.4178 - accuracy: 0.5120 - precision: 0.7197 - recall: 0.4632 - val_loss: 2.2320 - val_accuracy: 0.2560 - val_precision: 0.3896 - val_recall: 0.2792\n",
      "Epoch 6/50\n",
      "55/55 [==============================] - 1s 11ms/step - loss: 1.1708 - accuracy: 0.6063 - precision: 0.7458 - recall: 0.5336 - val_loss: 2.1127 - val_accuracy: 0.3120 - val_precision: 0.3698 - val_recall: 0.2667\n",
      "Epoch 7/50\n",
      "55/55 [==============================] - 1s 11ms/step - loss: 0.9400 - accuracy: 0.6880 - precision: 0.8373 - recall: 0.6320 - val_loss: 2.6248 - val_accuracy: 0.2860 - val_precision: 0.3385 - val_recall: 0.2271\n",
      "Epoch 8/50\n",
      "55/55 [==============================] - 1s 11ms/step - loss: 0.7743 - accuracy: 0.7377 - precision: 0.8885 - recall: 0.7541 - val_loss: 2.0340 - val_accuracy: 0.2840 - val_precision: 0.3125 - val_recall: 0.2198\n",
      "Epoch 9/50\n",
      "55/55 [==============================] - 1s 11ms/step - loss: 0.6046 - accuracy: 0.8080 - precision: 0.9106 - recall: 0.8309 - val_loss: 2.3435 - val_accuracy: 0.2800 - val_precision: 0.1979 - val_recall: 0.1198\n",
      "Epoch 10/50\n",
      "55/55 [==============================] - 1s 11ms/step - loss: 0.4570 - accuracy: 0.8680 - precision: 0.9079 - recall: 0.8532 - val_loss: 3.7200 - val_accuracy: 0.3020 - val_precision: 0.3302 - val_recall: 0.4226\n",
      "Epoch 11/50\n",
      "55/55 [==============================] - 1s 11ms/step - loss: 0.3288 - accuracy: 0.9103 - precision: 0.9485 - recall: 0.9200 - val_loss: 2.7627 - val_accuracy: 0.3040 - val_precision: 0.3635 - val_recall: 0.3688\n",
      "Epoch 12/50\n",
      "55/55 [==============================] - 1s 11ms/step - loss: 0.2500 - accuracy: 0.9383 - precision: 0.9782 - recall: 0.9791 - val_loss: 5.2100 - val_accuracy: 0.2860 - val_precision: 0.3854 - val_recall: 0.2750\n",
      "Epoch 13/50\n",
      "55/55 [==============================] - 1s 11ms/step - loss: 0.1878 - accuracy: 0.9554 - precision: 1.0000 - recall: 0.9909 - val_loss: 5.0343 - val_accuracy: 0.2780 - val_precision: 0.3146 - val_recall: 0.3345\n",
      "Epoch 14/50\n",
      "55/55 [==============================] - 1s 11ms/step - loss: 0.1575 - accuracy: 0.9663 - precision: 0.9455 - recall: 0.9364 - val_loss: 4.4471 - val_accuracy: 0.2720 - val_precision: 0.2031 - val_recall: 0.0833\n",
      "Epoch 15/50\n",
      "55/55 [==============================] - 1s 12ms/step - loss: 0.1891 - accuracy: 0.9520 - precision: 0.9515 - recall: 0.9318 - val_loss: 4.2959 - val_accuracy: 0.3060 - val_precision: 0.3310 - val_recall: 0.3095\n",
      "Epoch 16/50\n",
      "55/55 [==============================] - 1s 11ms/step - loss: 0.1304 - accuracy: 0.9640 - precision: 0.9547 - recall: 0.9358 - val_loss: 6.5204 - val_accuracy: 0.2960 - val_precision: 0.3385 - val_recall: 0.3469\n",
      "Epoch 17/50\n",
      "55/55 [==============================] - 1s 11ms/step - loss: 0.1433 - accuracy: 0.9611 - precision: 0.9358 - recall: 0.9242 - val_loss: 4.1539 - val_accuracy: 0.3160 - val_precision: 0.3031 - val_recall: 0.4344\n",
      "Epoch 18/50\n",
      "55/55 [==============================] - 1s 11ms/step - loss: 0.1022 - accuracy: 0.9743 - precision: 0.9661 - recall: 0.9750 - val_loss: 4.3578 - val_accuracy: 0.3020 - val_precision: 0.3487 - val_recall: 0.4707\n",
      "Epoch 19/50\n",
      "55/55 [==============================] - 1s 11ms/step - loss: 0.0883 - accuracy: 0.9789 - precision: 0.9636 - recall: 0.9636 - val_loss: 6.3078 - val_accuracy: 0.3060 - val_precision: 0.3702 - val_recall: 0.5250\n",
      "Epoch 20/50\n",
      "55/55 [==============================] - 1s 11ms/step - loss: 0.1339 - accuracy: 0.9617 - precision: 0.9576 - recall: 0.9570 - val_loss: 3.3732 - val_accuracy: 0.2800 - val_precision: 0.3854 - val_recall: 0.2121\n",
      "Epoch 21/50\n",
      "55/55 [==============================] - 1s 11ms/step - loss: 0.1052 - accuracy: 0.9731 - precision: 0.9418 - recall: 0.9213 - val_loss: 6.0023 - val_accuracy: 0.2800 - val_precision: 0.4635 - val_recall: 0.3987\n",
      "Epoch 22/50\n",
      "55/55 [==============================] - 1s 11ms/step - loss: 0.0641 - accuracy: 0.9869 - precision: 0.9121 - recall: 0.9273 - val_loss: 4.6905 - val_accuracy: 0.2520 - val_precision: 0.1875 - val_recall: 0.0406\n",
      "Epoch 23/50\n",
      "55/55 [==============================] - 1s 11ms/step - loss: 0.0845 - accuracy: 0.9806 - precision: 0.9864 - recall: 0.9818 - val_loss: 3.3704 - val_accuracy: 0.2900 - val_precision: 0.3333 - val_recall: 0.2260\n",
      "Epoch 24/50\n",
      "55/55 [==============================] - 1s 11ms/step - loss: 0.0213 - accuracy: 0.9971 - precision: 0.9818 - recall: 0.9782 - val_loss: 5.3854 - val_accuracy: 0.3000 - val_precision: 0.4375 - val_recall: 0.3433\n",
      "Epoch 25/50\n",
      "55/55 [==============================] - 1s 12ms/step - loss: 0.0152 - accuracy: 0.9971 - precision: 0.9636 - recall: 0.9636 - val_loss: 4.5833 - val_accuracy: 0.2980 - val_precision: 0.4010 - val_recall: 0.3601\n",
      "Epoch 26/50\n",
      "55/55 [==============================] - 1s 11ms/step - loss: 0.0107 - accuracy: 0.9989 - precision: 0.9818 - recall: 0.9818 - val_loss: 5.9650 - val_accuracy: 0.2940 - val_precision: 0.3906 - val_recall: 0.3189\n",
      "Epoch 27/50\n",
      "55/55 [==============================] - 1s 11ms/step - loss: 0.0062 - accuracy: 0.9994 - precision: 0.9455 - recall: 0.9455 - val_loss: 6.8827 - val_accuracy: 0.3080 - val_precision: 0.2875 - val_recall: 0.2810\n",
      "Epoch 28/50\n",
      "55/55 [==============================] - 1s 11ms/step - loss: 0.0046 - accuracy: 0.9994 - precision: 0.9636 - recall: 0.9636 - val_loss: 8.0930 - val_accuracy: 0.3000 - val_precision: 0.2830 - val_recall: 0.2490\n",
      "Epoch 29/50\n",
      "55/55 [==============================] - 1s 11ms/step - loss: 0.0036 - accuracy: 0.9994 - precision: 0.9455 - recall: 0.9455 - val_loss: 5.8334 - val_accuracy: 0.3160 - val_precision: 0.4521 - val_recall: 0.2854\n",
      "Epoch 30/50\n",
      "55/55 [==============================] - 1s 11ms/step - loss: 0.0040 - accuracy: 0.9994 - precision: 0.9636 - recall: 0.9636 - val_loss: 4.4220 - val_accuracy: 0.3000 - val_precision: 0.3479 - val_recall: 0.2661\n",
      "Epoch 31/50\n",
      "55/55 [==============================] - 1s 11ms/step - loss: 0.0041 - accuracy: 1.0000 - precision: 0.9636 - recall: 0.9636 - val_loss: 11.5209 - val_accuracy: 0.2900 - val_precision: 0.3799 - val_recall: 0.3193\n",
      "Epoch 32/50\n",
      "55/55 [==============================] - 1s 10ms/step - loss: 0.0024 - accuracy: 1.0000 - precision: 0.9818 - recall: 0.9818 - val_loss: 7.2527 - val_accuracy: 0.3000 - val_precision: 0.3458 - val_recall: 0.2914\n",
      "Epoch 33/50\n",
      "55/55 [==============================] - 1s 10ms/step - loss: 0.0021 - accuracy: 1.0000 - precision: 0.9636 - recall: 0.9636 - val_loss: 6.6954 - val_accuracy: 0.2960 - val_precision: 0.2979 - val_recall: 0.2924\n",
      "Epoch 34/50\n",
      "55/55 [==============================] - 1s 11ms/step - loss: 0.0015 - accuracy: 1.0000 - precision: 0.9636 - recall: 0.9636 - val_loss: 4.7439 - val_accuracy: 0.2960 - val_precision: 0.3167 - val_recall: 0.3174\n",
      "Epoch 35/50\n",
      "55/55 [==============================] - 1s 11ms/step - loss: 0.0014 - accuracy: 1.0000 - precision: 0.9636 - recall: 0.9636 - val_loss: 8.6061 - val_accuracy: 0.2960 - val_precision: 0.4271 - val_recall: 0.2719\n",
      "Epoch 36/50\n",
      "55/55 [==============================] - 1s 11ms/step - loss: 0.0015 - accuracy: 1.0000 - precision: 0.9636 - recall: 0.9636 - val_loss: 7.7377 - val_accuracy: 0.2960 - val_precision: 0.3323 - val_recall: 0.2906\n",
      "Epoch 37/50\n",
      "55/55 [==============================] - 1s 11ms/step - loss: 0.0011 - accuracy: 1.0000 - precision: 0.9455 - recall: 0.9455 - val_loss: 6.8560 - val_accuracy: 0.2940 - val_precision: 0.3948 - val_recall: 0.2802\n"
     ]
    },
    {
     "name": "stdout",
     "output_type": "stream",
     "text": [
      "Epoch 38/50\n",
      "55/55 [==============================] - 1s 11ms/step - loss: 9.9597e-04 - accuracy: 1.0000 - precision: 0.9455 - recall: 0.9455 - val_loss: 7.0376 - val_accuracy: 0.2920 - val_precision: 0.3430 - val_recall: 0.2262\n",
      "Epoch 39/50\n",
      "55/55 [==============================] - 1s 11ms/step - loss: 9.2371e-04 - accuracy: 1.0000 - precision: 0.9818 - recall: 0.9818 - val_loss: 7.3261 - val_accuracy: 0.2900 - val_precision: 0.2552 - val_recall: 0.2426\n",
      "Epoch 40/50\n",
      "55/55 [==============================] - 1s 10ms/step - loss: 8.5795e-04 - accuracy: 1.0000 - precision: 0.9636 - recall: 0.9636 - val_loss: 4.0228 - val_accuracy: 0.2880 - val_precision: 0.2292 - val_recall: 0.2135\n",
      "Epoch 41/50\n",
      "55/55 [==============================] - 1s 11ms/step - loss: 7.6840e-04 - accuracy: 1.0000 - precision: 0.9818 - recall: 0.9818 - val_loss: 7.9373 - val_accuracy: 0.2880 - val_precision: 0.4083 - val_recall: 0.3866\n",
      "Epoch 42/50\n",
      "55/55 [==============================] - 1s 11ms/step - loss: 7.4596e-04 - accuracy: 1.0000 - precision: 0.9455 - recall: 0.9455 - val_loss: 9.1383 - val_accuracy: 0.2860 - val_precision: 0.3635 - val_recall: 0.2750\n",
      "Epoch 43/50\n",
      "55/55 [==============================] - 1s 10ms/step - loss: 6.8696e-04 - accuracy: 1.0000 - precision: 0.9091 - recall: 0.9091 - val_loss: 9.0658 - val_accuracy: 0.2900 - val_precision: 0.3010 - val_recall: 0.2500\n",
      "Epoch 44/50\n",
      "55/55 [==============================] - 1s 11ms/step - loss: 6.7450e-04 - accuracy: 1.0000 - precision: 0.9818 - recall: 0.9818 - val_loss: 5.3580 - val_accuracy: 0.2880 - val_precision: 0.3698 - val_recall: 0.2958\n",
      "Epoch 45/50\n",
      "55/55 [==============================] - 1s 11ms/step - loss: 5.9401e-04 - accuracy: 1.0000 - precision: 0.9818 - recall: 0.9818 - val_loss: 10.0441 - val_accuracy: 0.2880 - val_precision: 0.3958 - val_recall: 0.3168\n",
      "Epoch 46/50\n",
      "55/55 [==============================] - 1s 10ms/step - loss: 5.6428e-04 - accuracy: 1.0000 - precision: 0.9636 - recall: 0.9636 - val_loss: 5.9491 - val_accuracy: 0.2880 - val_precision: 0.2760 - val_recall: 0.3435\n",
      "Epoch 47/50\n",
      "55/55 [==============================] - 1s 11ms/step - loss: 5.2801e-04 - accuracy: 1.0000 - precision: 0.9818 - recall: 0.9818 - val_loss: 6.8409 - val_accuracy: 0.2880 - val_precision: 0.4135 - val_recall: 0.3594\n",
      "Epoch 48/50\n",
      "55/55 [==============================] - 1s 11ms/step - loss: 4.8963e-04 - accuracy: 1.0000 - precision: 0.9636 - recall: 0.9636 - val_loss: 8.4842 - val_accuracy: 0.2900 - val_precision: 0.4219 - val_recall: 0.2446\n",
      "Epoch 49/50\n",
      "55/55 [==============================] - 1s 11ms/step - loss: 4.6491e-04 - accuracy: 1.0000 - precision: 0.9091 - recall: 0.9091 - val_loss: 8.3887 - val_accuracy: 0.2920 - val_precision: 0.2789 - val_recall: 0.2635\n",
      "Epoch 50/50\n",
      "55/55 [==============================] - 1s 11ms/step - loss: 4.4125e-04 - accuracy: 1.0000 - precision: 0.9636 - recall: 0.9636 - val_loss: 6.4906 - val_accuracy: 0.2860 - val_precision: 0.3708 - val_recall: 0.2948\n"
     ]
    }
   ],
   "source": [
    "fit_result = model.fit_generator(\n",
    "    generator=dataset_generators.train,\n",
    "    epochs=fit_epochs,\n",
    "    validation_data=dataset_generators.test,\n",
    "    callbacks = model_callbacks\n",
    ")"
   ]
  },
  {
   "cell_type": "code",
   "execution_count": 9,
   "metadata": {
    "pycharm": {
     "name": "#%%\n"
    }
   },
   "outputs": [],
   "source": [
    "best_model = keras.models.load_model(best_model_path,\n",
    "    custom_objects= {\n",
    "        'precision': metrics.precision,\n",
    "        'recall': metrics.recall\n",
    "    }\n",
    ")\n",
    "validation_result = best_model.evaluate_generator(\n",
    "    generator=dataset_generators.validate\n",
    ")"
   ]
  },
  {
   "cell_type": "markdown",
   "metadata": {
    "pycharm": {
     "name": "#%% md\n"
    }
   },
   "source": [
    "## Results"
   ]
  },
  {
   "cell_type": "markdown",
   "metadata": {},
   "source": [
    "### Epoch CSV"
   ]
  },
  {
   "cell_type": "code",
   "execution_count": 10,
   "metadata": {
    "pycharm": {
     "name": "#%%\n"
    }
   },
   "outputs": [
    {
     "name": "stdout",
     "output_type": "stream",
     "text": [
      "epoch, time, val_loss, val_accuracy, val_precision, val_recall\n",
      "0,0,0,0,0,0\n",
      "1,1.413377046585083,2.1863362789154053,0.14399999380111694,0.1249999850988388,0.03333333507180214\n",
      "2,0.6965498924255371,2.3645782470703125,0.2240000069141388,0.1874999850988388,0.05624999850988388\n",
      "3,0.6201848983764648,2.2589340209960938,0.25999999046325684,0.0937499925494194,0.0729166567325592\n",
      "4,0.6908543109893799,2.363809108734131,0.3059999942779541,0.2812499701976776,0.12083333730697632\n",
      "5,0.6122360229492188,2.231987476348877,0.25600001215934753,0.3895833194255829,0.27916666865348816\n",
      "6,0.6265809535980225,2.112685203552246,0.31200000643730164,0.3697916567325592,0.2666666507720947\n",
      "7,0.6347918510437012,2.6247966289520264,0.28600001335144043,0.3385416567325592,0.22708332538604736\n",
      "8,0.6391627788543701,2.0340278148651123,0.2840000092983246,0.3125,0.21979168057441711\n",
      "9,0.6010348796844482,2.3435473442077637,0.2800000011920929,0.1979166567325592,0.1197916716337204\n",
      "10,0.6493551731109619,3.720046281814575,0.3019999861717224,0.33020833134651184,0.4226190447807312\n",
      "11,0.6085648536682129,2.7627384662628174,0.30399999022483826,0.3635416626930237,0.3687500059604645\n",
      "12,0.6506710052490234,5.209952354431152,0.28600001335144043,0.3854166269302368,0.2749999761581421\n",
      "13,0.6125609874725342,5.034314155578613,0.27799999713897705,0.31458333134651184,0.3345238268375397\n",
      "14,0.6251571178436279,4.4470624923706055,0.2720000147819519,0.203125,0.0833333358168602\n",
      "15,0.6759040355682373,4.295906066894531,0.3059999942779541,0.33095240592956543,0.3095238208770752\n",
      "16,0.6516709327697754,6.520432949066162,0.29600000381469727,0.3385416865348816,0.34687501192092896\n",
      "17,0.6150050163269043,4.153872013092041,0.3160000145435333,0.3031249940395355,0.43437498807907104\n",
      "18,0.627964973449707,4.357758522033691,0.3019999861717224,0.3486607074737549,0.4706844985485077\n",
      "19,0.6334638595581055,6.307766914367676,0.3059999942779541,0.37023812532424927,0.5249999761581421\n",
      "20,0.6095128059387207,3.373195171356201,0.2800000011920929,0.3854166567325592,0.2120535671710968\n",
      "21,0.634678840637207,6.002275466918945,0.2800000011920929,0.4635416567325592,0.39866068959236145\n",
      "22,0.6203370094299316,4.690507888793945,0.25200000405311584,0.1874999701976776,0.04062499850988388\n",
      "23,0.6426849365234375,3.3703689575195312,0.28999999165534973,0.3333333432674408,0.22604167461395264\n",
      "24,0.6267709732055664,5.385418891906738,0.30000001192092896,0.4375,0.3433035612106323\n",
      "25,0.7045247554779053,4.583264350891113,0.2980000078678131,0.4010416567325592,0.3601190447807312\n",
      "26,0.6522800922393799,5.964970111846924,0.2939999997615814,0.390625,0.3188987970352173\n",
      "27,0.6153178215026855,6.882657051086426,0.30799999833106995,0.2874999940395355,0.2809523940086365\n",
      "28,0.6205329895019531,8.093025207519531,0.30000001192092896,0.2830357253551483,0.24895833432674408\n",
      "29,0.6269440650939941,5.833446025848389,0.3160000145435333,0.4520833194255829,0.28541669249534607\n",
      "30,0.652961015701294,4.421988487243652,0.30000001192092896,0.3479166626930237,0.26614582538604736\n",
      "31,0.6114192008972168,11.52094841003418,0.28999999165534973,0.3799107074737549,0.3192708194255829\n",
      "32,0.602849006652832,7.252661228179932,0.30000001192092896,0.34583333134651184,0.2913690507411957\n",
      "33,0.5906822681427002,6.6953887939453125,0.29600000381469727,0.2979166805744171,0.2924107313156128\n",
      "34,0.6168413162231445,4.743908882141113,0.29600000381469727,0.3166666626930237,0.3174107074737549\n",
      "35,0.6387619972229004,8.606103897094727,0.29600000381469727,0.4270833134651184,0.2718750238418579\n",
      "36,0.6054480075836182,7.737656593322754,0.29600000381469727,0.3322916626930237,0.2906250059604645\n",
      "37,0.6053798198699951,6.856017112731934,0.2939999997615814,0.3947916328907013,0.2802083194255829\n",
      "38,0.6063861846923828,7.037583827972412,0.2919999957084656,0.3430059552192688,0.2261904776096344\n",
      "39,0.6048569679260254,7.326142311096191,0.28999999165534973,0.2552083432674408,0.2425595223903656\n",
      "40,0.6000990867614746,4.022818565368652,0.2879999876022339,0.2291666716337204,0.2135416567325592\n",
      "41,0.6069731712341309,7.937337398529053,0.2879999876022339,0.40833333134651184,0.38660717010498047\n",
      "42,0.6183390617370605,9.138252258300781,0.28600001335144043,0.3635416328907013,0.2749999761581421\n",
      "43,0.6015207767486572,9.065821647644043,0.28999999165534973,0.3010416626930237,0.25\n",
      "44,0.630159854888916,5.357975006103516,0.2879999876022339,0.3697916865348816,0.2958333492279053\n",
      "45,0.6066460609436035,10.044100761413574,0.2879999876022339,0.3958333432674408,0.31681546568870544\n",
      "46,0.6025619506835938,5.949051856994629,0.2879999876022339,0.2760416865348816,0.3434523642063141\n",
      "47,0.6034090518951416,6.84085750579834,0.2879999876022339,0.41354167461395264,0.359375\n",
      "48,0.6065218448638916,8.484160423278809,0.28999999165534973,0.421875,0.24464286863803864\n",
      "49,0.6176068782806396,8.38871955871582,0.2919999957084656,0.27886906266212463,0.26354166865348816\n",
      "50,0.6235301494598389,6.490560054779053,0.28600001335144043,0.3708333373069763,0.29479166865348816\n",
      "\n"
     ]
    }
   ],
   "source": [
    "csv_file_path = f'{paths.results_location}{network_name}/{dataset}-history.csv'\n",
    "export_learning_history_to_csv(csv_file_path, fit_result, time_callback.times)"
   ]
  },
  {
   "cell_type": "markdown",
   "metadata": {},
   "source": [
    "### Validation result"
   ]
  },
  {
   "cell_type": "code",
   "execution_count": 11,
   "metadata": {
    "pycharm": {
     "name": "#%%\n"
    }
   },
   "outputs": [
    {
     "name": "stdout",
     "output_type": "stream",
     "text": [
      "avg_epoch_time, time, val_loss, val_accuracy, val_precision, val_recall\n",
      "0.6418325710296631,32.091628551483154,5.955047130584717,0.3199999928474426,0.3916666507720947,0.4464285671710968\n"
     ]
    }
   ],
   "source": [
    "csv_file_path = f'{paths.results_location}{network_name}/{dataset}-result.csv'\n",
    "export_learning_validation_result_to_csv(csv_file_path, validation_result, time_callback.times)"
   ]
  }
 ],
 "metadata": {
  "kernelspec": {
   "display_name": "Python 3",
   "language": "python",
   "name": "python3"
  },
  "language_info": {
   "codemirror_mode": {
    "name": "ipython",
    "version": 3
   },
   "file_extension": ".py",
   "mimetype": "text/x-python",
   "name": "python",
   "nbconvert_exporter": "python",
   "pygments_lexer": "ipython3",
   "version": "3.7.7"
  }
 },
 "nbformat": 4,
 "nbformat_minor": 1
}