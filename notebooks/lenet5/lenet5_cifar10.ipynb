{
 "cells": [
  {
   "cell_type": "markdown",
   "metadata": {},
   "source": [
    "# LeNet5 - CIFAR10"
   ]
  },
  {
   "cell_type": "code",
   "execution_count": 1,
   "metadata": {
    "pycharm": {
     "name": "#%%\n"
    }
   },
   "outputs": [
    {
     "name": "stderr",
     "output_type": "stream",
     "text": [
      "Using TensorFlow backend.\n"
     ]
    }
   ],
   "source": [
    "from src.datasets.dataset_generators import DatasetGenerators\n",
    "from src.keras_model.lenet5_network import LeNet5Network"
   ]
  },
  {
   "cell_type": "code",
   "execution_count": 2,
   "metadata": {
    "pycharm": {
     "name": "#%%\n"
    }
   },
   "outputs": [],
   "source": [
    "dataset_dir = '/Users/igor/Python/CNN-Architecture-Comparison/data'\n",
    "fit_epochs = 10"
   ]
  },
  {
   "cell_type": "code",
   "execution_count": 3,
   "metadata": {
    "pycharm": {
     "name": "#%%\n"
    }
   },
   "outputs": [],
   "source": [
    "network = LeNet5Network()"
   ]
  },
  {
   "cell_type": "code",
   "execution_count": 4,
   "metadata": {
    "pycharm": {
     "name": "#%%\n"
    }
   },
   "outputs": [
    {
     "name": "stdout",
     "output_type": "stream",
     "text": [
      "Loading train set for cifar10...\n",
      "Found 35000 images belonging to 10 classes.\n",
      "Loading test set for cifar10...\n",
      "Found 10000 images belonging to 10 classes.\n",
      "Loading validation set for cifar10...\n",
      "Found 5000 images belonging to 10 classes.\n"
     ]
    }
   ],
   "source": [
    "dataset_generators = DatasetGenerators(\n",
    "    name='cifar10',\n",
    "    dataset_dir=dataset_dir,\n",
    "    image_size=network.image_size,\n",
    "    batch_size=network.batch_size,\n",
    "    grayscale=network.grayscale\n",
    ")"
   ]
  },
  {
   "cell_type": "code",
   "execution_count": 5,
   "metadata": {
    "pycharm": {
     "name": "#%%\n"
    }
   },
   "outputs": [],
   "source": [
    "model = network.get_compiled_model(\n",
    "    classes=dataset_generators.test.num_classes\n",
    ")"
   ]
  },
  {
   "cell_type": "code",
   "execution_count": 6,
   "metadata": {
    "pycharm": {
     "name": "#%%\n"
    }
   },
   "outputs": [
    {
     "name": "stdout",
     "output_type": "stream",
     "text": [
      "Epoch 1/10\n",
      "547/547 [==============================] - 12s 22ms/step - loss: 2.0479 - accuracy: 0.3295 - precision_1: 0.4983 - recall_1: 0.1029 - val_loss: 1.8211 - val_accuracy: 0.4083 - val_precision_1: 0.6282 - val_recall_1: 0.1791\n",
      "Epoch 2/10\n",
      "547/547 [==============================] - 12s 21ms/step - loss: 1.5327 - accuracy: 0.4619 - precision_1: 0.6719 - recall_1: 0.2283 - val_loss: 1.6283 - val_accuracy: 0.4700 - val_precision_1: 0.6762 - val_recall_1: 0.2577\n",
      "Epoch 3/10\n",
      "547/547 [==============================] - 12s 21ms/step - loss: 1.3816 - accuracy: 0.5165 - precision_1: 0.7078 - recall_1: 0.3108 - val_loss: 1.5162 - val_accuracy: 0.5070 - val_precision_1: 0.6763 - val_recall_1: 0.3289\n",
      "Epoch 4/10\n",
      "547/547 [==============================] - 12s 22ms/step - loss: 1.2755 - accuracy: 0.5556 - precision_1: 0.7316 - recall_1: 0.3716 - val_loss: 1.2948 - val_accuracy: 0.5278 - val_precision_1: 0.6931 - val_recall_1: 0.3523\n",
      "Epoch 5/10\n",
      "547/547 [==============================] - 12s 21ms/step - loss: 1.1792 - accuracy: 0.5905 - precision_1: 0.7515 - recall_1: 0.4242 - val_loss: 1.8274 - val_accuracy: 0.5528 - val_precision_1: 0.7099 - val_recall_1: 0.3957\n",
      "Epoch 6/10\n",
      "547/547 [==============================] - 12s 21ms/step - loss: 1.0992 - accuracy: 0.6196 - precision_1: 0.7645 - recall_1: 0.4685 - val_loss: 1.2637 - val_accuracy: 0.5504 - val_precision_1: 0.6989 - val_recall_1: 0.4086\n",
      "Epoch 7/10\n",
      "547/547 [==============================] - 12s 21ms/step - loss: 1.0272 - accuracy: 0.6453 - precision_1: 0.7813 - recall_1: 0.5084 - val_loss: 1.2895 - val_accuracy: 0.5649 - val_precision_1: 0.6956 - val_recall_1: 0.4356\n",
      "Epoch 8/10\n",
      "547/547 [==============================] - 11s 21ms/step - loss: 0.9561 - accuracy: 0.6693 - precision_1: 0.7927 - recall_1: 0.5446 - val_loss: 0.9036 - val_accuracy: 0.5658 - val_precision_1: 0.6796 - val_recall_1: 0.4546\n",
      "Epoch 9/10\n",
      "547/547 [==============================] - 12s 21ms/step - loss: 0.8975 - accuracy: 0.6871 - precision_1: 0.8040 - recall_1: 0.5758 - val_loss: 0.9479 - val_accuracy: 0.5632 - val_precision_1: 0.6695 - val_recall_1: 0.4638\n",
      "Epoch 10/10\n",
      "547/547 [==============================] - 12s 21ms/step - loss: 0.8320 - accuracy: 0.7126 - precision_1: 0.8139 - recall_1: 0.6088 - val_loss: 1.6648 - val_accuracy: 0.5752 - val_precision_1: 0.6723 - val_recall_1: 0.4858\n"
     ]
    }
   ],
   "source": [
    "history = model.fit_generator(\n",
    "    generator=dataset_generators.train,\n",
    "    epochs=fit_epochs,\n",
    "    validation_data=dataset_generators.test\n",
    ")"
   ]
  },
  {
   "cell_type": "code",
   "execution_count": 7,
   "metadata": {
    "pycharm": {
     "name": "#%%\n"
    }
   },
   "outputs": [],
   "source": [
    "result = model.evaluate_generator(\n",
    "    generator=dataset_generators.validate\n",
    ")"
   ]
  },
  {
   "cell_type": "markdown",
   "metadata": {
    "pycharm": {
     "name": "#%% md\n"
    }
   },
   "source": [
    "## CIFAR10 Results"
   ]
  },
  {
   "cell_type": "code",
   "execution_count": 8,
   "metadata": {
    "pycharm": {
     "name": "#%%\n"
    }
   },
   "outputs": [
    {
     "name": "stdout",
     "output_type": "stream",
     "text": [
      "Loss: 0.6537014842033386\n",
      "Accuracy: 0.5622000098228455\n",
      "Precision: 0.6549707651138306\n",
      "Recall: 0.47040000557899475\n"
     ]
    }
   ],
   "source": [
    "print(\"Loss: {}\".format(result[0]))\n",
    "print(\"Accuracy: {}\".format(result[1]))\n",
    "print(\"Precision: {}\".format(result[2]))\n",
    "print(\"Recall: {}\".format(result[3]))"
   ]
  }
 ],
 "metadata": {
  "kernelspec": {
   "display_name": "Python 3",
   "language": "python",
   "name": "python3"
  },
  "language_info": {
   "codemirror_mode": {
    "name": "ipython",
    "version": 3
   },
   "file_extension": ".py",
   "mimetype": "text/x-python",
   "name": "python",
   "nbconvert_exporter": "python",
   "pygments_lexer": "ipython3",
   "version": "3.7.7"
  }
 },
 "nbformat": 4,
 "nbformat_minor": 1
}