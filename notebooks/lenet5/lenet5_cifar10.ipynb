{
 "cells": [
  {
   "cell_type": "code",
   "execution_count": null,
   "metadata": {
    "pycharm": {
     "name": "#%%\n"
    }
   },
   "outputs": [],
   "source": [
    "import sys\n",
    "sys.path.extend(['..', '../', '../..', '../../' ])\n",
    "%load_ext autoreload\n",
    "%autoreload 2"
   ]
  },
  {
   "cell_type": "markdown",
   "metadata": {},
   "source": [
    "# LeNet5 - CIFAR10"
   ]
  },
  {
   "cell_type": "code",
   "execution_count": 2,
   "metadata": {
    "pycharm": {
     "name": "#%%\n"
    }
   },
   "outputs": [
    {
     "name": "stderr",
     "output_type": "stream",
     "text": [
      "Using TensorFlow backend.\n"
     ]
    }
   ],
   "source": [
    "import paths\n",
    "import keras\n",
    "from src.parameters import metrics\n",
    "from src.datasets.dataset_generators import DatasetGenerators\n",
    "from src.keras_callback.time_history import TimeHistory\n",
    "from src.export.csv_export import export_learning_history_to_csv, export_learning_validation_result_to_csv\n",
    "from src.export.model_export import clear_exported_models\n",
    "from src.keras_model.lenet5_network import LeNet5Network"
   ]
  },
  {
   "cell_type": "code",
   "execution_count": 3,
   "metadata": {
    "pycharm": {
     "name": "#%%\n"
    }
   },
   "outputs": [],
   "source": [
    "network_name = 'lenet5'\n",
    "fit_epochs = 50\n",
    "dataset = 'cifar10'\n",
    "dataset_percentage = '5'"
   ]
  },
  {
   "cell_type": "code",
   "execution_count": 4,
   "metadata": {
    "pycharm": {
     "name": "#%%\n"
    }
   },
   "outputs": [],
   "source": [
    "network = LeNet5Network()"
   ]
  },
  {
   "cell_type": "code",
   "execution_count": 5,
   "metadata": {
    "pycharm": {
     "name": "#%%\n"
    }
   },
   "outputs": [
    {
     "name": "stdout",
     "output_type": "stream",
     "text": [
      "Loading train set for cifar10_5...\n",
      "Found 1750 images belonging to 10 classes.\n",
      "Loading test set for cifar10_5...\n",
      "Found 500 images belonging to 10 classes.\n",
      "Loading validation set for cifar10_5...\n",
      "Found 250 images belonging to 10 classes.\n"
     ]
    }
   ],
   "source": [
    "dataset_generators = DatasetGenerators(\n",
    "    name=f'{dataset}_{dataset_percentage}',\n",
    "    dataset_dir=paths.data_location,\n",
    "    image_size=network.image_size,\n",
    "    batch_size=network.batch_size,\n",
    "    grayscale=network.grayscale\n",
    ")"
   ]
  },
  {
   "cell_type": "code",
   "execution_count": 6,
   "metadata": {
    "pycharm": {
     "name": "#%%\n"
    }
   },
   "outputs": [],
   "source": [
    "model = network.get_compiled_model(\n",
    "    classes=dataset_generators.test.num_classes\n",
    ")"
   ]
  },
  {
   "cell_type": "code",
   "execution_count": 7,
   "metadata": {
    "pycharm": {
     "name": "#%%\n"
    }
   },
   "outputs": [],
   "source": [
    "checkpoint_path = f'{paths.models_location}{network_name}/{dataset}/'\n",
    "best_model_path = f'{checkpoint_path}best.h5'\n",
    "clear_exported_models(checkpoint_path)\n",
    "\n",
    "checkpoint_callback = keras.callbacks.ModelCheckpoint(\n",
    "    filepath=f'{checkpoint_path}{{epoch:02d}}-{{val_accuracy}}.h5',\n",
    "    save_best_only=False,\n",
    "    save_weights_only=False\n",
    ")\n",
    "\n",
    "best_callback = keras.callbacks.ModelCheckpoint(\n",
    "    filepath=best_model_path,\n",
    "    save_best_only=True,\n",
    "    verbose=1,\n",
    "    save_weights_only=False\n",
    ")\n",
    "\n",
    "time_callback = TimeHistory()\n",
    "\n",
    "model_callbacks = [checkpoint_callback, best_callback, time_callback]"
   ]
  },
  {
   "cell_type": "code",
   "execution_count": 8,
   "metadata": {
    "pycharm": {
     "name": "#%%\n"
    }
   },
   "outputs": [
    {
     "name": "stdout",
     "output_type": "stream",
     "text": [
      "Epoch 1/50\n",
      "55/55 [==============================] - 1s 25ms/step - loss: 5.2012 - accuracy: 0.1114 - precision: 0.0274 - recall: 0.0219 - val_loss: 2.3174 - val_accuracy: 0.1280 - val_precision: 0.0000e+00 - val_recall: 0.0000e+00\n",
      "\n",
      "Epoch 00001: val_loss improved from inf to 2.31741, saving model to /Users/igor/Python/CNN-Architecture-Comparison/models/lenet5/cifar10/best.h5\n",
      "Epoch 2/50\n",
      "55/55 [==============================] - 1s 12ms/step - loss: 2.2378 - accuracy: 0.2034 - precision: 0.0364 - recall: 0.0106 - val_loss: 2.3620 - val_accuracy: 0.1980 - val_precision: 0.0000e+00 - val_recall: 0.0000e+00\n",
      "\n",
      "Epoch 00002: val_loss did not improve from 2.31741\n",
      "Epoch 3/50\n",
      "55/55 [==============================] - 1s 13ms/step - loss: 1.9850 - accuracy: 0.2891 - precision: 0.1455 - recall: 0.0785 - val_loss: 2.5647 - val_accuracy: 0.2420 - val_precision: 0.1875 - val_recall: 0.0646\n",
      "\n",
      "Epoch 00003: val_loss did not improve from 2.31741\n",
      "Epoch 4/50\n",
      "55/55 [==============================] - 1s 13ms/step - loss: 1.8113 - accuracy: 0.3606 - precision: 0.3576 - recall: 0.1422 - val_loss: 2.0833 - val_accuracy: 0.2300 - val_precision: 0.1250 - val_recall: 0.0750\n",
      "\n",
      "Epoch 00004: val_loss improved from 2.31741 to 2.08335, saving model to /Users/igor/Python/CNN-Architecture-Comparison/models/lenet5/cifar10/best.h5\n",
      "Epoch 5/50\n",
      "55/55 [==============================] - 1s 14ms/step - loss: 1.6555 - accuracy: 0.4354 - precision: 0.4742 - recall: 0.2409 - val_loss: 2.0817 - val_accuracy: 0.2780 - val_precision: 0.2292 - val_recall: 0.1406\n",
      "\n",
      "Epoch 00005: val_loss improved from 2.08335 to 2.08175, saving model to /Users/igor/Python/CNN-Architecture-Comparison/models/lenet5/cifar10/best.h5\n",
      "Epoch 6/50\n",
      "55/55 [==============================] - 1s 15ms/step - loss: 1.5341 - accuracy: 0.4709 - precision: 0.4532 - recall: 0.2544 - val_loss: 2.6822 - val_accuracy: 0.2960 - val_precision: 0.3958 - val_recall: 0.1293\n",
      "\n",
      "Epoch 00006: val_loss did not improve from 2.08175\n",
      "Epoch 7/50\n",
      "55/55 [==============================] - 1s 15ms/step - loss: 1.3921 - accuracy: 0.5126 - precision: 0.5004 - recall: 0.3442 - val_loss: 1.8069 - val_accuracy: 0.3080 - val_precision: 0.3021 - val_recall: 0.1927\n",
      "\n",
      "Epoch 00007: val_loss improved from 2.08175 to 1.80692, saving model to /Users/igor/Python/CNN-Architecture-Comparison/models/lenet5/cifar10/best.h5\n",
      "Epoch 8/50\n",
      "55/55 [==============================] - 1s 16ms/step - loss: 1.2839 - accuracy: 0.5697 - precision: 0.5330 - recall: 0.3867 - val_loss: 2.2619 - val_accuracy: 0.3120 - val_precision: 0.4583 - val_recall: 0.3057\n",
      "\n",
      "Epoch 00008: val_loss did not improve from 1.80692\n",
      "Epoch 9/50\n",
      "55/55 [==============================] - 1s 13ms/step - loss: 1.1520 - accuracy: 0.6154 - precision: 0.7433 - recall: 0.5325 - val_loss: 2.3410 - val_accuracy: 0.3180 - val_precision: 0.2500 - val_recall: 0.1146\n",
      "\n",
      "Epoch 00009: val_loss did not improve from 1.80692\n",
      "Epoch 10/50\n",
      "55/55 [==============================] - 1s 15ms/step - loss: 1.0116 - accuracy: 0.6674 - precision: 0.7572 - recall: 0.5900 - val_loss: 3.4718 - val_accuracy: 0.3200 - val_precision: 0.2344 - val_recall: 0.1080\n",
      "\n",
      "Epoch 00010: val_loss did not improve from 1.80692\n",
      "Epoch 11/50\n",
      "55/55 [==============================] - 1s 13ms/step - loss: 0.8621 - accuracy: 0.7223 - precision: 0.8545 - recall: 0.7380 - val_loss: 1.8138 - val_accuracy: 0.3140 - val_precision: 0.4792 - val_recall: 0.3591\n",
      "\n",
      "Epoch 00011: val_loss did not improve from 1.80692\n",
      "Epoch 12/50\n",
      "55/55 [==============================] - 1s 16ms/step - loss: 0.7817 - accuracy: 0.7429 - precision: 0.8478 - recall: 0.7403 - val_loss: 2.4779 - val_accuracy: 0.3100 - val_precision: 0.2760 - val_recall: 0.2205\n",
      "\n",
      "Epoch 00012: val_loss did not improve from 1.80692\n",
      "Epoch 13/50\n",
      "55/55 [==============================] - 1s 17ms/step - loss: 0.6557 - accuracy: 0.7971 - precision: 0.9027 - recall: 0.8062 - val_loss: 3.2799 - val_accuracy: 0.3060 - val_precision: 0.3542 - val_recall: 0.2208\n",
      "\n",
      "Epoch 00013: val_loss did not improve from 1.80692\n",
      "Epoch 14/50\n",
      "55/55 [==============================] - 1s 15ms/step - loss: 0.5818 - accuracy: 0.8194 - precision: 0.8876 - recall: 0.8112 - val_loss: 3.6918 - val_accuracy: 0.3380 - val_precision: 0.5094 - val_recall: 0.4698\n",
      "\n",
      "Epoch 00014: val_loss did not improve from 1.80692\n",
      "Epoch 15/50\n",
      "55/55 [==============================] - 1s 16ms/step - loss: 0.4647 - accuracy: 0.8623 - precision: 0.9064 - recall: 0.9074 - val_loss: 2.9224 - val_accuracy: 0.3160 - val_precision: 0.3438 - val_recall: 0.1885\n",
      "\n",
      "Epoch 00015: val_loss did not improve from 1.80692\n",
      "Epoch 16/50\n",
      "55/55 [==============================] - 1s 17ms/step - loss: 0.4179 - accuracy: 0.8714 - precision: 0.8902 - recall: 0.8453 - val_loss: 4.4128 - val_accuracy: 0.2900 - val_precision: 0.2516 - val_recall: 0.3281\n",
      "\n",
      "Epoch 00016: val_loss did not improve from 1.80692\n",
      "Epoch 17/50\n",
      "55/55 [==============================] - 1s 17ms/step - loss: 0.3695 - accuracy: 0.8937 - precision: 0.9544 - recall: 0.9445 - val_loss: 2.3405 - val_accuracy: 0.3260 - val_precision: 0.3594 - val_recall: 0.3222\n",
      "\n",
      "Epoch 00017: val_loss did not improve from 1.80692\n",
      "Epoch 18/50\n",
      "55/55 [==============================] - 1s 15ms/step - loss: 0.2933 - accuracy: 0.9154 - precision: 0.9424 - recall: 0.9265 - val_loss: 3.4448 - val_accuracy: 0.3280 - val_precision: 0.4385 - val_recall: 0.2979\n",
      "\n",
      "Epoch 00018: val_loss did not improve from 1.80692\n",
      "Epoch 19/50\n",
      "55/55 [==============================] - 1s 17ms/step - loss: 0.2278 - accuracy: 0.9354 - precision: 0.9418 - recall: 0.9232 - val_loss: 5.3735 - val_accuracy: 0.3100 - val_precision: 0.3542 - val_recall: 0.2573\n",
      "\n",
      "Epoch 00019: val_loss did not improve from 1.80692\n",
      "Epoch 20/50\n",
      "55/55 [==============================] - 1s 14ms/step - loss: 0.2326 - accuracy: 0.9251 - precision: 0.9110 - recall: 0.8745 - val_loss: 3.8008 - val_accuracy: 0.3020 - val_precision: 0.5000 - val_recall: 0.2260\n",
      "\n",
      "Epoch 00020: val_loss did not improve from 1.80692\n",
      "Epoch 21/50\n",
      "55/55 [==============================] - 1s 17ms/step - loss: 0.1671 - accuracy: 0.9577 - precision: 0.9636 - recall: 0.9539 - val_loss: 3.2815 - val_accuracy: 0.3300 - val_precision: 0.4375 - val_recall: 0.4500\n",
      "\n",
      "Epoch 00021: val_loss did not improve from 1.80692\n",
      "Epoch 22/50\n",
      "55/55 [==============================] - 1s 17ms/step - loss: 0.1172 - accuracy: 0.9714 - precision: 0.9818 - recall: 0.9745 - val_loss: 2.9785 - val_accuracy: 0.3100 - val_precision: 0.4625 - val_recall: 0.4037\n",
      "\n",
      "Epoch 00022: val_loss did not improve from 1.80692\n",
      "Epoch 23/50\n",
      "55/55 [==============================] - 1s 17ms/step - loss: 0.1317 - accuracy: 0.9680 - precision: 0.9712 - recall: 0.9856 - val_loss: 4.0606 - val_accuracy: 0.2940 - val_precision: 0.4156 - val_recall: 0.2625\n",
      "\n",
      "Epoch 00023: val_loss did not improve from 1.80692\n",
      "Epoch 24/50\n",
      "55/55 [==============================] - 1s 18ms/step - loss: 0.1098 - accuracy: 0.9731 - precision: 0.9727 - recall: 0.9691 - val_loss: 4.6604 - val_accuracy: 0.3220 - val_precision: 0.3184 - val_recall: 0.3458\n",
      "\n",
      "Epoch 00024: val_loss did not improve from 1.80692\n",
      "Epoch 25/50\n",
      "55/55 [==============================] - 1s 19ms/step - loss: 0.0772 - accuracy: 0.9874 - precision: 0.9747 - recall: 0.9676 - val_loss: 5.6007 - val_accuracy: 0.3040 - val_precision: 0.3583 - val_recall: 0.3507\n",
      "\n",
      "Epoch 00025: val_loss did not improve from 1.80692\n",
      "Epoch 26/50\n",
      "55/55 [==============================] - 1s 15ms/step - loss: 0.0874 - accuracy: 0.9811 - precision: 0.9515 - recall: 0.9464 - val_loss: 3.2213 - val_accuracy: 0.3200 - val_precision: 0.4240 - val_recall: 0.5010\n",
      "\n",
      "Epoch 00026: val_loss did not improve from 1.80692\n",
      "Epoch 27/50\n",
      "55/55 [==============================] - 1s 19ms/step - loss: 0.1188 - accuracy: 0.9737 - precision: 0.9468 - recall: 0.9116 - val_loss: 4.7080 - val_accuracy: 0.3000 - val_precision: 0.3246 - val_recall: 0.4313\n",
      "\n",
      "Epoch 00027: val_loss did not improve from 1.80692\n",
      "Epoch 28/50\n",
      "55/55 [==============================] - 1s 17ms/step - loss: 0.2049 - accuracy: 0.9394 - precision: 0.9427 - recall: 0.9513 - val_loss: 2.1529 - val_accuracy: 0.3120 - val_precision: 0.3601 - val_recall: 0.4507\n",
      "\n",
      "Epoch 00028: val_loss did not improve from 1.80692\n",
      "Epoch 29/50\n",
      "55/55 [==============================] - 1s 20ms/step - loss: 0.1356 - accuracy: 0.9714 - precision: 0.9782 - recall: 0.9574 - val_loss: 5.0921 - val_accuracy: 0.3240 - val_precision: 0.3844 - val_recall: 0.3597\n",
      "\n",
      "Epoch 00029: val_loss did not improve from 1.80692\n",
      "Epoch 30/50\n",
      "55/55 [==============================] - 1s 19ms/step - loss: 0.0910 - accuracy: 0.9800 - precision: 0.9636 - recall: 0.9388 - val_loss: 4.0901 - val_accuracy: 0.3340 - val_precision: 0.3417 - val_recall: 0.3586\n",
      "\n",
      "Epoch 00030: val_loss did not improve from 1.80692\n",
      "Epoch 31/50\n",
      "55/55 [==============================] - 1s 19ms/step - loss: 0.0744 - accuracy: 0.9817 - precision: 0.9539 - recall: 0.9545 - val_loss: 2.6811 - val_accuracy: 0.3120 - val_precision: 0.3844 - val_recall: 0.2562\n",
      "\n",
      "Epoch 00031: val_loss did not improve from 1.80692\n",
      "Epoch 32/50\n",
      "55/55 [==============================] - 1s 16ms/step - loss: 0.0975 - accuracy: 0.9697 - precision: 0.9333 - recall: 0.9215 - val_loss: 4.8578 - val_accuracy: 0.3320 - val_precision: 0.3656 - val_recall: 0.5792\n",
      "\n",
      "Epoch 00032: val_loss did not improve from 1.80692\n",
      "Epoch 33/50\n",
      "55/55 [==============================] - 1s 18ms/step - loss: 0.0652 - accuracy: 0.9874 - precision: 0.9701 - recall: 0.9752 - val_loss: 4.7806 - val_accuracy: 0.3040 - val_precision: 0.3539 - val_recall: 0.3583\n",
      "\n",
      "Epoch 00033: val_loss did not improve from 1.80692\n",
      "Epoch 34/50\n",
      "55/55 [==============================] - 1s 17ms/step - loss: 0.0442 - accuracy: 0.9903 - precision: 0.9212 - recall: 0.9191 - val_loss: 4.1969 - val_accuracy: 0.3140 - val_precision: 0.3958 - val_recall: 0.4177\n",
      "\n",
      "Epoch 00034: val_loss did not improve from 1.80692\n",
      "Epoch 35/50\n",
      "55/55 [==============================] - 1s 17ms/step - loss: 0.0203 - accuracy: 0.9971 - precision: 0.9591 - recall: 0.9636 - val_loss: 3.2330 - val_accuracy: 0.3220 - val_precision: 0.2924 - val_recall: 0.2292\n",
      "\n",
      "Epoch 00035: val_loss did not improve from 1.80692\n",
      "Epoch 36/50\n",
      "55/55 [==============================] - 1s 17ms/step - loss: 0.0107 - accuracy: 0.9994 - precision: 0.9818 - recall: 0.9818 - val_loss: 6.9939 - val_accuracy: 0.3220 - val_precision: 0.3313 - val_recall: 0.3134\n",
      "\n",
      "Epoch 00036: val_loss did not improve from 1.80692\n",
      "Epoch 37/50\n",
      "55/55 [==============================] - 1s 17ms/step - loss: 0.0074 - accuracy: 0.9994 - precision: 0.9273 - recall: 0.9273 - val_loss: 4.9487 - val_accuracy: 0.3200 - val_precision: 0.4781 - val_recall: 0.4021\n",
      "\n",
      "Epoch 00037: val_loss did not improve from 1.80692\n",
      "Epoch 38/50\n",
      "55/55 [==============================] - 1s 21ms/step - loss: 0.0062 - accuracy: 1.0000 - precision: 0.9818 - recall: 0.9818 - val_loss: 4.1043 - val_accuracy: 0.3220 - val_precision: 0.3781 - val_recall: 0.4805\n",
      "\n",
      "Epoch 00038: val_loss did not improve from 1.80692\n",
      "Epoch 39/50\n",
      "55/55 [==============================] - 1s 15ms/step - loss: 0.0052 - accuracy: 1.0000 - precision: 0.9636 - recall: 0.9636 - val_loss: 7.8747 - val_accuracy: 0.3340 - val_precision: 0.3458 - val_recall: 0.2914\n",
      "\n",
      "Epoch 00039: val_loss did not improve from 1.80692\n",
      "Epoch 40/50\n",
      "55/55 [==============================] - 1s 19ms/step - loss: 0.0043 - accuracy: 1.0000 - precision: 0.9818 - recall: 0.9818 - val_loss: 7.2337 - val_accuracy: 0.3340 - val_precision: 0.5283 - val_recall: 0.3876\n",
      "\n",
      "Epoch 00040: val_loss did not improve from 1.80692\n",
      "Epoch 41/50\n",
      "55/55 [==============================] - 1s 19ms/step - loss: 0.0035 - accuracy: 1.0000 - precision: 0.9818 - recall: 0.9818 - val_loss: 4.7066 - val_accuracy: 0.3160 - val_precision: 0.4604 - val_recall: 0.3760\n",
      "\n",
      "Epoch 00041: val_loss did not improve from 1.80692\n",
      "Epoch 42/50\n",
      "55/55 [==============================] - 1s 16ms/step - loss: 0.0032 - accuracy: 1.0000 - precision: 0.9636 - recall: 0.9636 - val_loss: 8.7945 - val_accuracy: 0.3220 - val_precision: 0.3263 - val_recall: 0.2839\n",
      "\n",
      "Epoch 00042: val_loss did not improve from 1.80692\n",
      "Epoch 43/50\n",
      "55/55 [==============================] - 1s 19ms/step - loss: 0.0027 - accuracy: 1.0000 - precision: 0.9818 - recall: 0.9818 - val_loss: 8.3767 - val_accuracy: 0.3240 - val_precision: 0.4156 - val_recall: 0.4341\n",
      "\n",
      "Epoch 00043: val_loss did not improve from 1.80692\n",
      "Epoch 44/50\n",
      "55/55 [==============================] - 1s 15ms/step - loss: 0.0024 - accuracy: 1.0000 - precision: 0.9455 - recall: 0.9455 - val_loss: 6.1272 - val_accuracy: 0.3320 - val_precision: 0.4531 - val_recall: 0.4183\n",
      "\n",
      "Epoch 00044: val_loss did not improve from 1.80692\n",
      "Epoch 45/50\n",
      "55/55 [==============================] - 1s 18ms/step - loss: 0.0021 - accuracy: 1.0000 - precision: 0.9455 - recall: 0.9455 - val_loss: 8.5938 - val_accuracy: 0.3140 - val_precision: 0.3409 - val_recall: 0.3812\n",
      "\n",
      "Epoch 00045: val_loss did not improve from 1.80692\n",
      "Epoch 46/50\n",
      "55/55 [==============================] - 1s 19ms/step - loss: 0.0020 - accuracy: 1.0000 - precision: 1.0000 - recall: 1.0000 - val_loss: 3.6551 - val_accuracy: 0.3240 - val_precision: 0.4375 - val_recall: 0.4240\n",
      "\n",
      "Epoch 00046: val_loss did not improve from 1.80692\n",
      "Epoch 47/50\n",
      "55/55 [==============================] - 1s 20ms/step - loss: 0.0018 - accuracy: 1.0000 - precision: 0.9455 - recall: 0.9455 - val_loss: 6.3356 - val_accuracy: 0.3260 - val_precision: 0.3506 - val_recall: 0.3281\n",
      "\n",
      "Epoch 00047: val_loss did not improve from 1.80692\n",
      "Epoch 48/50\n",
      "55/55 [==============================] - 1s 18ms/step - loss: 0.0016 - accuracy: 1.0000 - precision: 0.9455 - recall: 0.9455 - val_loss: 5.8913 - val_accuracy: 0.3160 - val_precision: 0.4125 - val_recall: 0.3948\n",
      "\n",
      "Epoch 00048: val_loss did not improve from 1.80692\n",
      "Epoch 49/50\n",
      "55/55 [==============================] - 1s 17ms/step - loss: 0.0014 - accuracy: 1.0000 - precision: 0.9818 - recall: 0.9818 - val_loss: 7.9579 - val_accuracy: 0.3200 - val_precision: 0.4365 - val_recall: 0.3728\n",
      "\n",
      "Epoch 00049: val_loss did not improve from 1.80692\n",
      "Epoch 50/50\n",
      "55/55 [==============================] - 1s 17ms/step - loss: 0.0013 - accuracy: 1.0000 - precision: 0.9818 - recall: 0.9818 - val_loss: 6.9537 - val_accuracy: 0.3220 - val_precision: 0.4024 - val_recall: 0.3271\n",
      "\n",
      "Epoch 00050: val_loss did not improve from 1.80692\n"
     ]
    }
   ],
   "source": [
    "fit_result = model.fit_generator(\n",
    "    generator=dataset_generators.train,\n",
    "    epochs=fit_epochs,\n",
    "    validation_data=dataset_generators.test,\n",
    "    callbacks = model_callbacks\n",
    ")"
   ]
  },
  {
   "cell_type": "code",
   "execution_count": 9,
   "metadata": {
    "pycharm": {
     "name": "#%%\n"
    }
   },
   "outputs": [],
   "source": [
    "best_model = keras.models.load_model(best_model_path,\n",
    "    custom_objects= {\n",
    "        'precision': metrics.precision,\n",
    "        'recall': metrics.recall\n",
    "    }\n",
    ")\n",
    "validation_result = best_model.evaluate_generator(\n",
    "    generator=dataset_generators.validate\n",
    ")"
   ]
  },
  {
   "cell_type": "markdown",
   "metadata": {
    "pycharm": {
     "name": "#%% md\n"
    }
   },
   "source": [
    "## Results"
   ]
  },
  {
   "cell_type": "markdown",
   "metadata": {},
   "source": [
    "### Epoch CSV"
   ]
  },
  {
   "cell_type": "code",
   "execution_count": 10,
   "metadata": {
    "pycharm": {
     "name": "#%%\n"
    }
   },
   "outputs": [
    {
     "name": "stdout",
     "output_type": "stream",
     "text": [
      "epoch, time, val_loss, val_accuracy, val_precision, val_recall\n",
      "0,0,0,0,0,0\n",
      "1,1.4406347274780273,2.317410945892334,0.12800000607967377,0.0,0.0\n",
      "2,0.6998801231384277,2.3620123863220215,0.1979999989271164,0.0,0.0\n",
      "3,0.7207968235015869,2.564748764038086,0.24199999868869781,0.1874999850988388,0.06458333134651184\n",
      "4,0.787477970123291,2.083345413208008,0.23000000417232513,0.125,0.07500000298023224\n",
      "5,0.8600518703460693,2.081745147705078,0.27799999713897705,0.2291666567325592,0.140625\n",
      "6,0.8388378620147705,2.6822471618652344,0.29600000381469727,0.3958333134651184,0.12931548058986664\n",
      "7,0.9091880321502686,1.8069210052490234,0.30799999833106995,0.3020833432674408,0.1927083283662796\n",
      "8,0.9406189918518066,2.261868715286255,0.31200000643730164,0.4583333432674408,0.3057291507720947\n",
      "9,0.7336039543151855,2.340954303741455,0.3179999887943268,0.25,0.1145833358168602\n",
      "10,0.8313519954681396,3.471841812133789,0.3199999928474426,0.234375,0.10803572088479996\n",
      "11,0.7495748996734619,1.8138427734375,0.3140000104904175,0.4791666567325592,0.3590773642063141\n",
      "12,0.9198939800262451,2.4778647422790527,0.3100000023841858,0.2760416567325592,0.2204861044883728\n",
      "13,0.9527850151062012,3.2798893451690674,0.3059999942779541,0.3541666269302368,0.22083333134651184\n",
      "14,0.83544921875,3.691822052001953,0.33799999952316284,0.5093750357627869,0.4697916507720947\n",
      "15,0.9267950057983398,2.9224300384521484,0.3160000145435333,0.34375,0.18854166567325592\n",
      "16,0.9710133075714111,4.412777900695801,0.28999999165534973,0.25163692235946655,0.3281250298023224\n",
      "17,0.9809479713439941,2.3404600620269775,0.32600000500679016,0.359375,0.322172611951828\n",
      "18,0.8956577777862549,3.44484281539917,0.328000009059906,0.43854162096977234,0.2979166805744171\n",
      "19,0.9744529724121094,5.373486518859863,0.3100000023841858,0.3541666567325592,0.25729167461395264\n",
      "20,0.8334019184112549,3.8007843494415283,0.3019999861717224,0.4999999701976776,0.22604167461395264\n",
      "21,1.0123238563537598,3.281496047973633,0.33000001311302185,0.4375,0.44999992847442627\n",
      "22,0.9858319759368896,2.9785211086273193,0.3100000023841858,0.4625000059604645,0.4037202298641205\n",
      "23,1.0364432334899902,4.060560703277588,0.2939999997615814,0.4156250059604645,0.26250001788139343\n",
      "24,1.0303492546081543,4.660422325134277,0.32199999690055847,0.31840279698371887,0.34583333134651184\n",
      "25,1.1005818843841553,5.600685119628906,0.30399999022483826,0.3583333194255829,0.3507440388202667\n",
      "26,0.8970108032226562,3.2212977409362793,0.3199999928474426,0.42395836114883423,0.5010416507720947\n",
      "27,1.1105320453643799,4.7079668045043945,0.30000001192092896,0.32462796568870544,0.4312500059604645\n",
      "28,0.9617328643798828,2.1529183387756348,0.31200000643730164,0.3601190447807312,0.45074403285980225\n",
      "29,1.1572120189666748,5.092077255249023,0.3240000009536743,0.38437503576278687,0.35972222685813904\n",
      "30,1.0781691074371338,4.090063095092773,0.33399999141693115,0.34166666865348816,0.3586309552192688\n",
      "31,1.1372249126434326,2.6811366081237793,0.31200000643730164,0.3843749761581421,0.2562499940395355\n",
      "32,0.9216098785400391,4.857810974121094,0.3319999873638153,0.3656249940395355,0.5791666507720947\n",
      "33,1.011362075805664,4.780635833740234,0.30399999022483826,0.3538690507411957,0.3583333194255829\n",
      "34,0.9954979419708252,4.196899890899658,0.3140000104904175,0.3958333432674408,0.4177083373069763\n",
      "35,1.0071160793304443,3.232999324798584,0.32199999690055847,0.2924107313156128,0.2291666716337204\n",
      "36,1.0031309127807617,6.993922233581543,0.32199999690055847,0.33125001192092896,0.31339284777641296\n",
      "37,1.0070202350616455,4.948696613311768,0.3199999928474426,0.4781250059604645,0.4020833373069763\n",
      "38,1.2267489433288574,4.104348182678223,0.32199999690055847,0.37812498211860657,0.48050594329833984\n",
      "39,0.8688411712646484,7.874720573425293,0.33399999141693115,0.34583333134651184,0.29136908054351807\n",
      "40,1.0857160091400146,7.233686923980713,0.33399999141693115,0.5282738208770752,0.3876488208770752\n",
      "41,1.114729881286621,4.70658016204834,0.3160000145435333,0.46041664481163025,0.3760416507720947\n",
      "42,0.9146320819854736,8.794479370117188,0.32199999690055847,0.3263392746448517,0.2838541865348816\n",
      "43,1.0799312591552734,8.376749992370605,0.3240000009536743,0.4156249761581421,0.43407735228538513\n",
      "44,0.8722338676452637,6.127213001251221,0.3319999873638153,0.453125,0.41830354928970337\n",
      "45,1.040323257446289,8.593849182128906,0.3140000104904175,0.34092259407043457,0.3812499940395355\n",
      "46,1.1210670471191406,3.655087947845459,0.3240000009536743,0.4375,0.42395833134651184\n",
      "47,1.2030699253082275,6.335577964782715,0.32600000500679016,0.3505952060222626,0.328125\n",
      "48,1.0240540504455566,5.891320705413818,0.3160000145435333,0.4125000238418579,0.39479169249534607\n",
      "49,0.986004114151001,7.9579010009765625,0.3199999928474426,0.4364583194255829,0.3727678656578064\n",
      "50,0.9720859527587891,6.953651428222656,0.32199999690055847,0.40238097310066223,0.3270833194255829\n",
      "\n"
     ]
    }
   ],
   "source": [
    "csv_file_path = f'{paths.results_location}{network_name}/{dataset}-history.csv'\n",
    "export_learning_history_to_csv(csv_file_path, fit_result, time_callback.times)"
   ]
  },
  {
   "cell_type": "markdown",
   "metadata": {},
   "source": [
    "### Validation result"
   ]
  },
  {
   "cell_type": "code",
   "execution_count": 11,
   "metadata": {
    "pycharm": {
     "name": "#%%\n"
    }
   },
   "outputs": [
    {
     "name": "stdout",
     "output_type": "stream",
     "text": [
      "avg_epoch_time, time, val_loss, val_accuracy, val_precision, val_recall\n",
      "0.9753000211715698,48.76500105857849,2.141873598098755,0.3199999928474426,0.3437499701976776,0.16875000298023224\n"
     ]
    }
   ],
   "source": [
    "csv_file_path = f'{paths.results_location}{network_name}/{dataset}-result.csv'\n",
    "export_learning_validation_result_to_csv(csv_file_path, validation_result, time_callback.times)"
   ]
  }
 ],
 "metadata": {
  "kernelspec": {
   "display_name": "Python 3",
   "language": "python",
   "name": "python3"
  },
  "language_info": {
   "codemirror_mode": {
    "name": "ipython",
    "version": 3
   },
   "file_extension": ".py",
   "mimetype": "text/x-python",
   "name": "python",
   "nbconvert_exporter": "python",
   "pygments_lexer": "ipython3",
   "version": "3.7.7"
  }
 },
 "nbformat": 4,
 "nbformat_minor": 4
}