{
 "cells": [
  {
   "cell_type": "markdown",
   "metadata": {
    "collapsed": true,
    "pycharm": {
     "name": "#%% md\n"
    }
   },
   "source": [
    "Import required elements"
   ]
  },
  {
   "cell_type": "code",
   "execution_count": 1,
   "metadata": {
    "pycharm": {
     "name": "#%%\n"
    }
   },
   "outputs": [
    {
     "name": "stderr",
     "output_type": "stream",
     "text": [
      "Using TensorFlow backend.\n"
     ]
    }
   ],
   "source": [
    "from src.keras_model.lenet5_keras_model import LeNet5\n",
    "from src.datasets.dataset_generators import DatasetGenerators\n",
    "from keras.losses import categorical_crossentropy"
   ]
  },
  {
   "cell_type": "markdown",
   "metadata": {
    "pycharm": {
     "name": "#%% md\n"
    }
   },
   "source": [
    "Setup basic params"
   ]
  },
  {
   "cell_type": "code",
   "execution_count": 2,
   "metadata": {
    "pycharm": {
     "name": "#%%\n"
    }
   },
   "outputs": [],
   "source": [
    "dataset_dir = '/Users/igor/Python/CNN-Architecture-Comparison/data'\n",
    "dataset_name = 'cifar10'\n",
    "dataset_image_size = (32, 32)\n",
    "dataset_grayscale = True\n",
    "model_optimizer = 'adam'\n",
    "model_loss = categorical_crossentropy\n",
    "model_metrics = ['accuracy']\n",
    "fit_epochs = 10\n",
    "evaluation_bath_size = 128"
   ]
  },
  {
   "cell_type": "markdown",
   "metadata": {
    "pycharm": {
     "name": "#%% md\n"
    }
   },
   "source": [
    "Load dataset (CIFAR10)"
   ]
  },
  {
   "cell_type": "code",
   "execution_count": 3,
   "metadata": {
    "pycharm": {
     "name": "#%%\n"
    }
   },
   "outputs": [
    {
     "name": "stdout",
     "output_type": "stream",
     "text": [
      "Loading train set for cifar10...\n",
      "Found 35000 images belonging to 10 classes.\n",
      "Loading test set for cifar10...\n",
      "Found 10000 images belonging to 10 classes.\n",
      "Loading validation set for cifar10...\n",
      "Found 5000 images belonging to 10 classes.\n"
     ]
    }
   ],
   "source": [
    "dataset_generators = DatasetGenerators(\n",
    "    name=dataset_name,\n",
    "    image_size=dataset_image_size,\n",
    "    dataset_dir=dataset_dir,\n",
    "    grayscale=dataset_grayscale\n",
    ")"
   ]
  },
  {
   "cell_type": "markdown",
   "metadata": {
    "pycharm": {
     "name": "#%% md\n"
    }
   },
   "source": [
    "Create & compile model"
   ]
  },
  {
   "cell_type": "code",
   "execution_count": 4,
   "metadata": {
    "pycharm": {
     "name": "#%%\n"
    }
   },
   "outputs": [],
   "source": [
    "model = LeNet5(\n",
    "    classes=dataset_generators.test.num_classes\n",
    ").getModel()\n",
    "\n",
    "model.compile(\n",
    "    optimizer=model_optimizer,\n",
    "    loss=model_loss,\n",
    "    metrics=model_metrics\n",
    ")"
   ]
  },
  {
   "cell_type": "markdown",
   "metadata": {
    "pycharm": {
     "name": "#%% md\n"
    }
   },
   "source": [
    "Perform epoch learning"
   ]
  },
  {
   "cell_type": "code",
   "execution_count": null,
   "metadata": {
    "pycharm": {
     "name": "#%%\n"
    }
   },
   "outputs": [
    {
     "name": "stdout",
     "output_type": "stream",
     "text": [
      "Epoch 1/10\n",
      "1094/1094 [==============================] - 13s 11ms/step - loss: 1.9266 - accuracy: 0.3614 - val_loss: 1.1191 - val_accuracy: 0.4416\n",
      "Epoch 2/10\n",
      "1094/1094 [==============================] - 13s 11ms/step - loss: 1.4686 - accuracy: 0.4875 - val_loss: 1.4817 - val_accuracy: 0.4906\n",
      "Epoch 3/10\n",
      "1094/1094 [==============================] - 13s 11ms/step - loss: 1.3475 - accuracy: 0.5302 - val_loss: 0.8732 - val_accuracy: 0.5331\n",
      "Epoch 4/10\n",
      "1094/1094 [==============================] - 12s 11ms/step - loss: 1.2521 - accuracy: 0.5608 - val_loss: 1.4710 - val_accuracy: 0.5179\n",
      "Epoch 5/10\n",
      "1094/1094 [==============================] - 13s 12ms/step - loss: 1.1628 - accuracy: 0.5958 - val_loss: 1.1755 - val_accuracy: 0.5577\n",
      "Epoch 6/10\n",
      "1094/1094 [==============================] - 13s 12ms/step - loss: 1.0866 - accuracy: 0.6222 - val_loss: 1.0707 - val_accuracy: 0.5553\n",
      "Epoch 7/10\n",
      "1094/1094 [==============================] - 12s 11ms/step - loss: 1.0176 - accuracy: 0.6474 - val_loss: 2.0849 - val_accuracy: 0.5649\n",
      "Epoch 8/10\n",
      " 996/1094 [==========================>...] - ETA: 0s - loss: 0.9460 - accuracy: 0.6721"
     ]
    }
   ],
   "source": [
    "learn_history = model.fit_generator(\n",
    "    generator=dataset_generators.train,\n",
    "    epochs=fit_epochs,\n",
    "    validation_data=dataset_generators.test\n",
    ")"
   ]
  },
  {
   "cell_type": "markdown",
   "metadata": {
    "pycharm": {
     "name": "#%% md\n"
    }
   },
   "source": [
    "Evaluate model"
   ]
  },
  {
   "cell_type": "code",
   "execution_count": null,
   "metadata": {
    "pycharm": {
     "name": "#%%\n"
    }
   },
   "outputs": [],
   "source": [
    "model.evaluate_generator(\n",
    "    generator=dataset_generators.validate\n",
    ")\n"
   ]
  }
 ],
 "metadata": {
  "kernelspec": {
   "display_name": "Python 3",
   "language": "python",
   "name": "python3"
  },
  "language_info": {
   "codemirror_mode": {
    "name": "ipython",
    "version": 3
   },
   "file_extension": ".py",
   "mimetype": "text/x-python",
   "name": "python",
   "nbconvert_exporter": "python",
   "pygments_lexer": "ipython3",
   "version": "3.7.7"
  }
 },
 "nbformat": 4,
 "nbformat_minor": 1
}